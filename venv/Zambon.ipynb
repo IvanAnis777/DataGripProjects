{
 "cells": [
  {
   "cell_type": "code",
   "execution_count": 22,
   "id": "initial_id",
   "metadata": {
    "collapsed": true,
    "ExecuteTime": {
     "end_time": "2024-05-06T10:39:38.436676500Z",
     "start_time": "2024-05-06T10:39:23.765474Z"
    }
   },
   "outputs": [
    {
     "name": "stderr",
     "output_type": "stream",
     "text": [
      "/home/ivan/.virtualenvs/machine-learning/lib/python3.10/site-packages/IPython/core/interactiveshell.py:3457: DtypeWarning: Columns (2,7,11,24,29,30,31,32,34,37) have mixed types.Specify dtype option on import or set low_memory=False.\n",
      "  exec(code_obj, self.user_global_ns, self.user_ns)\n"
     ]
    },
    {
     "data": {
      "text/plain": "         type        date pharmacyId  \\\n0           9  2024-01-31        NaN   \n1           9  2024-01-31        NaN   \n2           9  2024-01-31        NaN   \n3           9  2024-01-31        NaN   \n4           9  2024-01-31        NaN   \n...       ...         ...        ...   \n1211541    13  2024-01-31        NaN   \n1211542    13  2024-01-31        NaN   \n1211543    13  2024-01-31        NaN   \n1211544    13  2024-01-31        NaN   \n1211545    13  2024-01-31        NaN   \n\n                                           pharmacy  resellerId  \\\n0        ОБЩЕСТВО С ОГРАНИЧЕННОЙ ОТВЕТСТВЕННОСТЬЮ \"         NaN   \n1        ОБЩЕСТВО С ОГРАНИЧЕННОЙ ОТВЕТСТВЕННОСТЬЮ \"         NaN   \n2        ОБЩЕСТВО С ОГРАНИЧЕННОЙ ОТВЕТСТВЕННОСТЬЮ \"         NaN   \n3        ОБЩЕСТВО С ОГРАНИЧЕННОЙ ОТВЕТСТВЕННОСТЬЮ \"         NaN   \n4        ОБЩЕСТВО С ОГРАНИЧЕННОЙ ОТВЕТСТВЕННОСТЬЮ \"         NaN   \n...                                             ...         ...   \n1211541                     ЧУЗ \"ЦКБ \"РЖД-МЕДИЦИНА\"         NaN   \n1211542                     ЧУЗ \"ЦКБ \"РЖД-МЕДИЦИНА\"         NaN   \n1211543                     ЧУЗ \"ЦКБ \"РЖД-МЕДИЦИНА\"         NaN   \n1211544                     ЧУЗ \"ЦКБ \"РЖД-МЕДИЦИНА\"         NaN   \n1211545                     ЧУЗ \"ЦКБ \"РЖД-МЕДИЦИНА\"         NaN   \n\n                               manufacturerId          region city  sector  \\\n0        92ea6dc0-96ce-4064-84cf-f9547c5f8798  Алтайский край  NaN     NaN   \n1        92ea6dc0-96ce-4064-84cf-f9547c5f8798  Алтайский край  NaN     NaN   \n2        92ea6dc0-96ce-4064-84cf-f9547c5f8798  Алтайский край  NaN     NaN   \n3        92ea6dc0-96ce-4064-84cf-f9547c5f8798  Алтайский край  NaN     NaN   \n4        92ea6dc0-96ce-4064-84cf-f9547c5f8798  Алтайский край  NaN     NaN   \n...                                       ...             ...  ...     ...   \n1211541  92ea6dc0-96ce-4064-84cf-f9547c5f8798        г Москва  NaN     NaN   \n1211542  92ea6dc0-96ce-4064-84cf-f9547c5f8798        г Москва  NaN     NaN   \n1211543  92ea6dc0-96ce-4064-84cf-f9547c5f8798        г Москва  NaN     NaN   \n1211544  92ea6dc0-96ce-4064-84cf-f9547c5f8798        г Москва  NaN     NaN   \n1211545  92ea6dc0-96ce-4064-84cf-f9547c5f8798        г Москва  NaN     NaN   \n\n         addressId  ... nextClientType  quantity3  brickCode oneKeyId  \\\n0              NaN  ...            NaN        NaN        NaN      NaN   \n1              NaN  ...            NaN        NaN        NaN      NaN   \n2              NaN  ...            NaN        NaN        NaN      NaN   \n3              NaN  ...            NaN        NaN        NaN      NaN   \n4              NaN  ...            NaN        NaN        NaN      NaN   \n...            ...  ...            ...        ...        ...      ...   \n1211541        NaN  ...            NaN   1.000000        NaN      NaN   \n1211542        NaN  ...            NaN   2.500000        NaN      NaN   \n1211543        NaN  ...            NaN   2.666667        NaN      NaN   \n1211544        NaN  ...            NaN  10.000000        NaN      NaN   \n1211545        NaN  ...            NaN  11.333333        NaN      NaN   \n\n        brickCode2  nextSkuId  nextShortTitle  quantity4  intId  brickCode1  \n0              NaN        NaN             NaN        NaN    NaN         NaN  \n1              NaN        NaN             NaN        NaN    NaN         NaN  \n2              NaN        NaN             NaN        NaN    NaN         NaN  \n3              NaN        NaN             NaN        NaN    NaN         NaN  \n4              NaN        NaN             NaN        NaN    NaN         NaN  \n...            ...        ...             ...        ...    ...         ...  \n1211541        NaN        NaN             NaN        NaN    NaN         NaN  \n1211542        NaN        NaN             NaN        NaN    NaN         NaN  \n1211543        NaN        NaN             NaN        NaN    NaN         NaN  \n1211544        NaN        NaN             NaN        NaN    NaN         NaN  \n1211545        NaN        NaN             NaN        NaN    NaN         NaN  \n\n[1211546 rows x 50 columns]",
      "text/html": "<div>\n<style scoped>\n    .dataframe tbody tr th:only-of-type {\n        vertical-align: middle;\n    }\n\n    .dataframe tbody tr th {\n        vertical-align: top;\n    }\n\n    .dataframe thead th {\n        text-align: right;\n    }\n</style>\n<table border=\"1\" class=\"dataframe\">\n  <thead>\n    <tr style=\"text-align: right;\">\n      <th></th>\n      <th>type</th>\n      <th>date</th>\n      <th>pharmacyId</th>\n      <th>pharmacy</th>\n      <th>resellerId</th>\n      <th>manufacturerId</th>\n      <th>region</th>\n      <th>city</th>\n      <th>sector</th>\n      <th>addressId</th>\n      <th>...</th>\n      <th>nextClientType</th>\n      <th>quantity3</th>\n      <th>brickCode</th>\n      <th>oneKeyId</th>\n      <th>brickCode2</th>\n      <th>nextSkuId</th>\n      <th>nextShortTitle</th>\n      <th>quantity4</th>\n      <th>intId</th>\n      <th>brickCode1</th>\n    </tr>\n  </thead>\n  <tbody>\n    <tr>\n      <th>0</th>\n      <td>9</td>\n      <td>2024-01-31</td>\n      <td>NaN</td>\n      <td>ОБЩЕСТВО С ОГРАНИЧЕННОЙ ОТВЕТСТВЕННОСТЬЮ \"</td>\n      <td>NaN</td>\n      <td>92ea6dc0-96ce-4064-84cf-f9547c5f8798</td>\n      <td>Алтайский край</td>\n      <td>NaN</td>\n      <td>NaN</td>\n      <td>NaN</td>\n      <td>...</td>\n      <td>NaN</td>\n      <td>NaN</td>\n      <td>NaN</td>\n      <td>NaN</td>\n      <td>NaN</td>\n      <td>NaN</td>\n      <td>NaN</td>\n      <td>NaN</td>\n      <td>NaN</td>\n      <td>NaN</td>\n    </tr>\n    <tr>\n      <th>1</th>\n      <td>9</td>\n      <td>2024-01-31</td>\n      <td>NaN</td>\n      <td>ОБЩЕСТВО С ОГРАНИЧЕННОЙ ОТВЕТСТВЕННОСТЬЮ \"</td>\n      <td>NaN</td>\n      <td>92ea6dc0-96ce-4064-84cf-f9547c5f8798</td>\n      <td>Алтайский край</td>\n      <td>NaN</td>\n      <td>NaN</td>\n      <td>NaN</td>\n      <td>...</td>\n      <td>NaN</td>\n      <td>NaN</td>\n      <td>NaN</td>\n      <td>NaN</td>\n      <td>NaN</td>\n      <td>NaN</td>\n      <td>NaN</td>\n      <td>NaN</td>\n      <td>NaN</td>\n      <td>NaN</td>\n    </tr>\n    <tr>\n      <th>2</th>\n      <td>9</td>\n      <td>2024-01-31</td>\n      <td>NaN</td>\n      <td>ОБЩЕСТВО С ОГРАНИЧЕННОЙ ОТВЕТСТВЕННОСТЬЮ \"</td>\n      <td>NaN</td>\n      <td>92ea6dc0-96ce-4064-84cf-f9547c5f8798</td>\n      <td>Алтайский край</td>\n      <td>NaN</td>\n      <td>NaN</td>\n      <td>NaN</td>\n      <td>...</td>\n      <td>NaN</td>\n      <td>NaN</td>\n      <td>NaN</td>\n      <td>NaN</td>\n      <td>NaN</td>\n      <td>NaN</td>\n      <td>NaN</td>\n      <td>NaN</td>\n      <td>NaN</td>\n      <td>NaN</td>\n    </tr>\n    <tr>\n      <th>3</th>\n      <td>9</td>\n      <td>2024-01-31</td>\n      <td>NaN</td>\n      <td>ОБЩЕСТВО С ОГРАНИЧЕННОЙ ОТВЕТСТВЕННОСТЬЮ \"</td>\n      <td>NaN</td>\n      <td>92ea6dc0-96ce-4064-84cf-f9547c5f8798</td>\n      <td>Алтайский край</td>\n      <td>NaN</td>\n      <td>NaN</td>\n      <td>NaN</td>\n      <td>...</td>\n      <td>NaN</td>\n      <td>NaN</td>\n      <td>NaN</td>\n      <td>NaN</td>\n      <td>NaN</td>\n      <td>NaN</td>\n      <td>NaN</td>\n      <td>NaN</td>\n      <td>NaN</td>\n      <td>NaN</td>\n    </tr>\n    <tr>\n      <th>4</th>\n      <td>9</td>\n      <td>2024-01-31</td>\n      <td>NaN</td>\n      <td>ОБЩЕСТВО С ОГРАНИЧЕННОЙ ОТВЕТСТВЕННОСТЬЮ \"</td>\n      <td>NaN</td>\n      <td>92ea6dc0-96ce-4064-84cf-f9547c5f8798</td>\n      <td>Алтайский край</td>\n      <td>NaN</td>\n      <td>NaN</td>\n      <td>NaN</td>\n      <td>...</td>\n      <td>NaN</td>\n      <td>NaN</td>\n      <td>NaN</td>\n      <td>NaN</td>\n      <td>NaN</td>\n      <td>NaN</td>\n      <td>NaN</td>\n      <td>NaN</td>\n      <td>NaN</td>\n      <td>NaN</td>\n    </tr>\n    <tr>\n      <th>...</th>\n      <td>...</td>\n      <td>...</td>\n      <td>...</td>\n      <td>...</td>\n      <td>...</td>\n      <td>...</td>\n      <td>...</td>\n      <td>...</td>\n      <td>...</td>\n      <td>...</td>\n      <td>...</td>\n      <td>...</td>\n      <td>...</td>\n      <td>...</td>\n      <td>...</td>\n      <td>...</td>\n      <td>...</td>\n      <td>...</td>\n      <td>...</td>\n      <td>...</td>\n      <td>...</td>\n    </tr>\n    <tr>\n      <th>1211541</th>\n      <td>13</td>\n      <td>2024-01-31</td>\n      <td>NaN</td>\n      <td>ЧУЗ \"ЦКБ \"РЖД-МЕДИЦИНА\"</td>\n      <td>NaN</td>\n      <td>92ea6dc0-96ce-4064-84cf-f9547c5f8798</td>\n      <td>г Москва</td>\n      <td>NaN</td>\n      <td>NaN</td>\n      <td>NaN</td>\n      <td>...</td>\n      <td>NaN</td>\n      <td>1.000000</td>\n      <td>NaN</td>\n      <td>NaN</td>\n      <td>NaN</td>\n      <td>NaN</td>\n      <td>NaN</td>\n      <td>NaN</td>\n      <td>NaN</td>\n      <td>NaN</td>\n    </tr>\n    <tr>\n      <th>1211542</th>\n      <td>13</td>\n      <td>2024-01-31</td>\n      <td>NaN</td>\n      <td>ЧУЗ \"ЦКБ \"РЖД-МЕДИЦИНА\"</td>\n      <td>NaN</td>\n      <td>92ea6dc0-96ce-4064-84cf-f9547c5f8798</td>\n      <td>г Москва</td>\n      <td>NaN</td>\n      <td>NaN</td>\n      <td>NaN</td>\n      <td>...</td>\n      <td>NaN</td>\n      <td>2.500000</td>\n      <td>NaN</td>\n      <td>NaN</td>\n      <td>NaN</td>\n      <td>NaN</td>\n      <td>NaN</td>\n      <td>NaN</td>\n      <td>NaN</td>\n      <td>NaN</td>\n    </tr>\n    <tr>\n      <th>1211543</th>\n      <td>13</td>\n      <td>2024-01-31</td>\n      <td>NaN</td>\n      <td>ЧУЗ \"ЦКБ \"РЖД-МЕДИЦИНА\"</td>\n      <td>NaN</td>\n      <td>92ea6dc0-96ce-4064-84cf-f9547c5f8798</td>\n      <td>г Москва</td>\n      <td>NaN</td>\n      <td>NaN</td>\n      <td>NaN</td>\n      <td>...</td>\n      <td>NaN</td>\n      <td>2.666667</td>\n      <td>NaN</td>\n      <td>NaN</td>\n      <td>NaN</td>\n      <td>NaN</td>\n      <td>NaN</td>\n      <td>NaN</td>\n      <td>NaN</td>\n      <td>NaN</td>\n    </tr>\n    <tr>\n      <th>1211544</th>\n      <td>13</td>\n      <td>2024-01-31</td>\n      <td>NaN</td>\n      <td>ЧУЗ \"ЦКБ \"РЖД-МЕДИЦИНА\"</td>\n      <td>NaN</td>\n      <td>92ea6dc0-96ce-4064-84cf-f9547c5f8798</td>\n      <td>г Москва</td>\n      <td>NaN</td>\n      <td>NaN</td>\n      <td>NaN</td>\n      <td>...</td>\n      <td>NaN</td>\n      <td>10.000000</td>\n      <td>NaN</td>\n      <td>NaN</td>\n      <td>NaN</td>\n      <td>NaN</td>\n      <td>NaN</td>\n      <td>NaN</td>\n      <td>NaN</td>\n      <td>NaN</td>\n    </tr>\n    <tr>\n      <th>1211545</th>\n      <td>13</td>\n      <td>2024-01-31</td>\n      <td>NaN</td>\n      <td>ЧУЗ \"ЦКБ \"РЖД-МЕДИЦИНА\"</td>\n      <td>NaN</td>\n      <td>92ea6dc0-96ce-4064-84cf-f9547c5f8798</td>\n      <td>г Москва</td>\n      <td>NaN</td>\n      <td>NaN</td>\n      <td>NaN</td>\n      <td>...</td>\n      <td>NaN</td>\n      <td>11.333333</td>\n      <td>NaN</td>\n      <td>NaN</td>\n      <td>NaN</td>\n      <td>NaN</td>\n      <td>NaN</td>\n      <td>NaN</td>\n      <td>NaN</td>\n      <td>NaN</td>\n    </tr>\n  </tbody>\n</table>\n<p>1211546 rows × 50 columns</p>\n</div>"
     },
     "execution_count": 22,
     "metadata": {},
     "output_type": "execute_result"
    }
   ],
   "source": [
    "import pandas as pd\n",
    "\n",
    "# Замените путь к файлу на свой\n",
    "file_path = '/mnt/d/Doc_To_Date/20240506/Zambon/data_public_Aggregation_ListClients.csv'\n",
    "\n",
    "# Прочитайте первые 5 строк файла\n",
    "df = pd.read_csv(file_path)\n",
    "\n",
    "# Выведите содержимое файла в тетрадке\n",
    "df"
   ]
  },
  {
   "cell_type": "code",
   "execution_count": 11,
   "outputs": [
    {
     "data": {
      "text/plain": "Index(['type', 'date', 'pharmacyId', 'pharmacy', 'resellerId',\n       'manufacturerId', 'region', 'city', 'sector', 'addressId', 'address',\n       'inn', 'skuId', 'skuStatus', 'title', 'gtin', 'quantity', 'price1',\n       'price2', 'price3', 'shortTitle', 'scale', 'divider', 'reseller',\n       'resellerInn', 'gnvlp', 'dataType', 'regionCode', 'listClients',\n       'orgName', 'branchId', 'nextOrgName', 'nextBranchId', 'nextInn',\n       'nextRegion', 'nextRegionCode', 'nextAddressId', 'nextListClients',\n       'quantity2', 'clientType', 'nextClientType', 'quantity3', 'brickCode',\n       'oneKeyId', 'brickCode2', 'nextSkuId', 'nextShortTitle', 'quantity4',\n       'intId', 'brickCode1'],\n      dtype='object')"
     },
     "execution_count": 11,
     "metadata": {},
     "output_type": "execute_result"
    }
   ],
   "source": [
    "df.columns"
   ],
   "metadata": {
    "collapsed": false,
    "ExecuteTime": {
     "end_time": "2024-05-06T10:23:46.065728500Z",
     "start_time": "2024-05-06T10:23:45.999305100Z"
    }
   },
   "id": "c261e0daec85e267"
  },
  {
   "cell_type": "code",
   "execution_count": 17,
   "outputs": [],
   "source": [
    "import psycopg2\n",
    "from psycopg2.extras import RealDictCursor\n",
    "\n",
    "# Параметры подключения к базе данных\n",
    "conn_params = {\n",
    "    'dbname': 'pharmhub',\n",
    "    'user': 'ivan.anisimov',\n",
    "    'password': 'oA7W5uz2GzEd',\n",
    "    'host': '10.0.0.135',\n",
    "    'port': '5432'\n",
    "}\n",
    "\n",
    "connection = None\n",
    "\n",
    "try:\n",
    "    # Подключение к базе данных\n",
    "    connection = psycopg2.connect(**conn_params)\n",
    "    cursor = connection.cursor(cursor_factory=RealDictCursor)\n",
    "    \n",
    "    # Устанавливаем автокоммит в False\n",
    "    connection.autocommit = False\n",
    "    \n",
    "    # Тут можно добавить ваш код для выполнения запросов и других операций с базой данных\n",
    "\n",
    "except psycopg2.DatabaseError as error:\n",
    "    print(f\"Ошибка подключения к базе данных: {error}\")\n",
    "    if connection:\n",
    "        connection.rollback()  # Откат изменений, если возникла ошибка\n",
    "\n",
    "finally:\n",
    "    if cursor:\n",
    "        cursor.close()\n",
    "    if connection:\n",
    "        connection.close()"
   ],
   "metadata": {
    "collapsed": false,
    "ExecuteTime": {
     "end_time": "2024-05-06T10:32:46.510403400Z",
     "start_time": "2024-05-06T10:32:46.165247200Z"
    }
   },
   "id": "524d7bac330acf14"
  },
  {
   "cell_type": "code",
   "execution_count": 23,
   "outputs": [],
   "source": [
    "unique_branch_ids = df['branchId'].unique()\n"
   ],
   "metadata": {
    "collapsed": false,
    "ExecuteTime": {
     "end_time": "2024-05-06T10:39:45.631203800Z",
     "start_time": "2024-05-06T10:39:45.609070200Z"
    }
   },
   "id": "6f6cf13268d6dc7a"
  },
  {
   "cell_type": "code",
   "execution_count": 33,
   "outputs": [
    {
     "name": "stdout",
     "output_type": "stream",
     "text": [
      "Количество уникальных 'branchId': 91963\n",
      "Уникальные 'branchId': [nan '00000000007042' '00000000236584' ... 305138 216580 144009]\n"
     ]
    }
   ],
   "source": [
    "unique_branch_ids = df['branchId'].unique()\n",
    "print(\"Количество уникальных 'branchId':\", len(unique_branch_ids))\n",
    "print(\"Уникальные 'branchId':\", unique_branch_ids)\n"
   ],
   "metadata": {
    "collapsed": false,
    "ExecuteTime": {
     "end_time": "2024-05-06T11:08:09.475775200Z",
     "start_time": "2024-05-06T11:08:09.349440400Z"
    }
   },
   "id": "e30a9b7569793ef7"
  },
  {
   "cell_type": "code",
   "execution_count": 32,
   "outputs": [
    {
     "name": "stdout",
     "output_type": "stream",
     "text": [
      "Найдено записей: 16502\n"
     ]
    }
   ],
   "source": [
    "import psycopg2\n",
    "from psycopg2.extras import RealDictCursor\n",
    "\n",
    "# Параметры подключения\n",
    "conn_params = {\n",
    "    'dbname': 'pharmhub',\n",
    "    'user': 'ivan.anisimov',\n",
    "    'password': 'oA7W5uz2GzEd',\n",
    "    'host': '10.0.0.135',\n",
    "    'port': '5432'\n",
    "}\n",
    "\n",
    "try:\n",
    "    connection = psycopg2.connect(**conn_params)\n",
    "    cursor = connection.cursor(cursor_factory=RealDictCursor)\n",
    "\n",
    "    # Фильтрация и преобразование unique_branch_ids\n",
    "    unique_branch_ids = df['branchId'].dropna().astype(str).unique()\n",
    "\n",
    "    # Формируем правильный запрос с использованием списка branchId\n",
    "    query = \"\"\"\n",
    "    SELECT *\n",
    "    FROM \"MarkingAddresses\"\n",
    "    WHERE \"branchId\" IN %s;\n",
    "    \"\"\"\n",
    "    cursor.execute(query, (tuple(unique_branch_ids),))\n",
    "    results = cursor.fetchall()\n",
    "    print(f\"Найдено записей: {len(results)}\")\n",
    "\n",
    "except psycopg2.DatabaseError as error:\n",
    "    print(f\"Ошибка базы данных: {error}\")\n",
    "finally:\n",
    "    if cursor:\n",
    "        cursor.close()\n",
    "    if connection:\n",
    "        connection.close()\n"
   ],
   "metadata": {
    "collapsed": false,
    "ExecuteTime": {
     "end_time": "2024-05-06T11:07:17.294333800Z",
     "start_time": "2024-05-06T11:06:05.489119300Z"
    }
   },
   "id": "d0f7a1746814da0c"
  },
  {
   "cell_type": "code",
   "execution_count": 27,
   "outputs": [],
   "source": [
    "# Предполагается, что `results` уже получены из предыдущего кода\n",
    "MarkingAddresses_df = pd.DataFrame(results)"
   ],
   "metadata": {
    "collapsed": false,
    "ExecuteTime": {
     "end_time": "2024-05-06T10:50:29.783918800Z",
     "start_time": "2024-05-06T10:50:29.685711700Z"
    }
   },
   "id": "c9d0126afa4acf89"
  },
  {
   "cell_type": "code",
   "execution_count": 31,
   "outputs": [
    {
     "data": {
      "text/plain": "          inn        branchId                              clientId  \\\n0  8506001684  00000000016790  0a42efd2-3c57-4e5d-b6ca-a71d7671fa1f   \n1  2464135354  00000000307303  644fdf32-89b7-4a60-b214-10e62bf96b64   \n2  2464135354  00000000447167  644fdf32-89b7-4a60-b214-10e62bf96b64   \n\n                                         clientTitle  \\\n0  Государственное унитарное территориально-произ...   \n1  ОБЩЕСТВО С ОГРАНИЧЕННОЙ ОТВЕТСТВЕННОСТЬЮ \"АПТЕ...   \n2  ОБЩЕСТВО С ОГРАНИЧЕННОЙ ОТВЕТСТВЕННОСТЬЮ \"АПТЕ...   \n\n                                   fias  \\\n0  3d3369b3-f535-4443-8bb3-860a894354df   \n1  d8038d1d-30a8-4af4-be38-bcf4adda6dd0   \n2  f8bb76fc-98e1-424f-9b17-2db4d1fe002e   \n\n                                             address             region  \\\n0  669001, Иркутская обл, Эхирит-Булагатский р-н,...      Иркутская обл   \n1  663694, Красноярский край, г Зеленогорск, ул М...  Красноярский край   \n2  660021, Красноярский край, г Красноярск, Желез...  Красноярский край   \n\n   regionCode  valid                                    originalAddress  \\\n0        38.0   True  669001, Иркутская область, Эхирит-Булагатский ...   \n1        24.0   True  663690, Красноярский край, г. Зеленогорск, ул....   \n2        24.0   True  660021, Красноярский край, г. Красноярск, ул. ...   \n\n    latitude   longitude  type  status streetFias data  \n0  52.806328  104.743004  sale       1       None   {}  \n1  56.105586   94.579358  sale       1       None   {}  \n2  56.012305   92.844083  sale       1       None   {}  ",
      "text/html": "<div>\n<style scoped>\n    .dataframe tbody tr th:only-of-type {\n        vertical-align: middle;\n    }\n\n    .dataframe tbody tr th {\n        vertical-align: top;\n    }\n\n    .dataframe thead th {\n        text-align: right;\n    }\n</style>\n<table border=\"1\" class=\"dataframe\">\n  <thead>\n    <tr style=\"text-align: right;\">\n      <th></th>\n      <th>inn</th>\n      <th>branchId</th>\n      <th>clientId</th>\n      <th>clientTitle</th>\n      <th>fias</th>\n      <th>address</th>\n      <th>region</th>\n      <th>regionCode</th>\n      <th>valid</th>\n      <th>originalAddress</th>\n      <th>latitude</th>\n      <th>longitude</th>\n      <th>type</th>\n      <th>status</th>\n      <th>streetFias</th>\n      <th>data</th>\n    </tr>\n  </thead>\n  <tbody>\n    <tr>\n      <th>0</th>\n      <td>8506001684</td>\n      <td>00000000016790</td>\n      <td>0a42efd2-3c57-4e5d-b6ca-a71d7671fa1f</td>\n      <td>Государственное унитарное территориально-произ...</td>\n      <td>3d3369b3-f535-4443-8bb3-860a894354df</td>\n      <td>669001, Иркутская обл, Эхирит-Булагатский р-н,...</td>\n      <td>Иркутская обл</td>\n      <td>38.0</td>\n      <td>True</td>\n      <td>669001, Иркутская область, Эхирит-Булагатский ...</td>\n      <td>52.806328</td>\n      <td>104.743004</td>\n      <td>sale</td>\n      <td>1</td>\n      <td>None</td>\n      <td>{}</td>\n    </tr>\n    <tr>\n      <th>1</th>\n      <td>2464135354</td>\n      <td>00000000307303</td>\n      <td>644fdf32-89b7-4a60-b214-10e62bf96b64</td>\n      <td>ОБЩЕСТВО С ОГРАНИЧЕННОЙ ОТВЕТСТВЕННОСТЬЮ \"АПТЕ...</td>\n      <td>d8038d1d-30a8-4af4-be38-bcf4adda6dd0</td>\n      <td>663694, Красноярский край, г Зеленогорск, ул М...</td>\n      <td>Красноярский край</td>\n      <td>24.0</td>\n      <td>True</td>\n      <td>663690, Красноярский край, г. Зеленогорск, ул....</td>\n      <td>56.105586</td>\n      <td>94.579358</td>\n      <td>sale</td>\n      <td>1</td>\n      <td>None</td>\n      <td>{}</td>\n    </tr>\n    <tr>\n      <th>2</th>\n      <td>2464135354</td>\n      <td>00000000447167</td>\n      <td>644fdf32-89b7-4a60-b214-10e62bf96b64</td>\n      <td>ОБЩЕСТВО С ОГРАНИЧЕННОЙ ОТВЕТСТВЕННОСТЬЮ \"АПТЕ...</td>\n      <td>f8bb76fc-98e1-424f-9b17-2db4d1fe002e</td>\n      <td>660021, Красноярский край, г Красноярск, Желез...</td>\n      <td>Красноярский край</td>\n      <td>24.0</td>\n      <td>True</td>\n      <td>660021, Красноярский край, г. Красноярск, ул. ...</td>\n      <td>56.012305</td>\n      <td>92.844083</td>\n      <td>sale</td>\n      <td>1</td>\n      <td>None</td>\n      <td>{}</td>\n    </tr>\n  </tbody>\n</table>\n</div>"
     },
     "execution_count": 31,
     "metadata": {},
     "output_type": "execute_result"
    }
   ],
   "source": [
    "MarkingAddresses_df.head(3)\n"
   ],
   "metadata": {
    "collapsed": false,
    "ExecuteTime": {
     "end_time": "2024-05-06T11:03:31.230902700Z",
     "start_time": "2024-05-06T11:03:31.203176700Z"
    }
   },
   "id": "6d6cec9b7303b39e"
  }
 ],
 "metadata": {
  "kernelspec": {
   "display_name": "Python 3",
   "language": "python",
   "name": "python3"
  },
  "language_info": {
   "codemirror_mode": {
    "name": "ipython",
    "version": 2
   },
   "file_extension": ".py",
   "mimetype": "text/x-python",
   "name": "python",
   "nbconvert_exporter": "python",
   "pygments_lexer": "ipython2",
   "version": "2.7.6"
  }
 },
 "nbformat": 4,
 "nbformat_minor": 5
}
