{
 "cells": [
  {
   "cell_type": "code",
   "execution_count": 3,
   "id": "initial_id",
   "metadata": {
    "collapsed": true,
    "ExecuteTime": {
     "end_time": "2024-08-01T09:49:38.700416600Z",
     "start_time": "2024-08-01T09:47:58.307390Z"
    }
   },
   "outputs": [
    {
     "data": {
      "text/plain": "                                      cat  code  \\\n22   94fab672-232a-4d6f-b8ea-5bfb44a19341     7   \n26   75e22c04-1d0e-4c1f-9826-22ff7df51e8a     3   \n36   9d767487-1e0e-4913-beb3-1fb813dc233c     7   \n80   9f97b42a-0af0-40c0-bb77-384018d005fb     3   \n85   89faaac5-27b1-4f2d-9e65-cd6c2fbf75cf     7   \n95                                  False     3   \n105                                 False     3   \n108                                 False     3   \n110  a3d00663-de81-4190-99e9-77f6d55220d8    11   \n111                                 False    11   \n\n                                       id m_preds  parsed  \\\n22   00035197-27f8-480c-829d-060a6821cd3c     0.0       1   \n26   0003dc3c-1da4-481b-86f2-41c09665034b   181.0       1   \n36   0005f0ca-67a2-4dc7-a537-e3ee5e053698   780.0       1   \n80   000c4546-88f0-4c0d-acbe-15b4dfcc66dd   731.0       1   \n85   000cdcc3-d9b5-4609-b7dc-f40da2e173b8   191.0       1   \n95   000ea2e1-ea78-40eb-ad96-dc23da2d4753   735.0       1   \n105  00104da8-a38d-437a-a3fa-d011c3fff0e6   783.0       1   \n108  00111b81-b6a6-45b6-89f5-669858b7542b   780.0       1   \n110  00116c33-7db4-42ba-b9da-879b0be5f0dd   785.0       1   \n111  0011b213-05cf-4788-85b5-df6986a2b175   191.0       1   \n\n                                             preds  proba  \\\n22            ([1002924, 1018254, 1002945], other)   True   \n26                     ([1012833, 1012882], other)  False   \n36                     ([1001790, 1001824], other)   True   \n80            ([1003267, 1003268, 1003269], other)  False   \n85            ([1004839, 1004873, 1004874], other)   True   \n95                              ([1005361], other)  False   \n105                             ([1010981], other)  False   \n108                             ([1001790], other)  False   \n110  ([1012421, 1012422, 1012425, 1012432], other)  False   \n111                    ([1004744, 1018959], other)  False   \n\n                                                     x  \\\n22   Уан тач селект глюкометр набор №1 ЛайфСкэн Инк...   \n26   Солгар L-карнитин жидк. 473мл Солгар Витамин Э...   \n36   Авент пустышка силиконов классика 0 мес №2 871...   \n80   Ванна д/снижен веса скипидарн 75мл/санаторий д...   \n85                         НАТУРЕЛЛА ЕЖЕДН. НОРМАЛ №20   \n95      Пластырь Cosmos Kids детский №20 4049500207966   \n105  Рокс медикал таб. жев. ананас №60 ЕвроКосМед Ш...   \n108  Авент увлажнитель воздуха с функцией очищения ...   \n110  КОТЕКС ТАМПОНЫ СУПЕР №8 АППЛ. [KOTEX] KIMBERLY...   \n111  З/п Бленд-а-мед 3D White Мятный поцелуй 100мл ...   \n\n                                              x_parsed           y  \n22   {'tailings': 'инк лай наб сел', 'quantity': '№...  2000043704  \n26   {'tailings': 'l вит хер энд', 'vw': '473 мл', ...     8738546  \n36   {'tailings': '0 кла мес пус сил', 'quantity': ...  2000052324  \n80   {'tailings': 'del ван вес д дом ооо сни', 'vw'...     8747489  \n85   {'tailings': 'еже нор', 'quantity': '№20', 'kw...      504779  \n95   {'tailings': 'kid дет', 'quantity': '№20', 'ar...  2000062001  \n105  {'tailings': 'евр мед ооо сту шве', 'quantity'...  2000060886  \n108  {'tailings': '85540 воз очи с увл фун', 'artic...  2000058210  \n110  {'tailings': 'апп суп', 'quantity': '№8', 'art...     8712461  \n111  {'tailings': '3d whi гэм поц энг', 'vw': '100 ...     8773959  ",
      "text/html": "<div>\n<style scoped>\n    .dataframe tbody tr th:only-of-type {\n        vertical-align: middle;\n    }\n\n    .dataframe tbody tr th {\n        vertical-align: top;\n    }\n\n    .dataframe thead th {\n        text-align: right;\n    }\n</style>\n<table border=\"1\" class=\"dataframe\">\n  <thead>\n    <tr style=\"text-align: right;\">\n      <th></th>\n      <th>cat</th>\n      <th>code</th>\n      <th>id</th>\n      <th>m_preds</th>\n      <th>parsed</th>\n      <th>preds</th>\n      <th>proba</th>\n      <th>x</th>\n      <th>x_parsed</th>\n      <th>y</th>\n    </tr>\n  </thead>\n  <tbody>\n    <tr>\n      <th>22</th>\n      <td>94fab672-232a-4d6f-b8ea-5bfb44a19341</td>\n      <td>7</td>\n      <td>00035197-27f8-480c-829d-060a6821cd3c</td>\n      <td>0.0</td>\n      <td>1</td>\n      <td>([1002924, 1018254, 1002945], other)</td>\n      <td>True</td>\n      <td>Уан тач селект глюкометр набор №1 ЛайфСкэн Инк...</td>\n      <td>{'tailings': 'инк лай наб сел', 'quantity': '№...</td>\n      <td>2000043704</td>\n    </tr>\n    <tr>\n      <th>26</th>\n      <td>75e22c04-1d0e-4c1f-9826-22ff7df51e8a</td>\n      <td>3</td>\n      <td>0003dc3c-1da4-481b-86f2-41c09665034b</td>\n      <td>181.0</td>\n      <td>1</td>\n      <td>([1012833, 1012882], other)</td>\n      <td>False</td>\n      <td>Солгар L-карнитин жидк. 473мл Солгар Витамин Э...</td>\n      <td>{'tailings': 'l вит хер энд', 'vw': '473 мл', ...</td>\n      <td>8738546</td>\n    </tr>\n    <tr>\n      <th>36</th>\n      <td>9d767487-1e0e-4913-beb3-1fb813dc233c</td>\n      <td>7</td>\n      <td>0005f0ca-67a2-4dc7-a537-e3ee5e053698</td>\n      <td>780.0</td>\n      <td>1</td>\n      <td>([1001790, 1001824], other)</td>\n      <td>True</td>\n      <td>Авент пустышка силиконов классика 0 мес №2 871...</td>\n      <td>{'tailings': '0 кла мес пус сил', 'quantity': ...</td>\n      <td>2000052324</td>\n    </tr>\n    <tr>\n      <th>80</th>\n      <td>9f97b42a-0af0-40c0-bb77-384018d005fb</td>\n      <td>3</td>\n      <td>000c4546-88f0-4c0d-acbe-15b4dfcc66dd</td>\n      <td>731.0</td>\n      <td>1</td>\n      <td>([1003267, 1003268, 1003269], other)</td>\n      <td>False</td>\n      <td>Ванна д/снижен веса скипидарн 75мл/санаторий д...</td>\n      <td>{'tailings': 'del ван вес д дом ооо сни', 'vw'...</td>\n      <td>8747489</td>\n    </tr>\n    <tr>\n      <th>85</th>\n      <td>89faaac5-27b1-4f2d-9e65-cd6c2fbf75cf</td>\n      <td>7</td>\n      <td>000cdcc3-d9b5-4609-b7dc-f40da2e173b8</td>\n      <td>191.0</td>\n      <td>1</td>\n      <td>([1004839, 1004873, 1004874], other)</td>\n      <td>True</td>\n      <td>НАТУРЕЛЛА ЕЖЕДН. НОРМАЛ №20</td>\n      <td>{'tailings': 'еже нор', 'quantity': '№20', 'kw...</td>\n      <td>504779</td>\n    </tr>\n    <tr>\n      <th>95</th>\n      <td>False</td>\n      <td>3</td>\n      <td>000ea2e1-ea78-40eb-ad96-dc23da2d4753</td>\n      <td>735.0</td>\n      <td>1</td>\n      <td>([1005361], other)</td>\n      <td>False</td>\n      <td>Пластырь Cosmos Kids детский №20 4049500207966</td>\n      <td>{'tailings': 'kid дет', 'quantity': '№20', 'ar...</td>\n      <td>2000062001</td>\n    </tr>\n    <tr>\n      <th>105</th>\n      <td>False</td>\n      <td>3</td>\n      <td>00104da8-a38d-437a-a3fa-d011c3fff0e6</td>\n      <td>783.0</td>\n      <td>1</td>\n      <td>([1010981], other)</td>\n      <td>False</td>\n      <td>Рокс медикал таб. жев. ананас №60 ЕвроКосМед Ш...</td>\n      <td>{'tailings': 'евр мед ооо сту шве', 'quantity'...</td>\n      <td>2000060886</td>\n    </tr>\n    <tr>\n      <th>108</th>\n      <td>False</td>\n      <td>3</td>\n      <td>00111b81-b6a6-45b6-89f5-669858b7542b</td>\n      <td>780.0</td>\n      <td>1</td>\n      <td>([1001790], other)</td>\n      <td>False</td>\n      <td>Авент увлажнитель воздуха с функцией очищения ...</td>\n      <td>{'tailings': '85540 воз очи с увл фун', 'artic...</td>\n      <td>2000058210</td>\n    </tr>\n    <tr>\n      <th>110</th>\n      <td>a3d00663-de81-4190-99e9-77f6d55220d8</td>\n      <td>11</td>\n      <td>00116c33-7db4-42ba-b9da-879b0be5f0dd</td>\n      <td>785.0</td>\n      <td>1</td>\n      <td>([1012421, 1012422, 1012425, 1012432], other)</td>\n      <td>False</td>\n      <td>КОТЕКС ТАМПОНЫ СУПЕР №8 АППЛ. [KOTEX] KIMBERLY...</td>\n      <td>{'tailings': 'апп суп', 'quantity': '№8', 'art...</td>\n      <td>8712461</td>\n    </tr>\n    <tr>\n      <th>111</th>\n      <td>False</td>\n      <td>11</td>\n      <td>0011b213-05cf-4788-85b5-df6986a2b175</td>\n      <td>191.0</td>\n      <td>1</td>\n      <td>([1004744, 1018959], other)</td>\n      <td>False</td>\n      <td>З/п Бленд-а-мед 3D White Мятный поцелуй 100мл ...</td>\n      <td>{'tailings': '3d whi гэм поц энг', 'vw': '100 ...</td>\n      <td>8773959</td>\n    </tr>\n  </tbody>\n</table>\n</div>"
     },
     "execution_count": 3,
     "metadata": {},
     "output_type": "execute_result"
    }
   ],
   "source": [
    "import pandas as pd\n",
    "\n",
    "# Путь к файлу\n",
    "file_path = '/mnt/d/АСНА/20240710/new_load_2/matching_res.pickle'\n",
    "\n",
    "# Чтение файла pickle в DataFrame\n",
    "df = pd.read_pickle(file_path)\n",
    "\n",
    "# Вывод первых 10 строк DataFrame\n",
    "df.head(10)"
   ]
  },
  {
   "cell_type": "code",
   "execution_count": 4,
   "outputs": [
    {
     "data": {
      "text/plain": "           cat  code                                    id m_preds  parsed  \\\n626999    None     0  015b52ef-cbab-4419-b9d2-e74230996554    None       1   \n942244    None     0  060346b8-0ea0-4d32-a719-14ab8b0eb9a2    None       1   \n1042776   None     0  077f0f2c-1163-4527-8c4b-d6d3b1c4f556    None       1   \n1100128   None     0  085959fb-1736-42c6-8be9-be912a0528c4    None       1   \n1111429   None     0  0884801c-be33-4342-beca-40c2d7093b4e    None       1   \n...        ...   ...                                   ...     ...     ...   \n21405320  None     0  fc8f751f-7d37-4d03-8637-af10bddd5588    None       1   \n21471925  None     0  fd5562ea-98ea-4064-9282-69abe5f2ec40    None       1   \n21524338  None     0  fdf18b01-dd41-4d40-bc18-6060218c6bf5    None       1   \n21564910  None     0  fe6aaffd-6d0f-4d11-91bc-be2a05ef4aa1    None       1   \n21602855  None     0  fedc8610-8236-4da1-8eb7-c92196f50d32    None       1   \n\n         preds  proba                                                  x  \\\n626999    None   True  Alpine caramel леденцы альпийская карамель без...   \n942244    None  False  Alpine caramel альпийская карамель леденцы дет...   \n1042776   None  False  ALPINE CARAMEL ЛЕДЕНЦЫ АЛЬПИЙСКАЯ КАРАМЕЛЬ ДЕТ...   \n1100128   None  False  Альпийская карамель Детск. Мед, Вит.С Апельсин...   \n1111429   None  False  ALPINE CARAMEL АЛЬПИЙСКАЯ КАРАМЕЛЬ ЛЕДЕНЦЫ ДЕТ...   \n...        ...    ...                                                ...   \n21405320  None  False  ALPINE CARAMEL АЛЬПИЙСКАЯ КАРАМЕЛЬ ЛЕДЕНЦЫ ДЕТ...   \n21471925  None   True  Альпийская карамель б/сах 75г Альпин Плантико ...   \n21524338  None   True  Alpine caramel леденцы альпийская карамель 75,...   \n21564910  None   True  Альпийская карамель имбирь-мед 75г Альпин План...   \n21602855  None   True  ALPINE CARAMEL ЛЕДЕНЦЫ АЛЬПИЙСКАЯ КАРАМЕЛЬ БЕЗ...   \n\n         x_parsed        y  \n626999        NaN  16424.0  \n942244        NaN  16421.0  \n1042776       NaN  16421.0  \n1100128       NaN  16421.0  \n1111429       NaN  16421.0  \n...           ...      ...  \n21405320      NaN  16421.0  \n21471925      NaN  16424.0  \n21524338      NaN  16424.0  \n21564910      NaN  16424.0  \n21602855      NaN  16424.0  \n\n[138 rows x 10 columns]",
      "text/html": "<div>\n<style scoped>\n    .dataframe tbody tr th:only-of-type {\n        vertical-align: middle;\n    }\n\n    .dataframe tbody tr th {\n        vertical-align: top;\n    }\n\n    .dataframe thead th {\n        text-align: right;\n    }\n</style>\n<table border=\"1\" class=\"dataframe\">\n  <thead>\n    <tr style=\"text-align: right;\">\n      <th></th>\n      <th>cat</th>\n      <th>code</th>\n      <th>id</th>\n      <th>m_preds</th>\n      <th>parsed</th>\n      <th>preds</th>\n      <th>proba</th>\n      <th>x</th>\n      <th>x_parsed</th>\n      <th>y</th>\n    </tr>\n  </thead>\n  <tbody>\n    <tr>\n      <th>626999</th>\n      <td>None</td>\n      <td>0</td>\n      <td>015b52ef-cbab-4419-b9d2-e74230996554</td>\n      <td>None</td>\n      <td>1</td>\n      <td>None</td>\n      <td>True</td>\n      <td>Alpine caramel леденцы альпийская карамель без...</td>\n      <td>NaN</td>\n      <td>16424.0</td>\n    </tr>\n    <tr>\n      <th>942244</th>\n      <td>None</td>\n      <td>0</td>\n      <td>060346b8-0ea0-4d32-a719-14ab8b0eb9a2</td>\n      <td>None</td>\n      <td>1</td>\n      <td>None</td>\n      <td>False</td>\n      <td>Alpine caramel альпийская карамель леденцы дет...</td>\n      <td>NaN</td>\n      <td>16421.0</td>\n    </tr>\n    <tr>\n      <th>1042776</th>\n      <td>None</td>\n      <td>0</td>\n      <td>077f0f2c-1163-4527-8c4b-d6d3b1c4f556</td>\n      <td>None</td>\n      <td>1</td>\n      <td>None</td>\n      <td>False</td>\n      <td>ALPINE CARAMEL ЛЕДЕНЦЫ АЛЬПИЙСКАЯ КАРАМЕЛЬ ДЕТ...</td>\n      <td>NaN</td>\n      <td>16421.0</td>\n    </tr>\n    <tr>\n      <th>1100128</th>\n      <td>None</td>\n      <td>0</td>\n      <td>085959fb-1736-42c6-8be9-be912a0528c4</td>\n      <td>None</td>\n      <td>1</td>\n      <td>None</td>\n      <td>False</td>\n      <td>Альпийская карамель Детск. Мед, Вит.С Апельсин...</td>\n      <td>NaN</td>\n      <td>16421.0</td>\n    </tr>\n    <tr>\n      <th>1111429</th>\n      <td>None</td>\n      <td>0</td>\n      <td>0884801c-be33-4342-beca-40c2d7093b4e</td>\n      <td>None</td>\n      <td>1</td>\n      <td>None</td>\n      <td>False</td>\n      <td>ALPINE CARAMEL АЛЬПИЙСКАЯ КАРАМЕЛЬ ЛЕДЕНЦЫ ДЕТ...</td>\n      <td>NaN</td>\n      <td>16421.0</td>\n    </tr>\n    <tr>\n      <th>...</th>\n      <td>...</td>\n      <td>...</td>\n      <td>...</td>\n      <td>...</td>\n      <td>...</td>\n      <td>...</td>\n      <td>...</td>\n      <td>...</td>\n      <td>...</td>\n      <td>...</td>\n    </tr>\n    <tr>\n      <th>21405320</th>\n      <td>None</td>\n      <td>0</td>\n      <td>fc8f751f-7d37-4d03-8637-af10bddd5588</td>\n      <td>None</td>\n      <td>1</td>\n      <td>None</td>\n      <td>False</td>\n      <td>ALPINE CARAMEL АЛЬПИЙСКАЯ КАРАМЕЛЬ ЛЕДЕНЦЫ ДЕТ...</td>\n      <td>NaN</td>\n      <td>16421.0</td>\n    </tr>\n    <tr>\n      <th>21471925</th>\n      <td>None</td>\n      <td>0</td>\n      <td>fd5562ea-98ea-4064-9282-69abe5f2ec40</td>\n      <td>None</td>\n      <td>1</td>\n      <td>None</td>\n      <td>True</td>\n      <td>Альпийская карамель б/сах 75г Альпин Плантико ...</td>\n      <td>NaN</td>\n      <td>16424.0</td>\n    </tr>\n    <tr>\n      <th>21524338</th>\n      <td>None</td>\n      <td>0</td>\n      <td>fdf18b01-dd41-4d40-bc18-6060218c6bf5</td>\n      <td>None</td>\n      <td>1</td>\n      <td>None</td>\n      <td>True</td>\n      <td>Alpine caramel леденцы альпийская карамель 75,...</td>\n      <td>NaN</td>\n      <td>16424.0</td>\n    </tr>\n    <tr>\n      <th>21564910</th>\n      <td>None</td>\n      <td>0</td>\n      <td>fe6aaffd-6d0f-4d11-91bc-be2a05ef4aa1</td>\n      <td>None</td>\n      <td>1</td>\n      <td>None</td>\n      <td>True</td>\n      <td>Альпийская карамель имбирь-мед 75г Альпин План...</td>\n      <td>NaN</td>\n      <td>16424.0</td>\n    </tr>\n    <tr>\n      <th>21602855</th>\n      <td>None</td>\n      <td>0</td>\n      <td>fedc8610-8236-4da1-8eb7-c92196f50d32</td>\n      <td>None</td>\n      <td>1</td>\n      <td>None</td>\n      <td>True</td>\n      <td>ALPINE CARAMEL ЛЕДЕНЦЫ АЛЬПИЙСКАЯ КАРАМЕЛЬ БЕЗ...</td>\n      <td>NaN</td>\n      <td>16424.0</td>\n    </tr>\n  </tbody>\n</table>\n<p>138 rows × 10 columns</p>\n</div>"
     },
     "metadata": {},
     "output_type": "display_data"
    }
   ],
   "source": [
    "# Поиск строк, содержащих подстроку \"АЛЬПИЙСКАЯ КАРАМЕЛЬ\" в столбце 'x'\n",
    "search_term = \"АЛЬПИЙСКАЯ КАРАМЕЛЬ\"\n",
    "result = df[df['x'].str.contains(search_term, case=False, na=False)]\n",
    "\n",
    "# Вывод результата\n",
    "if not result.empty:\n",
    "    display(result)\n",
    "else:\n",
    "    print(\"Значение не найдено\")"
   ],
   "metadata": {
    "collapsed": false,
    "ExecuteTime": {
     "end_time": "2024-08-01T09:50:48.780397600Z",
     "start_time": "2024-08-01T09:50:42.385067700Z"
    }
   },
   "id": "6ae21437b4fbf180"
  },
  {
   "cell_type": "code",
   "execution_count": 5,
   "outputs": [
    {
     "data": {
      "text/plain": "           cat  code                                    id m_preds  parsed  \\\n626999    None     0  015b52ef-cbab-4419-b9d2-e74230996554    None       1   \n942244    None     0  060346b8-0ea0-4d32-a719-14ab8b0eb9a2    None       1   \n1042776   None     0  077f0f2c-1163-4527-8c4b-d6d3b1c4f556    None       1   \n1100128   None     0  085959fb-1736-42c6-8be9-be912a0528c4    None       1   \n1111429   None     0  0884801c-be33-4342-beca-40c2d7093b4e    None       1   \n...        ...   ...                                   ...     ...     ...   \n21405320  None     0  fc8f751f-7d37-4d03-8637-af10bddd5588    None       1   \n21471925  None     0  fd5562ea-98ea-4064-9282-69abe5f2ec40    None       1   \n21524338  None     0  fdf18b01-dd41-4d40-bc18-6060218c6bf5    None       1   \n21564910  None     0  fe6aaffd-6d0f-4d11-91bc-be2a05ef4aa1    None       1   \n21602855  None     0  fedc8610-8236-4da1-8eb7-c92196f50d32    None       1   \n\n         preds  proba                                                  x  \\\n626999    None   True  Alpine caramel леденцы альпийская карамель без...   \n942244    None  False  Alpine caramel альпийская карамель леденцы дет...   \n1042776   None  False  ALPINE CARAMEL ЛЕДЕНЦЫ АЛЬПИЙСКАЯ КАРАМЕЛЬ ДЕТ...   \n1100128   None  False  Альпийская карамель Детск. Мед, Вит.С Апельсин...   \n1111429   None  False  ALPINE CARAMEL АЛЬПИЙСКАЯ КАРАМЕЛЬ ЛЕДЕНЦЫ ДЕТ...   \n...        ...    ...                                                ...   \n21405320  None  False  ALPINE CARAMEL АЛЬПИЙСКАЯ КАРАМЕЛЬ ЛЕДЕНЦЫ ДЕТ...   \n21471925  None   True  Альпийская карамель б/сах 75г Альпин Плантико ...   \n21524338  None   True  Alpine caramel леденцы альпийская карамель 75,...   \n21564910  None   True  Альпийская карамель имбирь-мед 75г Альпин План...   \n21602855  None   True  ALPINE CARAMEL ЛЕДЕНЦЫ АЛЬПИЙСКАЯ КАРАМЕЛЬ БЕЗ...   \n\n         x_parsed        y  \n626999        NaN  16424.0  \n942244        NaN  16421.0  \n1042776       NaN  16421.0  \n1100128       NaN  16421.0  \n1111429       NaN  16421.0  \n...           ...      ...  \n21405320      NaN  16421.0  \n21471925      NaN  16424.0  \n21524338      NaN  16424.0  \n21564910      NaN  16424.0  \n21602855      NaN  16424.0  \n\n[138 rows x 10 columns]",
      "text/html": "<div>\n<style scoped>\n    .dataframe tbody tr th:only-of-type {\n        vertical-align: middle;\n    }\n\n    .dataframe tbody tr th {\n        vertical-align: top;\n    }\n\n    .dataframe thead th {\n        text-align: right;\n    }\n</style>\n<table border=\"1\" class=\"dataframe\">\n  <thead>\n    <tr style=\"text-align: right;\">\n      <th></th>\n      <th>cat</th>\n      <th>code</th>\n      <th>id</th>\n      <th>m_preds</th>\n      <th>parsed</th>\n      <th>preds</th>\n      <th>proba</th>\n      <th>x</th>\n      <th>x_parsed</th>\n      <th>y</th>\n    </tr>\n  </thead>\n  <tbody>\n    <tr>\n      <th>626999</th>\n      <td>None</td>\n      <td>0</td>\n      <td>015b52ef-cbab-4419-b9d2-e74230996554</td>\n      <td>None</td>\n      <td>1</td>\n      <td>None</td>\n      <td>True</td>\n      <td>Alpine caramel леденцы альпийская карамель без...</td>\n      <td>NaN</td>\n      <td>16424.0</td>\n    </tr>\n    <tr>\n      <th>942244</th>\n      <td>None</td>\n      <td>0</td>\n      <td>060346b8-0ea0-4d32-a719-14ab8b0eb9a2</td>\n      <td>None</td>\n      <td>1</td>\n      <td>None</td>\n      <td>False</td>\n      <td>Alpine caramel альпийская карамель леденцы дет...</td>\n      <td>NaN</td>\n      <td>16421.0</td>\n    </tr>\n    <tr>\n      <th>1042776</th>\n      <td>None</td>\n      <td>0</td>\n      <td>077f0f2c-1163-4527-8c4b-d6d3b1c4f556</td>\n      <td>None</td>\n      <td>1</td>\n      <td>None</td>\n      <td>False</td>\n      <td>ALPINE CARAMEL ЛЕДЕНЦЫ АЛЬПИЙСКАЯ КАРАМЕЛЬ ДЕТ...</td>\n      <td>NaN</td>\n      <td>16421.0</td>\n    </tr>\n    <tr>\n      <th>1100128</th>\n      <td>None</td>\n      <td>0</td>\n      <td>085959fb-1736-42c6-8be9-be912a0528c4</td>\n      <td>None</td>\n      <td>1</td>\n      <td>None</td>\n      <td>False</td>\n      <td>Альпийская карамель Детск. Мед, Вит.С Апельсин...</td>\n      <td>NaN</td>\n      <td>16421.0</td>\n    </tr>\n    <tr>\n      <th>1111429</th>\n      <td>None</td>\n      <td>0</td>\n      <td>0884801c-be33-4342-beca-40c2d7093b4e</td>\n      <td>None</td>\n      <td>1</td>\n      <td>None</td>\n      <td>False</td>\n      <td>ALPINE CARAMEL АЛЬПИЙСКАЯ КАРАМЕЛЬ ЛЕДЕНЦЫ ДЕТ...</td>\n      <td>NaN</td>\n      <td>16421.0</td>\n    </tr>\n    <tr>\n      <th>...</th>\n      <td>...</td>\n      <td>...</td>\n      <td>...</td>\n      <td>...</td>\n      <td>...</td>\n      <td>...</td>\n      <td>...</td>\n      <td>...</td>\n      <td>...</td>\n      <td>...</td>\n    </tr>\n    <tr>\n      <th>21405320</th>\n      <td>None</td>\n      <td>0</td>\n      <td>fc8f751f-7d37-4d03-8637-af10bddd5588</td>\n      <td>None</td>\n      <td>1</td>\n      <td>None</td>\n      <td>False</td>\n      <td>ALPINE CARAMEL АЛЬПИЙСКАЯ КАРАМЕЛЬ ЛЕДЕНЦЫ ДЕТ...</td>\n      <td>NaN</td>\n      <td>16421.0</td>\n    </tr>\n    <tr>\n      <th>21471925</th>\n      <td>None</td>\n      <td>0</td>\n      <td>fd5562ea-98ea-4064-9282-69abe5f2ec40</td>\n      <td>None</td>\n      <td>1</td>\n      <td>None</td>\n      <td>True</td>\n      <td>Альпийская карамель б/сах 75г Альпин Плантико ...</td>\n      <td>NaN</td>\n      <td>16424.0</td>\n    </tr>\n    <tr>\n      <th>21524338</th>\n      <td>None</td>\n      <td>0</td>\n      <td>fdf18b01-dd41-4d40-bc18-6060218c6bf5</td>\n      <td>None</td>\n      <td>1</td>\n      <td>None</td>\n      <td>True</td>\n      <td>Alpine caramel леденцы альпийская карамель 75,...</td>\n      <td>NaN</td>\n      <td>16424.0</td>\n    </tr>\n    <tr>\n      <th>21564910</th>\n      <td>None</td>\n      <td>0</td>\n      <td>fe6aaffd-6d0f-4d11-91bc-be2a05ef4aa1</td>\n      <td>None</td>\n      <td>1</td>\n      <td>None</td>\n      <td>True</td>\n      <td>Альпийская карамель имбирь-мед 75г Альпин План...</td>\n      <td>NaN</td>\n      <td>16424.0</td>\n    </tr>\n    <tr>\n      <th>21602855</th>\n      <td>None</td>\n      <td>0</td>\n      <td>fedc8610-8236-4da1-8eb7-c92196f50d32</td>\n      <td>None</td>\n      <td>1</td>\n      <td>None</td>\n      <td>True</td>\n      <td>ALPINE CARAMEL ЛЕДЕНЦЫ АЛЬПИЙСКАЯ КАРАМЕЛЬ БЕЗ...</td>\n      <td>NaN</td>\n      <td>16424.0</td>\n    </tr>\n  </tbody>\n</table>\n<p>138 rows × 10 columns</p>\n</div>"
     },
     "execution_count": 5,
     "metadata": {},
     "output_type": "execute_result"
    }
   ],
   "source": [
    "result"
   ],
   "metadata": {
    "collapsed": false,
    "ExecuteTime": {
     "end_time": "2024-08-01T09:51:04.441941700Z",
     "start_time": "2024-08-01T09:51:04.367702900Z"
    }
   },
   "id": "da40dc42629e6e9e"
  },
  {
   "cell_type": "code",
   "execution_count": 7,
   "outputs": [
    {
     "data": {
      "text/plain": "                                           id  \\\n0        00000b75-0f0e-4600-9846-b994dca3017c   \n1        00001352-5d5d-4647-9f98-f7c473cfc048   \n2        00001556-ace2-4639-95de-82e5d1846220   \n3        000017b1-308e-4d42-bc06-9cd6244a8e87   \n4        00002b43-9672-4bb0-885e-f5b8ef8ff793   \n...                                       ...   \n2070191  ffffc2de-7505-4bbf-83c0-34e20ff388f8   \n2070192  ffffd7e5-6344-4df7-9b03-7b83a9299d29   \n2070193  ffffecce-3215-4956-a5ed-3cdac0fbf903   \n2070194  fffff5f9-677d-4758-9627-12a4d1ce2f96   \n2070195  fffff86b-e44c-46a9-b83d-308d9bb2a213   \n\n                                         nomenclatureTitle  \\\n0                 Atopic крем-стик успокаивающий 4,9 пенал   \n1                                  Масло Облепиховое 100мл   \n2                                 Холосас 95 мл  Фл. сироп   \n3               Глицерин суппозитории ректальные 2.11г №10   \n4             Никоретте жеват. резинка свежая мята 2мг №30   \n...                                                    ...   \n2070191  ПОВЯЗКА COSMOPOR E STERIL ПОСЛЕОПЕРАЦИОННАЯ 25...   \n2070192                         Бобс леденцы 35г мед/лимон   \n2070193  Фитокосметик Народные Рецепты соль-пена д/ванн...   \n2070194                           Цинктерал таб 124мг N150   \n2070195                           Алмонт таб. жев. 4мг №28   \n\n                  nomenclatureManufacturer nomenclatureEan  \\\n0                                   Аванта   4606711704594   \n1                                      NaN   4603679000164   \n2                               Алтай-Фарм             NaN   \n3                                  Нижфарм   4601026046018   \n4                                   МакНил   3574660436174   \n...                                    ...             ...   \n2070191                      Hartmann Paul   4049500971096   \n2070192  Филиал АО НПК \"Катрен\" в г.Тюмени   4600416017751   \n2070193                   Фитокосметик ООО   4680038240898   \n2070194                               Teva   5900004072384   \n2070195                       Актавис Лтд.   4607141998829   \n\n                                     clientId nomenclatureCode         ntt  \\\n0        68abe3a7-9e0a-42bc-9e71-35fca18fe227            63789     8763472   \n1        70eefe2c-d366-4556-9e2d-0e5c7158f3aa             2485      109889   \n2        62428fa8-e31e-4d85-a908-85d5570d5deb    4603679007439  2000012604   \n3        ee3225a5-27ea-4544-9bdb-fa04bc85c9d3            46289      104947   \n4        360aad66-832e-46dd-bc65-317cfc5583f3            25968     8605401   \n...                                       ...              ...         ...   \n2070191  4c943138-3b13-4eae-a480-f6092f94756c         10003956      115612   \n2070192  80dcf781-08cf-4532-9cc4-7a7d7107c2d0        2435_8625      505493   \n2070193  a82760c5-ad12-4f06-a37d-77ced01aa5e7            72736     8781597   \n2070194  65e7f093-88c5-44e6-a8b4-7183bac706b5           193238      110572   \n2070195  929e191a-b86a-4ece-a053-5a35e4a657e8            26690     8766807   \n\n                                                  skuTitle  \\\n0        АТОПИК крем-стик д/детей успокаивающий 4,9г Ав...   \n1              МАСЛО ОБЛЕПИХОВОЕ 100мл масло Алтайвитамины   \n2                         ХОЛОСАС 95мл сироп Алтайвитамины   \n3        ГЛИЦЕРИН 2,11г N10 суппозитории ректальные д/в...   \n4        НИКОРЕТТЕ 2мг N30 жеват. рез. Свежая Мята McNe...   \n...                                                    ...   \n2070191  ХАРТМАНН КОСМОПОР Е повязка 25x10см N25 Paul H...   \n2070192  БОБС леденцы медово-лимонные (БАД) 35г Мак-Ива...   \n2070193  ФИТОКОСМЕТИК НАРОДНЫЕ РЕЦЕПТЫ соль-пена рассла...   \n2070194  ЦИНКТЕРАЛ-ТЕВА 124мг N150 таб. покрытые пленоч...   \n2070195        АЛМОНТ 4мг N28 таб. жевательные Актавис Лтд   \n\n                                            skuEan                manufacturer  \n0                                    4606711704594                      Аванта  \n1                      4603679000164 4603679006050  АЛТАЙВИТАМИНЫ ТРЕЙДИНГ ООО  \n2                                    4603679007439  АЛТАЙВИТАМИНЫ ТРЕЙДИНГ ООО  \n3        4601026046018 4601026301667 4601026301704                       Штада  \n4                                    3574660436174                 Джонсон ОТС  \n...                                            ...                         ...  \n2070191                4049500881623 4049500971096              Пауль Хартманн  \n2070192                4600416017751 4600416017768              Сладкая сказка  \n2070193                4680038240898 4680038241826                Фитокосметик  \n2070194                5900004070601 5900004072384                        Тева  \n2070195                              4607141998829                        Тева  \n\n[2070196 rows x 10 columns]",
      "text/html": "<div>\n<style scoped>\n    .dataframe tbody tr th:only-of-type {\n        vertical-align: middle;\n    }\n\n    .dataframe tbody tr th {\n        vertical-align: top;\n    }\n\n    .dataframe thead th {\n        text-align: right;\n    }\n</style>\n<table border=\"1\" class=\"dataframe\">\n  <thead>\n    <tr style=\"text-align: right;\">\n      <th></th>\n      <th>id</th>\n      <th>nomenclatureTitle</th>\n      <th>nomenclatureManufacturer</th>\n      <th>nomenclatureEan</th>\n      <th>clientId</th>\n      <th>nomenclatureCode</th>\n      <th>ntt</th>\n      <th>skuTitle</th>\n      <th>skuEan</th>\n      <th>manufacturer</th>\n    </tr>\n  </thead>\n  <tbody>\n    <tr>\n      <th>0</th>\n      <td>00000b75-0f0e-4600-9846-b994dca3017c</td>\n      <td>Atopic крем-стик успокаивающий 4,9 пенал</td>\n      <td>Аванта</td>\n      <td>4606711704594</td>\n      <td>68abe3a7-9e0a-42bc-9e71-35fca18fe227</td>\n      <td>63789</td>\n      <td>8763472</td>\n      <td>АТОПИК крем-стик д/детей успокаивающий 4,9г Ав...</td>\n      <td>4606711704594</td>\n      <td>Аванта</td>\n    </tr>\n    <tr>\n      <th>1</th>\n      <td>00001352-5d5d-4647-9f98-f7c473cfc048</td>\n      <td>Масло Облепиховое 100мл</td>\n      <td>NaN</td>\n      <td>4603679000164</td>\n      <td>70eefe2c-d366-4556-9e2d-0e5c7158f3aa</td>\n      <td>2485</td>\n      <td>109889</td>\n      <td>МАСЛО ОБЛЕПИХОВОЕ 100мл масло Алтайвитамины</td>\n      <td>4603679000164 4603679006050</td>\n      <td>АЛТАЙВИТАМИНЫ ТРЕЙДИНГ ООО</td>\n    </tr>\n    <tr>\n      <th>2</th>\n      <td>00001556-ace2-4639-95de-82e5d1846220</td>\n      <td>Холосас 95 мл  Фл. сироп</td>\n      <td>Алтай-Фарм</td>\n      <td>NaN</td>\n      <td>62428fa8-e31e-4d85-a908-85d5570d5deb</td>\n      <td>4603679007439</td>\n      <td>2000012604</td>\n      <td>ХОЛОСАС 95мл сироп Алтайвитамины</td>\n      <td>4603679007439</td>\n      <td>АЛТАЙВИТАМИНЫ ТРЕЙДИНГ ООО</td>\n    </tr>\n    <tr>\n      <th>3</th>\n      <td>000017b1-308e-4d42-bc06-9cd6244a8e87</td>\n      <td>Глицерин суппозитории ректальные 2.11г №10</td>\n      <td>Нижфарм</td>\n      <td>4601026046018</td>\n      <td>ee3225a5-27ea-4544-9bdb-fa04bc85c9d3</td>\n      <td>46289</td>\n      <td>104947</td>\n      <td>ГЛИЦЕРИН 2,11г N10 суппозитории ректальные д/в...</td>\n      <td>4601026046018 4601026301667 4601026301704</td>\n      <td>Штада</td>\n    </tr>\n    <tr>\n      <th>4</th>\n      <td>00002b43-9672-4bb0-885e-f5b8ef8ff793</td>\n      <td>Никоретте жеват. резинка свежая мята 2мг №30</td>\n      <td>МакНил</td>\n      <td>3574660436174</td>\n      <td>360aad66-832e-46dd-bc65-317cfc5583f3</td>\n      <td>25968</td>\n      <td>8605401</td>\n      <td>НИКОРЕТТЕ 2мг N30 жеват. рез. Свежая Мята McNe...</td>\n      <td>3574660436174</td>\n      <td>Джонсон ОТС</td>\n    </tr>\n    <tr>\n      <th>...</th>\n      <td>...</td>\n      <td>...</td>\n      <td>...</td>\n      <td>...</td>\n      <td>...</td>\n      <td>...</td>\n      <td>...</td>\n      <td>...</td>\n      <td>...</td>\n      <td>...</td>\n    </tr>\n    <tr>\n      <th>2070191</th>\n      <td>ffffc2de-7505-4bbf-83c0-34e20ff388f8</td>\n      <td>ПОВЯЗКА COSMOPOR E STERIL ПОСЛЕОПЕРАЦИОННАЯ 25...</td>\n      <td>Hartmann Paul</td>\n      <td>4049500971096</td>\n      <td>4c943138-3b13-4eae-a480-f6092f94756c</td>\n      <td>10003956</td>\n      <td>115612</td>\n      <td>ХАРТМАНН КОСМОПОР Е повязка 25x10см N25 Paul H...</td>\n      <td>4049500881623 4049500971096</td>\n      <td>Пауль Хартманн</td>\n    </tr>\n    <tr>\n      <th>2070192</th>\n      <td>ffffd7e5-6344-4df7-9b03-7b83a9299d29</td>\n      <td>Бобс леденцы 35г мед/лимон</td>\n      <td>Филиал АО НПК \"Катрен\" в г.Тюмени</td>\n      <td>4600416017751</td>\n      <td>80dcf781-08cf-4532-9cc4-7a7d7107c2d0</td>\n      <td>2435_8625</td>\n      <td>505493</td>\n      <td>БОБС леденцы медово-лимонные (БАД) 35г Мак-Ива...</td>\n      <td>4600416017751 4600416017768</td>\n      <td>Сладкая сказка</td>\n    </tr>\n    <tr>\n      <th>2070193</th>\n      <td>ffffecce-3215-4956-a5ed-3cdac0fbf903</td>\n      <td>Фитокосметик Народные Рецепты соль-пена д/ванн...</td>\n      <td>Фитокосметик ООО</td>\n      <td>4680038240898</td>\n      <td>a82760c5-ad12-4f06-a37d-77ced01aa5e7</td>\n      <td>72736</td>\n      <td>8781597</td>\n      <td>ФИТОКОСМЕТИК НАРОДНЫЕ РЕЦЕПТЫ соль-пена рассла...</td>\n      <td>4680038240898 4680038241826</td>\n      <td>Фитокосметик</td>\n    </tr>\n    <tr>\n      <th>2070194</th>\n      <td>fffff5f9-677d-4758-9627-12a4d1ce2f96</td>\n      <td>Цинктерал таб 124мг N150</td>\n      <td>Teva</td>\n      <td>5900004072384</td>\n      <td>65e7f093-88c5-44e6-a8b4-7183bac706b5</td>\n      <td>193238</td>\n      <td>110572</td>\n      <td>ЦИНКТЕРАЛ-ТЕВА 124мг N150 таб. покрытые пленоч...</td>\n      <td>5900004070601 5900004072384</td>\n      <td>Тева</td>\n    </tr>\n    <tr>\n      <th>2070195</th>\n      <td>fffff86b-e44c-46a9-b83d-308d9bb2a213</td>\n      <td>Алмонт таб. жев. 4мг №28</td>\n      <td>Актавис Лтд.</td>\n      <td>4607141998829</td>\n      <td>929e191a-b86a-4ece-a053-5a35e4a657e8</td>\n      <td>26690</td>\n      <td>8766807</td>\n      <td>АЛМОНТ 4мг N28 таб. жевательные Актавис Лтд</td>\n      <td>4607141998829</td>\n      <td>Тева</td>\n    </tr>\n  </tbody>\n</table>\n<p>2070196 rows × 10 columns</p>\n</div>"
     },
     "execution_count": 7,
     "metadata": {},
     "output_type": "execute_result"
    }
   ],
   "source": [
    "# Путь к файлу\n",
    "file_path2 = '/mnt/d/АСНА/20240710/new_load_2/asna_dump_2024_07_10.csv'\n",
    "\n",
    "# Чтение файла pickle в DataFrame\n",
    "try:\n",
    "    df2 = pd.read_csv(file_path2, encoding='utf-8')\n",
    "except UnicodeDecodeError:\n",
    "    df2 = pd.read_csv(file_path2, encoding='latin1')\n",
    "\n",
    "\n",
    "df2"
   ],
   "metadata": {
    "collapsed": false,
    "ExecuteTime": {
     "end_time": "2024-08-01T09:53:52.372589Z",
     "start_time": "2024-08-01T09:53:35.721361Z"
    }
   },
   "id": "8f32599f4474342c"
  },
  {
   "cell_type": "code",
   "execution_count": 18,
   "outputs": [
    {
     "data": {
      "text/plain": "Empty DataFrame\nColumns: [id, nomenclatureTitle, nomenclatureManufacturer, nomenclatureEan, clientId, nomenclatureCode, ntt, skuTitle, skuEan, manufacturer]\nIndex: []",
      "text/html": "<div>\n<style scoped>\n    .dataframe tbody tr th:only-of-type {\n        vertical-align: middle;\n    }\n\n    .dataframe tbody tr th {\n        vertical-align: top;\n    }\n\n    .dataframe thead th {\n        text-align: right;\n    }\n</style>\n<table border=\"1\" class=\"dataframe\">\n  <thead>\n    <tr style=\"text-align: right;\">\n      <th></th>\n      <th>id</th>\n      <th>nomenclatureTitle</th>\n      <th>nomenclatureManufacturer</th>\n      <th>nomenclatureEan</th>\n      <th>clientId</th>\n      <th>nomenclatureCode</th>\n      <th>ntt</th>\n      <th>skuTitle</th>\n      <th>skuEan</th>\n      <th>manufacturer</th>\n    </tr>\n  </thead>\n  <tbody>\n  </tbody>\n</table>\n</div>"
     },
     "execution_count": 18,
     "metadata": {},
     "output_type": "execute_result"
    }
   ],
   "source": [
    "\n",
    "# Поиск строк, содержащих подстроку \"2000054222\" в столбце 'skuEan'\n",
    "search_term = \"4640033310019\"\n",
    "result2 = df2[df2['skuEan'].astype(str).str.contains(search_term, case=False, na=False)]\n",
    "\n",
    "result2"
   ],
   "metadata": {
    "collapsed": false,
    "ExecuteTime": {
     "end_time": "2024-08-01T10:02:33.558506100Z",
     "start_time": "2024-08-01T10:02:32.509435700Z"
    }
   },
   "id": "c72e3f0512a1bfe5"
  },
  {
   "cell_type": "code",
   "execution_count": 19,
   "outputs": [
    {
     "name": "stdout",
     "output_type": "stream",
     "text": [
      "Значение не найдено в confirmed_x\n",
      "Значение не найдено в refused_x\n"
     ]
    }
   ],
   "source": [
    "file_path3 = '/mnt/d/АСНА/20240710/new_load_2/confirmed_x.xls'\n",
    "file_path4 = '/mnt/d/АСНА/20240710/new_load_2/refused_x.xls'\n",
    "\n",
    "# Чтение файлов Excel в DataFrame\n",
    "df_confirmed = pd.read_excel(file_path3)\n",
    "df_refused = pd.read_excel(file_path4)\n",
    "\n",
    "# Поиск строк, содержащих подстроки \"4640033310019\" или \"АЛЬПИЙСКАЯ\"\n",
    "search_terms = [\"4640033310019\", \"АЛЬПИЙСКАЯ\"]\n",
    "result_confirmed = df_confirmed[df_confirmed.astype(str).apply(lambda x: x.str.contains('|'.join(search_terms), case=False, na=False)).any(axis=1)]\n",
    "result_refused = df_refused[df_refused.astype(str).apply(lambda x: x.str.contains('|'.join(search_terms), case=False, na=False)).any(axis=1)]\n",
    "\n",
    "# Сохранение результатов в файлы\n",
    "output_file_confirmed = '/mnt/d/АСНА/20240710/new_load_2/search_results_confirmed.csv'\n",
    "output_file_refused = '/mnt/d/АСНА/20240710/new_load_2/search_results_refused.csv'\n",
    "\n",
    "if not result_confirmed.empty:\n",
    "    result_confirmed.to_csv(output_file_confirmed, index=False, encoding='utf-8')\n",
    "    print(f\"Результаты из confirmed_x сохранены в файл {output_file_confirmed}\")\n",
    "else:\n",
    "    print(\"Значение не найдено в confirmed_x\")\n",
    "\n",
    "if not result_refused.empty:\n",
    "    result_refused.to_csv(output_file_refused, index=False, encoding='utf-8')\n",
    "    print(f\"Результаты из refused_x сохранены в файл {output_file_refused}\")\n",
    "else:\n",
    "    print(\"Значение не найдено в refused_x\")"
   ],
   "metadata": {
    "collapsed": false,
    "ExecuteTime": {
     "end_time": "2024-08-01T10:38:34.611721300Z",
     "start_time": "2024-08-01T10:38:30.907378900Z"
    }
   },
   "id": "91c0be930b86a301"
  },
  {
   "cell_type": "code",
   "execution_count": null,
   "outputs": [],
   "source": [
    "# Путь к файлу\n",
    "file_path2 = '/mnt/d/АСНА/20240710/new_load_2/asna_dump_2024_07_10.csv'"
   ],
   "metadata": {
    "collapsed": false
   },
   "id": "cdf76185ff9dff22"
  }
 ],
 "metadata": {
  "kernelspec": {
   "display_name": "Python 3",
   "language": "python",
   "name": "python3"
  },
  "language_info": {
   "codemirror_mode": {
    "name": "ipython",
    "version": 2
   },
   "file_extension": ".py",
   "mimetype": "text/x-python",
   "name": "python",
   "nbconvert_exporter": "python",
   "pygments_lexer": "ipython2",
   "version": "2.7.6"
  }
 },
 "nbformat": 4,
 "nbformat_minor": 5
}
