{
 "cells": [
  {
   "cell_type": "code",
   "execution_count": 2,
   "id": "initial_id",
   "metadata": {
    "collapsed": true,
    "ExecuteTime": {
     "end_time": "2024-05-20T12:24:08.324649200Z",
     "start_time": "2024-05-20T12:24:07.160244500Z"
    }
   },
   "outputs": [
    {
     "name": "stderr",
     "output_type": "stream",
     "text": [
      "/home/ivan/.virtualenvs/machine-learning/lib/python3.10/site-packages/IPython/core/interactiveshell.py:3457: DtypeWarning: Columns (7,10,25) have mixed types.Specify dtype option on import or set low_memory=False.\n",
      "  exec(code_obj, self.user_global_ns, self.user_ns)\n"
     ]
    }
   ],
   "source": [
    "\n",
    "import pandas as pd\n",
    "\n",
    "# Шаг 1: Загрузка данных\n",
    "file_path = '/mnt/d/Doc_To_Date/20240520/pharmhub_public_EntitiesEndpoints.csv'\n",
    "df = pd.read_csv(file_path)\n",
    "\n",
    "# Шаг 2: Создание копии DataFrame\n",
    "df_copy = df.copy()\n"
   ]
  },
  {
   "cell_type": "code",
   "execution_count": 3,
   "outputs": [
    {
     "data": {
      "text/plain": "        id         inn                                            address  \\\n0  1014798  2126003123  Чувашская Республика - чувашия, Мариинский Пос...   \n1  1014799  1434038369  678995, Саха /Якутия/ Респ, Нерюнгри г, Серебр...   \n2  1011537  5906086550  618909, Пермский край, Лысьвенский городской о...   \n3  1014800  5902199785           Екб, Верхняя Пышма, Успенский пр-кт., 20   \n4  1011538  4217146394  654054, Кемеровская область - Кузбасс, г. Ново...   \n\n   entityId  type  addressId  regionCode markingBranchId  markingStatus  \\\n0   79601.0   NaN        NaN         NaN             NaN            NaN   \n1   48020.0   NaN        NaN         NaN             NaN            NaN   \n2    5925.0   NaN        NaN         NaN  00000000453446            NaN   \n3   75366.0   NaN        NaN         NaN             NaN            NaN   \n4   78312.0   NaN        NaN         NaN  00000000484603            NaN   \n\n   warehouse  ...         status  updateIncrement  data  \\\n0      False  ...  clarification          1268546    {}   \n1      False  ...  clarification          1268547    {}   \n2      False  ...  clarification          1265285    {}   \n3      False  ...  clarification          1268548    {}   \n4      False  ...  clarification          1265286    {}   \n\n                              source                      createdAt  \\\n0                     pharmacy-sales  2024-04-14 20:22:58.158819+00   \n1                     pharmacy-sales  2024-04-14 20:22:58.158819+00   \n2  cislink-mdlp-rests-00000000453446  2024-04-14 08:15:42.480473+00   \n3                     pharmacy-sales  2024-04-14 20:22:58.158819+00   \n4  cislink-mdlp-rests-00000000484603  2024-04-14 08:15:42.480473+00   \n\n                       updatedAt  deletedAt  \\\n0  2024-04-14 20:22:58.158819+00        NaN   \n1  2024-04-14 20:22:58.158819+00        NaN   \n2  2024-04-14 08:15:42.480473+00        NaN   \n3  2024-04-14 20:22:58.158819+00        NaN   \n4  2024-04-14 08:15:42.480473+00        NaN   \n\n                               clientId  title whExternalId  \n0  5a2d6114-b82a-4ac2-83ae-12ccc304f6fb    NaN          NaN  \n1  5a2d6114-b82a-4ac2-83ae-12ccc304f6fb    NaN          NaN  \n2  5a2d6114-b82a-4ac2-83ae-12ccc304f6fb    NaN          NaN  \n3  5a2d6114-b82a-4ac2-83ae-12ccc304f6fb    NaN          NaN  \n4  5a2d6114-b82a-4ac2-83ae-12ccc304f6fb    NaN          NaN  \n\n[5 rows x 27 columns]",
      "text/html": "<div>\n<style scoped>\n    .dataframe tbody tr th:only-of-type {\n        vertical-align: middle;\n    }\n\n    .dataframe tbody tr th {\n        vertical-align: top;\n    }\n\n    .dataframe thead th {\n        text-align: right;\n    }\n</style>\n<table border=\"1\" class=\"dataframe\">\n  <thead>\n    <tr style=\"text-align: right;\">\n      <th></th>\n      <th>id</th>\n      <th>inn</th>\n      <th>address</th>\n      <th>entityId</th>\n      <th>type</th>\n      <th>addressId</th>\n      <th>regionCode</th>\n      <th>markingBranchId</th>\n      <th>markingStatus</th>\n      <th>warehouse</th>\n      <th>...</th>\n      <th>status</th>\n      <th>updateIncrement</th>\n      <th>data</th>\n      <th>source</th>\n      <th>createdAt</th>\n      <th>updatedAt</th>\n      <th>deletedAt</th>\n      <th>clientId</th>\n      <th>title</th>\n      <th>whExternalId</th>\n    </tr>\n  </thead>\n  <tbody>\n    <tr>\n      <th>0</th>\n      <td>1014798</td>\n      <td>2126003123</td>\n      <td>Чувашская Республика - чувашия, Мариинский Пос...</td>\n      <td>79601.0</td>\n      <td>NaN</td>\n      <td>NaN</td>\n      <td>NaN</td>\n      <td>NaN</td>\n      <td>NaN</td>\n      <td>False</td>\n      <td>...</td>\n      <td>clarification</td>\n      <td>1268546</td>\n      <td>{}</td>\n      <td>pharmacy-sales</td>\n      <td>2024-04-14 20:22:58.158819+00</td>\n      <td>2024-04-14 20:22:58.158819+00</td>\n      <td>NaN</td>\n      <td>5a2d6114-b82a-4ac2-83ae-12ccc304f6fb</td>\n      <td>NaN</td>\n      <td>NaN</td>\n    </tr>\n    <tr>\n      <th>1</th>\n      <td>1014799</td>\n      <td>1434038369</td>\n      <td>678995, Саха /Якутия/ Респ, Нерюнгри г, Серебр...</td>\n      <td>48020.0</td>\n      <td>NaN</td>\n      <td>NaN</td>\n      <td>NaN</td>\n      <td>NaN</td>\n      <td>NaN</td>\n      <td>False</td>\n      <td>...</td>\n      <td>clarification</td>\n      <td>1268547</td>\n      <td>{}</td>\n      <td>pharmacy-sales</td>\n      <td>2024-04-14 20:22:58.158819+00</td>\n      <td>2024-04-14 20:22:58.158819+00</td>\n      <td>NaN</td>\n      <td>5a2d6114-b82a-4ac2-83ae-12ccc304f6fb</td>\n      <td>NaN</td>\n      <td>NaN</td>\n    </tr>\n    <tr>\n      <th>2</th>\n      <td>1011537</td>\n      <td>5906086550</td>\n      <td>618909, Пермский край, Лысьвенский городской о...</td>\n      <td>5925.0</td>\n      <td>NaN</td>\n      <td>NaN</td>\n      <td>NaN</td>\n      <td>00000000453446</td>\n      <td>NaN</td>\n      <td>False</td>\n      <td>...</td>\n      <td>clarification</td>\n      <td>1265285</td>\n      <td>{}</td>\n      <td>cislink-mdlp-rests-00000000453446</td>\n      <td>2024-04-14 08:15:42.480473+00</td>\n      <td>2024-04-14 08:15:42.480473+00</td>\n      <td>NaN</td>\n      <td>5a2d6114-b82a-4ac2-83ae-12ccc304f6fb</td>\n      <td>NaN</td>\n      <td>NaN</td>\n    </tr>\n    <tr>\n      <th>3</th>\n      <td>1014800</td>\n      <td>5902199785</td>\n      <td>Екб, Верхняя Пышма, Успенский пр-кт., 20</td>\n      <td>75366.0</td>\n      <td>NaN</td>\n      <td>NaN</td>\n      <td>NaN</td>\n      <td>NaN</td>\n      <td>NaN</td>\n      <td>False</td>\n      <td>...</td>\n      <td>clarification</td>\n      <td>1268548</td>\n      <td>{}</td>\n      <td>pharmacy-sales</td>\n      <td>2024-04-14 20:22:58.158819+00</td>\n      <td>2024-04-14 20:22:58.158819+00</td>\n      <td>NaN</td>\n      <td>5a2d6114-b82a-4ac2-83ae-12ccc304f6fb</td>\n      <td>NaN</td>\n      <td>NaN</td>\n    </tr>\n    <tr>\n      <th>4</th>\n      <td>1011538</td>\n      <td>4217146394</td>\n      <td>654054, Кемеровская область - Кузбасс, г. Ново...</td>\n      <td>78312.0</td>\n      <td>NaN</td>\n      <td>NaN</td>\n      <td>NaN</td>\n      <td>00000000484603</td>\n      <td>NaN</td>\n      <td>False</td>\n      <td>...</td>\n      <td>clarification</td>\n      <td>1265286</td>\n      <td>{}</td>\n      <td>cislink-mdlp-rests-00000000484603</td>\n      <td>2024-04-14 08:15:42.480473+00</td>\n      <td>2024-04-14 08:15:42.480473+00</td>\n      <td>NaN</td>\n      <td>5a2d6114-b82a-4ac2-83ae-12ccc304f6fb</td>\n      <td>NaN</td>\n      <td>NaN</td>\n    </tr>\n  </tbody>\n</table>\n<p>5 rows × 27 columns</p>\n</div>"
     },
     "execution_count": 3,
     "metadata": {},
     "output_type": "execute_result"
    }
   ],
   "source": [
    "df_copy.head()"
   ],
   "metadata": {
    "collapsed": false,
    "ExecuteTime": {
     "end_time": "2024-05-20T12:24:09.774724300Z",
     "start_time": "2024-05-20T12:24:09.729478200Z"
    }
   },
   "id": "8e97de62711a0b3"
  },
  {
   "cell_type": "code",
   "execution_count": 4,
   "outputs": [
    {
     "name": "stdout",
     "output_type": "stream",
     "text": [
      "Initial number of records: 75859\n",
      "Number of records after filtering by 'inn': 65082\n",
      "Number of records filtered out by 'inn': 10777\n",
      "Sample of records filtered out by 'inn':\n",
      "         id         inn                                            address  \\\n",
      "41  1011578  9999999999                Саранск пр-кт 60 лет Октября д. 81А   \n",
      "43  1014806  9999999999                          Курган, Коли Мяготина, 69   \n",
      "45  1011581  9999999999  410018,Саратовская обл,Саратов г,Юбилейный п,У...   \n",
      "52  1011588  9999999999             Чаплыгин ул. Советская д. 33В пом. 6-9   \n",
      "70  1011606  9999999999                 р.п.Усть-Донецкий, ул.Ленина, д.13   \n",
      "\n",
      "    entityId  type  addressId  regionCode markingBranchId  markingStatus  \\\n",
      "41    5610.0   NaN  1576112.0         NaN             NaN            NaN   \n",
      "43    5610.0   NaN    34096.0         NaN             NaN            NaN   \n",
      "45    5610.0   NaN        NaN         NaN             NaN            NaN   \n",
      "52    5610.0   NaN    68761.0         NaN             NaN            NaN   \n",
      "70    5610.0   NaN        NaN         NaN             NaN            NaN   \n",
      "\n",
      "    warehouse  ... data          source                      createdAt  \\\n",
      "41      False  ...   {}  pharmacy-sales  2024-04-14 20:22:58.158819+00   \n",
      "43      False  ...   {}  pharmacy-sales  2024-04-14 20:22:58.158819+00   \n",
      "45      False  ...   {}  pharmacy-sales  2024-04-14 20:22:58.158819+00   \n",
      "52      False  ...   {}  pharmacy-sales  2024-04-14 20:22:58.158819+00   \n",
      "70      False  ...   {}  pharmacy-sales  2024-04-14 20:22:58.158819+00   \n",
      "\n",
      "                        updatedAt  deletedAt  \\\n",
      "41  2024-04-14 20:22:58.158819+00        NaN   \n",
      "43  2024-04-14 20:22:58.158819+00        NaN   \n",
      "45  2024-04-14 20:22:58.158819+00        NaN   \n",
      "52  2024-04-14 20:22:58.158819+00        NaN   \n",
      "70  2024-04-14 20:22:58.158819+00        NaN   \n",
      "\n",
      "                                clientId  title whExternalId  filter_1  \\\n",
      "41  5a2d6114-b82a-4ac2-83ae-12ccc304f6fb    NaN          NaN      True   \n",
      "43  5a2d6114-b82a-4ac2-83ae-12ccc304f6fb    NaN          NaN      True   \n",
      "45  5a2d6114-b82a-4ac2-83ae-12ccc304f6fb    NaN          NaN      True   \n",
      "52  5a2d6114-b82a-4ac2-83ae-12ccc304f6fb    NaN          NaN      True   \n",
      "70  5a2d6114-b82a-4ac2-83ae-12ccc304f6fb    NaN          NaN      True   \n",
      "\n",
      "   filter_2  \n",
      "41    False  \n",
      "43    False  \n",
      "45    False  \n",
      "52    False  \n",
      "70    False  \n",
      "\n",
      "[5 rows x 29 columns]\n",
      "Number of records after filtering by 'address': 47760\n",
      "Number of records filtered out by 'address': 17322\n"
     ]
    },
    {
     "name": "stderr",
     "output_type": "stream",
     "text": [
      "/home/ivan/.virtualenvs/machine-learning/lib/python3.10/site-packages/IPython/core/interactiveshell.py:3457: DtypeWarning: Columns (7,10,25) have mixed types.Specify dtype option on import or set low_memory=False.\n",
      "  exec(code_obj, self.user_global_ns, self.user_ns)\n"
     ]
    }
   ],
   "source": [
    "import pandas as pd\n",
    "import re\n",
    "\n",
    "\n",
    "# Шаг 1: Загрузка данных\n",
    "file_path = '/mnt/d/Doc_To_Date/20240520/pharmhub_public_EntitiesEndpoints.csv'\n",
    "df = pd.read_csv(file_path)\n",
    "\n",
    "# Шаг 2: Создание копии DataFrame\n",
    "df_copy = df.copy()\n",
    "\n",
    "# Добавление новых колонок для фильтров\n",
    "df_copy['filter_1'] = False\n",
    "df_copy['filter_2'] = False\n",
    "\n",
    "# Шаг 3: Применение первого фильтра\n",
    "# Фильтрация строк, где значение в колонке 'inn' не равно '9999999999'\n",
    "filtered_df = df_copy[df_copy['inn'] != '9999999999']\n",
    "\n",
    "# Обновление колонки filter_1 для отфильтрованных записей\n",
    "df_copy.loc[df_copy['inn'] == '9999999999', 'filter_1'] = True\n",
    "\n",
    "# Блок статистики после первого фильтра\n",
    "initial_count = len(df_copy)\n",
    "filtered_count_1 = len(filtered_df)\n",
    "filtered_out_count_1 = initial_count - filtered_count_1\n",
    "\n",
    "print(f\"Initial number of records: {initial_count}\")\n",
    "print(f\"Number of records after filtering by 'inn': {filtered_count_1}\")\n",
    "print(f\"Number of records filtered out by 'inn': {filtered_out_count_1}\")\n",
    "\n",
    "# Пример данных, которые были отсеяны на первом этапе\n",
    "print(\"Sample of records filtered out by 'inn':\")\n",
    "print(df_copy[df_copy['filter_1']].head())\n",
    "\n",
    "# Шаг 4: Применение второго фильтра\n",
    "# Фильтрация строк, где в колонке 'address' нет цифр\n",
    "filtered_df_2 = filtered_df[filtered_df['address'].str.contains(r'\\d', na=False)]\n",
    "\n",
    "# Обновление колонки filter_2 для отфильтрованных записей\n",
    "df_copy.loc[~df_copy['address'].str.contains(r'\\d', na=False), 'filter_2'] = True\n",
    "\n",
    "# Блок статистики после второго фильтра\n",
    "filtered_count_2 = len(filtered_df_2)\n",
    "filtered_out_count_2 = filtered_count_1 - filtered_count_2\n",
    "\n",
    "print(f\"Number of records after filtering by 'address': {filtered_count_2}\")\n",
    "print(f\"Number of records filtered out by 'address': {filtered_out_count_2}\")\n",
    "\n",
    "\n"
   ],
   "metadata": {
    "collapsed": false,
    "ExecuteTime": {
     "end_time": "2024-05-20T12:24:12.213704100Z",
     "start_time": "2024-05-20T12:24:11.543600700Z"
    }
   },
   "id": "931c61cdbbb8f130"
  },
  {
   "cell_type": "code",
   "execution_count": 5,
   "outputs": [
    {
     "data": {
      "text/plain": "          id           inn                                            address  \\\n88   1011624    4205407651  Кемеровская область - Кузбасс, городской округ...   \n163  1011699    6451128364                           Саратов Тархова/Батавина   \n200  1011734  052100807562  с.Леваши, у входа на терр. ЦРБ (Левашинский р-...   \n233  1011767    5260136299                                 с.Ильино-Заборское   \n245  1011779    9999999999                               Центральный склад ЖА   \n\n     entityId  type  addressId  regionCode markingBranchId  markingStatus  \\\n88    75484.0   NaN        NaN         NaN             NaN            NaN   \n163   73920.0   NaN        NaN         NaN             NaN            NaN   \n200   61750.0   NaN        NaN         NaN             NaN            NaN   \n233   10396.0   NaN        NaN         NaN             NaN            NaN   \n245    5610.0   NaN        NaN         NaN             NaN            NaN   \n\n     warehouse  ... data          source                      createdAt  \\\n88       False  ...   {}  pharmacy-sales  2024-04-14 20:22:58.158819+00   \n163      False  ...   {}  pharmacy-sales  2024-04-14 20:22:58.158819+00   \n200      False  ...   {}  pharmacy-sales  2024-04-14 20:22:58.158819+00   \n233      False  ...   {}  pharmacy-sales  2024-04-14 20:22:58.158819+00   \n245      False  ...   {}  pharmacy-sales  2024-04-14 20:22:58.158819+00   \n\n                         updatedAt  deletedAt  \\\n88   2024-04-14 20:22:58.158819+00        NaN   \n163  2024-04-14 20:22:58.158819+00        NaN   \n200  2024-04-14 20:22:58.158819+00        NaN   \n233  2024-04-14 20:22:58.158819+00        NaN   \n245  2024-04-14 20:22:58.158819+00        NaN   \n\n                                 clientId  title whExternalId  filter_1  \\\n88   5a2d6114-b82a-4ac2-83ae-12ccc304f6fb    NaN          NaN     False   \n163  5a2d6114-b82a-4ac2-83ae-12ccc304f6fb    NaN          NaN     False   \n200  5a2d6114-b82a-4ac2-83ae-12ccc304f6fb    NaN          NaN     False   \n233  5a2d6114-b82a-4ac2-83ae-12ccc304f6fb    NaN          NaN     False   \n245  5a2d6114-b82a-4ac2-83ae-12ccc304f6fb    NaN          NaN      True   \n\n    filter_2  \n88      True  \n163     True  \n200     True  \n233     True  \n245     True  \n\n[5 rows x 29 columns]",
      "text/html": "<div>\n<style scoped>\n    .dataframe tbody tr th:only-of-type {\n        vertical-align: middle;\n    }\n\n    .dataframe tbody tr th {\n        vertical-align: top;\n    }\n\n    .dataframe thead th {\n        text-align: right;\n    }\n</style>\n<table border=\"1\" class=\"dataframe\">\n  <thead>\n    <tr style=\"text-align: right;\">\n      <th></th>\n      <th>id</th>\n      <th>inn</th>\n      <th>address</th>\n      <th>entityId</th>\n      <th>type</th>\n      <th>addressId</th>\n      <th>regionCode</th>\n      <th>markingBranchId</th>\n      <th>markingStatus</th>\n      <th>warehouse</th>\n      <th>...</th>\n      <th>data</th>\n      <th>source</th>\n      <th>createdAt</th>\n      <th>updatedAt</th>\n      <th>deletedAt</th>\n      <th>clientId</th>\n      <th>title</th>\n      <th>whExternalId</th>\n      <th>filter_1</th>\n      <th>filter_2</th>\n    </tr>\n  </thead>\n  <tbody>\n    <tr>\n      <th>88</th>\n      <td>1011624</td>\n      <td>4205407651</td>\n      <td>Кемеровская область - Кузбасс, городской округ...</td>\n      <td>75484.0</td>\n      <td>NaN</td>\n      <td>NaN</td>\n      <td>NaN</td>\n      <td>NaN</td>\n      <td>NaN</td>\n      <td>False</td>\n      <td>...</td>\n      <td>{}</td>\n      <td>pharmacy-sales</td>\n      <td>2024-04-14 20:22:58.158819+00</td>\n      <td>2024-04-14 20:22:58.158819+00</td>\n      <td>NaN</td>\n      <td>5a2d6114-b82a-4ac2-83ae-12ccc304f6fb</td>\n      <td>NaN</td>\n      <td>NaN</td>\n      <td>False</td>\n      <td>True</td>\n    </tr>\n    <tr>\n      <th>163</th>\n      <td>1011699</td>\n      <td>6451128364</td>\n      <td>Саратов Тархова/Батавина</td>\n      <td>73920.0</td>\n      <td>NaN</td>\n      <td>NaN</td>\n      <td>NaN</td>\n      <td>NaN</td>\n      <td>NaN</td>\n      <td>False</td>\n      <td>...</td>\n      <td>{}</td>\n      <td>pharmacy-sales</td>\n      <td>2024-04-14 20:22:58.158819+00</td>\n      <td>2024-04-14 20:22:58.158819+00</td>\n      <td>NaN</td>\n      <td>5a2d6114-b82a-4ac2-83ae-12ccc304f6fb</td>\n      <td>NaN</td>\n      <td>NaN</td>\n      <td>False</td>\n      <td>True</td>\n    </tr>\n    <tr>\n      <th>200</th>\n      <td>1011734</td>\n      <td>052100807562</td>\n      <td>с.Леваши, у входа на терр. ЦРБ (Левашинский р-...</td>\n      <td>61750.0</td>\n      <td>NaN</td>\n      <td>NaN</td>\n      <td>NaN</td>\n      <td>NaN</td>\n      <td>NaN</td>\n      <td>False</td>\n      <td>...</td>\n      <td>{}</td>\n      <td>pharmacy-sales</td>\n      <td>2024-04-14 20:22:58.158819+00</td>\n      <td>2024-04-14 20:22:58.158819+00</td>\n      <td>NaN</td>\n      <td>5a2d6114-b82a-4ac2-83ae-12ccc304f6fb</td>\n      <td>NaN</td>\n      <td>NaN</td>\n      <td>False</td>\n      <td>True</td>\n    </tr>\n    <tr>\n      <th>233</th>\n      <td>1011767</td>\n      <td>5260136299</td>\n      <td>с.Ильино-Заборское</td>\n      <td>10396.0</td>\n      <td>NaN</td>\n      <td>NaN</td>\n      <td>NaN</td>\n      <td>NaN</td>\n      <td>NaN</td>\n      <td>False</td>\n      <td>...</td>\n      <td>{}</td>\n      <td>pharmacy-sales</td>\n      <td>2024-04-14 20:22:58.158819+00</td>\n      <td>2024-04-14 20:22:58.158819+00</td>\n      <td>NaN</td>\n      <td>5a2d6114-b82a-4ac2-83ae-12ccc304f6fb</td>\n      <td>NaN</td>\n      <td>NaN</td>\n      <td>False</td>\n      <td>True</td>\n    </tr>\n    <tr>\n      <th>245</th>\n      <td>1011779</td>\n      <td>9999999999</td>\n      <td>Центральный склад ЖА</td>\n      <td>5610.0</td>\n      <td>NaN</td>\n      <td>NaN</td>\n      <td>NaN</td>\n      <td>NaN</td>\n      <td>NaN</td>\n      <td>False</td>\n      <td>...</td>\n      <td>{}</td>\n      <td>pharmacy-sales</td>\n      <td>2024-04-14 20:22:58.158819+00</td>\n      <td>2024-04-14 20:22:58.158819+00</td>\n      <td>NaN</td>\n      <td>5a2d6114-b82a-4ac2-83ae-12ccc304f6fb</td>\n      <td>NaN</td>\n      <td>NaN</td>\n      <td>True</td>\n      <td>True</td>\n    </tr>\n  </tbody>\n</table>\n<p>5 rows × 29 columns</p>\n</div>"
     },
     "execution_count": 5,
     "metadata": {},
     "output_type": "execute_result"
    }
   ],
   "source": [
    "df_copy[df_copy['filter_2']].head()"
   ],
   "metadata": {
    "collapsed": false,
    "ExecuteTime": {
     "end_time": "2024-05-20T12:24:15.241768700Z",
     "start_time": "2024-05-20T12:24:15.207247700Z"
    }
   },
   "id": "77d674956deac2ae"
  },
  {
   "cell_type": "code",
   "execution_count": 6,
   "outputs": [],
   "source": [
    "# Сохранение DataFrame с метками фильтров в новый CSV файл\n",
    "filter_labels_file_path = '/mnt/d/Doc_To_Date/20240520/pharmhub_public_EntitiesEndpoints_with_filters.csv'\n",
    "df_copy.to_csv(filter_labels_file_path, index=False)"
   ],
   "metadata": {
    "collapsed": false,
    "ExecuteTime": {
     "end_time": "2024-05-20T12:24:18.983173Z",
     "start_time": "2024-05-20T12:24:17.740378200Z"
    }
   },
   "id": "81ba401b9c314bce"
  },
  {
   "cell_type": "code",
   "execution_count": 7,
   "outputs": [],
   "source": [
    "filtered_file_path = '/mnt/d/Doc_To_Date/20240520/filtered_pharmhub_public_EntitiesEndpoints.csv'\n",
    "filtered_df_2.to_csv(filtered_file_path, index=False)"
   ],
   "metadata": {
    "collapsed": false,
    "ExecuteTime": {
     "start_time": "2024-05-20T12:24:20.204291500Z"
    }
   },
   "id": "45ee19cd03a6e58f"
  },
  {
   "cell_type": "code",
   "execution_count": 9,
   "outputs": [
    {
     "name": "stderr",
     "output_type": "stream",
     "text": [
      "/home/ivan/.virtualenvs/machine-learning/lib/python3.10/site-packages/IPython/core/interactiveshell.py:3457: DtypeWarning: Columns (1,7,25) have mixed types.Specify dtype option on import or set low_memory=False.\n",
      "  exec(code_obj, self.user_global_ns, self.user_ns)\n"
     ]
    }
   ],
   "source": [
    "import pandas as pd\n",
    "\n",
    "# Шаг 1: Загрузка данных\n",
    "file_path = '/mnt/d/Doc_To_Date/20240520/filtered_pharmhub_public_EntitiesEndpoints_after_processing.csv'\n",
    "df = pd.read_csv(file_path)\n",
    "\n",
    "# Шаг 2: Создание копии DataFrame\n",
    "#df_copy = df.copy()\n"
   ],
   "metadata": {
    "collapsed": false,
    "ExecuteTime": {
     "end_time": "2024-05-20T13:14:05.586044600Z",
     "start_time": "2024-05-20T13:14:04.920956400Z"
    }
   },
   "id": "b2dcc794b9579887"
  },
  {
   "cell_type": "code",
   "execution_count": 10,
   "outputs": [
    {
     "name": "stdout",
     "output_type": "stream",
     "text": [
      "Initial number of records: 47760\n",
      "Number of records after filtering by 'fiasId': 14979\n",
      "Number of records filtered out by 'fiasId': 32781\n",
      "Sample of records filtered out by 'fiasId':\n"
     ]
    }
   ],
   "source": [
    "# Шаг 3: Применение нового фильтра\n",
    "# Фильтрация строк, где значение в колонке 'fiasId' не пусто и не равно нулю\n",
    "filtered_df = df_copy[df_copy['fiasId'].notna() & (df_copy['fiasId'] != 0)]\n",
    "\n",
    "# Блок статистики\n",
    "initial_count = len(df_copy)\n",
    "filtered_count = len(filtered_df)\n",
    "filtered_out_count = initial_count - filtered_count\n",
    "\n",
    "print(f\"Initial number of records: {initial_count}\")\n",
    "print(f\"Number of records after filtering by 'fiasId': {filtered_count}\")\n",
    "print(f\"Number of records filtered out by 'fiasId': {filtered_out_count}\")\n",
    "\n",
    "# Пример данных, которые были отсеяны\n",
    "filtered_out_fiasId = df_copy[~df_copy['fiasId'].notna() | (df_copy['fiasId'] == 0)]\n",
    "print(\"Sample of records filtered out by 'fiasId':\")\n"
   ],
   "metadata": {
    "collapsed": false,
    "ExecuteTime": {
     "end_time": "2024-05-20T13:14:09.161497900Z",
     "start_time": "2024-05-20T13:14:09.123837300Z"
    }
   },
   "id": "8028ec15f929ae"
  },
  {
   "cell_type": "code",
   "execution_count": 12,
   "outputs": [],
   "source": [
    "import re\n",
    "\n",
    "def clean_address(address):\n",
    "    if not address:\n",
    "        return ''\n",
    "\n",
    "    pharmacies = [\n",
    "        'медикс', 'оптицена', 'аптека отличных цен', 'борте', 'социальная', 'твояаптека([,.\\\\s]+рф)?', 'семейная', 'гвоздика',\n",
    "        'родиола', 'микма', 'анис', 'экона', 'черемуха', 'аптека фи', 'здоровье', 'детство', 'фармасервис', 'имбирь',\n",
    "        'прогресс-фармаимпекс', 'цма', 'лекорт', 'медус', 'биопта', 'бирюза(-фарм)?', 'бионта', 'аптис', 'поволжье', 'моя аптека',\n",
    "        'фонд', 'фарм плюс', 'бережная аптека', 'протей', 'тархун', 'диона', 'тефия', 'калипсо', 'биона', 'левзея',\n",
    "        'орловские аптеки', 'ивика', 'душица', 'печора', 'енисей', 'двина', 'городская аптека', 'вереск',\n",
    "        'сальма', 'вербена', 'фармаимпекс-юг', 'фармаимпекс-вятка', 'медда', 'пион', 'отлицена', 'таймыр', 'светлояр',\n",
    "        'байкал', 'ладога', 'альтаир', 'фаркос', 'товары для здоровья', 'земляника', 'алтей', 'родиола', 'вистол',\n",
    "        'брусника', 'арония', 'адонис',\n",
    "    ]\n",
    "    \n",
    "    pharmacy1_regex = re.compile(r'аптека\\s+({})\\s+№[0-9]+'.format('|'.join(pharmacies)), re.IGNORECASE)\n",
    "    pharmacy2_regex = re.compile(r'({})\\s+№[0-9]+'.format('|'.join(pharmacies)), re.IGNORECASE)\n",
    "    pharmacy3_regex = re.compile(r'({})[.,\\s]*$'.format('|'.join(pharmacies)), re.IGNORECASE)\n",
    "\n",
    "    cleaned_address = address.strip()\n",
    "    cleaned_address = pharmacy1_regex.sub('', cleaned_address)\n",
    "    cleaned_address = pharmacy2_regex.sub('', cleaned_address)\n",
    "    cleaned_address = pharmacy3_regex.sub('', cleaned_address)\n",
    "    cleaned_address = re.sub(r'^\\d{6}[.,\\s]+', '', cleaned_address)\n",
    "    cleaned_address = re.sub(r'^Аптека[.,\\s]+', '', cleaned_address)\n",
    "    cleaned_address = re.sub(r'(^|[.,\\s]+)[^., ]+\\s+((м. *)?р-о?н|район)[.,\\s]+?', ',', cleaned_address)\n",
    "    cleaned_address = re.sub(r'(^|[.,\\s]+)((м. *)?р-о?н|район)\\s+[^., ]+[.,\\s]+?', ',', cleaned_address)\n",
    "    cleaned_address = re.sub(r'[.,\\s]*\\([а-яё]+ район\\)[.,\\s]*', ', ', cleaned_address, flags=re.IGNORECASE)\n",
    "    cleaned_address = re.sub(r'[.,\\s]*\\(к.12 или к.13\\)\\s*', ', к.13', cleaned_address)\n",
    "    cleaned_address = re.sub(r'[.,\\s]+часть.*$', '', cleaned_address, flags=re.IGNORECASE)\n",
    "    cleaned_address = re.sub(r'[.,\\s]+неж(илое)?[^а-яё]\\.?.*$', '', cleaned_address, flags=re.IGNORECASE)\n",
    "    cleaned_address = re.sub(r'[.,\\s]+расположенное.*$', '', cleaned_address, flags=re.IGNORECASE)\n",
    "    cleaned_address = re.sub(r'[.,\\s]+на террит.*$', '', cleaned_address, flags=re.IGNORECASE)\n",
    "    cleaned_address = re.sub(r'[.,\\s]+функциональное.*$', '', cleaned_address, flags=re.IGNORECASE)\n",
    "    cleaned_address = re.sub(r'[.,\\s]+(\\(?аптечный\\s*(п|к|$)|аптек[аи]).*$', '', cleaned_address, flags=re.IGNORECASE)\n",
    "    cleaned_address = re.sub(r'[.,\\s]+\\(?не задано\\)?\\s*', '', cleaned_address, flags=re.IGNORECASE)\n",
    "    cleaned_address = re.sub(r'[.,\\sг]+\\(?не использовать\\)?\\s*', '', cleaned_address, flags=re.IGNORECASE)\n",
    "    cleaned_address = re.sub(r'[.,\\s]+(городской округ|г\\.? *о\\.?)\\s+[^.,\\s]+', '', cleaned_address, flags=re.IGNORECASE)\n",
    "    cleaned_address = re.sub(r'москва[. ]+обл[., ]+', 'Московская обл., ', cleaned_address, flags=re.IGNORECASE)\n",
    "    cleaned_address = re.sub(r'тверь[. ]+обл[., ]+', 'Тверская обл., ', cleaned_address, flags=re.IGNORECASE)\n",
    "    cleaned_address = re.sub(r'санкт-петербург[. ]+обл[., ]+', 'Ленинградская обл., ', cleaned_address, flags=re.IGNORECASE)\n",
    "    cleaned_address = re.sub(r'рост[. ]+обл[., ]+', 'Ростовская обл., ', cleaned_address, flags=re.IGNORECASE)\n",
    "    cleaned_address = re.sub(r'белгород[. ]+обл[., ]+', 'Белгородская обл., ', cleaned_address, flags=re.IGNORECASE)\n",
    "    cleaned_address = re.sub(r'владимир[. ]+обл[., ]+', 'Владимирская обл., ', cleaned_address, flags=re.IGNORECASE)\n",
    "    cleaned_address = re.sub(r'волгоград[. ]+обл[., ]+', 'Волгоградская обл., ', cleaned_address, flags=re.IGNORECASE)\n",
    "    cleaned_address = re.sub(r'краснодар[. ]+обл[., ]+', 'Краснодарский край, ', cleaned_address, flags=re.IGNORECASE)\n",
    "    cleaned_address = re.sub(r'(?:^|[ .,]+)спб([ .,]+|$)', 'г. Санкт-Петербург, ', cleaned_address, flags=re.IGNORECASE)\n",
    "    cleaned_address = re.sub(r'(?:^|[ .,]+)мо([ .,]+|$)', '', cleaned_address, flags=re.IGNORECASE)\n",
    "    cleaned_address = re.sub(r'новосибирск[. ]+обл[., ]+', 'Новосибирская обл., ', cleaned_address, flags=re.IGNORECASE)\n",
    "    cleaned_address = re.sub(r'ростов[. ]+обл[., ]+', 'Ростовская обл., ', cleaned_address, flags=re.IGNORECASE)\n",
    "    cleaned_address = re.sub(r'свердл[. ]+обл[., ]+', 'Свердловская обл., ', cleaned_address, flags=re.IGNORECASE)\n",
    "    cleaned_address = re.sub(r'ставрополь[. ]+обл[., ]+', 'Ставропольский край, ', cleaned_address, flags=re.IGNORECASE)\n",
    "    cleaned_address = re.sub(r'томск[. ]+обл[., ]+', 'Томская обл., ', cleaned_address, flags=re.IGNORECASE)\n",
    "    cleaned_address = re.sub(r'тюмень?[. ]+обл[., ]+', 'Тюменская обл., ', cleaned_address, flags=re.IGNORECASE)\n",
    "    cleaned_address = re.sub(r'челяб[. ]+обл[., ]+', 'Челябинская обл., ', cleaned_address, flags=re.IGNORECASE)\n",
    "    cleaned_address = re.sub(r'челябинск[. ]+обл[., ]+', 'Челябинская обл., ', cleaned_address, flags=re.IGNORECASE)\n",
    "    cleaned_address = re.sub(r'ярославль[. ]+обл[., ]+', 'Ярославская обл., ', cleaned_address, flags=re.IGNORECASE)\n",
    "    cleaned_address = re.sub(r'(^|[.,\\s()]+)мск[. ]+обл[., ]+', ' Московская обл., ', cleaned_address, flags=re.IGNORECASE)\n",
    "    cleaned_address = re.sub(r'([0-9]+)-й', r'\\1', cleaned_address)\n",
    "    cleaned_address = re.sub(r'(лит(ера)?\\.\\s*[а-яё]+).*$', r'\\1', cleaned_address, flags=re.IGNORECASE)\n",
    "    cleaned_address = re.sub(r'[.,\\s]+[0-9\\s]+?-[нh].*$', '', cleaned_address)\n",
    "    cleaned_address = re.sub(r'[.,\\s(]+пом(?:ещени[ея])?\\.?.*(ул.*)', r', \\1', cleaned_address, flags=re.IGNORECASE)\n",
    "    cleaned_address = re.sub(r'[.,\\s(]+помещ\\.?.*(ул.*)', r', \\1', cleaned_address, flags=re.IGNORECASE)\n",
    "    cleaned_address = re.sub(r'[.,\\s(]+пом(ещени[ея])?\\.?.*$', '', cleaned_address, flags=re.IGNORECASE)\n",
    "    cleaned_address = re.sub(r'[.,\\s(]+помещ\\.?.*$', '', cleaned_address, flags=re.IGNORECASE)\n",
    "    cleaned_address = re.sub(r'(^|[.,\\s()]+)к\\.?\\s+стр\\.?([().,\\s]+|$)', r'\\1 к. \\2', cleaned_address)\n",
    "    cleaned_address = re.sub(r'([.,\\s(]+)стр(?:оен(?:ие)?)?\\.?([.,\\s0-9]+)', r'\\1 стр. \\2', cleaned_address)\n",
    "    cleaned_address = re.sub(r'([0-9]+)\\(?пом(ещени[ея])?\\s*', r'\\1, ', cleaned_address)\n",
    "    cleaned_address = re.sub(r'([0-9]+)\\(?помещ\\s*', r'\\1, ', cleaned_address)\n",
    "    cleaned_address = re.sub(r'[.,\\s]+Городское\\s+поселение\\s+[^.,]+', '', cleaned_address)\n",
    "    cleaned_address = re.sub(r'[.,\\s]+Внутригородская\\s+территория\\s+[^.,]+', '', cleaned_address)\n",
    "    cleaned_address = re.sub(r'[.,\\s]+[^.,]+\\s+г\\.о\\.?', '', cleaned_address)\n",
    "    cleaned_address = re.sub(r'[.,\\s]+(кв|оф|офис|п|ком)\\.?\\s*[0-9ivxlcdm]+.*$', '', cleaned_address)\n",
    "    cleaned_address = re.sub(r'[.,\\s]+(поз|комнаты)\\.?\\s*[0-9-]+.*(ул|$)', '', cleaned_address)\n",
    "    cleaned_address = re.sub(r'(?:^|[ .,]+)спб([ .,]+|$)', 'г. Санкт-Петербург, ', cleaned_address, flags=re.IGNORECASE)\n",
    "    cleaned_address = re.sub(r'(?:^|[ .,]+)мо([ .,]+|$)', '', cleaned_address, flags=re.IGNORECASE)\n",
    "    cleaned_address = re.sub(r'м\\/о[^.,]+([ .,]+|$)', '', cleaned_address, flags=re.IGNORECASE)\n",
    "    cleaned_address = re.sub(r'[ .,]+(?:окей|максидом|уч. ж\\/д.+|бывш. лит.+|метро.+)[ .,]+?', '', cleaned_address, flags=re.IGNORECASE)\n",
    "    cleaned_address = re.sub(r'\\([^(]\\)$', '', cleaned_address)\n",
    "    cleaned_address = re.sub(r'\\(.*?\\)', '', cleaned_address)\n",
    "    cleaned_address = re.sub(r'[.,\\s]*\"?торговый (центр|павильо([а-яё])?)\"?[.,\\s]*', '', cleaned_address, flags=re.IGNORECASE)\n",
    "    cleaned_address = re.sub(r'[.,\\s]*\"?парикмахерская\"?[.,\\s]*', '', cleaned_address, flags=re.IGNORECASE)\n",
    "    cleaned_address = re.sub(r'([0-9]+)-й', r'\\1', cleaned_address)\n",
    "    cleaned_address = re.sub(r'(^|[.,\\s()]+)(?:с\\.\\s+п\\.|с\\/п|сп)([().,\\s]+|$)', r'\\1 \\2', cleaned_address, flags=re.IGNORECASE)\n",
    "    cleaned_address = re.sub(r'[.,\\s(]+бокс.*$', '', cleaned_address, flags=re.IGNORECASE)\n",
    "    cleaned_address = re.sub(r'([.,\\s(]+)напротив дома(.*)', r'\\1 д. \\2', cleaned_address, flags=re.IGNORECASE)\n",
    "    cleaned_address = re.sub(r'[.,\\s(]+(тц[^а-яё]|жк[^а-яё]|тк[^а-яё]|у +платформы|магазин|мини-рынок).*$', '', cleaned_address, flags=re.IGNORECASE)\n",
    "    cleaned_address = re.sub(r'(^|[.,\\s()]+)(м. *)?р-он([().,\\s]+|$)', r'\\1 р-н \\2', cleaned_address, flags=re.IGNORECASE)\n",
    "    cleaned_address = re.sub(r'(^|[.,\\s()]+)домовл.?([().,\\s]+|$)', r'\\1 \\2', cleaned_address, flags=re.IGNORECASE)\n",
    "    cleaned_address = re.sub(r'(^|[.,\\s()]+)имени([().,\\s]+|$)', r'\\1 \\2', cleaned_address, flags=re.IGNORECASE)\n",
    "    cleaned_address = re.sub(r'[.,\\s]+нет[.,\\s]', ', ', cleaned_address, flags=re.IGNORECASE)\n",
    "    cleaned_address = re.sub(r'^\\/[0-9]+(_[^ ]+)?', ', ', cleaned_address)\n",
    "    cleaned_address = re.sub(r'[.,\\s()]+корп([\\s.,]+)?$', '', cleaned_address, flags=re.IGNORECASE)\n",
    "    cleaned_address = re.sub(r'[.,\\s]*аптека[.,\\s]*', ', ', cleaned_address, flags=re.IGNORECASE)\n",
    "    cleaned_address = re.sub(r'(\\bул\\.\\s*\\w+)\\s*(д\\.|дом)\\s*(\\d+)', r'\\1, \\3', cleaned_address, flags=re.IGNORECASE)\n",
    "    cleaned_address = re.sub(r'(д\\.|дом)\\s*(\\d+)', r'\\1 \\2', cleaned_address, flags=re.IGNORECASE)\n",
    "    cleaned_address = re.sub(r'\\bг(ор)?\\.?\\s*', 'г. ', cleaned_address, flags=re.IGNORECASE)\n",
    "    cleaned_address = re.sub(r'(д\\.|дом|д)\\s*(\\d+)', r'д \\2', cleaned_address, flags=re.IGNORECASE)\n",
    "    cleaned_address = re.sub(r'\\bпавильон\\s|\\bпавильон[.,]?\\s?|\\bпав\\b|\\bп-н\\b|\\bпавиль\\b|\\bпавиль[.]\\s?', '', cleaned_address)\n",
    "    cleaned_address = re.sub(r'\\b\\d+\\s*этаж\\b\\s*,?', '', cleaned_address)\n",
    "    \n",
    "    #cleaned_address = re.sub(r'(?:^|[ .,]+)(г|гор|город|п|пос|поселок|с|село|дер|деревня|пгт)(?:[ .,]+|$)', '', cleaned_address, flags=re.IGNORECASE)\n",
    "\n",
    "\n",
    "    if not re.search(r'(?:^|[.,\\s()]+)яя([().,\\s]+|$)', cleaned_address, flags=re.IGNORECASE):\n",
    "        cleaned_address = re.sub(r'^[а-яё]{2}[., ]+', ', ', cleaned_address, flags=re.IGNORECASE)\n",
    "\n",
    "    cleaned_address = re.sub(r'[a-z]+', '', cleaned_address)\n",
    "    cleaned_address = re.sub(r'\\s*\\.\\s*', '. ', cleaned_address)\n",
    "    cleaned_address = re.sub(r'\\s*,\\s*', ', ', cleaned_address)\n",
    "    cleaned_address = re.sub(r'[.,\\s]+$', '', cleaned_address)\n",
    "    cleaned_address = re.sub(r'^[.,\\s]+', '', cleaned_address)\n",
    "    cleaned_address = re.sub(r'\\s+', ' ', cleaned_address).strip()\n",
    "\n",
    "    return cleaned_address"
   ],
   "metadata": {
    "collapsed": false,
    "ExecuteTime": {
     "end_time": "2024-05-20T13:24:55.225706200Z",
     "start_time": "2024-05-20T13:24:55.204180500Z"
    }
   },
   "id": "d8e66078c50beb5"
  },
  {
   "cell_type": "code",
   "execution_count": null,
   "outputs": [],
   "source": [],
   "metadata": {
    "collapsed": false
   },
   "id": "7bb7829be5a07e25"
  },
  {
   "cell_type": "code",
   "execution_count": 15,
   "outputs": [],
   "source": [
    "# Шаг 2: Применение функции clean_address к колонке 'address'\n",
    "df_copy['address_clear'] = df_copy['address'].apply(clean_address)"
   ],
   "metadata": {
    "collapsed": false,
    "ExecuteTime": {
     "end_time": "2024-05-20T13:27:41.373299Z",
     "start_time": "2024-05-20T13:27:16.884463Z"
    }
   },
   "id": "19c8d6e22a08fefa"
  },
  {
   "cell_type": "code",
   "execution_count": 14,
   "outputs": [
    {
     "data": {
      "text/plain": "            id           inn  \\\n0      1014798    2126003123   \n1      1014799    1434038369   \n2      1011537    5906086550   \n3      1014800    5902199785   \n4      1011538    4217146394   \n...        ...           ...   \n47755  1011522    3665012499   \n47756  1011523  691202524845   \n47757  1011524    6230121836   \n47758  1011527    3662233852   \n47759  1011528    5609188862   \n\n                                                 address  entityId  type  \\\n0      Чувашская Республика - чувашия, Мариинский Пос...   79601.0   NaN   \n1      678995, Саха /Якутия/ Респ, Нерюнгри г, Серебр...   48020.0   NaN   \n2      618909, Пермский край, Лысьвенский городской о...    5925.0   NaN   \n3               Екб, Верхняя Пышма, Успенский пр-кт., 20   75366.0   NaN   \n4      654054, Кемеровская область - Кузбасс, г. Ново...   78312.0   NaN   \n...                                                  ...       ...   ...   \n47755  396005, Воронежская обл., Рамонский р-н, х. Ве...   57158.0   NaN   \n47756  172527, Тверская обл., г. Нелидово, ул. Матрос...   73053.0   NaN   \n47757  390007, Рязанская обл., г. Рязань, ул. Октябрь...   76292.0   NaN   \n47758  394075, Воронежская область, Воронеж г, Чудесн...   60336.0   NaN   \n47759  461041, Оренбургская область, Бузулук г, Фрунз...   61883.0   NaN   \n\n       addressId  regionCode markingBranchId  markingStatus  warehouse  ...  \\\n0            NaN         NaN             NaN            NaN      False  ...   \n1            NaN         NaN             NaN            NaN      False  ...   \n2            NaN         NaN        453446.0            NaN      False  ...   \n3            NaN         NaN             NaN            NaN      False  ...   \n4            NaN         NaN        484603.0            NaN      False  ...   \n...          ...         ...             ...            ...        ...  ...   \n47755        NaN         NaN             NaN            NaN      False  ...   \n47756        NaN         NaN             NaN            NaN      False  ...   \n47757        NaN         NaN             NaN            NaN      False  ...   \n47758        NaN         NaN             NaN            NaN      False  ...   \n47759        NaN         NaN             NaN            NaN      False  ...   \n\n      shortSettlement.1      street.1  shortStreet.1  house.1  block.1  \\\n0                   NaN           NaN            NaN      NaN      NaN   \n1                   NaN           NaN            NaN      NaN      NaN   \n2                   NaN    ул Чапаева        Чапаева      21а      NaN   \n3                   NaN           NaN            NaN      NaN      NaN   \n4                   NaN           NaN            NaN      NaN      NaN   \n...                 ...           ...            ...      ...      ...   \n47755            Ветряк  ул Выборская      Выборская        9      NaN   \n47756               NaN  ул Матросова      Матросова       28      NaN   \n47757               NaN           NaN            NaN      NaN      NaN   \n47758               NaN   ул Чудесная       Чудесная      33а      NaN   \n47759               NaN           NaN            NaN      NaN      NaN   \n\n                                   fiasId.1  \\\n0      8a41db52-11e4-4bf0-b504-49e0e6396d80   \n1                                       NaN   \n2                                       NaN   \n3                                       NaN   \n4                                       NaN   \n...                                     ...   \n47755  e04c4336-02eb-43d7-a8e0-2829511513b5   \n47756  8a78eb3d-b0f3-4ba4-92c6-99203b8d7a5f   \n47757                                   NaN   \n47758  1692b4d1-9940-4d37-bddc-daffd0bc6625   \n47759  74d9536b-f520-4c15-8cbb-96d72cd50062   \n\n                             streetFiasId.1 isAddressMatched.1  isAreaMode.1  \\\n0      42897c62-ade2-46fc-8640-f9a19a3b41b3              False           NaN   \n1                                       NaN                NaN           NaN   \n2      78e86bbb-b445-47dd-b148-9619e1988406              False          True   \n3                                       NaN                NaN           NaN   \n4                                       NaN                NaN           NaN   \n...                                     ...                ...           ...   \n47755  9f53653f-665d-4095-adde-78612f9f9f67              False           NaN   \n47756  92b17ceb-3dfb-49e3-ad75-482f71c0ada2              False           NaN   \n47757                                   NaN                NaN           NaN   \n47758  dc191114-cfe0-4c6a-9e9b-d5e7820b53a6              False           NaN   \n47759  9e279874-e163-4a41-8c0b-f26c5d3f43db              False           NaN   \n\n                                           address_clear  \n0      Чувашская Республика - чувашия, Мариинский Пос...  \n1      Саха /Якутия/ Респ, Нерюнгри г., Серебряный Бо...  \n2      Пермский край, Лысьвенский г. одской округ, г....  \n3               Екб, Верхняя Пышма, Успенский пр-кт., 20  \n4      Кемеровская область - Кузбасс, г. Новокузнецк,...  \n...                                                  ...  \n47755     Воронежская обл, х. Ветряк, ул. Выборская, д 9  \n47756    Тверская обл., г. Нелидово, ул. Матросова, д 28  \n47757  Рязанская обл., г. Рязань, ул. Октябрьский г. ...  \n47758  Воронежская область, Воронеж г., Чудесная ул, 33а  \n47759     Оренбургская область, Бузулук г., Фрунзе ул, 7  \n\n[47760 rows x 67 columns]",
      "text/html": "<div>\n<style scoped>\n    .dataframe tbody tr th:only-of-type {\n        vertical-align: middle;\n    }\n\n    .dataframe tbody tr th {\n        vertical-align: top;\n    }\n\n    .dataframe thead th {\n        text-align: right;\n    }\n</style>\n<table border=\"1\" class=\"dataframe\">\n  <thead>\n    <tr style=\"text-align: right;\">\n      <th></th>\n      <th>id</th>\n      <th>inn</th>\n      <th>address</th>\n      <th>entityId</th>\n      <th>type</th>\n      <th>addressId</th>\n      <th>regionCode</th>\n      <th>markingBranchId</th>\n      <th>markingStatus</th>\n      <th>warehouse</th>\n      <th>...</th>\n      <th>shortSettlement.1</th>\n      <th>street.1</th>\n      <th>shortStreet.1</th>\n      <th>house.1</th>\n      <th>block.1</th>\n      <th>fiasId.1</th>\n      <th>streetFiasId.1</th>\n      <th>isAddressMatched.1</th>\n      <th>isAreaMode.1</th>\n      <th>address_clear</th>\n    </tr>\n  </thead>\n  <tbody>\n    <tr>\n      <th>0</th>\n      <td>1014798</td>\n      <td>2126003123</td>\n      <td>Чувашская Республика - чувашия, Мариинский Пос...</td>\n      <td>79601.0</td>\n      <td>NaN</td>\n      <td>NaN</td>\n      <td>NaN</td>\n      <td>NaN</td>\n      <td>NaN</td>\n      <td>False</td>\n      <td>...</td>\n      <td>NaN</td>\n      <td>NaN</td>\n      <td>NaN</td>\n      <td>NaN</td>\n      <td>NaN</td>\n      <td>8a41db52-11e4-4bf0-b504-49e0e6396d80</td>\n      <td>42897c62-ade2-46fc-8640-f9a19a3b41b3</td>\n      <td>False</td>\n      <td>NaN</td>\n      <td>Чувашская Республика - чувашия, Мариинский Пос...</td>\n    </tr>\n    <tr>\n      <th>1</th>\n      <td>1014799</td>\n      <td>1434038369</td>\n      <td>678995, Саха /Якутия/ Респ, Нерюнгри г, Серебр...</td>\n      <td>48020.0</td>\n      <td>NaN</td>\n      <td>NaN</td>\n      <td>NaN</td>\n      <td>NaN</td>\n      <td>NaN</td>\n      <td>False</td>\n      <td>...</td>\n      <td>NaN</td>\n      <td>NaN</td>\n      <td>NaN</td>\n      <td>NaN</td>\n      <td>NaN</td>\n      <td>NaN</td>\n      <td>NaN</td>\n      <td>NaN</td>\n      <td>NaN</td>\n      <td>Саха /Якутия/ Респ, Нерюнгри г., Серебряный Бо...</td>\n    </tr>\n    <tr>\n      <th>2</th>\n      <td>1011537</td>\n      <td>5906086550</td>\n      <td>618909, Пермский край, Лысьвенский городской о...</td>\n      <td>5925.0</td>\n      <td>NaN</td>\n      <td>NaN</td>\n      <td>NaN</td>\n      <td>453446.0</td>\n      <td>NaN</td>\n      <td>False</td>\n      <td>...</td>\n      <td>NaN</td>\n      <td>ул Чапаева</td>\n      <td>Чапаева</td>\n      <td>21а</td>\n      <td>NaN</td>\n      <td>NaN</td>\n      <td>78e86bbb-b445-47dd-b148-9619e1988406</td>\n      <td>False</td>\n      <td>True</td>\n      <td>Пермский край, Лысьвенский г. одской округ, г....</td>\n    </tr>\n    <tr>\n      <th>3</th>\n      <td>1014800</td>\n      <td>5902199785</td>\n      <td>Екб, Верхняя Пышма, Успенский пр-кт., 20</td>\n      <td>75366.0</td>\n      <td>NaN</td>\n      <td>NaN</td>\n      <td>NaN</td>\n      <td>NaN</td>\n      <td>NaN</td>\n      <td>False</td>\n      <td>...</td>\n      <td>NaN</td>\n      <td>NaN</td>\n      <td>NaN</td>\n      <td>NaN</td>\n      <td>NaN</td>\n      <td>NaN</td>\n      <td>NaN</td>\n      <td>NaN</td>\n      <td>NaN</td>\n      <td>Екб, Верхняя Пышма, Успенский пр-кт., 20</td>\n    </tr>\n    <tr>\n      <th>4</th>\n      <td>1011538</td>\n      <td>4217146394</td>\n      <td>654054, Кемеровская область - Кузбасс, г. Ново...</td>\n      <td>78312.0</td>\n      <td>NaN</td>\n      <td>NaN</td>\n      <td>NaN</td>\n      <td>484603.0</td>\n      <td>NaN</td>\n      <td>False</td>\n      <td>...</td>\n      <td>NaN</td>\n      <td>NaN</td>\n      <td>NaN</td>\n      <td>NaN</td>\n      <td>NaN</td>\n      <td>NaN</td>\n      <td>NaN</td>\n      <td>NaN</td>\n      <td>NaN</td>\n      <td>Кемеровская область - Кузбасс, г. Новокузнецк,...</td>\n    </tr>\n    <tr>\n      <th>...</th>\n      <td>...</td>\n      <td>...</td>\n      <td>...</td>\n      <td>...</td>\n      <td>...</td>\n      <td>...</td>\n      <td>...</td>\n      <td>...</td>\n      <td>...</td>\n      <td>...</td>\n      <td>...</td>\n      <td>...</td>\n      <td>...</td>\n      <td>...</td>\n      <td>...</td>\n      <td>...</td>\n      <td>...</td>\n      <td>...</td>\n      <td>...</td>\n      <td>...</td>\n      <td>...</td>\n    </tr>\n    <tr>\n      <th>47755</th>\n      <td>1011522</td>\n      <td>3665012499</td>\n      <td>396005, Воронежская обл., Рамонский р-н, х. Ве...</td>\n      <td>57158.0</td>\n      <td>NaN</td>\n      <td>NaN</td>\n      <td>NaN</td>\n      <td>NaN</td>\n      <td>NaN</td>\n      <td>False</td>\n      <td>...</td>\n      <td>Ветряк</td>\n      <td>ул Выборская</td>\n      <td>Выборская</td>\n      <td>9</td>\n      <td>NaN</td>\n      <td>e04c4336-02eb-43d7-a8e0-2829511513b5</td>\n      <td>9f53653f-665d-4095-adde-78612f9f9f67</td>\n      <td>False</td>\n      <td>NaN</td>\n      <td>Воронежская обл, х. Ветряк, ул. Выборская, д 9</td>\n    </tr>\n    <tr>\n      <th>47756</th>\n      <td>1011523</td>\n      <td>691202524845</td>\n      <td>172527, Тверская обл., г. Нелидово, ул. Матрос...</td>\n      <td>73053.0</td>\n      <td>NaN</td>\n      <td>NaN</td>\n      <td>NaN</td>\n      <td>NaN</td>\n      <td>NaN</td>\n      <td>False</td>\n      <td>...</td>\n      <td>NaN</td>\n      <td>ул Матросова</td>\n      <td>Матросова</td>\n      <td>28</td>\n      <td>NaN</td>\n      <td>8a78eb3d-b0f3-4ba4-92c6-99203b8d7a5f</td>\n      <td>92b17ceb-3dfb-49e3-ad75-482f71c0ada2</td>\n      <td>False</td>\n      <td>NaN</td>\n      <td>Тверская обл., г. Нелидово, ул. Матросова, д 28</td>\n    </tr>\n    <tr>\n      <th>47757</th>\n      <td>1011524</td>\n      <td>6230121836</td>\n      <td>390007, Рязанская обл., г. Рязань, ул. Октябрь...</td>\n      <td>76292.0</td>\n      <td>NaN</td>\n      <td>NaN</td>\n      <td>NaN</td>\n      <td>NaN</td>\n      <td>NaN</td>\n      <td>False</td>\n      <td>...</td>\n      <td>NaN</td>\n      <td>NaN</td>\n      <td>NaN</td>\n      <td>NaN</td>\n      <td>NaN</td>\n      <td>NaN</td>\n      <td>NaN</td>\n      <td>NaN</td>\n      <td>NaN</td>\n      <td>Рязанская обл., г. Рязань, ул. Октябрьский г. ...</td>\n    </tr>\n    <tr>\n      <th>47758</th>\n      <td>1011527</td>\n      <td>3662233852</td>\n      <td>394075, Воронежская область, Воронеж г, Чудесн...</td>\n      <td>60336.0</td>\n      <td>NaN</td>\n      <td>NaN</td>\n      <td>NaN</td>\n      <td>NaN</td>\n      <td>NaN</td>\n      <td>False</td>\n      <td>...</td>\n      <td>NaN</td>\n      <td>ул Чудесная</td>\n      <td>Чудесная</td>\n      <td>33а</td>\n      <td>NaN</td>\n      <td>1692b4d1-9940-4d37-bddc-daffd0bc6625</td>\n      <td>dc191114-cfe0-4c6a-9e9b-d5e7820b53a6</td>\n      <td>False</td>\n      <td>NaN</td>\n      <td>Воронежская область, Воронеж г., Чудесная ул, 33а</td>\n    </tr>\n    <tr>\n      <th>47759</th>\n      <td>1011528</td>\n      <td>5609188862</td>\n      <td>461041, Оренбургская область, Бузулук г, Фрунз...</td>\n      <td>61883.0</td>\n      <td>NaN</td>\n      <td>NaN</td>\n      <td>NaN</td>\n      <td>NaN</td>\n      <td>NaN</td>\n      <td>False</td>\n      <td>...</td>\n      <td>NaN</td>\n      <td>NaN</td>\n      <td>NaN</td>\n      <td>NaN</td>\n      <td>NaN</td>\n      <td>74d9536b-f520-4c15-8cbb-96d72cd50062</td>\n      <td>9e279874-e163-4a41-8c0b-f26c5d3f43db</td>\n      <td>False</td>\n      <td>NaN</td>\n      <td>Оренбургская область, Бузулук г., Фрунзе ул, 7</td>\n    </tr>\n  </tbody>\n</table>\n<p>47760 rows × 67 columns</p>\n</div>"
     },
     "execution_count": 14,
     "metadata": {},
     "output_type": "execute_result"
    }
   ],
   "source": [
    "df_copy"
   ],
   "metadata": {
    "collapsed": false,
    "ExecuteTime": {
     "end_time": "2024-05-20T13:25:37.673040800Z",
     "start_time": "2024-05-20T13:25:37.578690200Z"
    }
   },
   "id": "979b392c67ff8736"
  },
  {
   "cell_type": "code",
   "execution_count": 18,
   "outputs": [],
   "source": [
    "# Шаг 3: Применение нового фильтра\n",
    "# Фильтрация строк, где значение в колонке 'fiasId' не пусто и не равно нулю\n",
    "filtered_df = df_copy[df_copy['fiasId'].isna() | (df_copy['fiasId'] == 0)]"
   ],
   "metadata": {
    "collapsed": false,
    "ExecuteTime": {
     "end_time": "2024-05-20T13:35:10.711941800Z",
     "start_time": "2024-05-20T13:35:10.652904200Z"
    }
   },
   "id": "f3676353b4255dbc"
  },
  {
   "cell_type": "code",
   "execution_count": 19,
   "outputs": [
    {
     "data": {
      "text/plain": "            id         inn                                            address  \\\n1      1014799  1434038369  678995, Саха /Якутия/ Респ, Нерюнгри г, Серебр...   \n2      1011537  5906086550  618909, Пермский край, Лысьвенский городской о...   \n3      1014800  5902199785           Екб, Верхняя Пышма, Успенский пр-кт., 20   \n4      1011538  4217146394  654054, Кемеровская область - Кузбасс, г. Ново...   \n5      1011539  4217178886  654044, Кемеровская область - Кузбасс, Новокуз...   \n...        ...         ...                                                ...   \n47741  1011507  1659064696  424000, Г ЙОШКАР-ОЛА, РЕСП МАРИЙ ЭЛ, УЛ МАШИНО...   \n47743  1011509  7724211288  628634, ХАНТЫ-МАНСИЙСКИЙ АВТОНОМНЫЙ ОКРУГ - ЮГ...   \n47744  1011510  6165225110  344079, Г РОСТОВ-НА-ДОНУ, РОСТОВСКАЯ ОБЛ, УЛ Н...   \n47751  1011518  5611031682  462408, Оренбургская обл., г. Орск, ул. Просве...   \n47757  1011524  6230121836  390007, Рязанская обл., г. Рязань, ул. Октябрь...   \n\n       entityId  type  addressId  regionCode markingBranchId  markingStatus  \\\n1       48020.0   NaN        NaN         NaN             NaN            NaN   \n2        5925.0   NaN        NaN         NaN        453446.0            NaN   \n3       75366.0   NaN        NaN         NaN             NaN            NaN   \n4       78312.0   NaN        NaN         NaN        484603.0            NaN   \n5       11098.0   NaN        NaN         NaN        499544.0            NaN   \n...         ...   ...        ...         ...             ...            ...   \n47741   10880.0   NaN        NaN         NaN             NaN            NaN   \n47743   74520.0   NaN        NaN         NaN             NaN            NaN   \n47744   65063.0   NaN        NaN         NaN             NaN            NaN   \n47751   70681.0   NaN    13003.0         NaN             NaN            NaN   \n47757   76292.0   NaN        NaN         NaN             NaN            NaN   \n\n       warehouse  ... shortSettlement.1             street.1  \\\n1          False  ...               NaN                  NaN   \n2          False  ...               NaN           ул Чапаева   \n3          False  ...               NaN                  NaN   \n4          False  ...               NaN                  NaN   \n5          False  ...               NaN                  NaN   \n...          ...  ...               ...                  ...   \n47741      False  ...               NaN  ул Машиностроителей   \n47743      False  ...               NaN                  NaN   \n47744      False  ...               NaN           ул Нансена   \n47751      False  ...               NaN                  NaN   \n47757      False  ...               NaN                  NaN   \n\n          shortStreet.1  house.1  block.1  fiasId.1  \\\n1                   NaN      NaN      NaN       NaN   \n2               Чапаева      21а      NaN       NaN   \n3                   NaN      NaN      NaN       NaN   \n4                   NaN      NaN      NaN       NaN   \n5                   NaN      NaN      NaN       NaN   \n...                 ...      ...      ...       ...   \n47741  Машиностроителей       61        а       NaN   \n47743               NaN      NaN      NaN       NaN   \n47744           Нансена       83      NaN       NaN   \n47751               NaN      NaN      NaN       NaN   \n47757               NaN      NaN      NaN       NaN   \n\n                             streetFiasId.1 isAddressMatched.1  isAreaMode.1  \\\n1                                       NaN                NaN           NaN   \n2      78e86bbb-b445-47dd-b148-9619e1988406              False          True   \n3                                       NaN                NaN           NaN   \n4                                       NaN                NaN           NaN   \n5                                       NaN                NaN           NaN   \n...                                     ...                ...           ...   \n47741  6c371ee6-ef2e-4830-a2f1-4f1bc9663dbf              False           NaN   \n47743                                   NaN                NaN           NaN   \n47744  de10a7b8-fda9-4e9c-ba4d-46e2827cdfc0              False           NaN   \n47751                                   NaN                NaN           NaN   \n47757                                   NaN                NaN           NaN   \n\n                                           address_clear  \n1      Саха /Якутия/ Респ, Нерюнгри г., Серебряный Бо...  \n2      Пермский край, Лысьвенский г. одской округ, г....  \n3               Екб, Верхняя Пышма, Успенский пр-кт., 20  \n4      Кемеровская область - Кузбасс, г. Новокузнецк,...  \n5      Кемеровская область - Кузбасс, Новокузнецкий г...  \n...                                                  ...  \n47741  г. ЙОШКАР-ОЛА, РЕСП МАРИЙ ЭЛ, УЛ МАШИНОСТРОИТЕ...  \n47743  ХАНТЫ-МАНСИЙСКИЙ АВТОНОМНЫЙ ОКРУГ - ЮГРА АО, П...  \n47744  г. РОСТОВ-НА-ДОНУ, РОСТОВСКАЯ ОБЛ, УЛ НАНСЕНА, 83  \n47751    Оренбургская обл., г. Орск, ул. Просвещения, 51  \n47757  Рязанская обл., г. Рязань, ул. Октябрьский г. ...  \n\n[32781 rows x 67 columns]",
      "text/html": "<div>\n<style scoped>\n    .dataframe tbody tr th:only-of-type {\n        vertical-align: middle;\n    }\n\n    .dataframe tbody tr th {\n        vertical-align: top;\n    }\n\n    .dataframe thead th {\n        text-align: right;\n    }\n</style>\n<table border=\"1\" class=\"dataframe\">\n  <thead>\n    <tr style=\"text-align: right;\">\n      <th></th>\n      <th>id</th>\n      <th>inn</th>\n      <th>address</th>\n      <th>entityId</th>\n      <th>type</th>\n      <th>addressId</th>\n      <th>regionCode</th>\n      <th>markingBranchId</th>\n      <th>markingStatus</th>\n      <th>warehouse</th>\n      <th>...</th>\n      <th>shortSettlement.1</th>\n      <th>street.1</th>\n      <th>shortStreet.1</th>\n      <th>house.1</th>\n      <th>block.1</th>\n      <th>fiasId.1</th>\n      <th>streetFiasId.1</th>\n      <th>isAddressMatched.1</th>\n      <th>isAreaMode.1</th>\n      <th>address_clear</th>\n    </tr>\n  </thead>\n  <tbody>\n    <tr>\n      <th>1</th>\n      <td>1014799</td>\n      <td>1434038369</td>\n      <td>678995, Саха /Якутия/ Респ, Нерюнгри г, Серебр...</td>\n      <td>48020.0</td>\n      <td>NaN</td>\n      <td>NaN</td>\n      <td>NaN</td>\n      <td>NaN</td>\n      <td>NaN</td>\n      <td>False</td>\n      <td>...</td>\n      <td>NaN</td>\n      <td>NaN</td>\n      <td>NaN</td>\n      <td>NaN</td>\n      <td>NaN</td>\n      <td>NaN</td>\n      <td>NaN</td>\n      <td>NaN</td>\n      <td>NaN</td>\n      <td>Саха /Якутия/ Респ, Нерюнгри г., Серебряный Бо...</td>\n    </tr>\n    <tr>\n      <th>2</th>\n      <td>1011537</td>\n      <td>5906086550</td>\n      <td>618909, Пермский край, Лысьвенский городской о...</td>\n      <td>5925.0</td>\n      <td>NaN</td>\n      <td>NaN</td>\n      <td>NaN</td>\n      <td>453446.0</td>\n      <td>NaN</td>\n      <td>False</td>\n      <td>...</td>\n      <td>NaN</td>\n      <td>ул Чапаева</td>\n      <td>Чапаева</td>\n      <td>21а</td>\n      <td>NaN</td>\n      <td>NaN</td>\n      <td>78e86bbb-b445-47dd-b148-9619e1988406</td>\n      <td>False</td>\n      <td>True</td>\n      <td>Пермский край, Лысьвенский г. одской округ, г....</td>\n    </tr>\n    <tr>\n      <th>3</th>\n      <td>1014800</td>\n      <td>5902199785</td>\n      <td>Екб, Верхняя Пышма, Успенский пр-кт., 20</td>\n      <td>75366.0</td>\n      <td>NaN</td>\n      <td>NaN</td>\n      <td>NaN</td>\n      <td>NaN</td>\n      <td>NaN</td>\n      <td>False</td>\n      <td>...</td>\n      <td>NaN</td>\n      <td>NaN</td>\n      <td>NaN</td>\n      <td>NaN</td>\n      <td>NaN</td>\n      <td>NaN</td>\n      <td>NaN</td>\n      <td>NaN</td>\n      <td>NaN</td>\n      <td>Екб, Верхняя Пышма, Успенский пр-кт., 20</td>\n    </tr>\n    <tr>\n      <th>4</th>\n      <td>1011538</td>\n      <td>4217146394</td>\n      <td>654054, Кемеровская область - Кузбасс, г. Ново...</td>\n      <td>78312.0</td>\n      <td>NaN</td>\n      <td>NaN</td>\n      <td>NaN</td>\n      <td>484603.0</td>\n      <td>NaN</td>\n      <td>False</td>\n      <td>...</td>\n      <td>NaN</td>\n      <td>NaN</td>\n      <td>NaN</td>\n      <td>NaN</td>\n      <td>NaN</td>\n      <td>NaN</td>\n      <td>NaN</td>\n      <td>NaN</td>\n      <td>NaN</td>\n      <td>Кемеровская область - Кузбасс, г. Новокузнецк,...</td>\n    </tr>\n    <tr>\n      <th>5</th>\n      <td>1011539</td>\n      <td>4217178886</td>\n      <td>654044, Кемеровская область - Кузбасс, Новокуз...</td>\n      <td>11098.0</td>\n      <td>NaN</td>\n      <td>NaN</td>\n      <td>NaN</td>\n      <td>499544.0</td>\n      <td>NaN</td>\n      <td>False</td>\n      <td>...</td>\n      <td>NaN</td>\n      <td>NaN</td>\n      <td>NaN</td>\n      <td>NaN</td>\n      <td>NaN</td>\n      <td>NaN</td>\n      <td>NaN</td>\n      <td>NaN</td>\n      <td>NaN</td>\n      <td>Кемеровская область - Кузбасс, Новокузнецкий г...</td>\n    </tr>\n    <tr>\n      <th>...</th>\n      <td>...</td>\n      <td>...</td>\n      <td>...</td>\n      <td>...</td>\n      <td>...</td>\n      <td>...</td>\n      <td>...</td>\n      <td>...</td>\n      <td>...</td>\n      <td>...</td>\n      <td>...</td>\n      <td>...</td>\n      <td>...</td>\n      <td>...</td>\n      <td>...</td>\n      <td>...</td>\n      <td>...</td>\n      <td>...</td>\n      <td>...</td>\n      <td>...</td>\n      <td>...</td>\n    </tr>\n    <tr>\n      <th>47741</th>\n      <td>1011507</td>\n      <td>1659064696</td>\n      <td>424000, Г ЙОШКАР-ОЛА, РЕСП МАРИЙ ЭЛ, УЛ МАШИНО...</td>\n      <td>10880.0</td>\n      <td>NaN</td>\n      <td>NaN</td>\n      <td>NaN</td>\n      <td>NaN</td>\n      <td>NaN</td>\n      <td>False</td>\n      <td>...</td>\n      <td>NaN</td>\n      <td>ул Машиностроителей</td>\n      <td>Машиностроителей</td>\n      <td>61</td>\n      <td>а</td>\n      <td>NaN</td>\n      <td>6c371ee6-ef2e-4830-a2f1-4f1bc9663dbf</td>\n      <td>False</td>\n      <td>NaN</td>\n      <td>г. ЙОШКАР-ОЛА, РЕСП МАРИЙ ЭЛ, УЛ МАШИНОСТРОИТЕ...</td>\n    </tr>\n    <tr>\n      <th>47743</th>\n      <td>1011509</td>\n      <td>7724211288</td>\n      <td>628634, ХАНТЫ-МАНСИЙСКИЙ АВТОНОМНЫЙ ОКРУГ - ЮГ...</td>\n      <td>74520.0</td>\n      <td>NaN</td>\n      <td>NaN</td>\n      <td>NaN</td>\n      <td>NaN</td>\n      <td>NaN</td>\n      <td>False</td>\n      <td>...</td>\n      <td>NaN</td>\n      <td>NaN</td>\n      <td>NaN</td>\n      <td>NaN</td>\n      <td>NaN</td>\n      <td>NaN</td>\n      <td>NaN</td>\n      <td>NaN</td>\n      <td>NaN</td>\n      <td>ХАНТЫ-МАНСИЙСКИЙ АВТОНОМНЫЙ ОКРУГ - ЮГРА АО, П...</td>\n    </tr>\n    <tr>\n      <th>47744</th>\n      <td>1011510</td>\n      <td>6165225110</td>\n      <td>344079, Г РОСТОВ-НА-ДОНУ, РОСТОВСКАЯ ОБЛ, УЛ Н...</td>\n      <td>65063.0</td>\n      <td>NaN</td>\n      <td>NaN</td>\n      <td>NaN</td>\n      <td>NaN</td>\n      <td>NaN</td>\n      <td>False</td>\n      <td>...</td>\n      <td>NaN</td>\n      <td>ул Нансена</td>\n      <td>Нансена</td>\n      <td>83</td>\n      <td>NaN</td>\n      <td>NaN</td>\n      <td>de10a7b8-fda9-4e9c-ba4d-46e2827cdfc0</td>\n      <td>False</td>\n      <td>NaN</td>\n      <td>г. РОСТОВ-НА-ДОНУ, РОСТОВСКАЯ ОБЛ, УЛ НАНСЕНА, 83</td>\n    </tr>\n    <tr>\n      <th>47751</th>\n      <td>1011518</td>\n      <td>5611031682</td>\n      <td>462408, Оренбургская обл., г. Орск, ул. Просве...</td>\n      <td>70681.0</td>\n      <td>NaN</td>\n      <td>13003.0</td>\n      <td>NaN</td>\n      <td>NaN</td>\n      <td>NaN</td>\n      <td>False</td>\n      <td>...</td>\n      <td>NaN</td>\n      <td>NaN</td>\n      <td>NaN</td>\n      <td>NaN</td>\n      <td>NaN</td>\n      <td>NaN</td>\n      <td>NaN</td>\n      <td>NaN</td>\n      <td>NaN</td>\n      <td>Оренбургская обл., г. Орск, ул. Просвещения, 51</td>\n    </tr>\n    <tr>\n      <th>47757</th>\n      <td>1011524</td>\n      <td>6230121836</td>\n      <td>390007, Рязанская обл., г. Рязань, ул. Октябрь...</td>\n      <td>76292.0</td>\n      <td>NaN</td>\n      <td>NaN</td>\n      <td>NaN</td>\n      <td>NaN</td>\n      <td>NaN</td>\n      <td>False</td>\n      <td>...</td>\n      <td>NaN</td>\n      <td>NaN</td>\n      <td>NaN</td>\n      <td>NaN</td>\n      <td>NaN</td>\n      <td>NaN</td>\n      <td>NaN</td>\n      <td>NaN</td>\n      <td>NaN</td>\n      <td>Рязанская обл., г. Рязань, ул. Октябрьский г. ...</td>\n    </tr>\n  </tbody>\n</table>\n<p>32781 rows × 67 columns</p>\n</div>"
     },
     "execution_count": 19,
     "metadata": {},
     "output_type": "execute_result"
    }
   ],
   "source": [
    "filtered_df"
   ],
   "metadata": {
    "collapsed": false,
    "ExecuteTime": {
     "end_time": "2024-05-20T13:35:11.873624700Z",
     "start_time": "2024-05-20T13:35:11.810367900Z"
    }
   },
   "id": "dd79f20c4b71ffb8"
  },
  {
   "cell_type": "code",
   "execution_count": 21,
   "outputs": [],
   "source": [
    "# Сохранение отфильтрованного DataFrame в новый CSV файл для дальнейшей работы\n",
    "filtered_file_path = '/mnt/d/Doc_To_Date/20240520/filtered_pharmhub_public_EntitiesEndpoints_with_empty_fiasId_after_processing.csv'\n",
    "filtered_df.to_csv(filtered_file_path, index=False)"
   ],
   "metadata": {
    "collapsed": false,
    "ExecuteTime": {
     "end_time": "2024-05-20T13:38:28.748171500Z",
     "start_time": "2024-05-20T13:38:27.923005700Z"
    }
   },
   "id": "a6fa34fabb5d677d"
  },
  {
   "cell_type": "code",
   "execution_count": null,
   "outputs": [],
   "source": [
    "filtered_pharmhub_public_EntitiesEndpoints_with_empty_fiasId_after_processing.csv"
   ],
   "metadata": {
    "collapsed": false
   },
   "id": "e63e47f333e3afe1"
  },
  {
   "cell_type": "code",
   "execution_count": 22,
   "outputs": [
    {
     "name": "stderr",
     "output_type": "stream",
     "text": [
      "/home/ivan/.virtualenvs/machine-learning/lib/python3.10/site-packages/IPython/core/interactiveshell.py:3457: DtypeWarning: Columns (1,8,24,26,34,35,38,39,40,41) have mixed types.Specify dtype option on import or set low_memory=False.\n",
      "  exec(code_obj, self.user_global_ns, self.user_ns)\n"
     ]
    },
    {
     "data": {
      "text/plain": "            id         inn                                            address  \\\n0      1014799  1434038369  678995, Саха /Якутия/ Респ, Нерюнгри г, Серебр...   \n1      1011537  5906086550  618909, Пермский край, Лысьвенский городской о...   \n2      1014800  5902199785           Екб, Верхняя Пышма, Успенский пр-кт., 20   \n3      1011538  4217146394  654054, Кемеровская область - Кузбасс, г. Ново...   \n4      1011539  4217178886  654044, Кемеровская область - Кузбасс, Новокуз...   \n...        ...         ...                                                ...   \n32776  1011507  1659064696  424000, Г ЙОШКАР-ОЛА, РЕСП МАРИЙ ЭЛ, УЛ МАШИНО...   \n32777  1011509  7724211288  628634, ХАНТЫ-МАНСИЙСКИЙ АВТОНОМНЫЙ ОКРУГ - ЮГ...   \n32778  1011510  6165225110  344079, Г РОСТОВ-НА-ДОНУ, РОСТОВСКАЯ ОБЛ, УЛ Н...   \n32779  1011518  5611031682  462408, Оренбургская обл., г. Орск, ул. Просве...   \n32780  1011524  6230121836  390007, Рязанская обл., г. Рязань, ул. Октябрь...   \n\n                                           address_clear  entityId  type  \\\n0      Саха /Якутия/ Респ, Нерюнгри г., Серебряный Бо...   48020.0   NaN   \n1      Пермский край, Лысьвенский г. одской округ, г....    5925.0   NaN   \n2               Екб, Верхняя Пышма, Успенский пр-кт., 20   75366.0   NaN   \n3      Кемеровская область - Кузбасс, г. Новокузнецк,...   78312.0   NaN   \n4      Кемеровская область - Кузбасс, Новокузнецкий г...   11098.0   NaN   \n...                                                  ...       ...   ...   \n32776  г. ЙОШКАР-ОЛА, РЕСП МАРИЙ ЭЛ, УЛ МАШИНОСТРОИТЕ...   10880.0   NaN   \n32777  ХАНТЫ-МАНСИЙСКИЙ АВТОНОМНЫЙ ОКРУГ - ЮГРА АО, П...   74520.0   NaN   \n32778  г. РОСТОВ-НА-ДОНУ, РОСТОВСКАЯ ОБЛ, УЛ НАНСЕНА, 83   65063.0   NaN   \n32779    Оренбургская обл., г. Орск, ул. Просвещения, 51   70681.0   NaN   \n32780  Рязанская обл., г. Рязань, ул. Октябрьский г. ...   76292.0   NaN   \n\n       addressId  regionCode markingBranchId  markingStatus  ...  settlement  \\\n0            NaN         NaN             NaN            NaN  ...         NaN   \n1            NaN         NaN        453446.0            NaN  ...         NaN   \n2            NaN         NaN             NaN            NaN  ...         NaN   \n3            NaN         NaN        484603.0            NaN  ...         NaN   \n4            NaN         NaN        499544.0            NaN  ...         NaN   \n...          ...         ...             ...            ...  ...         ...   \n32776        NaN         NaN             NaN            NaN  ...         NaN   \n32777        NaN         NaN             NaN            NaN  ...         NaN   \n32778        NaN         NaN             NaN            NaN  ...         NaN   \n32779    13003.0         NaN             NaN            NaN  ...         NaN   \n32780        NaN         NaN             NaN            NaN  ...         NaN   \n\n      shortSettlement               street       shortStreet  house  block  \\\n0                 NaN                  NaN               NaN    NaN    NaN   \n1                 NaN                  NaN               NaN    NaN    NaN   \n2                 NaN                  NaN               NaN    NaN    NaN   \n3                 NaN                  NaN               NaN    NaN    NaN   \n4                 NaN                  NaN               NaN    NaN    NaN   \n...               ...                  ...               ...    ...    ...   \n32776             NaN  ул Машиностроителей  Машиностроителей     79      а   \n32777             NaN                  NaN               NaN    NaN    NaN   \n32778             NaN           ул Нансена           Нансена     85    NaN   \n32779             NaN                  NaN               NaN    NaN    NaN   \n32780             NaN                  NaN               NaN    NaN    NaN   \n\n                                   fiasId.1  \\\n0                                       NaN   \n1                                       NaN   \n2                                       NaN   \n3                                       NaN   \n4                                       NaN   \n...                                     ...   \n32776                                   NaN   \n32777                                   NaN   \n32778                                   NaN   \n32779  fdf615ef-6993-40c5-a271-ca8dbbd6671b   \n32780                                   NaN   \n\n                               streetFiasId isAddressMatched  isAreaMode  \n0                                       NaN              NaN         NaN  \n1                                       NaN              NaN         NaN  \n2                                       NaN              NaN         NaN  \n3                                       NaN              NaN         NaN  \n4                                       NaN              NaN         NaN  \n...                                     ...              ...         ...  \n32776  6c371ee6-ef2e-4830-a2f1-4f1bc9663dbf            False        True  \n32777                                   NaN              NaN         NaN  \n32778  de10a7b8-fda9-4e9c-ba4d-46e2827cdfc0            False         NaN  \n32779  6d5e589e-8a3a-4bd8-a756-7844b81ac582            False         NaN  \n32780                                   NaN              NaN         NaN  \n\n[32781 rows x 50 columns]",
      "text/html": "<div>\n<style scoped>\n    .dataframe tbody tr th:only-of-type {\n        vertical-align: middle;\n    }\n\n    .dataframe tbody tr th {\n        vertical-align: top;\n    }\n\n    .dataframe thead th {\n        text-align: right;\n    }\n</style>\n<table border=\"1\" class=\"dataframe\">\n  <thead>\n    <tr style=\"text-align: right;\">\n      <th></th>\n      <th>id</th>\n      <th>inn</th>\n      <th>address</th>\n      <th>address_clear</th>\n      <th>entityId</th>\n      <th>type</th>\n      <th>addressId</th>\n      <th>regionCode</th>\n      <th>markingBranchId</th>\n      <th>markingStatus</th>\n      <th>...</th>\n      <th>settlement</th>\n      <th>shortSettlement</th>\n      <th>street</th>\n      <th>shortStreet</th>\n      <th>house</th>\n      <th>block</th>\n      <th>fiasId.1</th>\n      <th>streetFiasId</th>\n      <th>isAddressMatched</th>\n      <th>isAreaMode</th>\n    </tr>\n  </thead>\n  <tbody>\n    <tr>\n      <th>0</th>\n      <td>1014799</td>\n      <td>1434038369</td>\n      <td>678995, Саха /Якутия/ Респ, Нерюнгри г, Серебр...</td>\n      <td>Саха /Якутия/ Респ, Нерюнгри г., Серебряный Бо...</td>\n      <td>48020.0</td>\n      <td>NaN</td>\n      <td>NaN</td>\n      <td>NaN</td>\n      <td>NaN</td>\n      <td>NaN</td>\n      <td>...</td>\n      <td>NaN</td>\n      <td>NaN</td>\n      <td>NaN</td>\n      <td>NaN</td>\n      <td>NaN</td>\n      <td>NaN</td>\n      <td>NaN</td>\n      <td>NaN</td>\n      <td>NaN</td>\n      <td>NaN</td>\n    </tr>\n    <tr>\n      <th>1</th>\n      <td>1011537</td>\n      <td>5906086550</td>\n      <td>618909, Пермский край, Лысьвенский городской о...</td>\n      <td>Пермский край, Лысьвенский г. одской округ, г....</td>\n      <td>5925.0</td>\n      <td>NaN</td>\n      <td>NaN</td>\n      <td>NaN</td>\n      <td>453446.0</td>\n      <td>NaN</td>\n      <td>...</td>\n      <td>NaN</td>\n      <td>NaN</td>\n      <td>NaN</td>\n      <td>NaN</td>\n      <td>NaN</td>\n      <td>NaN</td>\n      <td>NaN</td>\n      <td>NaN</td>\n      <td>NaN</td>\n      <td>NaN</td>\n    </tr>\n    <tr>\n      <th>2</th>\n      <td>1014800</td>\n      <td>5902199785</td>\n      <td>Екб, Верхняя Пышма, Успенский пр-кт., 20</td>\n      <td>Екб, Верхняя Пышма, Успенский пр-кт., 20</td>\n      <td>75366.0</td>\n      <td>NaN</td>\n      <td>NaN</td>\n      <td>NaN</td>\n      <td>NaN</td>\n      <td>NaN</td>\n      <td>...</td>\n      <td>NaN</td>\n      <td>NaN</td>\n      <td>NaN</td>\n      <td>NaN</td>\n      <td>NaN</td>\n      <td>NaN</td>\n      <td>NaN</td>\n      <td>NaN</td>\n      <td>NaN</td>\n      <td>NaN</td>\n    </tr>\n    <tr>\n      <th>3</th>\n      <td>1011538</td>\n      <td>4217146394</td>\n      <td>654054, Кемеровская область - Кузбасс, г. Ново...</td>\n      <td>Кемеровская область - Кузбасс, г. Новокузнецк,...</td>\n      <td>78312.0</td>\n      <td>NaN</td>\n      <td>NaN</td>\n      <td>NaN</td>\n      <td>484603.0</td>\n      <td>NaN</td>\n      <td>...</td>\n      <td>NaN</td>\n      <td>NaN</td>\n      <td>NaN</td>\n      <td>NaN</td>\n      <td>NaN</td>\n      <td>NaN</td>\n      <td>NaN</td>\n      <td>NaN</td>\n      <td>NaN</td>\n      <td>NaN</td>\n    </tr>\n    <tr>\n      <th>4</th>\n      <td>1011539</td>\n      <td>4217178886</td>\n      <td>654044, Кемеровская область - Кузбасс, Новокуз...</td>\n      <td>Кемеровская область - Кузбасс, Новокузнецкий г...</td>\n      <td>11098.0</td>\n      <td>NaN</td>\n      <td>NaN</td>\n      <td>NaN</td>\n      <td>499544.0</td>\n      <td>NaN</td>\n      <td>...</td>\n      <td>NaN</td>\n      <td>NaN</td>\n      <td>NaN</td>\n      <td>NaN</td>\n      <td>NaN</td>\n      <td>NaN</td>\n      <td>NaN</td>\n      <td>NaN</td>\n      <td>NaN</td>\n      <td>NaN</td>\n    </tr>\n    <tr>\n      <th>...</th>\n      <td>...</td>\n      <td>...</td>\n      <td>...</td>\n      <td>...</td>\n      <td>...</td>\n      <td>...</td>\n      <td>...</td>\n      <td>...</td>\n      <td>...</td>\n      <td>...</td>\n      <td>...</td>\n      <td>...</td>\n      <td>...</td>\n      <td>...</td>\n      <td>...</td>\n      <td>...</td>\n      <td>...</td>\n      <td>...</td>\n      <td>...</td>\n      <td>...</td>\n      <td>...</td>\n    </tr>\n    <tr>\n      <th>32776</th>\n      <td>1011507</td>\n      <td>1659064696</td>\n      <td>424000, Г ЙОШКАР-ОЛА, РЕСП МАРИЙ ЭЛ, УЛ МАШИНО...</td>\n      <td>г. ЙОШКАР-ОЛА, РЕСП МАРИЙ ЭЛ, УЛ МАШИНОСТРОИТЕ...</td>\n      <td>10880.0</td>\n      <td>NaN</td>\n      <td>NaN</td>\n      <td>NaN</td>\n      <td>NaN</td>\n      <td>NaN</td>\n      <td>...</td>\n      <td>NaN</td>\n      <td>NaN</td>\n      <td>ул Машиностроителей</td>\n      <td>Машиностроителей</td>\n      <td>79</td>\n      <td>а</td>\n      <td>NaN</td>\n      <td>6c371ee6-ef2e-4830-a2f1-4f1bc9663dbf</td>\n      <td>False</td>\n      <td>True</td>\n    </tr>\n    <tr>\n      <th>32777</th>\n      <td>1011509</td>\n      <td>7724211288</td>\n      <td>628634, ХАНТЫ-МАНСИЙСКИЙ АВТОНОМНЫЙ ОКРУГ - ЮГ...</td>\n      <td>ХАНТЫ-МАНСИЙСКИЙ АВТОНОМНЫЙ ОКРУГ - ЮГРА АО, П...</td>\n      <td>74520.0</td>\n      <td>NaN</td>\n      <td>NaN</td>\n      <td>NaN</td>\n      <td>NaN</td>\n      <td>NaN</td>\n      <td>...</td>\n      <td>NaN</td>\n      <td>NaN</td>\n      <td>NaN</td>\n      <td>NaN</td>\n      <td>NaN</td>\n      <td>NaN</td>\n      <td>NaN</td>\n      <td>NaN</td>\n      <td>NaN</td>\n      <td>NaN</td>\n    </tr>\n    <tr>\n      <th>32778</th>\n      <td>1011510</td>\n      <td>6165225110</td>\n      <td>344079, Г РОСТОВ-НА-ДОНУ, РОСТОВСКАЯ ОБЛ, УЛ Н...</td>\n      <td>г. РОСТОВ-НА-ДОНУ, РОСТОВСКАЯ ОБЛ, УЛ НАНСЕНА, 83</td>\n      <td>65063.0</td>\n      <td>NaN</td>\n      <td>NaN</td>\n      <td>NaN</td>\n      <td>NaN</td>\n      <td>NaN</td>\n      <td>...</td>\n      <td>NaN</td>\n      <td>NaN</td>\n      <td>ул Нансена</td>\n      <td>Нансена</td>\n      <td>85</td>\n      <td>NaN</td>\n      <td>NaN</td>\n      <td>de10a7b8-fda9-4e9c-ba4d-46e2827cdfc0</td>\n      <td>False</td>\n      <td>NaN</td>\n    </tr>\n    <tr>\n      <th>32779</th>\n      <td>1011518</td>\n      <td>5611031682</td>\n      <td>462408, Оренбургская обл., г. Орск, ул. Просве...</td>\n      <td>Оренбургская обл., г. Орск, ул. Просвещения, 51</td>\n      <td>70681.0</td>\n      <td>NaN</td>\n      <td>13003.0</td>\n      <td>NaN</td>\n      <td>NaN</td>\n      <td>NaN</td>\n      <td>...</td>\n      <td>NaN</td>\n      <td>NaN</td>\n      <td>NaN</td>\n      <td>NaN</td>\n      <td>NaN</td>\n      <td>NaN</td>\n      <td>fdf615ef-6993-40c5-a271-ca8dbbd6671b</td>\n      <td>6d5e589e-8a3a-4bd8-a756-7844b81ac582</td>\n      <td>False</td>\n      <td>NaN</td>\n    </tr>\n    <tr>\n      <th>32780</th>\n      <td>1011524</td>\n      <td>6230121836</td>\n      <td>390007, Рязанская обл., г. Рязань, ул. Октябрь...</td>\n      <td>Рязанская обл., г. Рязань, ул. Октябрьский г. ...</td>\n      <td>76292.0</td>\n      <td>NaN</td>\n      <td>NaN</td>\n      <td>NaN</td>\n      <td>NaN</td>\n      <td>NaN</td>\n      <td>...</td>\n      <td>NaN</td>\n      <td>NaN</td>\n      <td>NaN</td>\n      <td>NaN</td>\n      <td>NaN</td>\n      <td>NaN</td>\n      <td>NaN</td>\n      <td>NaN</td>\n      <td>NaN</td>\n      <td>NaN</td>\n    </tr>\n  </tbody>\n</table>\n<p>32781 rows × 50 columns</p>\n</div>"
     },
     "execution_count": 22,
     "metadata": {},
     "output_type": "execute_result"
    }
   ],
   "source": [
    "import pandas as pd\n",
    "\n",
    "# Шаг 1: Загрузка данных\n",
    "file_path = '/mnt/d/Doc_To_Date/20240520/filtered_pharmhub_public_EntitiesEndpoints_with_empty_fiasId_after_processing.csv'\n",
    "df_2 = pd.read_csv(file_path)\n",
    "\n",
    "# Шаг 2: Создание копии DataFrame\n",
    "df_2"
   ],
   "metadata": {
    "collapsed": false,
    "ExecuteTime": {
     "end_time": "2024-05-20T14:26:29.225530800Z",
     "start_time": "2024-05-20T14:26:28.436538900Z"
    }
   },
   "id": "9d40b9be3275828b"
  },
  {
   "cell_type": "code",
   "execution_count": 23,
   "outputs": [
    {
     "name": "stdout",
     "output_type": "stream",
     "text": [
      "Total number of records: 32781\n",
      "Number of records with fiasId: 507\n",
      "Number of records with streetFiasId (not null and not zero): 5629\n"
     ]
    },
    {
     "name": "stderr",
     "output_type": "stream",
     "text": [
      "/home/ivan/.virtualenvs/machine-learning/lib/python3.10/site-packages/IPython/core/interactiveshell.py:3457: DtypeWarning: Columns (1,8,24,26,34,35,38,39,40,41) have mixed types.Specify dtype option on import or set low_memory=False.\n",
      "  exec(code_obj, self.user_global_ns, self.user_ns)\n"
     ]
    }
   ],
   "source": [
    "df_2 = pd.read_csv(file_path)\n",
    "\n",
    "# Шаг 2: Создание копии DataFrame\n",
    "df_copy_2 = df_2.copy()\n",
    "\n",
    "# Подсчет количества записей\n",
    "total_records = len(df_copy_2)\n",
    "fiasId_records = df_copy_2['fiasId'].notna().sum()\n",
    "streetFiasId_records = (df_copy_2['streetFiasId'].notna() & (df_copy_2['streetFiasId'] != 0)).sum()\n",
    "\n",
    "# Вывод статистики\n",
    "print(f\"Total number of records: {total_records}\")\n",
    "print(f\"Number of records with fiasId: {fiasId_records}\")\n",
    "print(f\"Number of records with streetFiasId (not null and not zero): {streetFiasId_records}\")"
   ],
   "metadata": {
    "collapsed": false,
    "ExecuteTime": {
     "end_time": "2024-05-20T14:29:38.397862300Z",
     "start_time": "2024-05-20T14:29:37.641393800Z"
    }
   },
   "id": "5d14ca982d95bf79"
  },
  {
   "cell_type": "code",
   "execution_count": 27,
   "outputs": [
    {
     "name": "stdout",
     "output_type": "stream",
     "text": [
      "Total number of records: 32274\n",
      "Number of records with fiasId: 0\n",
      "Number of records with streetFiasId (not null and not zero): 5170\n"
     ]
    },
    {
     "name": "stderr",
     "output_type": "stream",
     "text": [
      "/home/ivan/.virtualenvs/machine-learning/lib/python3.10/site-packages/IPython/core/interactiveshell.py:3457: DtypeWarning: Columns (1,8,24,26,34,35,38,39,40,41) have mixed types.Specify dtype option on import or set low_memory=False.\n",
      "  exec(code_obj, self.user_global_ns, self.user_ns)\n"
     ]
    },
    {
     "data": {
      "text/plain": "        id         inn                                            address  \\\n0  1014799  1434038369  678995, Саха /Якутия/ Респ, Нерюнгри г, Серебр...   \n1  1011537  5906086550  618909, Пермский край, Лысьвенский городской о...   \n2  1014800  5902199785           Екб, Верхняя Пышма, Успенский пр-кт., 20   \n3  1011538  4217146394  654054, Кемеровская область - Кузбасс, г. Ново...   \n4  1011539  4217178886  654044, Кемеровская область - Кузбасс, Новокуз...   \n\n                                       address_clear  entityId  type  \\\n0  Саха /Якутия/ Респ, Нерюнгри г., Серебряный Бо...   48020.0   NaN   \n1  Пермский край, Лысьвенский г. одской округ, г....    5925.0   NaN   \n2           Екб, Верхняя Пышма, Успенский пр-кт., 20   75366.0   NaN   \n3  Кемеровская область - Кузбасс, г. Новокузнецк,...   78312.0   NaN   \n4  Кемеровская область - Кузбасс, Новокузнецкий г...   11098.0   NaN   \n\n   addressId  regionCode markingBranchId  markingStatus  ...  settlement  \\\n0        NaN         NaN             NaN            NaN  ...         NaN   \n1        NaN         NaN        453446.0            NaN  ...         NaN   \n2        NaN         NaN             NaN            NaN  ...         NaN   \n3        NaN         NaN        484603.0            NaN  ...         NaN   \n4        NaN         NaN        499544.0            NaN  ...         NaN   \n\n  shortSettlement  street  shortStreet  house  block  fiasId.1  streetFiasId  \\\n0             NaN     NaN          NaN    NaN    NaN       NaN           NaN   \n1             NaN     NaN          NaN    NaN    NaN       NaN           NaN   \n2             NaN     NaN          NaN    NaN    NaN       NaN           NaN   \n3             NaN     NaN          NaN    NaN    NaN       NaN           NaN   \n4             NaN     NaN          NaN    NaN    NaN       NaN           NaN   \n\n  isAddressMatched  isAreaMode  \n0              NaN         NaN  \n1              NaN         NaN  \n2              NaN         NaN  \n3              NaN         NaN  \n4              NaN         NaN  \n\n[5 rows x 50 columns]",
      "text/html": "<div>\n<style scoped>\n    .dataframe tbody tr th:only-of-type {\n        vertical-align: middle;\n    }\n\n    .dataframe tbody tr th {\n        vertical-align: top;\n    }\n\n    .dataframe thead th {\n        text-align: right;\n    }\n</style>\n<table border=\"1\" class=\"dataframe\">\n  <thead>\n    <tr style=\"text-align: right;\">\n      <th></th>\n      <th>id</th>\n      <th>inn</th>\n      <th>address</th>\n      <th>address_clear</th>\n      <th>entityId</th>\n      <th>type</th>\n      <th>addressId</th>\n      <th>regionCode</th>\n      <th>markingBranchId</th>\n      <th>markingStatus</th>\n      <th>...</th>\n      <th>settlement</th>\n      <th>shortSettlement</th>\n      <th>street</th>\n      <th>shortStreet</th>\n      <th>house</th>\n      <th>block</th>\n      <th>fiasId.1</th>\n      <th>streetFiasId</th>\n      <th>isAddressMatched</th>\n      <th>isAreaMode</th>\n    </tr>\n  </thead>\n  <tbody>\n    <tr>\n      <th>0</th>\n      <td>1014799</td>\n      <td>1434038369</td>\n      <td>678995, Саха /Якутия/ Респ, Нерюнгри г, Серебр...</td>\n      <td>Саха /Якутия/ Респ, Нерюнгри г., Серебряный Бо...</td>\n      <td>48020.0</td>\n      <td>NaN</td>\n      <td>NaN</td>\n      <td>NaN</td>\n      <td>NaN</td>\n      <td>NaN</td>\n      <td>...</td>\n      <td>NaN</td>\n      <td>NaN</td>\n      <td>NaN</td>\n      <td>NaN</td>\n      <td>NaN</td>\n      <td>NaN</td>\n      <td>NaN</td>\n      <td>NaN</td>\n      <td>NaN</td>\n      <td>NaN</td>\n    </tr>\n    <tr>\n      <th>1</th>\n      <td>1011537</td>\n      <td>5906086550</td>\n      <td>618909, Пермский край, Лысьвенский городской о...</td>\n      <td>Пермский край, Лысьвенский г. одской округ, г....</td>\n      <td>5925.0</td>\n      <td>NaN</td>\n      <td>NaN</td>\n      <td>NaN</td>\n      <td>453446.0</td>\n      <td>NaN</td>\n      <td>...</td>\n      <td>NaN</td>\n      <td>NaN</td>\n      <td>NaN</td>\n      <td>NaN</td>\n      <td>NaN</td>\n      <td>NaN</td>\n      <td>NaN</td>\n      <td>NaN</td>\n      <td>NaN</td>\n      <td>NaN</td>\n    </tr>\n    <tr>\n      <th>2</th>\n      <td>1014800</td>\n      <td>5902199785</td>\n      <td>Екб, Верхняя Пышма, Успенский пр-кт., 20</td>\n      <td>Екб, Верхняя Пышма, Успенский пр-кт., 20</td>\n      <td>75366.0</td>\n      <td>NaN</td>\n      <td>NaN</td>\n      <td>NaN</td>\n      <td>NaN</td>\n      <td>NaN</td>\n      <td>...</td>\n      <td>NaN</td>\n      <td>NaN</td>\n      <td>NaN</td>\n      <td>NaN</td>\n      <td>NaN</td>\n      <td>NaN</td>\n      <td>NaN</td>\n      <td>NaN</td>\n      <td>NaN</td>\n      <td>NaN</td>\n    </tr>\n    <tr>\n      <th>3</th>\n      <td>1011538</td>\n      <td>4217146394</td>\n      <td>654054, Кемеровская область - Кузбасс, г. Ново...</td>\n      <td>Кемеровская область - Кузбасс, г. Новокузнецк,...</td>\n      <td>78312.0</td>\n      <td>NaN</td>\n      <td>NaN</td>\n      <td>NaN</td>\n      <td>484603.0</td>\n      <td>NaN</td>\n      <td>...</td>\n      <td>NaN</td>\n      <td>NaN</td>\n      <td>NaN</td>\n      <td>NaN</td>\n      <td>NaN</td>\n      <td>NaN</td>\n      <td>NaN</td>\n      <td>NaN</td>\n      <td>NaN</td>\n      <td>NaN</td>\n    </tr>\n    <tr>\n      <th>4</th>\n      <td>1011539</td>\n      <td>4217178886</td>\n      <td>654044, Кемеровская область - Кузбасс, Новокуз...</td>\n      <td>Кемеровская область - Кузбасс, Новокузнецкий г...</td>\n      <td>11098.0</td>\n      <td>NaN</td>\n      <td>NaN</td>\n      <td>NaN</td>\n      <td>499544.0</td>\n      <td>NaN</td>\n      <td>...</td>\n      <td>NaN</td>\n      <td>NaN</td>\n      <td>NaN</td>\n      <td>NaN</td>\n      <td>NaN</td>\n      <td>NaN</td>\n      <td>NaN</td>\n      <td>NaN</td>\n      <td>NaN</td>\n      <td>NaN</td>\n    </tr>\n  </tbody>\n</table>\n<p>5 rows × 50 columns</p>\n</div>"
     },
     "execution_count": 27,
     "metadata": {},
     "output_type": "execute_result"
    }
   ],
   "source": [
    "import pandas as pd\n",
    "\n",
    "# Шаг 1: Загрузка данных\n",
    "file_path = '/mnt/d/Doc_To_Date/20240520/filtered_pharmhub_public_EntitiesEndpoints_with_empty_fiasId_after_processing.csv'\n",
    "df_2 = pd.read_csv(file_path)\n",
    "\n",
    "# Шаг 2: Создание копии DataFrame и применение фильтра\n",
    "filtered_df = df_2[df_2['fiasId'].isna() | (df_2['fiasId'] == 0)]\n",
    "\n",
    "# Подсчет количества записей\n",
    "total_records = len(filtered_df)\n",
    "fiasId_records = filtered_df['fiasId'].notna().sum()\n",
    "streetFiasId_records = (filtered_df['streetFiasId'].notna() & (filtered_df['streetFiasId'] != 0)).sum()\n",
    "\n",
    "# Вывод статистики\n",
    "print(f\"Total number of records: {total_records}\")\n",
    "print(f\"Number of records with fiasId: {fiasId_records}\")\n",
    "print(f\"Number of records with streetFiasId (not null and not zero): {streetFiasId_records}\")\n",
    "\n",
    "# Пример данных\n",
    "filtered_df.head()\n"
   ],
   "metadata": {
    "collapsed": false,
    "ExecuteTime": {
     "end_time": "2024-05-20T14:32:39.404080900Z",
     "start_time": "2024-05-20T14:32:38.433785400Z"
    }
   },
   "id": "431193c91881e49b"
  },
  {
   "cell_type": "code",
   "execution_count": 28,
   "outputs": [
    {
     "data": {
      "text/plain": "            id         inn                                            address  \\\n0      1014799  1434038369  678995, Саха /Якутия/ Респ, Нерюнгри г, Серебр...   \n1      1011537  5906086550  618909, Пермский край, Лысьвенский городской о...   \n2      1014800  5902199785           Екб, Верхняя Пышма, Успенский пр-кт., 20   \n3      1011538  4217146394  654054, Кемеровская область - Кузбасс, г. Ново...   \n4      1011539  4217178886  654044, Кемеровская область - Кузбасс, Новокуз...   \n...        ...         ...                                                ...   \n32775  1011497  7733865216  141196, Московская область, Щелковский муницип...   \n32776  1011507  1659064696  424000, Г ЙОШКАР-ОЛА, РЕСП МАРИЙ ЭЛ, УЛ МАШИНО...   \n32777  1011509  7724211288  628634, ХАНТЫ-МАНСИЙСКИЙ АВТОНОМНЫЙ ОКРУГ - ЮГ...   \n32778  1011510  6165225110  344079, Г РОСТОВ-НА-ДОНУ, РОСТОВСКАЯ ОБЛ, УЛ Н...   \n32780  1011524  6230121836  390007, Рязанская обл., г. Рязань, ул. Октябрь...   \n\n                                           address_clear  entityId  type  \\\n0      Саха /Якутия/ Респ, Нерюнгри г., Серебряный Бо...   48020.0   NaN   \n1      Пермский край, Лысьвенский г. одской округ, г....    5925.0   NaN   \n2               Екб, Верхняя Пышма, Успенский пр-кт., 20   75366.0   NaN   \n3      Кемеровская область - Кузбасс, г. Новокузнецк,...   78312.0   NaN   \n4      Кемеровская область - Кузбасс, Новокузнецкий г...   11098.0   NaN   \n...                                                  ...       ...   ...   \n32775  Московская область, Щелковский, с. п. г. ребне...   41887.0   NaN   \n32776  г. ЙОШКАР-ОЛА, РЕСП МАРИЙ ЭЛ, УЛ МАШИНОСТРОИТЕ...   10880.0   NaN   \n32777  ХАНТЫ-МАНСИЙСКИЙ АВТОНОМНЫЙ ОКРУГ - ЮГРА АО, П...   74520.0   NaN   \n32778  г. РОСТОВ-НА-ДОНУ, РОСТОВСКАЯ ОБЛ, УЛ НАНСЕНА, 83   65063.0   NaN   \n32780  Рязанская обл., г. Рязань, ул. Октябрьский г. ...   76292.0   NaN   \n\n       addressId  regionCode markingBranchId  markingStatus  ...  settlement  \\\n0            NaN         NaN             NaN            NaN  ...         NaN   \n1            NaN         NaN        453446.0            NaN  ...         NaN   \n2            NaN         NaN             NaN            NaN  ...         NaN   \n3            NaN         NaN        484603.0            NaN  ...         NaN   \n4            NaN         NaN        499544.0            NaN  ...         NaN   \n...          ...         ...             ...            ...  ...         ...   \n32775        NaN         NaN             NaN            NaN  ...         NaN   \n32776        NaN         NaN             NaN            NaN  ...         NaN   \n32777        NaN         NaN             NaN            NaN  ...         NaN   \n32778        NaN         NaN             NaN            NaN  ...         NaN   \n32780        NaN         NaN             NaN            NaN  ...         NaN   \n\n      shortSettlement               street       shortStreet  house  block  \\\n0                 NaN                  NaN               NaN    NaN    NaN   \n1                 NaN                  NaN               NaN    NaN    NaN   \n2                 NaN                  NaN               NaN    NaN    NaN   \n3                 NaN                  NaN               NaN    NaN    NaN   \n4                 NaN                  NaN               NaN    NaN    NaN   \n...               ...                  ...               ...    ...    ...   \n32775             NaN                  NaN               NaN    NaN    NaN   \n32776             NaN  ул Машиностроителей  Машиностроителей     79      а   \n32777             NaN                  NaN               NaN    NaN    NaN   \n32778             NaN           ул Нансена           Нансена     85    NaN   \n32780             NaN                  NaN               NaN    NaN    NaN   \n\n       fiasId.1                          streetFiasId isAddressMatched  \\\n0           NaN                                   NaN              NaN   \n1           NaN                                   NaN              NaN   \n2           NaN                                   NaN              NaN   \n3           NaN                                   NaN              NaN   \n4           NaN                                   NaN              NaN   \n...         ...                                   ...              ...   \n32775       NaN                                   NaN              NaN   \n32776       NaN  6c371ee6-ef2e-4830-a2f1-4f1bc9663dbf            False   \n32777       NaN                                   NaN              NaN   \n32778       NaN  de10a7b8-fda9-4e9c-ba4d-46e2827cdfc0            False   \n32780       NaN                                   NaN              NaN   \n\n       isAreaMode  \n0             NaN  \n1             NaN  \n2             NaN  \n3             NaN  \n4             NaN  \n...           ...  \n32775         NaN  \n32776        True  \n32777         NaN  \n32778         NaN  \n32780         NaN  \n\n[32274 rows x 50 columns]",
      "text/html": "<div>\n<style scoped>\n    .dataframe tbody tr th:only-of-type {\n        vertical-align: middle;\n    }\n\n    .dataframe tbody tr th {\n        vertical-align: top;\n    }\n\n    .dataframe thead th {\n        text-align: right;\n    }\n</style>\n<table border=\"1\" class=\"dataframe\">\n  <thead>\n    <tr style=\"text-align: right;\">\n      <th></th>\n      <th>id</th>\n      <th>inn</th>\n      <th>address</th>\n      <th>address_clear</th>\n      <th>entityId</th>\n      <th>type</th>\n      <th>addressId</th>\n      <th>regionCode</th>\n      <th>markingBranchId</th>\n      <th>markingStatus</th>\n      <th>...</th>\n      <th>settlement</th>\n      <th>shortSettlement</th>\n      <th>street</th>\n      <th>shortStreet</th>\n      <th>house</th>\n      <th>block</th>\n      <th>fiasId.1</th>\n      <th>streetFiasId</th>\n      <th>isAddressMatched</th>\n      <th>isAreaMode</th>\n    </tr>\n  </thead>\n  <tbody>\n    <tr>\n      <th>0</th>\n      <td>1014799</td>\n      <td>1434038369</td>\n      <td>678995, Саха /Якутия/ Респ, Нерюнгри г, Серебр...</td>\n      <td>Саха /Якутия/ Респ, Нерюнгри г., Серебряный Бо...</td>\n      <td>48020.0</td>\n      <td>NaN</td>\n      <td>NaN</td>\n      <td>NaN</td>\n      <td>NaN</td>\n      <td>NaN</td>\n      <td>...</td>\n      <td>NaN</td>\n      <td>NaN</td>\n      <td>NaN</td>\n      <td>NaN</td>\n      <td>NaN</td>\n      <td>NaN</td>\n      <td>NaN</td>\n      <td>NaN</td>\n      <td>NaN</td>\n      <td>NaN</td>\n    </tr>\n    <tr>\n      <th>1</th>\n      <td>1011537</td>\n      <td>5906086550</td>\n      <td>618909, Пермский край, Лысьвенский городской о...</td>\n      <td>Пермский край, Лысьвенский г. одской округ, г....</td>\n      <td>5925.0</td>\n      <td>NaN</td>\n      <td>NaN</td>\n      <td>NaN</td>\n      <td>453446.0</td>\n      <td>NaN</td>\n      <td>...</td>\n      <td>NaN</td>\n      <td>NaN</td>\n      <td>NaN</td>\n      <td>NaN</td>\n      <td>NaN</td>\n      <td>NaN</td>\n      <td>NaN</td>\n      <td>NaN</td>\n      <td>NaN</td>\n      <td>NaN</td>\n    </tr>\n    <tr>\n      <th>2</th>\n      <td>1014800</td>\n      <td>5902199785</td>\n      <td>Екб, Верхняя Пышма, Успенский пр-кт., 20</td>\n      <td>Екб, Верхняя Пышма, Успенский пр-кт., 20</td>\n      <td>75366.0</td>\n      <td>NaN</td>\n      <td>NaN</td>\n      <td>NaN</td>\n      <td>NaN</td>\n      <td>NaN</td>\n      <td>...</td>\n      <td>NaN</td>\n      <td>NaN</td>\n      <td>NaN</td>\n      <td>NaN</td>\n      <td>NaN</td>\n      <td>NaN</td>\n      <td>NaN</td>\n      <td>NaN</td>\n      <td>NaN</td>\n      <td>NaN</td>\n    </tr>\n    <tr>\n      <th>3</th>\n      <td>1011538</td>\n      <td>4217146394</td>\n      <td>654054, Кемеровская область - Кузбасс, г. Ново...</td>\n      <td>Кемеровская область - Кузбасс, г. Новокузнецк,...</td>\n      <td>78312.0</td>\n      <td>NaN</td>\n      <td>NaN</td>\n      <td>NaN</td>\n      <td>484603.0</td>\n      <td>NaN</td>\n      <td>...</td>\n      <td>NaN</td>\n      <td>NaN</td>\n      <td>NaN</td>\n      <td>NaN</td>\n      <td>NaN</td>\n      <td>NaN</td>\n      <td>NaN</td>\n      <td>NaN</td>\n      <td>NaN</td>\n      <td>NaN</td>\n    </tr>\n    <tr>\n      <th>4</th>\n      <td>1011539</td>\n      <td>4217178886</td>\n      <td>654044, Кемеровская область - Кузбасс, Новокуз...</td>\n      <td>Кемеровская область - Кузбасс, Новокузнецкий г...</td>\n      <td>11098.0</td>\n      <td>NaN</td>\n      <td>NaN</td>\n      <td>NaN</td>\n      <td>499544.0</td>\n      <td>NaN</td>\n      <td>...</td>\n      <td>NaN</td>\n      <td>NaN</td>\n      <td>NaN</td>\n      <td>NaN</td>\n      <td>NaN</td>\n      <td>NaN</td>\n      <td>NaN</td>\n      <td>NaN</td>\n      <td>NaN</td>\n      <td>NaN</td>\n    </tr>\n    <tr>\n      <th>...</th>\n      <td>...</td>\n      <td>...</td>\n      <td>...</td>\n      <td>...</td>\n      <td>...</td>\n      <td>...</td>\n      <td>...</td>\n      <td>...</td>\n      <td>...</td>\n      <td>...</td>\n      <td>...</td>\n      <td>...</td>\n      <td>...</td>\n      <td>...</td>\n      <td>...</td>\n      <td>...</td>\n      <td>...</td>\n      <td>...</td>\n      <td>...</td>\n      <td>...</td>\n      <td>...</td>\n    </tr>\n    <tr>\n      <th>32775</th>\n      <td>1011497</td>\n      <td>7733865216</td>\n      <td>141196, Московская область, Щелковский муницип...</td>\n      <td>Московская область, Щелковский, с. п. г. ребне...</td>\n      <td>41887.0</td>\n      <td>NaN</td>\n      <td>NaN</td>\n      <td>NaN</td>\n      <td>NaN</td>\n      <td>NaN</td>\n      <td>...</td>\n      <td>NaN</td>\n      <td>NaN</td>\n      <td>NaN</td>\n      <td>NaN</td>\n      <td>NaN</td>\n      <td>NaN</td>\n      <td>NaN</td>\n      <td>NaN</td>\n      <td>NaN</td>\n      <td>NaN</td>\n    </tr>\n    <tr>\n      <th>32776</th>\n      <td>1011507</td>\n      <td>1659064696</td>\n      <td>424000, Г ЙОШКАР-ОЛА, РЕСП МАРИЙ ЭЛ, УЛ МАШИНО...</td>\n      <td>г. ЙОШКАР-ОЛА, РЕСП МАРИЙ ЭЛ, УЛ МАШИНОСТРОИТЕ...</td>\n      <td>10880.0</td>\n      <td>NaN</td>\n      <td>NaN</td>\n      <td>NaN</td>\n      <td>NaN</td>\n      <td>NaN</td>\n      <td>...</td>\n      <td>NaN</td>\n      <td>NaN</td>\n      <td>ул Машиностроителей</td>\n      <td>Машиностроителей</td>\n      <td>79</td>\n      <td>а</td>\n      <td>NaN</td>\n      <td>6c371ee6-ef2e-4830-a2f1-4f1bc9663dbf</td>\n      <td>False</td>\n      <td>True</td>\n    </tr>\n    <tr>\n      <th>32777</th>\n      <td>1011509</td>\n      <td>7724211288</td>\n      <td>628634, ХАНТЫ-МАНСИЙСКИЙ АВТОНОМНЫЙ ОКРУГ - ЮГ...</td>\n      <td>ХАНТЫ-МАНСИЙСКИЙ АВТОНОМНЫЙ ОКРУГ - ЮГРА АО, П...</td>\n      <td>74520.0</td>\n      <td>NaN</td>\n      <td>NaN</td>\n      <td>NaN</td>\n      <td>NaN</td>\n      <td>NaN</td>\n      <td>...</td>\n      <td>NaN</td>\n      <td>NaN</td>\n      <td>NaN</td>\n      <td>NaN</td>\n      <td>NaN</td>\n      <td>NaN</td>\n      <td>NaN</td>\n      <td>NaN</td>\n      <td>NaN</td>\n      <td>NaN</td>\n    </tr>\n    <tr>\n      <th>32778</th>\n      <td>1011510</td>\n      <td>6165225110</td>\n      <td>344079, Г РОСТОВ-НА-ДОНУ, РОСТОВСКАЯ ОБЛ, УЛ Н...</td>\n      <td>г. РОСТОВ-НА-ДОНУ, РОСТОВСКАЯ ОБЛ, УЛ НАНСЕНА, 83</td>\n      <td>65063.0</td>\n      <td>NaN</td>\n      <td>NaN</td>\n      <td>NaN</td>\n      <td>NaN</td>\n      <td>NaN</td>\n      <td>...</td>\n      <td>NaN</td>\n      <td>NaN</td>\n      <td>ул Нансена</td>\n      <td>Нансена</td>\n      <td>85</td>\n      <td>NaN</td>\n      <td>NaN</td>\n      <td>de10a7b8-fda9-4e9c-ba4d-46e2827cdfc0</td>\n      <td>False</td>\n      <td>NaN</td>\n    </tr>\n    <tr>\n      <th>32780</th>\n      <td>1011524</td>\n      <td>6230121836</td>\n      <td>390007, Рязанская обл., г. Рязань, ул. Октябрь...</td>\n      <td>Рязанская обл., г. Рязань, ул. Октябрьский г. ...</td>\n      <td>76292.0</td>\n      <td>NaN</td>\n      <td>NaN</td>\n      <td>NaN</td>\n      <td>NaN</td>\n      <td>NaN</td>\n      <td>...</td>\n      <td>NaN</td>\n      <td>NaN</td>\n      <td>NaN</td>\n      <td>NaN</td>\n      <td>NaN</td>\n      <td>NaN</td>\n      <td>NaN</td>\n      <td>NaN</td>\n      <td>NaN</td>\n      <td>NaN</td>\n    </tr>\n  </tbody>\n</table>\n<p>32274 rows × 50 columns</p>\n</div>"
     },
     "execution_count": 28,
     "metadata": {},
     "output_type": "execute_result"
    }
   ],
   "source": [
    "filtered_df"
   ],
   "metadata": {
    "collapsed": false,
    "ExecuteTime": {
     "end_time": "2024-05-20T14:32:48.714509300Z",
     "start_time": "2024-05-20T14:32:48.536007Z"
    }
   },
   "id": "1227b0939e777570"
  },
  {
   "cell_type": "code",
   "execution_count": 29,
   "outputs": [
    {
     "name": "stdout",
     "output_type": "stream",
     "text": [
      "Top 10 most frequent addresses:\n",
      "Ваша                                                    16\n",
      "Алтайский край, ул. Пионерская, д 118                    6\n",
      "Донская                                                  6\n",
      "Республика Дагестан, с. Акуша                            6\n",
      "Юг                                                       5\n",
      "Смоленская обл., г. Десногорск, центральная              5\n",
      "Ставропольский край, г. Пятигорск, ул. Мира, литер А     5\n",
      "г. ЗЕЛЕНОГРАД, г. МОСКВА                                 5\n",
      "Социальная                                               5\n",
      "ЗАО Уралнет                                              4\n",
      "Name: address_clear, dtype: int64\n"
     ]
    }
   ],
   "source": [
    "# Шаг 3: Найти самые частые адреса\n",
    "address_counts = df_2['address_clear'].value_counts()\n",
    "top_10_addresses = address_counts.head(10)\n",
    "\n",
    "print(\"Top 10 most frequent addresses:\")\n",
    "print(top_10_addresses)\n"
   ],
   "metadata": {
    "collapsed": false,
    "ExecuteTime": {
     "end_time": "2024-05-20T14:35:28.335906700Z",
     "start_time": "2024-05-20T14:35:28.245190300Z"
    }
   },
   "id": "8d3edceefdb1220"
  },
  {
   "cell_type": "code",
   "execution_count": 30,
   "outputs": [],
   "source": [
    "# Шаг 4: Проверка на потенциальные ошибки\n",
    "# Пример: Найти адреса с некорректными символами или опечатками (простая проверка длины)\n",
    "short_addresses = df_2[df_2['address_clear'].str.len() < 10]\n",
    "long_addresses = df_2[df_2['address_clear'].str.len() > 100]"
   ],
   "metadata": {
    "collapsed": false,
    "ExecuteTime": {
     "end_time": "2024-05-20T14:35:47.134056500Z",
     "start_time": "2024-05-20T14:35:47.012163800Z"
    }
   },
   "id": "3f96aa990e13ac2a"
  },
  {
   "cell_type": "code",
   "execution_count": 31,
   "outputs": [
    {
     "name": "stdout",
     "output_type": "stream",
     "text": [
      "Addresses shorter than 10 characters: 145\n",
      "Addresses longer than 100 characters: 780\n",
      "Sample of short addresses:\n",
      "149      Юрша, 1в\n",
      "342     Седова 19\n",
      "607            ЛО\n",
      "807      Мира, 90\n",
      "1079            9\n",
      "1449       Щепкин\n",
      "1657      Ким, 44\n",
      "2393         №746\n",
      "2892         №554\n",
      "2896         №556\n",
      "Name: address_clear, dtype: object\n",
      "Sample of long addresses:\n",
      "17      Республика Адыгея, Красногвардейский, сельское...\n",
      "32      Астраханская область, г. Астрахань, ул. Кирова...\n",
      "115     Ханты-Мансийский Автономный округ - Югра АО, Н...\n",
      "2003    Московская обл, Мытищи г., Туристический Панси...\n",
      "2173    Ленинградская обл, муниципальное образование \"...\n",
      "3944    Астраханская обл, Астрахань г., ул. В. Ноздрин...\n",
      "5324    614026169925, Донецкая Народная Республика, 28...\n",
      "5343    Россия, Краснодарский край, г. Краснодар, Кара...\n",
      "5430    Московская область, Одинцовский г. одской окру...\n",
      "5456    г. Москва, вн. тер. г. муниципальный округ Зам...\n",
      "Name: address_clear, dtype: object\n"
     ]
    }
   ],
   "source": [
    "print(f\"Addresses shorter than 10 characters: {len(short_addresses)}\")\n",
    "print(f\"Addresses longer than 100 characters: {len(long_addresses)}\")\n",
    "\n",
    "print(\"Sample of short addresses:\")\n",
    "print(short_addresses['address_clear'].head(10))\n",
    "\n",
    "print(\"Sample of long addresses:\")\n",
    "print(long_addresses['address_clear'].head(10))"
   ],
   "metadata": {
    "collapsed": false,
    "ExecuteTime": {
     "end_time": "2024-05-20T14:35:55.827390300Z",
     "start_time": "2024-05-20T14:35:55.731323800Z"
    }
   },
   "id": "d85afe82d1f8a77e"
  },
  {
   "cell_type": "code",
   "execution_count": 48,
   "outputs": [
    {
     "name": "stderr",
     "output_type": "stream",
     "text": [
      "/home/ivan/.virtualenvs/machine-learning/lib/python3.10/site-packages/IPython/core/interactiveshell.py:3457: DtypeWarning: Columns (1,8,24,26,34,35,38,39,40,41) have mixed types.Specify dtype option on import or set low_memory=False.\n",
      "  exec(code_obj, self.user_global_ns, self.user_ns)\n"
     ]
    },
    {
     "name": "stdout",
     "output_type": "stream",
     "text": [
      "Total records with streetFiasId empty or zero: 27152\n",
      "Broken records: 7898\n",
      "Werehouse records: 1608\n",
      "          id         inn                                            address  \\\n",
      "6    1014801  1001054160  г.Петрозаводск, Лесной проспект( ТЦ Лотос-Плаз...   \n",
      "43   1011592  7701047916                        МО Солнечногорск Жилино 21А   \n",
      "46   1011597  7751527121         МО, Шатурский р-н, пос. ЦУС \"Мир\", д.8 \"а\"   \n",
      "90   1011671  6451128364                                Балашов К.Маркса 39   \n",
      "93   1011674  2308218885                           Дубовое, Богатырская, 40   \n",
      "110  1011703  7816221906                               Торфяная дорога д. 6   \n",
      "126  1011727  6673189456                             Камышлов, К.Маркса, 46   \n",
      "130  1011732  3525303699                             Любим, Торговый пер, 3   \n",
      "149  1011763  5904110013                                            Юрша,1в   \n",
      "152  1011773  5905265563                            Екб, Карпинск, Мира, 44   \n",
      "\n",
      "                        address_clear  entityId  type  addressId  regionCode  \\\n",
      "6    г. Петрозаводск, Лесной проспект    7018.0   NaN        NaN         NaN   \n",
      "43           Солнечногорск Жилино 21А   74880.0   NaN        NaN         NaN   \n",
      "46            пос. ЦУС \"Мир\", д 8 \"а\"   78474.0   NaN        NaN         NaN   \n",
      "90               Балашов К. Маркса 39   73920.0   NaN        NaN         NaN   \n",
      "93           Дубовое, Богатырская, 40   62104.0   NaN        NaN         NaN   \n",
      "110               Торфяная дорога д 6   73213.0   NaN        NaN         NaN   \n",
      "126           Камышлов, К. Маркса, 46   73670.0   NaN        NaN         NaN   \n",
      "130            Любим, Торговый пер, 3   31310.0   NaN        NaN         NaN   \n",
      "149                          Юрша, 1в   61115.0   NaN        NaN         NaN   \n",
      "152           Екб, Карпинск, Мира, 44   73589.0   NaN        NaN         NaN   \n",
      "\n",
      "    markingBranchId  markingStatus  ...  street shortStreet  house  block  \\\n",
      "6               NaN            NaN  ...     NaN         NaN    NaN    NaN   \n",
      "43              NaN            NaN  ...     NaN         NaN    21А    NaN   \n",
      "46              NaN            NaN  ...     NaN         NaN    NaN    NaN   \n",
      "90              NaN            NaN  ...     NaN         NaN    NaN    NaN   \n",
      "93              NaN            NaN  ...     NaN         NaN    NaN    NaN   \n",
      "110             NaN            NaN  ...     NaN         NaN    NaN    NaN   \n",
      "126             NaN            NaN  ...     NaN         NaN    NaN    NaN   \n",
      "130             NaN            NaN  ...     NaN         NaN    NaN    NaN   \n",
      "149             NaN            NaN  ...     NaN         NaN    NaN    NaN   \n",
      "152             NaN            NaN  ...     NaN         NaN    NaN    NaN   \n",
      "\n",
      "     fiasId.1  streetFiasId  isAddressMatched  isAreaMode is_broken  werehouse  \n",
      "6         NaN           NaN               NaN         NaN      True      False  \n",
      "43        NaN           NaN             False         NaN      True      False  \n",
      "46        NaN           NaN               NaN         NaN      True      False  \n",
      "90        NaN           NaN               NaN         NaN      True      False  \n",
      "93        NaN           NaN               NaN         NaN      True      False  \n",
      "110       NaN           NaN               NaN         NaN      True      False  \n",
      "126       NaN           NaN               NaN         NaN      True      False  \n",
      "130       NaN           NaN               NaN         NaN      True      False  \n",
      "149       NaN           NaN               NaN         NaN      True      False  \n",
      "152       NaN           NaN               NaN         NaN      True      False  \n",
      "\n",
      "[10 rows x 52 columns]\n",
      "           id         inn                                            address  \\\n",
      "898   1012845  2310200204  Богородицк, 10 Армии,  строение №1б (Аптечный ...   \n",
      "1177   574531  4401090930  ООО \"Аптека Вашей Семьи\", 156013, КО, г.Костро...   \n",
      "1303   589597  9705031526  142050, Г ДОМОДЕДОВО, МОСКОВСКАЯ ОБЛ, МКР. БЕЛ...   \n",
      "1309   579686  4501204877  Склад: 141700, Московская область, Мытищинский...   \n",
      "1464   604205  7203235240           ООО Караван г.Тюмень ул.Олимпийская 6а/4   \n",
      "1504   584977  6103600762  Фармацевт ООО, ст-ца Багаевская, ул. Семашко, ...   \n",
      "1520   610547  6149006551   Медитэк ООО сл. Криворожье, ул. им. Ленина, д.53   \n",
      "1608   614862  7839300921                               №120 Склад недовозов   \n",
      "1717  1013507  2311241316                       Евпатория,Некрасова, 81А ООО   \n",
      "2144   577313  6143084257             ЮНИ-ТРЕЙД ООО Волгодонск ул Ленина 100   \n",
      "\n",
      "                                          address_clear   entityId  type  \\\n",
      "898   Богородицк, 10 Армии, стр. №1б (Аптечный склад...    63676.0   NaN   \n",
      "1177  ООО \", Вашей Семьи\", 156013, КО, г. Кострома, ...    79827.0   NaN   \n",
      "1303  г. ДОМОДЕДОВО, МОСКОВСКАЯ ОБЛ, МКР. БЕЛЫЕ СТОЛ...    65245.0   NaN   \n",
      "1309  Склад: 141700, Московская область, д. г. рибки...    78485.0   NaN   \n",
      "1464         ООО Караван г. Тюмень ул. Олимпийская 6а/4  2498102.0   NaN   \n",
      "1504  Фармацевт ООО, ст-ца Багаевская, ул. Семашко, ...    64894.0   NaN   \n",
      "1520   Медитэк ООО сл. Криворожье, ул. им. Ленина, д 53    64941.0   NaN   \n",
      "1608                               №120 Склад недовозов     6613.0   NaN   \n",
      "1717                      Евпатория, Некрасова, 81А ООО     3212.0   NaN   \n",
      "2144             ЮНИ-ТРЕЙД ООО Волгодонск ул Ленина 100   270089.0   NaN   \n",
      "\n",
      "      addressId  regionCode markingBranchId  markingStatus  ...  street  \\\n",
      "898         NaN         NaN             NaN            NaN  ...     NaN   \n",
      "1177        NaN         NaN             NaN            NaN  ...     NaN   \n",
      "1303        NaN         NaN             NaN            NaN  ...     NaN   \n",
      "1309        NaN         NaN             NaN            NaN  ...     NaN   \n",
      "1464        NaN         NaN             NaN            NaN  ...     NaN   \n",
      "1504        NaN         NaN             NaN            NaN  ...     NaN   \n",
      "1520        NaN         NaN             NaN            NaN  ...     NaN   \n",
      "1608        NaN         NaN             NaN            NaN  ...     NaN   \n",
      "1717        NaN         NaN             NaN            NaN  ...     NaN   \n",
      "2144        NaN         NaN             NaN            NaN  ...     NaN   \n",
      "\n",
      "     shortStreet  house  block  fiasId.1  streetFiasId  isAddressMatched  \\\n",
      "898          NaN    NaN    NaN       NaN           NaN               NaN   \n",
      "1177         NaN    NaN    NaN       NaN           NaN               NaN   \n",
      "1303         NaN    NaN    NaN       NaN           NaN               NaN   \n",
      "1309         NaN    NaN    NaN       NaN           NaN               NaN   \n",
      "1464         NaN    NaN    NaN       NaN           NaN               NaN   \n",
      "1504         NaN    NaN    NaN       NaN           NaN               NaN   \n",
      "1520         NaN    NaN    NaN       NaN           NaN               NaN   \n",
      "1608         NaN    NaN    NaN       NaN           NaN               NaN   \n",
      "1717         NaN    NaN    NaN       NaN           NaN               NaN   \n",
      "2144         NaN    NaN    NaN       NaN           NaN               NaN   \n",
      "\n",
      "      isAreaMode is_broken  werehouse  \n",
      "898          NaN     False       True  \n",
      "1177         NaN     False       True  \n",
      "1303         NaN     False       True  \n",
      "1309         NaN     False       True  \n",
      "1464         NaN     False       True  \n",
      "1504         NaN     False       True  \n",
      "1520         NaN     False       True  \n",
      "1608         NaN      True       True  \n",
      "1717         NaN     False       True  \n",
      "2144         NaN     False       True  \n",
      "\n",
      "[10 rows x 52 columns]\n"
     ]
    }
   ],
   "source": [
    "import pandas as pd\n",
    "import re\n",
    "\n",
    "# Шаг 1: Загрузка данных\n",
    "file_path = '/mnt/d/Doc_To_Date/20240520/filtered_pharmhub_public_EntitiesEndpoints_with_empty_fiasId_after_processing.csv'\n",
    "df_2 = pd.read_csv(file_path)\n",
    "\n",
    "# Шаг 2: Фильтрация строк, где значение в колонке 'streetFiasId' пусто или равно нулю\n",
    "filtered_df = df_2[df_2['streetFiasId'].isna() | (df_2['streetFiasId'] == 0)].copy()\n",
    "\n",
    "# Шаг 3: Добавление нового столбца 'is_broken' и установка значения по умолчанию\n",
    "filtered_df['is_broken'] = False\n",
    "filtered_df['werehouse'] = False\n",
    "\n",
    "# Функция для проверки адресов по шаблонам\n",
    "def check_address_patterns(address):\n",
    "    # Проверка на длину и отсутствие цифр\n",
    "    if len(address) < 25 or not re.search(r'\\d', address):\n",
    "        return True\n",
    "    \n",
    "    # Пример шаблонов, которые могут указывать на некорректные адреса\n",
    "    patterns = [\n",
    "        r'^\\d{6}$',              # Адрес состоит только из цифр\n",
    "    ]\n",
    "    \n",
    "    for pattern in patterns:\n",
    "        if re.search(pattern, address):\n",
    "            return True\n",
    "    \n",
    "    return False\n",
    "\n",
    "# Функция для проверки наличия ключевых слов\n",
    "def check_for_werehouse(address):\n",
    "    patterns = [\n",
    "        r'Склад',                # Проверка на слово \"Склад\"\n",
    "        r'АПТЕКА',               # Проверка на слово \"АПТЕКА\"\n",
    "        r'аптечный',             # Проверка на слово \"аптечный\"\n",
    "        r'аптеки',               # Проверка на слово \"аптеки\"\n",
    "        r'ООО',                  # Проверка на слово \"ООО\"\n",
    "    ]\n",
    "    \n",
    "    for pattern in patterns:\n",
    "        if re.search(pattern, address, re.IGNORECASE):\n",
    "            return True\n",
    "    \n",
    "    return False\n",
    "\n",
    "# Применение функций к столбцу 'address_clear'\n",
    "filtered_df['is_broken'] = filtered_df['address_clear'].apply(check_address_patterns)\n",
    "filtered_df['werehouse'] = filtered_df['address_clear'].apply(check_for_werehouse)\n",
    "\n",
    "# Шаг 4: Сохранение обновленного DataFrame в новый CSV файл\n",
    "output_file_path = '/mnt/d/Doc_To_Date/20240520/filtered_pharmhub_public_EntitiesEndpoints_with_broken_flags.csv'\n",
    "filtered_df.to_csv(output_file_path, index=False)\n",
    "\n",
    "# Вывод статистики\n",
    "total_records = len(filtered_df)\n",
    "broken_records = filtered_df['is_broken'].sum()\n",
    "werehouse_records = filtered_df['werehouse'].sum()\n",
    "\n",
    "print(f\"Total records with streetFiasId empty or zero: {total_records}\")\n",
    "print(f\"Broken records: {broken_records}\")\n",
    "print(f\"Werehouse records: {werehouse_records}\")\n",
    "\n",
    "# Пример данных\n",
    "print(filtered_df[filtered_df['is_broken']].head(10))\n",
    "print(filtered_df[filtered_df['werehouse']].head(10))\n"
   ],
   "metadata": {
    "collapsed": false,
    "ExecuteTime": {
     "end_time": "2024-05-21T06:34:26.407606400Z",
     "start_time": "2024-05-21T06:34:25.130278400Z"
    }
   },
   "id": "e73a1826d3b0f6ee"
  },
  {
   "cell_type": "code",
   "execution_count": null,
   "outputs": [],
   "source": [],
   "metadata": {
    "collapsed": false
   },
   "id": "b1fb210fe2f9d7c7"
  },
  {
   "cell_type": "code",
   "execution_count": 52,
   "outputs": [
    {
     "data": {
      "text/plain": "(['filtered_pharmhub_public_EntitiesEndpoints_chunk_1.csv',\n  'filtered_pharmhub_public_EntitiesEndpoints_chunk_10.csv',\n  'filtered_pharmhub_public_EntitiesEndpoints_chunk_2.csv',\n  'filtered_pharmhub_public_EntitiesEndpoints_chunk_3.csv',\n  'filtered_pharmhub_public_EntitiesEndpoints_chunk_4.csv',\n  'filtered_pharmhub_public_EntitiesEndpoints_chunk_5.csv',\n  'filtered_pharmhub_public_EntitiesEndpoints_chunk_6.csv',\n  'filtered_pharmhub_public_EntitiesEndpoints_chunk_7.csv',\n  'filtered_pharmhub_public_EntitiesEndpoints_chunk_8.csv',\n  'filtered_pharmhub_public_EntitiesEndpoints_chunk_9.csv'],\n 27152,\n 18780)"
     },
     "execution_count": 52,
     "metadata": {},
     "output_type": "execute_result"
    }
   ],
   "source": [
    "import pandas as pd\n",
    "import os\n",
    "\n",
    "# Шаг 1: Загрузка данных\n",
    "file_path = '/mnt/d/Doc_To_Date/20240520/filtered_pharmhub_public_EntitiesEndpoints_with_broken_flags.csv'\n",
    "df = pd.read_csv(file_path)\n",
    "\n",
    "# Шаг 2: Фильтрация строк, где 'is_broken' и 'werehouse' = False\n",
    "filtered_df = df[(df['is_broken'] == False) & (df['werehouse'] == False)]\n",
    "\n",
    "# Подсчет количества строк до и после фильтрации\n",
    "initial_count = len(df)\n",
    "filtered_count = len(filtered_df)\n",
    "\n",
    "# Шаг 3: Создание директории для хранения файлов\n",
    "output_dir = '/mnt/d/Doc_To_Date/20240520/from_gpt'\n",
    "os.makedirs(output_dir, exist_ok=True)\n",
    "\n",
    "# Шаг 4: Разделение DataFrame на блоки по 3000 записей\n",
    "chunk_size = 3000\n",
    "num_chunks = len(filtered_df) // chunk_size + (1 if len(filtered_df) % chunk_size != 0 else 0)\n",
    "\n",
    "# Шаг 5: Сохранение каждого блока в отдельный CSV файл\n",
    "for i in range(num_chunks):\n",
    "    start_index = i * chunk_size\n",
    "    end_index = start_index + chunk_size\n",
    "    chunk_df = filtered_df[start_index:end_index]\n",
    "    chunk_file_path = os.path.join(output_dir, f'filtered_pharmhub_public_EntitiesEndpoints_chunk_{i + 1}.csv')\n",
    "    chunk_df.to_csv(chunk_file_path, index=False)\n",
    "\n",
    "# Проверка количества созданных файлов и их имен\n",
    "created_files = os.listdir(output_dir)\n",
    "created_files, initial_count, filtered_count\n"
   ],
   "metadata": {
    "collapsed": false,
    "ExecuteTime": {
     "end_time": "2024-05-21T07:34:43.509657800Z",
     "start_time": "2024-05-21T07:34:41.853613Z"
    }
   },
   "id": "a67f1145459fc68b"
  },
  {
   "cell_type": "code",
   "execution_count": 56,
   "outputs": [
    {
     "name": "stderr",
     "output_type": "stream",
     "text": [
      "/home/ivan/.virtualenvs/machine-learning/lib/python3.10/site-packages/IPython/core/interactiveshell.py:3457: DtypeWarning: Columns (8,26,42,43) have mixed types.Specify dtype option on import or set low_memory=False.\n",
      "  exec(code_obj, self.user_global_ns, self.user_ns)\n"
     ]
    },
    {
     "data": {
      "text/plain": "tokenizer_config.json:   0%|          | 0.00/26.0 [00:00<?, ?B/s]",
      "application/vnd.jupyter.widget-view+json": {
       "version_major": 2,
       "version_minor": 0,
       "model_id": "bb6f2977be52420099877b2f7463c980"
      }
     },
     "metadata": {},
     "output_type": "display_data"
    },
    {
     "data": {
      "text/plain": "vocab.json:   0%|          | 0.00/1.04M [00:00<?, ?B/s]",
      "application/vnd.jupyter.widget-view+json": {
       "version_major": 2,
       "version_minor": 0,
       "model_id": "ec497e02d7c04e9a93c22ea2468795c3"
      }
     },
     "metadata": {},
     "output_type": "display_data"
    },
    {
     "data": {
      "text/plain": "merges.txt:   0%|          | 0.00/456k [00:00<?, ?B/s]",
      "application/vnd.jupyter.widget-view+json": {
       "version_major": 2,
       "version_minor": 0,
       "model_id": "6f560d18619642ccb0f5e7eed13f3636"
      }
     },
     "metadata": {},
     "output_type": "display_data"
    },
    {
     "data": {
      "text/plain": "tokenizer.json:   0%|          | 0.00/1.36M [00:00<?, ?B/s]",
      "application/vnd.jupyter.widget-view+json": {
       "version_major": 2,
       "version_minor": 0,
       "model_id": "b8d8076aced2433eb4b1910521085f9d"
      }
     },
     "metadata": {},
     "output_type": "display_data"
    },
    {
     "name": "stderr",
     "output_type": "stream",
     "text": [
      "/home/ivan/.virtualenvs/machine-learning/lib/python3.10/site-packages/huggingface_hub/file_download.py:1132: FutureWarning: `resume_download` is deprecated and will be removed in version 1.0.0. Downloads always resume when possible. If you want to force a new download, use `force_download=True`.\n",
      "  warnings.warn(\n"
     ]
    },
    {
     "data": {
      "text/plain": "config.json:   0%|          | 0.00/665 [00:00<?, ?B/s]",
      "application/vnd.jupyter.widget-view+json": {
       "version_major": 2,
       "version_minor": 0,
       "model_id": "8f676a454e194a9ba90f90d86a43dd97"
      }
     },
     "metadata": {},
     "output_type": "display_data"
    },
    {
     "name": "stderr",
     "output_type": "stream",
     "text": [
      "/tmp/ipykernel_17683/3724595241.py:15: SettingWithCopyWarning: \n",
      "A value is trying to be set on a copy of a slice from a DataFrame.\n",
      "Try using .loc[row_indexer,col_indexer] = value instead\n",
      "\n",
      "See the caveats in the documentation: https://pandas.pydata.org/pandas-docs/stable/user_guide/indexing.html#returning-a-view-versus-a-copy\n",
      "  filtered_df['token_count'] = filtered_df['address'].apply(lambda x: len(tokenizer.encode(x)))\n"
     ]
    },
    {
     "data": {
      "text/plain": "1468004"
     },
     "execution_count": 56,
     "metadata": {},
     "output_type": "execute_result"
    }
   ],
   "source": [
    "import pandas as pd\n",
    "from transformers import GPT2Tokenizer\n",
    "\n",
    "# Загрузка данных\n",
    "file_path = '/mnt/d/Doc_To_Date/20240520/filtered_pharmhub_public_EntitiesEndpoints_with_broken_flags.csv'\n",
    "df = pd.read_csv(file_path)\n",
    "\n",
    "# Фильтрация строк, где 'is_broken' и 'werehouse' = False\n",
    "filtered_df = df[(df['is_broken'] == False) & (df['werehouse'] == False)]\n",
    "\n",
    "# Инициализация токенизатора GPT-2\n",
    "tokenizer = GPT2Tokenizer.from_pretrained('gpt2')\n",
    "\n",
    "# Подсчет количества токенов в колонке 'address'\n",
    "filtered_df['token_count'] = filtered_df['address'].apply(lambda x: len(tokenizer.encode(x)))\n",
    "\n",
    "# Подсчет общего количества токенов\n",
    "total_tokens = filtered_df['token_count'].sum()\n",
    "\n",
    "# Вывод общего количества токенов\n",
    "total_tokens\n"
   ],
   "metadata": {
    "collapsed": false,
    "ExecuteTime": {
     "end_time": "2024-05-21T08:11:56.969946800Z",
     "start_time": "2024-05-21T08:11:38.656969900Z"
    }
   },
   "id": "b60e7d207ad7f5f5"
  },
  {
   "cell_type": "code",
   "execution_count": 1,
   "outputs": [
    {
     "name": "stdout",
     "output_type": "stream",
     "text": [
      "                                                 File  Before  After  Added\n",
      "0   filtered_pharmhub_public_EntitiesEndpoints_chu...       7   1019   1012\n",
      "1   filtered_pharmhub_public_EntitiesEndpoints_chu...       0      0      0\n",
      "2   filtered_pharmhub_public_EntitiesEndpoints_chu...       0    184    184\n",
      "3   filtered_pharmhub_public_EntitiesEndpoints_chu...      15   1088   1073\n",
      "4   filtered_pharmhub_public_EntitiesEndpoints_chu...       8   1084   1076\n",
      "5   filtered_pharmhub_public_EntitiesEndpoints_chu...       1   1099   1098\n",
      "6   filtered_pharmhub_public_EntitiesEndpoints_chu...       3   1138   1135\n",
      "7   filtered_pharmhub_public_EntitiesEndpoints_chu...       5   1439   1434\n",
      "8   filtered_pharmhub_public_EntitiesEndpoints_chu...       2    481    479\n",
      "9   filtered_pharmhub_public_EntitiesEndpoints_chu...       3     21     18\n",
      "10  filtered_pharmhub_public_EntitiesEndpoints_chu...       4   1258   1254\n"
     ]
    }
   ],
   "source": [
    "import pandas as pd\n",
    "import os\n",
    "\n",
    "# Путь к директории с файлами до и после обработки\n",
    "dir_path = '/mnt/d/Doc_To_Date/20240520/from_gpt'\n",
    "\n",
    "# Получение списка файлов до обработки\n",
    "before_files = sorted([f for f in os.listdir(dir_path) if f.endswith('.csv') and not f.endswith('_after_processing.csv')])\n",
    "\n",
    "# Функция для получения количества заполненных fiasId в файле\n",
    "def count_filled_fiasId(file_path):\n",
    "    df = pd.read_csv(file_path)\n",
    "    return df['fiasId'].notna().sum()\n",
    "\n",
    "# Сравнение количества заполненных fiasId до и после обработки\n",
    "statistics = []\n",
    "\n",
    "for before_file in before_files:\n",
    "    before_file_path = os.path.join(dir_path, before_file)\n",
    "    after_file_path = before_file_path.replace('.csv', '_after_processing.csv')\n",
    "    \n",
    "    if os.path.exists(after_file_path):\n",
    "        before_count = count_filled_fiasId(before_file_path)\n",
    "        after_count = count_filled_fiasId(after_file_path)\n",
    "        added_count = after_count - before_count\n",
    "        statistics.append((before_file, before_count, after_count, added_count))\n",
    "\n",
    "# Вывод статистики\n",
    "statistics_df = pd.DataFrame(statistics, columns=['File', 'Before', 'After', 'Added'])\n",
    "print(statistics_df)\n"
   ],
   "metadata": {
    "collapsed": false,
    "ExecuteTime": {
     "end_time": "2024-06-04T08:53:29.275456200Z",
     "start_time": "2024-06-04T08:53:27.582333800Z"
    }
   },
   "id": "c86cbced99cb887b"
  },
  {
   "cell_type": "code",
   "execution_count": 2,
   "outputs": [
    {
     "data": {
      "text/plain": "                                                 File  Before  After  Added\n0   filtered_pharmhub_public_EntitiesEndpoints_chu...       7   1019   1012\n1   filtered_pharmhub_public_EntitiesEndpoints_chu...       0      0      0\n2   filtered_pharmhub_public_EntitiesEndpoints_chu...       0    184    184\n3   filtered_pharmhub_public_EntitiesEndpoints_chu...      15   1088   1073\n4   filtered_pharmhub_public_EntitiesEndpoints_chu...       8   1084   1076\n5   filtered_pharmhub_public_EntitiesEndpoints_chu...       1   1099   1098\n6   filtered_pharmhub_public_EntitiesEndpoints_chu...       3   1138   1135\n7   filtered_pharmhub_public_EntitiesEndpoints_chu...       5   1439   1434\n8   filtered_pharmhub_public_EntitiesEndpoints_chu...       2    481    479\n9   filtered_pharmhub_public_EntitiesEndpoints_chu...       3     21     18\n10  filtered_pharmhub_public_EntitiesEndpoints_chu...       4   1258   1254",
      "text/html": "<div>\n<style scoped>\n    .dataframe tbody tr th:only-of-type {\n        vertical-align: middle;\n    }\n\n    .dataframe tbody tr th {\n        vertical-align: top;\n    }\n\n    .dataframe thead th {\n        text-align: right;\n    }\n</style>\n<table border=\"1\" class=\"dataframe\">\n  <thead>\n    <tr style=\"text-align: right;\">\n      <th></th>\n      <th>File</th>\n      <th>Before</th>\n      <th>After</th>\n      <th>Added</th>\n    </tr>\n  </thead>\n  <tbody>\n    <tr>\n      <th>0</th>\n      <td>filtered_pharmhub_public_EntitiesEndpoints_chu...</td>\n      <td>7</td>\n      <td>1019</td>\n      <td>1012</td>\n    </tr>\n    <tr>\n      <th>1</th>\n      <td>filtered_pharmhub_public_EntitiesEndpoints_chu...</td>\n      <td>0</td>\n      <td>0</td>\n      <td>0</td>\n    </tr>\n    <tr>\n      <th>2</th>\n      <td>filtered_pharmhub_public_EntitiesEndpoints_chu...</td>\n      <td>0</td>\n      <td>184</td>\n      <td>184</td>\n    </tr>\n    <tr>\n      <th>3</th>\n      <td>filtered_pharmhub_public_EntitiesEndpoints_chu...</td>\n      <td>15</td>\n      <td>1088</td>\n      <td>1073</td>\n    </tr>\n    <tr>\n      <th>4</th>\n      <td>filtered_pharmhub_public_EntitiesEndpoints_chu...</td>\n      <td>8</td>\n      <td>1084</td>\n      <td>1076</td>\n    </tr>\n    <tr>\n      <th>5</th>\n      <td>filtered_pharmhub_public_EntitiesEndpoints_chu...</td>\n      <td>1</td>\n      <td>1099</td>\n      <td>1098</td>\n    </tr>\n    <tr>\n      <th>6</th>\n      <td>filtered_pharmhub_public_EntitiesEndpoints_chu...</td>\n      <td>3</td>\n      <td>1138</td>\n      <td>1135</td>\n    </tr>\n    <tr>\n      <th>7</th>\n      <td>filtered_pharmhub_public_EntitiesEndpoints_chu...</td>\n      <td>5</td>\n      <td>1439</td>\n      <td>1434</td>\n    </tr>\n    <tr>\n      <th>8</th>\n      <td>filtered_pharmhub_public_EntitiesEndpoints_chu...</td>\n      <td>2</td>\n      <td>481</td>\n      <td>479</td>\n    </tr>\n    <tr>\n      <th>9</th>\n      <td>filtered_pharmhub_public_EntitiesEndpoints_chu...</td>\n      <td>3</td>\n      <td>21</td>\n      <td>18</td>\n    </tr>\n    <tr>\n      <th>10</th>\n      <td>filtered_pharmhub_public_EntitiesEndpoints_chu...</td>\n      <td>4</td>\n      <td>1258</td>\n      <td>1254</td>\n    </tr>\n  </tbody>\n</table>\n</div>"
     },
     "execution_count": 2,
     "metadata": {},
     "output_type": "execute_result"
    }
   ],
   "source": [
    "statistics_df"
   ],
   "metadata": {
    "collapsed": false,
    "ExecuteTime": {
     "end_time": "2024-06-04T08:53:31.969643800Z",
     "start_time": "2024-06-04T08:53:31.882471800Z"
    }
   },
   "id": "96be544aac242dd3"
  },
  {
   "cell_type": "code",
   "execution_count": 3,
   "outputs": [
    {
     "name": "stdout",
     "output_type": "stream",
     "text": [
      "                                                 File  Before  After  Added\n",
      "0   filtered_pharmhub_public_EntitiesEndpoints_chu...       7   1019   1012\n",
      "1   filtered_pharmhub_public_EntitiesEndpoints_chu...       0      0      0\n",
      "2   filtered_pharmhub_public_EntitiesEndpoints_chu...       0    184    184\n",
      "3   filtered_pharmhub_public_EntitiesEndpoints_chu...      15   1088   1073\n",
      "4   filtered_pharmhub_public_EntitiesEndpoints_chu...       8   1084   1076\n",
      "5   filtered_pharmhub_public_EntitiesEndpoints_chu...       1   1099   1098\n",
      "6   filtered_pharmhub_public_EntitiesEndpoints_chu...       3   1138   1135\n",
      "7   filtered_pharmhub_public_EntitiesEndpoints_chu...       5   1439   1434\n",
      "8   filtered_pharmhub_public_EntitiesEndpoints_chu...       2    481    479\n",
      "9   filtered_pharmhub_public_EntitiesEndpoints_chu...       3     21     18\n",
      "10  filtered_pharmhub_public_EntitiesEndpoints_chu...       4   1258   1254\n"
     ]
    }
   ],
   "source": [
    "import pandas as pd\n",
    "import os\n",
    "\n",
    "# Путь к директории с файлами до и после обработки\n",
    "dir_path = '/mnt/d/Doc_To_Date/20240520/from_gpt'\n",
    "\n",
    "# Получение списка файлов до обработки\n",
    "before_files = sorted([f for f in os.listdir(dir_path) if f.endswith('.csv') and not f.endswith('_after_processing.csv')])\n",
    "\n",
    "# Функция для получения количества заполненных fiasId в файле\n",
    "def count_filled_fiasId(file_path):\n",
    "    df = pd.read_csv(file_path)\n",
    "    return df['fiasId'].notna().sum(), df\n",
    "\n",
    "# Сравнение количества заполненных fiasId до и после обработки\n",
    "statistics = []\n",
    "combined_df = pd.DataFrame()\n",
    "\n",
    "for before_file in before_files:\n",
    "    before_file_path = os.path.join(dir_path, before_file)\n",
    "    after_file_path = before_file_path.replace('.csv', '_after_processing.csv')\n",
    "    \n",
    "    if os.path.exists(after_file_path):\n",
    "        before_count, before_df = count_filled_fiasId(before_file_path)\n",
    "        after_count, after_df = count_filled_fiasId(after_file_path)\n",
    "        added_count = after_count - before_count\n",
    "        statistics.append((before_file, before_count, after_count, added_count))\n",
    "        \n",
    "        # Добавляем данные в общий DataFrame\n",
    "        combined_df = pd.concat([combined_df, before_df, after_df], ignore_index=True)\n",
    "\n",
    "# Сохранение объединенного DataFrame в один большой файл\n",
    "combined_df.to_csv(os.path.join(dir_path, 'combined_file.csv'), index=False)\n",
    "\n",
    "# Вывод статистики\n",
    "statistics_df = pd.DataFrame(statistics, columns=['File', 'Before', 'After', 'Added'])\n",
    "print(statistics_df)"
   ],
   "metadata": {
    "collapsed": false,
    "ExecuteTime": {
     "end_time": "2024-06-04T09:00:11.772431700Z",
     "start_time": "2024-06-04T09:00:07.233049400Z"
    }
   },
   "id": "112697f89254887a"
  },
  {
   "cell_type": "code",
   "execution_count": 4,
   "outputs": [
    {
     "name": "stdout",
     "output_type": "stream",
     "text": [
      "Объединение завершено. Файл сохранен как 'combined_after_processing.csv'.\n"
     ]
    }
   ],
   "source": [
    "import pandas as pd\n",
    "import os\n",
    "\n",
    "# Путь к директории с файлами до и после обработки\n",
    "dir_path = '/mnt/d/Doc_To_Date/20240520/from_gpt'\n",
    "\n",
    "# Получение списка файлов после обработки\n",
    "after_files = sorted([f for f in os.listdir(dir_path) if f.endswith('_after_processing.csv')])\n",
    "\n",
    "# Функция для загрузки данных из файла\n",
    "def load_data(file_path):\n",
    "    return pd.read_csv(file_path)\n",
    "\n",
    "# Объединение данных из всех файлов после обработки\n",
    "combined_df = pd.DataFrame()\n",
    "\n",
    "for after_file in after_files:\n",
    "    after_file_path = os.path.join(dir_path, after_file)\n",
    "    after_df = load_data(after_file_path)\n",
    "    \n",
    "    # Добавляем данные в общий DataFrame\n",
    "    combined_df = pd.concat([combined_df, after_df], ignore_index=True)\n",
    "\n",
    "# Сохранение объединенного DataFrame в один большой файл\n",
    "combined_df.to_csv(os.path.join(dir_path, 'combined_after_processing.csv'), index=False)\n",
    "\n",
    "print(\"Объединение завершено. Файл сохранен как 'combined_after_processing.csv'.\")\n"
   ],
   "metadata": {
    "collapsed": false,
    "ExecuteTime": {
     "end_time": "2024-06-04T09:03:52.510788100Z",
     "start_time": "2024-06-04T09:03:50.570973Z"
    }
   },
   "id": "dd098624f448093f"
  },
  {
   "cell_type": "code",
   "execution_count": null,
   "outputs": [],
   "source": [],
   "metadata": {
    "collapsed": false
   },
   "id": "e77de2bc0f3214e1"
  },
  {
   "cell_type": "code",
   "execution_count": null,
   "outputs": [],
   "source": [],
   "metadata": {
    "collapsed": false
   },
   "id": "6eadc15fa7229d42"
  },
  {
   "cell_type": "code",
   "execution_count": 27,
   "outputs": [
    {
     "name": "stderr",
     "output_type": "stream",
     "text": [
      "/home/ivan/.virtualenvs/machine-learning/lib/python3.10/site-packages/IPython/core/interactiveshell.py:3457: DtypeWarning: Columns (7,10,25) have mixed types.Specify dtype option on import or set low_memory=False.\n",
      "  exec(code_obj, self.user_global_ns, self.user_ns)\n"
     ]
    }
   ],
   "source": [
    "\n",
    "import pandas as pd\n",
    "\n",
    "# Шаг 1: Загрузка данных\n",
    "file_path = '/mnt/d/Doc_To_Date/20240520/pharmhub_public_EntitiesEndpoints.csv'\n",
    "df = pd.read_csv(file_path)\n",
    "\n",
    "# Шаг 2: Создание копии DataFrame\n",
    "#df"
   ],
   "metadata": {
    "collapsed": false,
    "ExecuteTime": {
     "end_time": "2024-06-10T06:41:48.689163200Z",
     "start_time": "2024-06-10T06:41:47.893057800Z"
    }
   },
   "id": "571e9fcb779b120e"
  },
  {
   "cell_type": "code",
   "execution_count": 28,
   "outputs": [],
   "source": [
    "# Шаг 3: Загрузка второго файла\n",
    "file_path_2 = '/mnt/d/Doc_To_Date/20240520/pharmhub_public_EntitiesEndpoints_with_filters.csv'\n",
    "df_filtered = pd.read_csv(file_path_2)\n",
    "\n",
    "# Шаг 4: Просмотр первых нескольких строк второго DataFrame\n",
    "#df_filtered"
   ],
   "metadata": {
    "collapsed": false,
    "ExecuteTime": {
     "end_time": "2024-06-10T06:41:50.733776500Z",
     "start_time": "2024-06-10T06:41:50.029066300Z"
    }
   },
   "id": "141820dad595ea3a"
  },
  {
   "cell_type": "code",
   "execution_count": 29,
   "outputs": [],
   "source": [
    "# Отфильтровать строки в df_filtered, где filter_1 равно True\n",
    "filtered_true = df_filtered[df_filtered['filter_1'] == True]\n",
    "\n",
    "# Просмотр первых нескольких строк отфильтрованного DataFrame\n",
    "#filtered_true.head()\n"
   ],
   "metadata": {
    "collapsed": false,
    "ExecuteTime": {
     "end_time": "2024-06-10T06:41:53.694170200Z",
     "start_time": "2024-06-10T06:41:53.622451200Z"
    }
   },
   "id": "e19d1e197a207b9"
  },
  {
   "cell_type": "code",
   "execution_count": 30,
   "outputs": [],
   "source": [
    "\n",
    "\n",
    "# Шаг 4: Отфильтровать строки в df_filtered, где filter_1 равно True\n",
    "filtered_ids_1 = df_filtered[df_filtered['filter_1'] == True]['id']\n",
    "\n",
    "# Шаг 5: Создание новой колонки с индексом 1 в исходном DataFrame\n",
    "df['new_column'] = 0  # Инициализация новой колонки с нулями\n",
    "df.loc[df['id'].isin(filtered_ids_1), 'new_column'] = 1  # Проставить 1 для строк с нужными id\n",
    "\n",
    "# Шаг 6: Отфильтровать строки в df_filtered, где filter_2 равно True\n",
    "filtered_ids_2 = df_filtered[df_filtered['filter_2'] == True]['id']\n",
    "\n",
    "# Шаг 7: Обновление значений в new_column до 2 для строк с нужными id\n",
    "df.loc[df['id'].isin(filtered_ids_2), 'new_column'] = 2\n",
    "\n",
    "# Шаг 8: Вставка новой колонки слева\n",
    "cols = df.columns.tolist()\n",
    "cols = [cols[-1]] + cols[:-1]\n",
    "df = df[cols]"
   ],
   "metadata": {
    "collapsed": false,
    "ExecuteTime": {
     "end_time": "2024-06-10T06:41:55.990399500Z",
     "start_time": "2024-06-10T06:41:55.914535800Z"
    }
   },
   "id": "6859731893dccedf"
  },
  {
   "cell_type": "code",
   "execution_count": 31,
   "outputs": [],
   "source": [
    "# Шаг 2: Исправление типов данных\n",
    "df['addressId'] = df['addressId'].fillna(0).astype('int')\n",
    "df['entityId'] = df['entityId'].fillna(0).astype('int')\n"
   ],
   "metadata": {
    "collapsed": false,
    "ExecuteTime": {
     "end_time": "2024-06-10T06:41:58.229714400Z",
     "start_time": "2024-06-10T06:41:58.189683100Z"
    }
   },
   "id": "9283f6a57f1c6597"
  },
  {
   "cell_type": "code",
   "execution_count": 32,
   "outputs": [
    {
     "name": "stderr",
     "output_type": "stream",
     "text": [
      "/home/ivan/.virtualenvs/machine-learning/lib/python3.10/site-packages/IPython/core/interactiveshell.py:3457: DtypeWarning: Columns (1,7,25) have mixed types.Specify dtype option on import or set low_memory=False.\n",
      "  exec(code_obj, self.user_global_ns, self.user_ns)\n"
     ]
    }
   ],
   "source": [
    "# Шаг 3: Загрузка второго файла\n",
    "file_path_3 = '/mnt/d/Doc_To_Date/20240520/filtered_pharmhub_public_EntitiesEndpoints_after_processing.csv'\n",
    "df_filtered_after = pd.read_csv(file_path_3)\n",
    "#df_filtered_after"
   ],
   "metadata": {
    "collapsed": false,
    "ExecuteTime": {
     "end_time": "2024-06-10T06:42:01.622759400Z",
     "start_time": "2024-06-10T06:42:00.344505400Z"
    }
   },
   "id": "55814d9970f9e5dd"
  },
  {
   "cell_type": "code",
   "execution_count": 33,
   "outputs": [],
   "source": [
    "# Шаг 4: Отфильтровать строки в df_filtered_after, где fiasId не равен нулю и не является пропуском\n",
    "filtered_fiasid = df_filtered_after[(df_filtered_after['fiasId'] != 0) & (df_filtered_after['fiasId'].notna())]\n",
    "\n",
    "# Шаг 5: Вставка значений fiasId в исходный DataFrame по ключу id\n",
    "df.set_index('id', inplace=True)\n",
    "filtered_fiasid.set_index('id', inplace=True)\n",
    "df.update(filtered_fiasid[['fiasId']])\n",
    "\n",
    "# Шаг 6: Сбросить индекс, чтобы вернуть колонку id\n",
    "df.reset_index(inplace=True)\n",
    "\n"
   ],
   "metadata": {
    "collapsed": false,
    "ExecuteTime": {
     "end_time": "2024-06-10T06:42:03.516922500Z",
     "start_time": "2024-06-10T06:42:03.205523900Z"
    }
   },
   "id": "8863669ef5eaf0f3"
  },
  {
   "cell_type": "code",
   "execution_count": 34,
   "outputs": [
    {
     "data": {
      "text/plain": "            id  new_column           inn  \\\n0      1014798           0    2126003123   \n1      1014799           0    1434038369   \n2      1011537           0    5906086550   \n3      1014800           0    5902199785   \n4      1011538           0    4217146394   \n...        ...         ...           ...   \n75854  1011524           0    6230121836   \n75855  1011525           2  290122876609   \n75856  1011526           2    6114011896   \n75857  1011527           0    3662233852   \n75858  1011528           0    5609188862   \n\n                                                 address  entityId  type  \\\n0      Чувашская Республика - чувашия, Мариинский Пос...     79601   NaN   \n1      678995, Саха /Якутия/ Респ, Нерюнгри г, Серебр...     48020   NaN   \n2      618909, Пермский край, Лысьвенский городской о...      5925   NaN   \n3               Екб, Верхняя Пышма, Успенский пр-кт., 20     75366   NaN   \n4      654054, Кемеровская область - Кузбасс, г. Ново...     78312   NaN   \n...                                                  ...       ...   ...   \n75854  390007, Рязанская обл., г. Рязань, ул. Октябрь...     76292   NaN   \n75855                                                  -   1949976   NaN   \n75856                                                  -     78970   NaN   \n75857  394075, Воронежская область, Воронеж г, Чудесн...     60336   NaN   \n75858  461041, Оренбургская область, Бузулук г, Фрунз...     61883   NaN   \n\n       addressId  regionCode markingBranchId  markingStatus  ...  \\\n0              0         NaN             NaN            NaN  ...   \n1              0         NaN             NaN            NaN  ...   \n2              0         NaN          453446            NaN  ...   \n3              0         NaN             NaN            NaN  ...   \n4              0         NaN          484603            NaN  ...   \n...          ...         ...             ...            ...  ...   \n75854          0         NaN             NaN            NaN  ...   \n75855          0         NaN             NaN            NaN  ...   \n75856          0         NaN             NaN            NaN  ...   \n75857          0         NaN             NaN            NaN  ...   \n75858          0         NaN             NaN            NaN  ...   \n\n              status updateIncrement  data                             source  \\\n0      clarification         1268546    {}                     pharmacy-sales   \n1      clarification         1268547    {}                     pharmacy-sales   \n2      clarification         1265285    {}  cislink-mdlp-rests-00000000453446   \n3      clarification         1268548    {}                     pharmacy-sales   \n4      clarification         1265286    {}  cislink-mdlp-rests-00000000484603   \n...              ...             ...   ...                                ...   \n75854  clarification         1229888    {}            cislink-client-86326575   \n75855  clarification         1229889    {}            cislink-client-86326576   \n75856  clarification         1229890    {}            cislink-client-86326578   \n75857  clarification         1229891    {}            cislink-client-86326604   \n75858  clarification         1229892    {}            cislink-client-86326605   \n\n                           createdAt                      updatedAt  \\\n0      2024-04-14 20:22:58.158819+00  2024-04-14 20:22:58.158819+00   \n1      2024-04-14 20:22:58.158819+00  2024-04-14 20:22:58.158819+00   \n2      2024-04-14 08:15:42.480473+00  2024-04-14 08:15:42.480473+00   \n3      2024-04-14 20:22:58.158819+00  2024-04-14 20:22:58.158819+00   \n4      2024-04-14 08:15:42.480473+00  2024-04-14 08:15:42.480473+00   \n...                              ...                            ...   \n75854  2024-04-12 16:16:43.982558+00  2024-04-12 16:16:43.982558+00   \n75855  2024-04-12 16:16:43.982558+00  2024-04-12 16:16:43.982558+00   \n75856  2024-04-12 16:16:43.982558+00  2024-04-12 16:16:43.982558+00   \n75857  2024-04-12 16:16:43.982558+00  2024-04-12 16:16:43.982558+00   \n75858  2024-04-12 16:16:43.982558+00  2024-04-12 16:16:43.982558+00   \n\n       deletedAt                              clientId title  whExternalId  \n0            NaN  5a2d6114-b82a-4ac2-83ae-12ccc304f6fb   NaN           NaN  \n1            NaN  5a2d6114-b82a-4ac2-83ae-12ccc304f6fb   NaN           NaN  \n2            NaN  5a2d6114-b82a-4ac2-83ae-12ccc304f6fb   NaN           NaN  \n3            NaN  5a2d6114-b82a-4ac2-83ae-12ccc304f6fb   NaN           NaN  \n4            NaN  5a2d6114-b82a-4ac2-83ae-12ccc304f6fb   NaN           NaN  \n...          ...                                   ...   ...           ...  \n75854        NaN  5a2d6114-b82a-4ac2-83ae-12ccc304f6fb   NaN           NaN  \n75855        NaN  5a2d6114-b82a-4ac2-83ae-12ccc304f6fb   NaN           NaN  \n75856        NaN  5a2d6114-b82a-4ac2-83ae-12ccc304f6fb   NaN           NaN  \n75857        NaN  5a2d6114-b82a-4ac2-83ae-12ccc304f6fb   NaN           NaN  \n75858        NaN  5a2d6114-b82a-4ac2-83ae-12ccc304f6fb   NaN           NaN  \n\n[75859 rows x 28 columns]",
      "text/html": "<div>\n<style scoped>\n    .dataframe tbody tr th:only-of-type {\n        vertical-align: middle;\n    }\n\n    .dataframe tbody tr th {\n        vertical-align: top;\n    }\n\n    .dataframe thead th {\n        text-align: right;\n    }\n</style>\n<table border=\"1\" class=\"dataframe\">\n  <thead>\n    <tr style=\"text-align: right;\">\n      <th></th>\n      <th>id</th>\n      <th>new_column</th>\n      <th>inn</th>\n      <th>address</th>\n      <th>entityId</th>\n      <th>type</th>\n      <th>addressId</th>\n      <th>regionCode</th>\n      <th>markingBranchId</th>\n      <th>markingStatus</th>\n      <th>...</th>\n      <th>status</th>\n      <th>updateIncrement</th>\n      <th>data</th>\n      <th>source</th>\n      <th>createdAt</th>\n      <th>updatedAt</th>\n      <th>deletedAt</th>\n      <th>clientId</th>\n      <th>title</th>\n      <th>whExternalId</th>\n    </tr>\n  </thead>\n  <tbody>\n    <tr>\n      <th>0</th>\n      <td>1014798</td>\n      <td>0</td>\n      <td>2126003123</td>\n      <td>Чувашская Республика - чувашия, Мариинский Пос...</td>\n      <td>79601</td>\n      <td>NaN</td>\n      <td>0</td>\n      <td>NaN</td>\n      <td>NaN</td>\n      <td>NaN</td>\n      <td>...</td>\n      <td>clarification</td>\n      <td>1268546</td>\n      <td>{}</td>\n      <td>pharmacy-sales</td>\n      <td>2024-04-14 20:22:58.158819+00</td>\n      <td>2024-04-14 20:22:58.158819+00</td>\n      <td>NaN</td>\n      <td>5a2d6114-b82a-4ac2-83ae-12ccc304f6fb</td>\n      <td>NaN</td>\n      <td>NaN</td>\n    </tr>\n    <tr>\n      <th>1</th>\n      <td>1014799</td>\n      <td>0</td>\n      <td>1434038369</td>\n      <td>678995, Саха /Якутия/ Респ, Нерюнгри г, Серебр...</td>\n      <td>48020</td>\n      <td>NaN</td>\n      <td>0</td>\n      <td>NaN</td>\n      <td>NaN</td>\n      <td>NaN</td>\n      <td>...</td>\n      <td>clarification</td>\n      <td>1268547</td>\n      <td>{}</td>\n      <td>pharmacy-sales</td>\n      <td>2024-04-14 20:22:58.158819+00</td>\n      <td>2024-04-14 20:22:58.158819+00</td>\n      <td>NaN</td>\n      <td>5a2d6114-b82a-4ac2-83ae-12ccc304f6fb</td>\n      <td>NaN</td>\n      <td>NaN</td>\n    </tr>\n    <tr>\n      <th>2</th>\n      <td>1011537</td>\n      <td>0</td>\n      <td>5906086550</td>\n      <td>618909, Пермский край, Лысьвенский городской о...</td>\n      <td>5925</td>\n      <td>NaN</td>\n      <td>0</td>\n      <td>NaN</td>\n      <td>453446</td>\n      <td>NaN</td>\n      <td>...</td>\n      <td>clarification</td>\n      <td>1265285</td>\n      <td>{}</td>\n      <td>cislink-mdlp-rests-00000000453446</td>\n      <td>2024-04-14 08:15:42.480473+00</td>\n      <td>2024-04-14 08:15:42.480473+00</td>\n      <td>NaN</td>\n      <td>5a2d6114-b82a-4ac2-83ae-12ccc304f6fb</td>\n      <td>NaN</td>\n      <td>NaN</td>\n    </tr>\n    <tr>\n      <th>3</th>\n      <td>1014800</td>\n      <td>0</td>\n      <td>5902199785</td>\n      <td>Екб, Верхняя Пышма, Успенский пр-кт., 20</td>\n      <td>75366</td>\n      <td>NaN</td>\n      <td>0</td>\n      <td>NaN</td>\n      <td>NaN</td>\n      <td>NaN</td>\n      <td>...</td>\n      <td>clarification</td>\n      <td>1268548</td>\n      <td>{}</td>\n      <td>pharmacy-sales</td>\n      <td>2024-04-14 20:22:58.158819+00</td>\n      <td>2024-04-14 20:22:58.158819+00</td>\n      <td>NaN</td>\n      <td>5a2d6114-b82a-4ac2-83ae-12ccc304f6fb</td>\n      <td>NaN</td>\n      <td>NaN</td>\n    </tr>\n    <tr>\n      <th>4</th>\n      <td>1011538</td>\n      <td>0</td>\n      <td>4217146394</td>\n      <td>654054, Кемеровская область - Кузбасс, г. Ново...</td>\n      <td>78312</td>\n      <td>NaN</td>\n      <td>0</td>\n      <td>NaN</td>\n      <td>484603</td>\n      <td>NaN</td>\n      <td>...</td>\n      <td>clarification</td>\n      <td>1265286</td>\n      <td>{}</td>\n      <td>cislink-mdlp-rests-00000000484603</td>\n      <td>2024-04-14 08:15:42.480473+00</td>\n      <td>2024-04-14 08:15:42.480473+00</td>\n      <td>NaN</td>\n      <td>5a2d6114-b82a-4ac2-83ae-12ccc304f6fb</td>\n      <td>NaN</td>\n      <td>NaN</td>\n    </tr>\n    <tr>\n      <th>...</th>\n      <td>...</td>\n      <td>...</td>\n      <td>...</td>\n      <td>...</td>\n      <td>...</td>\n      <td>...</td>\n      <td>...</td>\n      <td>...</td>\n      <td>...</td>\n      <td>...</td>\n      <td>...</td>\n      <td>...</td>\n      <td>...</td>\n      <td>...</td>\n      <td>...</td>\n      <td>...</td>\n      <td>...</td>\n      <td>...</td>\n      <td>...</td>\n      <td>...</td>\n      <td>...</td>\n    </tr>\n    <tr>\n      <th>75854</th>\n      <td>1011524</td>\n      <td>0</td>\n      <td>6230121836</td>\n      <td>390007, Рязанская обл., г. Рязань, ул. Октябрь...</td>\n      <td>76292</td>\n      <td>NaN</td>\n      <td>0</td>\n      <td>NaN</td>\n      <td>NaN</td>\n      <td>NaN</td>\n      <td>...</td>\n      <td>clarification</td>\n      <td>1229888</td>\n      <td>{}</td>\n      <td>cislink-client-86326575</td>\n      <td>2024-04-12 16:16:43.982558+00</td>\n      <td>2024-04-12 16:16:43.982558+00</td>\n      <td>NaN</td>\n      <td>5a2d6114-b82a-4ac2-83ae-12ccc304f6fb</td>\n      <td>NaN</td>\n      <td>NaN</td>\n    </tr>\n    <tr>\n      <th>75855</th>\n      <td>1011525</td>\n      <td>2</td>\n      <td>290122876609</td>\n      <td>-</td>\n      <td>1949976</td>\n      <td>NaN</td>\n      <td>0</td>\n      <td>NaN</td>\n      <td>NaN</td>\n      <td>NaN</td>\n      <td>...</td>\n      <td>clarification</td>\n      <td>1229889</td>\n      <td>{}</td>\n      <td>cislink-client-86326576</td>\n      <td>2024-04-12 16:16:43.982558+00</td>\n      <td>2024-04-12 16:16:43.982558+00</td>\n      <td>NaN</td>\n      <td>5a2d6114-b82a-4ac2-83ae-12ccc304f6fb</td>\n      <td>NaN</td>\n      <td>NaN</td>\n    </tr>\n    <tr>\n      <th>75856</th>\n      <td>1011526</td>\n      <td>2</td>\n      <td>6114011896</td>\n      <td>-</td>\n      <td>78970</td>\n      <td>NaN</td>\n      <td>0</td>\n      <td>NaN</td>\n      <td>NaN</td>\n      <td>NaN</td>\n      <td>...</td>\n      <td>clarification</td>\n      <td>1229890</td>\n      <td>{}</td>\n      <td>cislink-client-86326578</td>\n      <td>2024-04-12 16:16:43.982558+00</td>\n      <td>2024-04-12 16:16:43.982558+00</td>\n      <td>NaN</td>\n      <td>5a2d6114-b82a-4ac2-83ae-12ccc304f6fb</td>\n      <td>NaN</td>\n      <td>NaN</td>\n    </tr>\n    <tr>\n      <th>75857</th>\n      <td>1011527</td>\n      <td>0</td>\n      <td>3662233852</td>\n      <td>394075, Воронежская область, Воронеж г, Чудесн...</td>\n      <td>60336</td>\n      <td>NaN</td>\n      <td>0</td>\n      <td>NaN</td>\n      <td>NaN</td>\n      <td>NaN</td>\n      <td>...</td>\n      <td>clarification</td>\n      <td>1229891</td>\n      <td>{}</td>\n      <td>cislink-client-86326604</td>\n      <td>2024-04-12 16:16:43.982558+00</td>\n      <td>2024-04-12 16:16:43.982558+00</td>\n      <td>NaN</td>\n      <td>5a2d6114-b82a-4ac2-83ae-12ccc304f6fb</td>\n      <td>NaN</td>\n      <td>NaN</td>\n    </tr>\n    <tr>\n      <th>75858</th>\n      <td>1011528</td>\n      <td>0</td>\n      <td>5609188862</td>\n      <td>461041, Оренбургская область, Бузулук г, Фрунз...</td>\n      <td>61883</td>\n      <td>NaN</td>\n      <td>0</td>\n      <td>NaN</td>\n      <td>NaN</td>\n      <td>NaN</td>\n      <td>...</td>\n      <td>clarification</td>\n      <td>1229892</td>\n      <td>{}</td>\n      <td>cislink-client-86326605</td>\n      <td>2024-04-12 16:16:43.982558+00</td>\n      <td>2024-04-12 16:16:43.982558+00</td>\n      <td>NaN</td>\n      <td>5a2d6114-b82a-4ac2-83ae-12ccc304f6fb</td>\n      <td>NaN</td>\n      <td>NaN</td>\n    </tr>\n  </tbody>\n</table>\n<p>75859 rows × 28 columns</p>\n</div>"
     },
     "execution_count": 34,
     "metadata": {},
     "output_type": "execute_result"
    }
   ],
   "source": [
    "df"
   ],
   "metadata": {
    "collapsed": false,
    "ExecuteTime": {
     "end_time": "2024-06-10T06:42:07.362131Z",
     "start_time": "2024-06-10T06:42:07.248359700Z"
    }
   },
   "id": "e52d585149acc14"
  },
  {
   "cell_type": "code",
   "execution_count": 35,
   "outputs": [
    {
     "name": "stderr",
     "output_type": "stream",
     "text": [
      "/home/ivan/.virtualenvs/machine-learning/lib/python3.10/site-packages/IPython/core/interactiveshell.py:3457: DtypeWarning: Columns (1,8,10,24,26,28,29) have mixed types.Specify dtype option on import or set low_memory=False.\n",
      "  exec(code_obj, self.user_global_ns, self.user_ns)\n"
     ]
    }
   ],
   "source": [
    "# Шаг 7: Загрузка combined_file.csv\n",
    "file_path_4 = '/mnt/d/Doc_To_Date/20240520/from_gpt/combined_file.csv'\n",
    "df_combined_file = pd.read_csv(file_path_4)\n",
    "\n",
    "# Шаг 8: Замена пропусков на 0\n",
    "df_combined_file.fillna(0, inplace=True)\n",
    "\n",
    "# Шаг 9: Преобразование значений в int\n",
    "columns_to_convert = [\n",
    "    'id', 'inn', 'entityId', 'addressId', 'regionCode', 'markingBranchId', \n",
    "    'markingStatus', 'warehouse', 'fiasId', 'oneKeyId', 'updateIncrement', 'clientId', 'whExternalId'\n",
    "]\n",
    "\n",
    "for col in columns_to_convert:\n",
    "    if col in df_combined_file.columns:\n",
    "        df_combined_file[col] = pd.to_numeric(df_combined_file[col], errors='coerce').fillna(0).astype('int')\n",
    "\n",
    "# Шаг 10: Удаление колонок, которые полностью пусты или содержат только нули\n",
    "df_combined_file = df_combined_file.loc[:, (df_combined_file != 0).any(axis=0)]\n"
   ],
   "metadata": {
    "collapsed": false,
    "ExecuteTime": {
     "end_time": "2024-06-10T06:42:11.588155500Z",
     "start_time": "2024-06-10T06:42:09.799321Z"
    }
   },
   "id": "f2f51c163d88b95"
  },
  {
   "cell_type": "code",
   "execution_count": 36,
   "outputs": [
    {
     "data": {
      "text/plain": "            id         inn                                            address  \\\n0      1014799  1434038369  678995, Саха /Якутия/ Респ, Нерюнгри г, Серебр...   \n1      1011537  5906086550  618909, Пермский край, Лысьвенский городской о...   \n2      1014800  5902199785           Екб, Верхняя Пышма, Успенский пр-кт., 20   \n3      1011538  4217146394  654054, Кемеровская область - Кузбасс, г. Ново...   \n4      1011539  4217178886  654044, Кемеровская область - Кузбасс, Новокуз...   \n...        ...         ...                                                ...   \n53357   622004  7724053916                                        П-09 Тамбов   \n53358   622006  7724053916                                       П-11 Барнаул   \n53359   575748  5077020094  142253, Московская область, Серпуховский р-н, ...   \n53360   576248  6166127355  357500, Ставропольский край, г. Пятигорск, ул....   \n53361   576980  6027025282  180520, Псковская область, Псковский район, д....   \n\n                                           address_clear  entityId  addressId  \\\n0      Саха /Якутия/ Респ, Нерюнгри г., Серебряный Бо...     48020          0   \n1      Пермский край, Лысьвенский г. одской округ, г....      5925          0   \n2               Екб, Верхняя Пышма, Успенский пр-кт., 20     75366          0   \n3      Кемеровская область - Кузбасс, г. Новокузнецк,...     78312          0   \n4      Кемеровская область - Кузбасс, Новокузнецкий г...     11098          0   \n...                                                  ...       ...        ...   \n53357                                        П-09 Тамбов      3021          0   \n53358                                       П-11 Барнаул      3021          0   \n53359               Московская область, с. Липицымагазин     76549          0   \n53360  Ставропольский край, г. Пятигорск, ул. Мира, л...     75079          0   \n53361  Псковская область, д. Богданово, Ершовская вол...     70854          0   \n\n       markingBranchId  warehouse         status  updateIncrement  ...  \\\n0                    0          0  clarification          1268547  ...   \n1               453446          0  clarification          1265285  ...   \n2                    0          0  clarification          1268548  ...   \n3               484603          0  clarification          1265286  ...   \n4               499544          0  clarification          1265287  ...   \n...                ...        ...            ...              ...  ...   \n53357                0          0  clarification           830980  ...   \n53358                0          0  clarification           830982  ...   \n53359           212903          0  clarification          1223431  ...   \n53360           509221          0  clarification          1223453  ...   \n53361           105704          0  clarification          1223486  ...   \n\n      settlement.1 shortSettlement.1 street.1 shortStreet.1 house.1 block.1  \\\n0                0                 0        0             0       0       0   \n1                0                 0        0             0       0       0   \n2                0                 0        0             0       0       0   \n3                0                 0        0             0       0       0   \n4                0                 0        0             0       0       0   \n...            ...               ...      ...           ...     ...     ...   \n53357            0                 0        0             0       0       0   \n53358            0                 0        0             0       0       0   \n53359            0                 0        0             0       0       0   \n53360            0                 0        0             0       0       0   \n53361            0                 0        0             0       0       0   \n\n       fiasId.1.1 streetFiasId.1 isAddressMatched.1 isAreaMode.1  \n0               0              0                  0            0  \n1               0              0                  0            0  \n2               0              0                  0            0  \n3               0              0                  0            0  \n4               0              0                  0            0  \n...           ...            ...                ...          ...  \n53357           0              0                  0            0  \n53358           0              0                  0            0  \n53359           0              0                  0            0  \n53360           0              0                  0            0  \n53361           0              0                  0            0  \n\n[53362 rows x 58 columns]",
      "text/html": "<div>\n<style scoped>\n    .dataframe tbody tr th:only-of-type {\n        vertical-align: middle;\n    }\n\n    .dataframe tbody tr th {\n        vertical-align: top;\n    }\n\n    .dataframe thead th {\n        text-align: right;\n    }\n</style>\n<table border=\"1\" class=\"dataframe\">\n  <thead>\n    <tr style=\"text-align: right;\">\n      <th></th>\n      <th>id</th>\n      <th>inn</th>\n      <th>address</th>\n      <th>address_clear</th>\n      <th>entityId</th>\n      <th>addressId</th>\n      <th>markingBranchId</th>\n      <th>warehouse</th>\n      <th>status</th>\n      <th>updateIncrement</th>\n      <th>...</th>\n      <th>settlement.1</th>\n      <th>shortSettlement.1</th>\n      <th>street.1</th>\n      <th>shortStreet.1</th>\n      <th>house.1</th>\n      <th>block.1</th>\n      <th>fiasId.1.1</th>\n      <th>streetFiasId.1</th>\n      <th>isAddressMatched.1</th>\n      <th>isAreaMode.1</th>\n    </tr>\n  </thead>\n  <tbody>\n    <tr>\n      <th>0</th>\n      <td>1014799</td>\n      <td>1434038369</td>\n      <td>678995, Саха /Якутия/ Респ, Нерюнгри г, Серебр...</td>\n      <td>Саха /Якутия/ Респ, Нерюнгри г., Серебряный Бо...</td>\n      <td>48020</td>\n      <td>0</td>\n      <td>0</td>\n      <td>0</td>\n      <td>clarification</td>\n      <td>1268547</td>\n      <td>...</td>\n      <td>0</td>\n      <td>0</td>\n      <td>0</td>\n      <td>0</td>\n      <td>0</td>\n      <td>0</td>\n      <td>0</td>\n      <td>0</td>\n      <td>0</td>\n      <td>0</td>\n    </tr>\n    <tr>\n      <th>1</th>\n      <td>1011537</td>\n      <td>5906086550</td>\n      <td>618909, Пермский край, Лысьвенский городской о...</td>\n      <td>Пермский край, Лысьвенский г. одской округ, г....</td>\n      <td>5925</td>\n      <td>0</td>\n      <td>453446</td>\n      <td>0</td>\n      <td>clarification</td>\n      <td>1265285</td>\n      <td>...</td>\n      <td>0</td>\n      <td>0</td>\n      <td>0</td>\n      <td>0</td>\n      <td>0</td>\n      <td>0</td>\n      <td>0</td>\n      <td>0</td>\n      <td>0</td>\n      <td>0</td>\n    </tr>\n    <tr>\n      <th>2</th>\n      <td>1014800</td>\n      <td>5902199785</td>\n      <td>Екб, Верхняя Пышма, Успенский пр-кт., 20</td>\n      <td>Екб, Верхняя Пышма, Успенский пр-кт., 20</td>\n      <td>75366</td>\n      <td>0</td>\n      <td>0</td>\n      <td>0</td>\n      <td>clarification</td>\n      <td>1268548</td>\n      <td>...</td>\n      <td>0</td>\n      <td>0</td>\n      <td>0</td>\n      <td>0</td>\n      <td>0</td>\n      <td>0</td>\n      <td>0</td>\n      <td>0</td>\n      <td>0</td>\n      <td>0</td>\n    </tr>\n    <tr>\n      <th>3</th>\n      <td>1011538</td>\n      <td>4217146394</td>\n      <td>654054, Кемеровская область - Кузбасс, г. Ново...</td>\n      <td>Кемеровская область - Кузбасс, г. Новокузнецк,...</td>\n      <td>78312</td>\n      <td>0</td>\n      <td>484603</td>\n      <td>0</td>\n      <td>clarification</td>\n      <td>1265286</td>\n      <td>...</td>\n      <td>0</td>\n      <td>0</td>\n      <td>0</td>\n      <td>0</td>\n      <td>0</td>\n      <td>0</td>\n      <td>0</td>\n      <td>0</td>\n      <td>0</td>\n      <td>0</td>\n    </tr>\n    <tr>\n      <th>4</th>\n      <td>1011539</td>\n      <td>4217178886</td>\n      <td>654044, Кемеровская область - Кузбасс, Новокуз...</td>\n      <td>Кемеровская область - Кузбасс, Новокузнецкий г...</td>\n      <td>11098</td>\n      <td>0</td>\n      <td>499544</td>\n      <td>0</td>\n      <td>clarification</td>\n      <td>1265287</td>\n      <td>...</td>\n      <td>0</td>\n      <td>0</td>\n      <td>0</td>\n      <td>0</td>\n      <td>0</td>\n      <td>0</td>\n      <td>0</td>\n      <td>0</td>\n      <td>0</td>\n      <td>0</td>\n    </tr>\n    <tr>\n      <th>...</th>\n      <td>...</td>\n      <td>...</td>\n      <td>...</td>\n      <td>...</td>\n      <td>...</td>\n      <td>...</td>\n      <td>...</td>\n      <td>...</td>\n      <td>...</td>\n      <td>...</td>\n      <td>...</td>\n      <td>...</td>\n      <td>...</td>\n      <td>...</td>\n      <td>...</td>\n      <td>...</td>\n      <td>...</td>\n      <td>...</td>\n      <td>...</td>\n      <td>...</td>\n      <td>...</td>\n    </tr>\n    <tr>\n      <th>53357</th>\n      <td>622004</td>\n      <td>7724053916</td>\n      <td>П-09 Тамбов</td>\n      <td>П-09 Тамбов</td>\n      <td>3021</td>\n      <td>0</td>\n      <td>0</td>\n      <td>0</td>\n      <td>clarification</td>\n      <td>830980</td>\n      <td>...</td>\n      <td>0</td>\n      <td>0</td>\n      <td>0</td>\n      <td>0</td>\n      <td>0</td>\n      <td>0</td>\n      <td>0</td>\n      <td>0</td>\n      <td>0</td>\n      <td>0</td>\n    </tr>\n    <tr>\n      <th>53358</th>\n      <td>622006</td>\n      <td>7724053916</td>\n      <td>П-11 Барнаул</td>\n      <td>П-11 Барнаул</td>\n      <td>3021</td>\n      <td>0</td>\n      <td>0</td>\n      <td>0</td>\n      <td>clarification</td>\n      <td>830982</td>\n      <td>...</td>\n      <td>0</td>\n      <td>0</td>\n      <td>0</td>\n      <td>0</td>\n      <td>0</td>\n      <td>0</td>\n      <td>0</td>\n      <td>0</td>\n      <td>0</td>\n      <td>0</td>\n    </tr>\n    <tr>\n      <th>53359</th>\n      <td>575748</td>\n      <td>5077020094</td>\n      <td>142253, Московская область, Серпуховский р-н, ...</td>\n      <td>Московская область, с. Липицымагазин</td>\n      <td>76549</td>\n      <td>0</td>\n      <td>212903</td>\n      <td>0</td>\n      <td>clarification</td>\n      <td>1223431</td>\n      <td>...</td>\n      <td>0</td>\n      <td>0</td>\n      <td>0</td>\n      <td>0</td>\n      <td>0</td>\n      <td>0</td>\n      <td>0</td>\n      <td>0</td>\n      <td>0</td>\n      <td>0</td>\n    </tr>\n    <tr>\n      <th>53360</th>\n      <td>576248</td>\n      <td>6166127355</td>\n      <td>357500, Ставропольский край, г. Пятигорск, ул....</td>\n      <td>Ставропольский край, г. Пятигорск, ул. Мира, л...</td>\n      <td>75079</td>\n      <td>0</td>\n      <td>509221</td>\n      <td>0</td>\n      <td>clarification</td>\n      <td>1223453</td>\n      <td>...</td>\n      <td>0</td>\n      <td>0</td>\n      <td>0</td>\n      <td>0</td>\n      <td>0</td>\n      <td>0</td>\n      <td>0</td>\n      <td>0</td>\n      <td>0</td>\n      <td>0</td>\n    </tr>\n    <tr>\n      <th>53361</th>\n      <td>576980</td>\n      <td>6027025282</td>\n      <td>180520, Псковская область, Псковский район, д....</td>\n      <td>Псковская область, д. Богданово, Ершовская вол...</td>\n      <td>70854</td>\n      <td>0</td>\n      <td>105704</td>\n      <td>0</td>\n      <td>clarification</td>\n      <td>1223486</td>\n      <td>...</td>\n      <td>0</td>\n      <td>0</td>\n      <td>0</td>\n      <td>0</td>\n      <td>0</td>\n      <td>0</td>\n      <td>0</td>\n      <td>0</td>\n      <td>0</td>\n      <td>0</td>\n    </tr>\n  </tbody>\n</table>\n<p>53362 rows × 58 columns</p>\n</div>"
     },
     "execution_count": 36,
     "metadata": {},
     "output_type": "execute_result"
    }
   ],
   "source": [
    "df_combined_file"
   ],
   "metadata": {
    "collapsed": false,
    "ExecuteTime": {
     "end_time": "2024-06-10T06:43:34.818666600Z",
     "start_time": "2024-06-10T06:43:34.699036300Z"
    }
   },
   "id": "bd60763db1aa94cf"
  },
  {
   "cell_type": "code",
   "execution_count": 10,
   "outputs": [
    {
     "data": {
      "text/plain": "       new_column       id           inn  \\\n0               0  1014798    2126003123   \n1               0  1014799    1434038369   \n2               0  1011537    5906086550   \n3               0  1014800    5902199785   \n4               0  1011538    4217146394   \n...           ...      ...           ...   \n75854           0  1011524    6230121836   \n75855           2  1011525  290122876609   \n75856           2  1011526    6114011896   \n75857           0  1011527    3662233852   \n75858           0  1011528    5609188862   \n\n                                                 address  entityId  type  \\\n0      Чувашская Республика - чувашия, Мариинский Пос...     79601   NaN   \n1      678995, Саха /Якутия/ Респ, Нерюнгри г, Серебр...     48020   NaN   \n2      618909, Пермский край, Лысьвенский городской о...      5925   NaN   \n3               Екб, Верхняя Пышма, Успенский пр-кт., 20     75366   NaN   \n4      654054, Кемеровская область - Кузбасс, г. Ново...     78312   NaN   \n...                                                  ...       ...   ...   \n75854  390007, Рязанская обл., г. Рязань, ул. Октябрь...     76292   NaN   \n75855                                                  -   1949976   NaN   \n75856                                                  -     78970   NaN   \n75857  394075, Воронежская область, Воронеж г, Чудесн...     60336   NaN   \n75858  461041, Оренбургская область, Бузулук г, Фрунз...     61883   NaN   \n\n       addressId  regionCode markingBranchId  markingStatus  ...  \\\n0              0         NaN             NaN            NaN  ...   \n1              0         NaN             NaN            NaN  ...   \n2              0         NaN          453446            NaN  ...   \n3              0         NaN             NaN            NaN  ...   \n4              0         NaN          484603            NaN  ...   \n...          ...         ...             ...            ...  ...   \n75854          0         NaN             NaN            NaN  ...   \n75855          0         NaN             NaN            NaN  ...   \n75856          0         NaN             NaN            NaN  ...   \n75857          0         NaN             NaN            NaN  ...   \n75858          0         NaN             NaN            NaN  ...   \n\n              status updateIncrement  data                             source  \\\n0      clarification         1268546    {}                     pharmacy-sales   \n1      clarification         1268547    {}                     pharmacy-sales   \n2      clarification         1265285    {}  cislink-mdlp-rests-00000000453446   \n3      clarification         1268548    {}                     pharmacy-sales   \n4      clarification         1265286    {}  cislink-mdlp-rests-00000000484603   \n...              ...             ...   ...                                ...   \n75854  clarification         1229888    {}            cislink-client-86326575   \n75855  clarification         1229889    {}            cislink-client-86326576   \n75856  clarification         1229890    {}            cislink-client-86326578   \n75857  clarification         1229891    {}            cislink-client-86326604   \n75858  clarification         1229892    {}            cislink-client-86326605   \n\n                           createdAt                      updatedAt  \\\n0      2024-04-14 20:22:58.158819+00  2024-04-14 20:22:58.158819+00   \n1      2024-04-14 20:22:58.158819+00  2024-04-14 20:22:58.158819+00   \n2      2024-04-14 08:15:42.480473+00  2024-04-14 08:15:42.480473+00   \n3      2024-04-14 20:22:58.158819+00  2024-04-14 20:22:58.158819+00   \n4      2024-04-14 08:15:42.480473+00  2024-04-14 08:15:42.480473+00   \n...                              ...                            ...   \n75854  2024-04-12 16:16:43.982558+00  2024-04-12 16:16:43.982558+00   \n75855  2024-04-12 16:16:43.982558+00  2024-04-12 16:16:43.982558+00   \n75856  2024-04-12 16:16:43.982558+00  2024-04-12 16:16:43.982558+00   \n75857  2024-04-12 16:16:43.982558+00  2024-04-12 16:16:43.982558+00   \n75858  2024-04-12 16:16:43.982558+00  2024-04-12 16:16:43.982558+00   \n\n       deletedAt                              clientId title  whExternalId  \n0            NaN  5a2d6114-b82a-4ac2-83ae-12ccc304f6fb   NaN           NaN  \n1            NaN  5a2d6114-b82a-4ac2-83ae-12ccc304f6fb   NaN           NaN  \n2            NaN  5a2d6114-b82a-4ac2-83ae-12ccc304f6fb   NaN           NaN  \n3            NaN  5a2d6114-b82a-4ac2-83ae-12ccc304f6fb   NaN           NaN  \n4            NaN  5a2d6114-b82a-4ac2-83ae-12ccc304f6fb   NaN           NaN  \n...          ...                                   ...   ...           ...  \n75854        NaN  5a2d6114-b82a-4ac2-83ae-12ccc304f6fb   NaN           NaN  \n75855        NaN  5a2d6114-b82a-4ac2-83ae-12ccc304f6fb   NaN           NaN  \n75856        NaN  5a2d6114-b82a-4ac2-83ae-12ccc304f6fb   NaN           NaN  \n75857        NaN  5a2d6114-b82a-4ac2-83ae-12ccc304f6fb   NaN           NaN  \n75858        NaN  5a2d6114-b82a-4ac2-83ae-12ccc304f6fb   NaN           NaN  \n\n[75859 rows x 28 columns]",
      "text/html": "<div>\n<style scoped>\n    .dataframe tbody tr th:only-of-type {\n        vertical-align: middle;\n    }\n\n    .dataframe tbody tr th {\n        vertical-align: top;\n    }\n\n    .dataframe thead th {\n        text-align: right;\n    }\n</style>\n<table border=\"1\" class=\"dataframe\">\n  <thead>\n    <tr style=\"text-align: right;\">\n      <th></th>\n      <th>new_column</th>\n      <th>id</th>\n      <th>inn</th>\n      <th>address</th>\n      <th>entityId</th>\n      <th>type</th>\n      <th>addressId</th>\n      <th>regionCode</th>\n      <th>markingBranchId</th>\n      <th>markingStatus</th>\n      <th>...</th>\n      <th>status</th>\n      <th>updateIncrement</th>\n      <th>data</th>\n      <th>source</th>\n      <th>createdAt</th>\n      <th>updatedAt</th>\n      <th>deletedAt</th>\n      <th>clientId</th>\n      <th>title</th>\n      <th>whExternalId</th>\n    </tr>\n  </thead>\n  <tbody>\n    <tr>\n      <th>0</th>\n      <td>0</td>\n      <td>1014798</td>\n      <td>2126003123</td>\n      <td>Чувашская Республика - чувашия, Мариинский Пос...</td>\n      <td>79601</td>\n      <td>NaN</td>\n      <td>0</td>\n      <td>NaN</td>\n      <td>NaN</td>\n      <td>NaN</td>\n      <td>...</td>\n      <td>clarification</td>\n      <td>1268546</td>\n      <td>{}</td>\n      <td>pharmacy-sales</td>\n      <td>2024-04-14 20:22:58.158819+00</td>\n      <td>2024-04-14 20:22:58.158819+00</td>\n      <td>NaN</td>\n      <td>5a2d6114-b82a-4ac2-83ae-12ccc304f6fb</td>\n      <td>NaN</td>\n      <td>NaN</td>\n    </tr>\n    <tr>\n      <th>1</th>\n      <td>0</td>\n      <td>1014799</td>\n      <td>1434038369</td>\n      <td>678995, Саха /Якутия/ Респ, Нерюнгри г, Серебр...</td>\n      <td>48020</td>\n      <td>NaN</td>\n      <td>0</td>\n      <td>NaN</td>\n      <td>NaN</td>\n      <td>NaN</td>\n      <td>...</td>\n      <td>clarification</td>\n      <td>1268547</td>\n      <td>{}</td>\n      <td>pharmacy-sales</td>\n      <td>2024-04-14 20:22:58.158819+00</td>\n      <td>2024-04-14 20:22:58.158819+00</td>\n      <td>NaN</td>\n      <td>5a2d6114-b82a-4ac2-83ae-12ccc304f6fb</td>\n      <td>NaN</td>\n      <td>NaN</td>\n    </tr>\n    <tr>\n      <th>2</th>\n      <td>0</td>\n      <td>1011537</td>\n      <td>5906086550</td>\n      <td>618909, Пермский край, Лысьвенский городской о...</td>\n      <td>5925</td>\n      <td>NaN</td>\n      <td>0</td>\n      <td>NaN</td>\n      <td>453446</td>\n      <td>NaN</td>\n      <td>...</td>\n      <td>clarification</td>\n      <td>1265285</td>\n      <td>{}</td>\n      <td>cislink-mdlp-rests-00000000453446</td>\n      <td>2024-04-14 08:15:42.480473+00</td>\n      <td>2024-04-14 08:15:42.480473+00</td>\n      <td>NaN</td>\n      <td>5a2d6114-b82a-4ac2-83ae-12ccc304f6fb</td>\n      <td>NaN</td>\n      <td>NaN</td>\n    </tr>\n    <tr>\n      <th>3</th>\n      <td>0</td>\n      <td>1014800</td>\n      <td>5902199785</td>\n      <td>Екб, Верхняя Пышма, Успенский пр-кт., 20</td>\n      <td>75366</td>\n      <td>NaN</td>\n      <td>0</td>\n      <td>NaN</td>\n      <td>NaN</td>\n      <td>NaN</td>\n      <td>...</td>\n      <td>clarification</td>\n      <td>1268548</td>\n      <td>{}</td>\n      <td>pharmacy-sales</td>\n      <td>2024-04-14 20:22:58.158819+00</td>\n      <td>2024-04-14 20:22:58.158819+00</td>\n      <td>NaN</td>\n      <td>5a2d6114-b82a-4ac2-83ae-12ccc304f6fb</td>\n      <td>NaN</td>\n      <td>NaN</td>\n    </tr>\n    <tr>\n      <th>4</th>\n      <td>0</td>\n      <td>1011538</td>\n      <td>4217146394</td>\n      <td>654054, Кемеровская область - Кузбасс, г. Ново...</td>\n      <td>78312</td>\n      <td>NaN</td>\n      <td>0</td>\n      <td>NaN</td>\n      <td>484603</td>\n      <td>NaN</td>\n      <td>...</td>\n      <td>clarification</td>\n      <td>1265286</td>\n      <td>{}</td>\n      <td>cislink-mdlp-rests-00000000484603</td>\n      <td>2024-04-14 08:15:42.480473+00</td>\n      <td>2024-04-14 08:15:42.480473+00</td>\n      <td>NaN</td>\n      <td>5a2d6114-b82a-4ac2-83ae-12ccc304f6fb</td>\n      <td>NaN</td>\n      <td>NaN</td>\n    </tr>\n    <tr>\n      <th>...</th>\n      <td>...</td>\n      <td>...</td>\n      <td>...</td>\n      <td>...</td>\n      <td>...</td>\n      <td>...</td>\n      <td>...</td>\n      <td>...</td>\n      <td>...</td>\n      <td>...</td>\n      <td>...</td>\n      <td>...</td>\n      <td>...</td>\n      <td>...</td>\n      <td>...</td>\n      <td>...</td>\n      <td>...</td>\n      <td>...</td>\n      <td>...</td>\n      <td>...</td>\n      <td>...</td>\n    </tr>\n    <tr>\n      <th>75854</th>\n      <td>0</td>\n      <td>1011524</td>\n      <td>6230121836</td>\n      <td>390007, Рязанская обл., г. Рязань, ул. Октябрь...</td>\n      <td>76292</td>\n      <td>NaN</td>\n      <td>0</td>\n      <td>NaN</td>\n      <td>NaN</td>\n      <td>NaN</td>\n      <td>...</td>\n      <td>clarification</td>\n      <td>1229888</td>\n      <td>{}</td>\n      <td>cislink-client-86326575</td>\n      <td>2024-04-12 16:16:43.982558+00</td>\n      <td>2024-04-12 16:16:43.982558+00</td>\n      <td>NaN</td>\n      <td>5a2d6114-b82a-4ac2-83ae-12ccc304f6fb</td>\n      <td>NaN</td>\n      <td>NaN</td>\n    </tr>\n    <tr>\n      <th>75855</th>\n      <td>2</td>\n      <td>1011525</td>\n      <td>290122876609</td>\n      <td>-</td>\n      <td>1949976</td>\n      <td>NaN</td>\n      <td>0</td>\n      <td>NaN</td>\n      <td>NaN</td>\n      <td>NaN</td>\n      <td>...</td>\n      <td>clarification</td>\n      <td>1229889</td>\n      <td>{}</td>\n      <td>cislink-client-86326576</td>\n      <td>2024-04-12 16:16:43.982558+00</td>\n      <td>2024-04-12 16:16:43.982558+00</td>\n      <td>NaN</td>\n      <td>5a2d6114-b82a-4ac2-83ae-12ccc304f6fb</td>\n      <td>NaN</td>\n      <td>NaN</td>\n    </tr>\n    <tr>\n      <th>75856</th>\n      <td>2</td>\n      <td>1011526</td>\n      <td>6114011896</td>\n      <td>-</td>\n      <td>78970</td>\n      <td>NaN</td>\n      <td>0</td>\n      <td>NaN</td>\n      <td>NaN</td>\n      <td>NaN</td>\n      <td>...</td>\n      <td>clarification</td>\n      <td>1229890</td>\n      <td>{}</td>\n      <td>cislink-client-86326578</td>\n      <td>2024-04-12 16:16:43.982558+00</td>\n      <td>2024-04-12 16:16:43.982558+00</td>\n      <td>NaN</td>\n      <td>5a2d6114-b82a-4ac2-83ae-12ccc304f6fb</td>\n      <td>NaN</td>\n      <td>NaN</td>\n    </tr>\n    <tr>\n      <th>75857</th>\n      <td>0</td>\n      <td>1011527</td>\n      <td>3662233852</td>\n      <td>394075, Воронежская область, Воронеж г, Чудесн...</td>\n      <td>60336</td>\n      <td>NaN</td>\n      <td>0</td>\n      <td>NaN</td>\n      <td>NaN</td>\n      <td>NaN</td>\n      <td>...</td>\n      <td>clarification</td>\n      <td>1229891</td>\n      <td>{}</td>\n      <td>cislink-client-86326604</td>\n      <td>2024-04-12 16:16:43.982558+00</td>\n      <td>2024-04-12 16:16:43.982558+00</td>\n      <td>NaN</td>\n      <td>5a2d6114-b82a-4ac2-83ae-12ccc304f6fb</td>\n      <td>NaN</td>\n      <td>NaN</td>\n    </tr>\n    <tr>\n      <th>75858</th>\n      <td>0</td>\n      <td>1011528</td>\n      <td>5609188862</td>\n      <td>461041, Оренбургская область, Бузулук г, Фрунз...</td>\n      <td>61883</td>\n      <td>NaN</td>\n      <td>0</td>\n      <td>NaN</td>\n      <td>NaN</td>\n      <td>NaN</td>\n      <td>...</td>\n      <td>clarification</td>\n      <td>1229892</td>\n      <td>{}</td>\n      <td>cislink-client-86326605</td>\n      <td>2024-04-12 16:16:43.982558+00</td>\n      <td>2024-04-12 16:16:43.982558+00</td>\n      <td>NaN</td>\n      <td>5a2d6114-b82a-4ac2-83ae-12ccc304f6fb</td>\n      <td>NaN</td>\n      <td>NaN</td>\n    </tr>\n  </tbody>\n</table>\n<p>75859 rows × 28 columns</p>\n</div>"
     },
     "execution_count": 10,
     "metadata": {},
     "output_type": "execute_result"
    }
   ],
   "source": [
    "df"
   ],
   "metadata": {
    "collapsed": false,
    "ExecuteTime": {
     "end_time": "2024-06-10T06:24:50.863844300Z",
     "start_time": "2024-06-10T06:24:50.460542Z"
    }
   },
   "id": "58b618af378c2348"
  },
  {
   "cell_type": "code",
   "execution_count": 37,
   "outputs": [],
   "source": [
    "# Шаг 3: Отбор строк, где значения streetFiasId.1 не равны нулю и не пусты\n",
    "df_street_fiasid = df_combined_file[df_combined_file['streetFiasId.1'] != 0]\n",
    "\n",
    "# Шаг 4: Создание новой колонки streetFiasId в основном DataFrame\n",
    "df.insert(df.columns.get_loc('fiasId') + 1, 'streetFiasId', None)\n",
    "\n",
    "# Шаг 5: Присвоение значений streetFiasId из df_street_fiasid в основной df\n",
    "df.set_index('id', inplace=True)\n",
    "df_street_fiasid.set_index('id', inplace=True)\n",
    "\n",
    "for index, row in df_street_fiasid.iterrows():\n",
    "    if index in df.index:\n",
    "        df.at[index, 'streetFiasId'] = row['streetFiasId.1']\n",
    "\n",
    "# Приведение типов данных колонки streetFiasId к типу данных колонки fiasId\n",
    "df['streetFiasId'] = df['streetFiasId'].astype(df['fiasId'].dtype)\n",
    "\n",
    "# Сброс индекса для основного DataFrame\n",
    "df.reset_index(inplace=True)\n"
   ],
   "metadata": {
    "collapsed": false,
    "ExecuteTime": {
     "end_time": "2024-06-10T06:43:46.221869900Z",
     "start_time": "2024-06-10T06:43:45.402793700Z"
    }
   },
   "id": "9bce282be5163ef"
  },
  {
   "cell_type": "code",
   "execution_count": null,
   "outputs": [],
   "source": [
    "df.dtypes"
   ],
   "metadata": {
    "collapsed": false
   },
   "id": "ca351b5667ff927b"
  },
  {
   "cell_type": "code",
   "execution_count": 38,
   "outputs": [],
   "source": [
    "# Приведение всех пропусков к виду pd.NA\n",
    "df['fiasId'] = df['fiasId'].replace({None: pd.NA})\n",
    "df['streetFiasId'] = df['streetFiasId'].replace({None: pd.NA})"
   ],
   "metadata": {
    "collapsed": false,
    "ExecuteTime": {
     "end_time": "2024-06-10T06:43:48.986532300Z",
     "start_time": "2024-06-10T06:43:48.882880100Z"
    }
   },
   "id": "399c1d7cf7ad95d4"
  },
  {
   "cell_type": "code",
   "execution_count": 39,
   "outputs": [],
   "source": [
    "# Приведение типов данных колонки streetFiasId к типу данных колонки fiasId\n",
    "df['streetFiasId'] = df['streetFiasId'].astype(df['fiasId'].dtype)\n",
    "\n",
    "# Проставление цифры 3 там, где есть только streetFiasId, а fiasId нет данных\n",
    "df.loc[df['fiasId'].isna() & df['streetFiasId'].notna(), 'new_column'] = 3\n",
    "\n",
    "# Сброс индекса для основного DataFrame\n",
    "df.reset_index(inplace=True)"
   ],
   "metadata": {
    "collapsed": false,
    "ExecuteTime": {
     "end_time": "2024-06-10T06:43:50.147821300Z",
     "start_time": "2024-06-10T06:43:49.974659800Z"
    }
   },
   "id": "129ea27a4d9201cd"
  },
  {
   "cell_type": "code",
   "execution_count": 40,
   "outputs": [],
   "source": [
    "# Проставление цифры 5 там, где есть значение в колонке 'fiasId'\n",
    "df.loc[df['fiasId'].notna(), 'new_column'] = 5"
   ],
   "metadata": {
    "collapsed": false,
    "ExecuteTime": {
     "end_time": "2024-06-10T06:43:54.267487500Z",
     "start_time": "2024-06-10T06:43:54.193933300Z"
    }
   },
   "id": "3c5ddf2392cc79cb"
  },
  {
   "cell_type": "code",
   "execution_count": 45,
   "outputs": [
    {
     "data": {
      "text/plain": "0    24408\n2    17379\n5    14979\n1    10720\n3     8373\nName: new_column, dtype: int64"
     },
     "execution_count": 45,
     "metadata": {},
     "output_type": "execute_result"
    }
   ],
   "source": [
    "# Подсчет количества строк для каждого уникального значения в колонке 'new_column'\n",
    "new_column_stats = df['new_column'].value_counts()\n",
    "new_column_stats"
   ],
   "metadata": {
    "collapsed": false,
    "ExecuteTime": {
     "end_time": "2024-06-10T06:45:31.679615500Z",
     "start_time": "2024-06-10T06:45:31.537744800Z"
    }
   },
   "id": "ae1f62e785f74b16"
  },
  {
   "cell_type": "code",
   "execution_count": 23,
   "outputs": [
    {
     "data": {
      "text/plain": "            id  index  new_column           inn  \\\n0      1014798      0           0    2126003123   \n1      1014799      1           0    1434038369   \n3      1014800      3           0    5902199785   \n7      1014801      7           0    1001054160   \n9      1011543      9           0  320301950920   \n...        ...    ...         ...           ...   \n75852  1011522  75852           0    3665012499   \n75853  1011523  75853           0  691202524845   \n75854  1011524  75854           0    6230121836   \n75857  1011527  75857           0    3662233852   \n75858  1011528  75858           0    5609188862   \n\n                                                 address  entityId  type  \\\n0      Чувашская Республика - чувашия, Мариинский Пос...     79601   NaN   \n1      678995, Саха /Якутия/ Респ, Нерюнгри г, Серебр...     48020   NaN   \n3               Екб, Верхняя Пышма, Успенский пр-кт., 20     75366   NaN   \n7      г.Петрозаводск, Лесной проспект( ТЦ Лотос-Плаз...      7018   NaN   \n9      000000, Брянская область, Карачевский район, г...     76724   NaN   \n...                                                  ...       ...   ...   \n75852  396005, Воронежская обл., Рамонский р-н, х. Ве...     57158   NaN   \n75853  172527, Тверская обл., г. Нелидово, ул. Матрос...     73053   NaN   \n75854  390007, Рязанская обл., г. Рязань, ул. Октябрь...     76292   NaN   \n75857  394075, Воронежская область, Воронеж г, Чудесн...     60336   NaN   \n75858  461041, Оренбургская область, Бузулук г, Фрунз...     61883   NaN   \n\n       addressId  regionCode markingBranchId  ...         status  \\\n0              0         NaN             NaN  ...  clarification   \n1              0         NaN             NaN  ...  clarification   \n3              0         NaN             NaN  ...  clarification   \n7              0         NaN             NaN  ...  clarification   \n9              0         NaN          471265  ...  clarification   \n...          ...         ...             ...  ...            ...   \n75852          0         NaN             NaN  ...  clarification   \n75853          0         NaN             NaN  ...  clarification   \n75854          0         NaN             NaN  ...  clarification   \n75857          0         NaN             NaN  ...  clarification   \n75858          0         NaN             NaN  ...  clarification   \n\n       updateIncrement data                             source  \\\n0              1268546   {}                     pharmacy-sales   \n1              1268547   {}                     pharmacy-sales   \n3              1268548   {}                     pharmacy-sales   \n7              1268549   {}                     pharmacy-sales   \n9              1265291   {}  cislink-mdlp-rests-00000000471265   \n...                ...  ...                                ...   \n75852          1229886   {}            cislink-client-86326573   \n75853          1229887   {}            cislink-client-86326574   \n75854          1229888   {}            cislink-client-86326575   \n75857          1229891   {}            cislink-client-86326604   \n75858          1229892   {}            cislink-client-86326605   \n\n                           createdAt                      updatedAt  \\\n0      2024-04-14 20:22:58.158819+00  2024-04-14 20:22:58.158819+00   \n1      2024-04-14 20:22:58.158819+00  2024-04-14 20:22:58.158819+00   \n3      2024-04-14 20:22:58.158819+00  2024-04-14 20:22:58.158819+00   \n7      2024-04-14 20:22:58.158819+00  2024-04-14 20:22:58.158819+00   \n9      2024-04-14 08:15:42.480473+00  2024-04-14 08:15:42.480473+00   \n...                              ...                            ...   \n75852  2024-04-12 16:16:43.982558+00  2024-04-12 16:16:43.982558+00   \n75853  2024-04-12 16:16:43.982558+00  2024-04-12 16:16:43.982558+00   \n75854  2024-04-12 16:16:43.982558+00  2024-04-12 16:16:43.982558+00   \n75857  2024-04-12 16:16:43.982558+00  2024-04-12 16:16:43.982558+00   \n75858  2024-04-12 16:16:43.982558+00  2024-04-12 16:16:43.982558+00   \n\n       deletedAt                              clientId  title  whExternalId  \n0            NaN  5a2d6114-b82a-4ac2-83ae-12ccc304f6fb    NaN           NaN  \n1            NaN  5a2d6114-b82a-4ac2-83ae-12ccc304f6fb    NaN           NaN  \n3            NaN  5a2d6114-b82a-4ac2-83ae-12ccc304f6fb    NaN           NaN  \n7            NaN  5a2d6114-b82a-4ac2-83ae-12ccc304f6fb    NaN           NaN  \n9            NaN  5a2d6114-b82a-4ac2-83ae-12ccc304f6fb    NaN           NaN  \n...          ...                                   ...    ...           ...  \n75852        NaN  5a2d6114-b82a-4ac2-83ae-12ccc304f6fb    NaN           NaN  \n75853        NaN  5a2d6114-b82a-4ac2-83ae-12ccc304f6fb    NaN           NaN  \n75854        NaN  5a2d6114-b82a-4ac2-83ae-12ccc304f6fb    NaN           NaN  \n75857        NaN  5a2d6114-b82a-4ac2-83ae-12ccc304f6fb    NaN           NaN  \n75858        NaN  5a2d6114-b82a-4ac2-83ae-12ccc304f6fb    NaN           NaN  \n\n[39386 rows x 30 columns]",
      "text/html": "<div>\n<style scoped>\n    .dataframe tbody tr th:only-of-type {\n        vertical-align: middle;\n    }\n\n    .dataframe tbody tr th {\n        vertical-align: top;\n    }\n\n    .dataframe thead th {\n        text-align: right;\n    }\n</style>\n<table border=\"1\" class=\"dataframe\">\n  <thead>\n    <tr style=\"text-align: right;\">\n      <th></th>\n      <th>id</th>\n      <th>index</th>\n      <th>new_column</th>\n      <th>inn</th>\n      <th>address</th>\n      <th>entityId</th>\n      <th>type</th>\n      <th>addressId</th>\n      <th>regionCode</th>\n      <th>markingBranchId</th>\n      <th>...</th>\n      <th>status</th>\n      <th>updateIncrement</th>\n      <th>data</th>\n      <th>source</th>\n      <th>createdAt</th>\n      <th>updatedAt</th>\n      <th>deletedAt</th>\n      <th>clientId</th>\n      <th>title</th>\n      <th>whExternalId</th>\n    </tr>\n  </thead>\n  <tbody>\n    <tr>\n      <th>0</th>\n      <td>1014798</td>\n      <td>0</td>\n      <td>0</td>\n      <td>2126003123</td>\n      <td>Чувашская Республика - чувашия, Мариинский Пос...</td>\n      <td>79601</td>\n      <td>NaN</td>\n      <td>0</td>\n      <td>NaN</td>\n      <td>NaN</td>\n      <td>...</td>\n      <td>clarification</td>\n      <td>1268546</td>\n      <td>{}</td>\n      <td>pharmacy-sales</td>\n      <td>2024-04-14 20:22:58.158819+00</td>\n      <td>2024-04-14 20:22:58.158819+00</td>\n      <td>NaN</td>\n      <td>5a2d6114-b82a-4ac2-83ae-12ccc304f6fb</td>\n      <td>NaN</td>\n      <td>NaN</td>\n    </tr>\n    <tr>\n      <th>1</th>\n      <td>1014799</td>\n      <td>1</td>\n      <td>0</td>\n      <td>1434038369</td>\n      <td>678995, Саха /Якутия/ Респ, Нерюнгри г, Серебр...</td>\n      <td>48020</td>\n      <td>NaN</td>\n      <td>0</td>\n      <td>NaN</td>\n      <td>NaN</td>\n      <td>...</td>\n      <td>clarification</td>\n      <td>1268547</td>\n      <td>{}</td>\n      <td>pharmacy-sales</td>\n      <td>2024-04-14 20:22:58.158819+00</td>\n      <td>2024-04-14 20:22:58.158819+00</td>\n      <td>NaN</td>\n      <td>5a2d6114-b82a-4ac2-83ae-12ccc304f6fb</td>\n      <td>NaN</td>\n      <td>NaN</td>\n    </tr>\n    <tr>\n      <th>3</th>\n      <td>1014800</td>\n      <td>3</td>\n      <td>0</td>\n      <td>5902199785</td>\n      <td>Екб, Верхняя Пышма, Успенский пр-кт., 20</td>\n      <td>75366</td>\n      <td>NaN</td>\n      <td>0</td>\n      <td>NaN</td>\n      <td>NaN</td>\n      <td>...</td>\n      <td>clarification</td>\n      <td>1268548</td>\n      <td>{}</td>\n      <td>pharmacy-sales</td>\n      <td>2024-04-14 20:22:58.158819+00</td>\n      <td>2024-04-14 20:22:58.158819+00</td>\n      <td>NaN</td>\n      <td>5a2d6114-b82a-4ac2-83ae-12ccc304f6fb</td>\n      <td>NaN</td>\n      <td>NaN</td>\n    </tr>\n    <tr>\n      <th>7</th>\n      <td>1014801</td>\n      <td>7</td>\n      <td>0</td>\n      <td>1001054160</td>\n      <td>г.Петрозаводск, Лесной проспект( ТЦ Лотос-Плаз...</td>\n      <td>7018</td>\n      <td>NaN</td>\n      <td>0</td>\n      <td>NaN</td>\n      <td>NaN</td>\n      <td>...</td>\n      <td>clarification</td>\n      <td>1268549</td>\n      <td>{}</td>\n      <td>pharmacy-sales</td>\n      <td>2024-04-14 20:22:58.158819+00</td>\n      <td>2024-04-14 20:22:58.158819+00</td>\n      <td>NaN</td>\n      <td>5a2d6114-b82a-4ac2-83ae-12ccc304f6fb</td>\n      <td>NaN</td>\n      <td>NaN</td>\n    </tr>\n    <tr>\n      <th>9</th>\n      <td>1011543</td>\n      <td>9</td>\n      <td>0</td>\n      <td>320301950920</td>\n      <td>000000, Брянская область, Карачевский район, г...</td>\n      <td>76724</td>\n      <td>NaN</td>\n      <td>0</td>\n      <td>NaN</td>\n      <td>471265</td>\n      <td>...</td>\n      <td>clarification</td>\n      <td>1265291</td>\n      <td>{}</td>\n      <td>cislink-mdlp-rests-00000000471265</td>\n      <td>2024-04-14 08:15:42.480473+00</td>\n      <td>2024-04-14 08:15:42.480473+00</td>\n      <td>NaN</td>\n      <td>5a2d6114-b82a-4ac2-83ae-12ccc304f6fb</td>\n      <td>NaN</td>\n      <td>NaN</td>\n    </tr>\n    <tr>\n      <th>...</th>\n      <td>...</td>\n      <td>...</td>\n      <td>...</td>\n      <td>...</td>\n      <td>...</td>\n      <td>...</td>\n      <td>...</td>\n      <td>...</td>\n      <td>...</td>\n      <td>...</td>\n      <td>...</td>\n      <td>...</td>\n      <td>...</td>\n      <td>...</td>\n      <td>...</td>\n      <td>...</td>\n      <td>...</td>\n      <td>...</td>\n      <td>...</td>\n      <td>...</td>\n      <td>...</td>\n    </tr>\n    <tr>\n      <th>75852</th>\n      <td>1011522</td>\n      <td>75852</td>\n      <td>0</td>\n      <td>3665012499</td>\n      <td>396005, Воронежская обл., Рамонский р-н, х. Ве...</td>\n      <td>57158</td>\n      <td>NaN</td>\n      <td>0</td>\n      <td>NaN</td>\n      <td>NaN</td>\n      <td>...</td>\n      <td>clarification</td>\n      <td>1229886</td>\n      <td>{}</td>\n      <td>cislink-client-86326573</td>\n      <td>2024-04-12 16:16:43.982558+00</td>\n      <td>2024-04-12 16:16:43.982558+00</td>\n      <td>NaN</td>\n      <td>5a2d6114-b82a-4ac2-83ae-12ccc304f6fb</td>\n      <td>NaN</td>\n      <td>NaN</td>\n    </tr>\n    <tr>\n      <th>75853</th>\n      <td>1011523</td>\n      <td>75853</td>\n      <td>0</td>\n      <td>691202524845</td>\n      <td>172527, Тверская обл., г. Нелидово, ул. Матрос...</td>\n      <td>73053</td>\n      <td>NaN</td>\n      <td>0</td>\n      <td>NaN</td>\n      <td>NaN</td>\n      <td>...</td>\n      <td>clarification</td>\n      <td>1229887</td>\n      <td>{}</td>\n      <td>cislink-client-86326574</td>\n      <td>2024-04-12 16:16:43.982558+00</td>\n      <td>2024-04-12 16:16:43.982558+00</td>\n      <td>NaN</td>\n      <td>5a2d6114-b82a-4ac2-83ae-12ccc304f6fb</td>\n      <td>NaN</td>\n      <td>NaN</td>\n    </tr>\n    <tr>\n      <th>75854</th>\n      <td>1011524</td>\n      <td>75854</td>\n      <td>0</td>\n      <td>6230121836</td>\n      <td>390007, Рязанская обл., г. Рязань, ул. Октябрь...</td>\n      <td>76292</td>\n      <td>NaN</td>\n      <td>0</td>\n      <td>NaN</td>\n      <td>NaN</td>\n      <td>...</td>\n      <td>clarification</td>\n      <td>1229888</td>\n      <td>{}</td>\n      <td>cislink-client-86326575</td>\n      <td>2024-04-12 16:16:43.982558+00</td>\n      <td>2024-04-12 16:16:43.982558+00</td>\n      <td>NaN</td>\n      <td>5a2d6114-b82a-4ac2-83ae-12ccc304f6fb</td>\n      <td>NaN</td>\n      <td>NaN</td>\n    </tr>\n    <tr>\n      <th>75857</th>\n      <td>1011527</td>\n      <td>75857</td>\n      <td>0</td>\n      <td>3662233852</td>\n      <td>394075, Воронежская область, Воронеж г, Чудесн...</td>\n      <td>60336</td>\n      <td>NaN</td>\n      <td>0</td>\n      <td>NaN</td>\n      <td>NaN</td>\n      <td>...</td>\n      <td>clarification</td>\n      <td>1229891</td>\n      <td>{}</td>\n      <td>cislink-client-86326604</td>\n      <td>2024-04-12 16:16:43.982558+00</td>\n      <td>2024-04-12 16:16:43.982558+00</td>\n      <td>NaN</td>\n      <td>5a2d6114-b82a-4ac2-83ae-12ccc304f6fb</td>\n      <td>NaN</td>\n      <td>NaN</td>\n    </tr>\n    <tr>\n      <th>75858</th>\n      <td>1011528</td>\n      <td>75858</td>\n      <td>0</td>\n      <td>5609188862</td>\n      <td>461041, Оренбургская область, Бузулук г, Фрунз...</td>\n      <td>61883</td>\n      <td>NaN</td>\n      <td>0</td>\n      <td>NaN</td>\n      <td>NaN</td>\n      <td>...</td>\n      <td>clarification</td>\n      <td>1229892</td>\n      <td>{}</td>\n      <td>cislink-client-86326605</td>\n      <td>2024-04-12 16:16:43.982558+00</td>\n      <td>2024-04-12 16:16:43.982558+00</td>\n      <td>NaN</td>\n      <td>5a2d6114-b82a-4ac2-83ae-12ccc304f6fb</td>\n      <td>NaN</td>\n      <td>NaN</td>\n    </tr>\n  </tbody>\n</table>\n<p>39386 rows × 30 columns</p>\n</div>"
     },
     "execution_count": 23,
     "metadata": {},
     "output_type": "execute_result"
    }
   ],
   "source": [
    "# Фильтрация строк, где значение в колонке 'new_column' равно 0\n",
    "filtered_df_0 = df[df['new_column'] == 0]\n",
    "filtered_df_0"
   ],
   "metadata": {
    "collapsed": false,
    "ExecuteTime": {
     "end_time": "2024-06-10T06:31:14.771226900Z",
     "start_time": "2024-06-10T06:31:14.618625800Z"
    }
   },
   "id": "cff776009ee8a52a"
  },
  {
   "cell_type": "code",
   "execution_count": 24,
   "outputs": [
    {
     "data": {
      "text/plain": "       Unnamed: 0  index       id  new_column           inn  \\\n0               1      1  1014799           0    1434038369   \n1               3      3  1014800           0    5902199785   \n2               7      7  1014801           0    1001054160   \n3               9      9  1011543           0  320301950920   \n4              10     10  1011544           0  550704472414   \n...           ...    ...      ...         ...           ...   \n24404       75829  75829  1011497           0    7733865216   \n24405       75838  75838  1011507           0    1659064696   \n24406       75841  75841  1011510           0    6165225110   \n24407       75848  75848  1011518           0    5611031682   \n24408       75854  75854  1011524           0    6230121836   \n\n                                                 address  entityId  type  \\\n0      678995, Саха /Якутия/ Респ, Нерюнгри г, Серебр...     48020   NaN   \n1               Екб, Верхняя Пышма, Успенский пр-кт., 20     75366   NaN   \n2      г.Петрозаводск, Лесной проспект( ТЦ Лотос-Плаз...      7018   NaN   \n3      000000, Брянская область, Карачевский район, г...     76724   NaN   \n4      644016, Омская область, г. Омск, р.п. Новостро...     68266   NaN   \n...                                                  ...       ...   ...   \n24404  141196, Московская область, Щелковский муницип...     41887   NaN   \n24405  424000, Г ЙОШКАР-ОЛА, РЕСП МАРИЙ ЭЛ, УЛ МАШИНО...     10880   NaN   \n24406  344079, Г РОСТОВ-НА-ДОНУ, РОСТОВСКАЯ ОБЛ, УЛ Н...     65063   NaN   \n24407  462408, Оренбургская обл., г. Орск, ул. Просве...     70681   NaN   \n24408  390007, Рязанская обл., г. Рязань, ул. Октябрь...     76292   NaN   \n\n       addressId  regionCode  ...      settlement  shortSettlement  \\\n0              0         NaN  ...             NaN              NaN   \n1              0         NaN  ...             NaN              NaN   \n2              0         NaN  ...             NaN              NaN   \n3              0         NaN  ...             NaN              NaN   \n4          83672         NaN  ...  рп Новостройка      Новостройка   \n...          ...         ...  ...             ...              ...   \n24404          0         NaN  ...             NaN              NaN   \n24405          0         NaN  ...             NaN              NaN   \n24406          0         NaN  ...             NaN              NaN   \n24407      13003         NaN  ...             NaN              NaN   \n24408          0         NaN  ...             NaN              NaN   \n\n                    street       shortStreet  house  block  \\\n0                      NaN               NaN    NaN    NaN   \n1                      NaN               NaN    NaN    NaN   \n2                      NaN               NaN    NaN    NaN   \n3          ул Первомайская      Первомайская  92/27    NaN   \n4                      NaN               NaN      9    NaN   \n...                    ...               ...    ...    ...   \n24404                  NaN               NaN    NaN    NaN   \n24405  ул Машиностроителей  Машиностроителей     61      а   \n24406           ул Нансена           Нансена     83    NaN   \n24407       ул Просвещения       Просвещения     51    NaN   \n24408                  NaN               NaN    NaN    NaN   \n\n                                   fiasId.1  \\\n0                                       NaN   \n1                                       NaN   \n2                                       NaN   \n3                                       NaN   \n4      7eef8b37-fe02-43b1-a945-e32357ed936f   \n...                                     ...   \n24404                                   NaN   \n24405                                   NaN   \n24406                                   NaN   \n24407  fdf615ef-6993-40c5-a271-ca8dbbd6671b   \n24408                                   NaN   \n\n                             streetFiasId.1  isAddressMatched  isAreaMode  \n0                                       NaN               NaN         NaN  \n1                                       NaN               NaN         NaN  \n2                                       NaN               NaN         NaN  \n3      a47917dc-360d-4d1b-8aac-826efcd0f2b9             False         NaN  \n4                                       NaN              True         NaN  \n...                                     ...               ...         ...  \n24404                                   NaN               NaN         NaN  \n24405  6c371ee6-ef2e-4830-a2f1-4f1bc9663dbf             False         NaN  \n24406  de10a7b8-fda9-4e9c-ba4d-46e2827cdfc0             False         NaN  \n24407  6d5e589e-8a3a-4bd8-a756-7844b81ac582              True         NaN  \n24408                                   NaN               NaN         NaN  \n\n[24409 rows x 51 columns]",
      "text/html": "<div>\n<style scoped>\n    .dataframe tbody tr th:only-of-type {\n        vertical-align: middle;\n    }\n\n    .dataframe tbody tr th {\n        vertical-align: top;\n    }\n\n    .dataframe thead th {\n        text-align: right;\n    }\n</style>\n<table border=\"1\" class=\"dataframe\">\n  <thead>\n    <tr style=\"text-align: right;\">\n      <th></th>\n      <th>Unnamed: 0</th>\n      <th>index</th>\n      <th>id</th>\n      <th>new_column</th>\n      <th>inn</th>\n      <th>address</th>\n      <th>entityId</th>\n      <th>type</th>\n      <th>addressId</th>\n      <th>regionCode</th>\n      <th>...</th>\n      <th>settlement</th>\n      <th>shortSettlement</th>\n      <th>street</th>\n      <th>shortStreet</th>\n      <th>house</th>\n      <th>block</th>\n      <th>fiasId.1</th>\n      <th>streetFiasId.1</th>\n      <th>isAddressMatched</th>\n      <th>isAreaMode</th>\n    </tr>\n  </thead>\n  <tbody>\n    <tr>\n      <th>0</th>\n      <td>1</td>\n      <td>1</td>\n      <td>1014799</td>\n      <td>0</td>\n      <td>1434038369</td>\n      <td>678995, Саха /Якутия/ Респ, Нерюнгри г, Серебр...</td>\n      <td>48020</td>\n      <td>NaN</td>\n      <td>0</td>\n      <td>NaN</td>\n      <td>...</td>\n      <td>NaN</td>\n      <td>NaN</td>\n      <td>NaN</td>\n      <td>NaN</td>\n      <td>NaN</td>\n      <td>NaN</td>\n      <td>NaN</td>\n      <td>NaN</td>\n      <td>NaN</td>\n      <td>NaN</td>\n    </tr>\n    <tr>\n      <th>1</th>\n      <td>3</td>\n      <td>3</td>\n      <td>1014800</td>\n      <td>0</td>\n      <td>5902199785</td>\n      <td>Екб, Верхняя Пышма, Успенский пр-кт., 20</td>\n      <td>75366</td>\n      <td>NaN</td>\n      <td>0</td>\n      <td>NaN</td>\n      <td>...</td>\n      <td>NaN</td>\n      <td>NaN</td>\n      <td>NaN</td>\n      <td>NaN</td>\n      <td>NaN</td>\n      <td>NaN</td>\n      <td>NaN</td>\n      <td>NaN</td>\n      <td>NaN</td>\n      <td>NaN</td>\n    </tr>\n    <tr>\n      <th>2</th>\n      <td>7</td>\n      <td>7</td>\n      <td>1014801</td>\n      <td>0</td>\n      <td>1001054160</td>\n      <td>г.Петрозаводск, Лесной проспект( ТЦ Лотос-Плаз...</td>\n      <td>7018</td>\n      <td>NaN</td>\n      <td>0</td>\n      <td>NaN</td>\n      <td>...</td>\n      <td>NaN</td>\n      <td>NaN</td>\n      <td>NaN</td>\n      <td>NaN</td>\n      <td>NaN</td>\n      <td>NaN</td>\n      <td>NaN</td>\n      <td>NaN</td>\n      <td>NaN</td>\n      <td>NaN</td>\n    </tr>\n    <tr>\n      <th>3</th>\n      <td>9</td>\n      <td>9</td>\n      <td>1011543</td>\n      <td>0</td>\n      <td>320301950920</td>\n      <td>000000, Брянская область, Карачевский район, г...</td>\n      <td>76724</td>\n      <td>NaN</td>\n      <td>0</td>\n      <td>NaN</td>\n      <td>...</td>\n      <td>NaN</td>\n      <td>NaN</td>\n      <td>ул Первомайская</td>\n      <td>Первомайская</td>\n      <td>92/27</td>\n      <td>NaN</td>\n      <td>NaN</td>\n      <td>a47917dc-360d-4d1b-8aac-826efcd0f2b9</td>\n      <td>False</td>\n      <td>NaN</td>\n    </tr>\n    <tr>\n      <th>4</th>\n      <td>10</td>\n      <td>10</td>\n      <td>1011544</td>\n      <td>0</td>\n      <td>550704472414</td>\n      <td>644016, Омская область, г. Омск, р.п. Новостро...</td>\n      <td>68266</td>\n      <td>NaN</td>\n      <td>83672</td>\n      <td>NaN</td>\n      <td>...</td>\n      <td>рп Новостройка</td>\n      <td>Новостройка</td>\n      <td>NaN</td>\n      <td>NaN</td>\n      <td>9</td>\n      <td>NaN</td>\n      <td>7eef8b37-fe02-43b1-a945-e32357ed936f</td>\n      <td>NaN</td>\n      <td>True</td>\n      <td>NaN</td>\n    </tr>\n    <tr>\n      <th>...</th>\n      <td>...</td>\n      <td>...</td>\n      <td>...</td>\n      <td>...</td>\n      <td>...</td>\n      <td>...</td>\n      <td>...</td>\n      <td>...</td>\n      <td>...</td>\n      <td>...</td>\n      <td>...</td>\n      <td>...</td>\n      <td>...</td>\n      <td>...</td>\n      <td>...</td>\n      <td>...</td>\n      <td>...</td>\n      <td>...</td>\n      <td>...</td>\n      <td>...</td>\n      <td>...</td>\n    </tr>\n    <tr>\n      <th>24404</th>\n      <td>75829</td>\n      <td>75829</td>\n      <td>1011497</td>\n      <td>0</td>\n      <td>7733865216</td>\n      <td>141196, Московская область, Щелковский муницип...</td>\n      <td>41887</td>\n      <td>NaN</td>\n      <td>0</td>\n      <td>NaN</td>\n      <td>...</td>\n      <td>NaN</td>\n      <td>NaN</td>\n      <td>NaN</td>\n      <td>NaN</td>\n      <td>NaN</td>\n      <td>NaN</td>\n      <td>NaN</td>\n      <td>NaN</td>\n      <td>NaN</td>\n      <td>NaN</td>\n    </tr>\n    <tr>\n      <th>24405</th>\n      <td>75838</td>\n      <td>75838</td>\n      <td>1011507</td>\n      <td>0</td>\n      <td>1659064696</td>\n      <td>424000, Г ЙОШКАР-ОЛА, РЕСП МАРИЙ ЭЛ, УЛ МАШИНО...</td>\n      <td>10880</td>\n      <td>NaN</td>\n      <td>0</td>\n      <td>NaN</td>\n      <td>...</td>\n      <td>NaN</td>\n      <td>NaN</td>\n      <td>ул Машиностроителей</td>\n      <td>Машиностроителей</td>\n      <td>61</td>\n      <td>а</td>\n      <td>NaN</td>\n      <td>6c371ee6-ef2e-4830-a2f1-4f1bc9663dbf</td>\n      <td>False</td>\n      <td>NaN</td>\n    </tr>\n    <tr>\n      <th>24406</th>\n      <td>75841</td>\n      <td>75841</td>\n      <td>1011510</td>\n      <td>0</td>\n      <td>6165225110</td>\n      <td>344079, Г РОСТОВ-НА-ДОНУ, РОСТОВСКАЯ ОБЛ, УЛ Н...</td>\n      <td>65063</td>\n      <td>NaN</td>\n      <td>0</td>\n      <td>NaN</td>\n      <td>...</td>\n      <td>NaN</td>\n      <td>NaN</td>\n      <td>ул Нансена</td>\n      <td>Нансена</td>\n      <td>83</td>\n      <td>NaN</td>\n      <td>NaN</td>\n      <td>de10a7b8-fda9-4e9c-ba4d-46e2827cdfc0</td>\n      <td>False</td>\n      <td>NaN</td>\n    </tr>\n    <tr>\n      <th>24407</th>\n      <td>75848</td>\n      <td>75848</td>\n      <td>1011518</td>\n      <td>0</td>\n      <td>5611031682</td>\n      <td>462408, Оренбургская обл., г. Орск, ул. Просве...</td>\n      <td>70681</td>\n      <td>NaN</td>\n      <td>13003</td>\n      <td>NaN</td>\n      <td>...</td>\n      <td>NaN</td>\n      <td>NaN</td>\n      <td>ул Просвещения</td>\n      <td>Просвещения</td>\n      <td>51</td>\n      <td>NaN</td>\n      <td>fdf615ef-6993-40c5-a271-ca8dbbd6671b</td>\n      <td>6d5e589e-8a3a-4bd8-a756-7844b81ac582</td>\n      <td>True</td>\n      <td>NaN</td>\n    </tr>\n    <tr>\n      <th>24408</th>\n      <td>75854</td>\n      <td>75854</td>\n      <td>1011524</td>\n      <td>0</td>\n      <td>6230121836</td>\n      <td>390007, Рязанская обл., г. Рязань, ул. Октябрь...</td>\n      <td>76292</td>\n      <td>NaN</td>\n      <td>0</td>\n      <td>NaN</td>\n      <td>...</td>\n      <td>NaN</td>\n      <td>NaN</td>\n      <td>NaN</td>\n      <td>NaN</td>\n      <td>NaN</td>\n      <td>NaN</td>\n      <td>NaN</td>\n      <td>NaN</td>\n      <td>NaN</td>\n      <td>NaN</td>\n    </tr>\n  </tbody>\n</table>\n<p>24409 rows × 51 columns</p>\n</div>"
     },
     "execution_count": 24,
     "metadata": {},
     "output_type": "execute_result"
    }
   ],
   "source": [
    "df_combined"
   ],
   "metadata": {
    "collapsed": false,
    "ExecuteTime": {
     "end_time": "2024-06-10T06:31:45.557578700Z",
     "start_time": "2024-06-10T06:31:45.340443600Z"
    }
   },
   "id": "73cd0d308fa72685"
  },
  {
   "cell_type": "code",
   "execution_count": 20,
   "outputs": [],
   "source": [
    "# Загрузка данных из частей\n",
    "#file_path_part1 = '/mnt/d/Doc_To_Date/20240520/20240607/Out_121_part1_after_processing.csv'\n",
    "#file_path_part2 = '/mnt/d/Doc_To_Date/20240520/20240607/Out_121_part2_after_processing.csv'\n",
    "#file_path_part3 = '/mnt/d/Doc_To_Date/20240520/20240607/Out_121_part3_after_processing.csv'\n",
    "#file_path_part4 = '/mnt/d/Doc_To_Date/20240520/20240607/Out_121_part4_after_processing.csv'\n",
    "#\n",
    "#df_part1 = pd.read_csv(file_path_part1)\n",
    "#df_part2 = pd.read_csv(file_path_part2)\n",
    "#df_part3 = pd.read_csv(file_path_part3)\n",
    "#df_part4 = pd.read_csv(file_path_part4)\n",
    "#\n",
    "## Объединение частей в один DataFrame\n",
    "#df_combined = pd.concat([df_part1, df_part2, df_part3, df_part4])\n",
    "#\n",
    "## Сохранение объединенного DataFrame в файл\n",
    "#output_file_path = '/mnt/d/Doc_To_Date/20240520/20240607/Out_121_combined.csv'\n",
    "#df_combined.to_csv(output_file_path, index=False)"
   ],
   "metadata": {
    "collapsed": false,
    "ExecuteTime": {
     "end_time": "2024-06-10T06:29:43.650801700Z",
     "start_time": "2024-06-10T06:29:41.344057500Z"
    }
   },
   "id": "8839e25080ea6476"
  },
  {
   "cell_type": "code",
   "execution_count": 44,
   "outputs": [
    {
     "name": "stderr",
     "output_type": "stream",
     "text": [
      "/home/ivan/.virtualenvs/machine-learning/lib/python3.10/site-packages/IPython/core/interactiveshell.py:3457: DtypeWarning: Columns (10,29) have mixed types.Specify dtype option on import or set low_memory=False.\n",
      "  exec(code_obj, self.user_global_ns, self.user_ns)\n"
     ]
    },
    {
     "name": "stdout",
     "output_type": "stream",
     "text": [
      "        id  index  new_column         inn  \\\n",
      "0  1014798      0           5  2126003123   \n",
      "1  1014799      1           0  1434038369   \n",
      "2  1011537      2           3  5906086550   \n",
      "3  1014800      3           0  5902199785   \n",
      "4  1011538      4           3  4217146394   \n",
      "\n",
      "                                             address  entityId  type  \\\n",
      "0  Чувашская Республика - чувашия, Мариинский Пос...     79601   NaN   \n",
      "1  678995, Саха /Якутия/ Респ, Нерюнгри г, Серебр...     48020   NaN   \n",
      "2  618909, Пермский край, Лысьвенский городской о...      5925   NaN   \n",
      "3           Екб, Верхняя Пышма, Успенский пр-кт., 20     75366   NaN   \n",
      "4  654054, Кемеровская область - Кузбасс, г. Ново...     78312   NaN   \n",
      "\n",
      "   addressId  regionCode markingBranchId  ...         status  updateIncrement  \\\n",
      "0          0         NaN             NaN  ...  clarification          1268546   \n",
      "1          0         NaN             NaN  ...  clarification          1268547   \n",
      "2          0         NaN          453446  ...  clarification          1265285   \n",
      "3          0         NaN             NaN  ...  clarification          1268548   \n",
      "4          0         NaN          484603  ...  clarification          1265286   \n",
      "\n",
      "  data                             source                      createdAt  \\\n",
      "0   {}                     pharmacy-sales  2024-04-14 20:22:58.158819+00   \n",
      "1   {}                     pharmacy-sales  2024-04-14 20:22:58.158819+00   \n",
      "2   {}  cislink-mdlp-rests-00000000453446  2024-04-14 08:15:42.480473+00   \n",
      "3   {}                     pharmacy-sales  2024-04-14 20:22:58.158819+00   \n",
      "4   {}  cislink-mdlp-rests-00000000484603  2024-04-14 08:15:42.480473+00   \n",
      "\n",
      "                       updatedAt  deletedAt  \\\n",
      "0  2024-04-14 20:22:58.158819+00        NaN   \n",
      "1  2024-04-14 20:22:58.158819+00        NaN   \n",
      "2  2024-04-14 08:15:42.480473+00        NaN   \n",
      "3  2024-04-14 20:22:58.158819+00        NaN   \n",
      "4  2024-04-14 08:15:42.480473+00        NaN   \n",
      "\n",
      "                               clientId  title  whExternalId  \n",
      "0  5a2d6114-b82a-4ac2-83ae-12ccc304f6fb    NaN           NaN  \n",
      "1  5a2d6114-b82a-4ac2-83ae-12ccc304f6fb    NaN           NaN  \n",
      "2  5a2d6114-b82a-4ac2-83ae-12ccc304f6fb    NaN           NaN  \n",
      "3  5a2d6114-b82a-4ac2-83ae-12ccc304f6fb    NaN           NaN  \n",
      "4  5a2d6114-b82a-4ac2-83ae-12ccc304f6fb    NaN           NaN  \n",
      "\n",
      "[5 rows x 30 columns]\n"
     ]
    }
   ],
   "source": [
    "import pandas as pd\n",
    "\n",
    "# Загрузка объединенного файла\n",
    "file_path_combined = '/mnt/d/Doc_To_Date/20240520/20240607/Out_121_combined.csv'\n",
    "df_combined = pd.read_csv(file_path_combined)\n",
    "\n",
    "# Шаг 1: Обновление fiasId в основном DataFrame, если его там нет\n",
    "df_combined_fiasid = df_combined[df_combined['fiasId.1'].notna()]\n",
    "\n",
    "for index, row in df_combined_fiasid.iterrows():\n",
    "    if index in df.index and pd.isna(df.at[index, 'fiasId']):\n",
    "        df.at[index, 'fiasId'] = row['fiasId']\n",
    "\n",
    "# Шаг 2: Обновление streetFiasId в основном DataFrame, если его там нет\n",
    "df_combined_street_fiasid = df_combined[df_combined['streetFiasId.1'].notna()]\n",
    "\n",
    "for index, row in df_combined_street_fiasid.iterrows():\n",
    "    if index in df.index and pd.isna(df.at[index, 'streetFiasId']):\n",
    "        df.at[index, 'streetFiasId'] = row['streetFiasId']\n",
    "\n",
    "# Приведение типов данных колонки streetFiasId к типу данных колонки fiasId\n",
    "df['streetFiasId'] = df['streetFiasId'].astype(df['fiasId'].dtype)\n",
    "\n"
   ],
   "metadata": {
    "collapsed": false,
    "ExecuteTime": {
     "end_time": "2024-06-10T06:45:18.847330700Z",
     "start_time": "2024-06-10T06:45:17.102359600Z"
    }
   },
   "id": "1de37bca781ea6f"
  },
  {
   "cell_type": "code",
   "execution_count": 47,
   "outputs": [
    {
     "name": "stdout",
     "output_type": "stream",
     "text": [
      "Финальный DataFrame сохранен в файл: /mnt/d/Doc_To_Date/20240520/20240607/final_dataframe.csv\n"
     ]
    }
   ],
   "source": [
    "# Сохранение финального DataFrame в отдельный файл\n",
    "output_file_path = '/mnt/d/Doc_To_Date/20240520/20240607/final_dataframe.csv'\n",
    "df.to_csv(output_file_path, index=False)\n",
    "\n",
    "\n",
    "# Подтверждение сохранения\n",
    "print(f\"Финальный DataFrame сохранен в файл: {output_file_path}\")"
   ],
   "metadata": {
    "collapsed": false,
    "ExecuteTime": {
     "end_time": "2024-06-10T06:46:32.116358700Z",
     "start_time": "2024-06-10T06:46:28.197976100Z"
    }
   },
   "id": "940bed6fd9b66d12"
  }
 ],
 "metadata": {
  "kernelspec": {
   "display_name": "Python 3",
   "language": "python",
   "name": "python3"
  },
  "language_info": {
   "codemirror_mode": {
    "name": "ipython",
    "version": 2
   },
   "file_extension": ".py",
   "mimetype": "text/x-python",
   "name": "python",
   "nbconvert_exporter": "python",
   "pygments_lexer": "ipython2",
   "version": "2.7.6"
  }
 },
 "nbformat": 4,
 "nbformat_minor": 5
}
