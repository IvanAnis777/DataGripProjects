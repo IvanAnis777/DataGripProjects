{
 "cells": [
  {
   "cell_type": "code",
   "execution_count": 1,
   "id": "initial_id",
   "metadata": {
    "collapsed": true,
    "ExecuteTime": {
     "end_time": "2024-10-16T10:43:46.111830800Z",
     "start_time": "2024-10-16T10:43:43.054520500Z"
    }
   },
   "outputs": [
    {
     "name": "stderr",
     "output_type": "stream",
     "text": [
      "/tmp/ipykernel_453711/3473846942.py:3: DtypeWarning: Columns (11,13,14,34,36,37) have mixed types. Specify dtype option on import or set low_memory=False.\n",
      "  df = pd.read_csv('/mnt/d/Doc_To_Date/20241016/verification_1861836.csv', on_bad_lines='warn', sep=';')\n"
     ]
    }
   ],
   "source": [
    "import pandas as pd\n",
    "\n",
    "df = pd.read_csv('/mnt/d/Doc_To_Date/20241016/verification_1861836.csv', on_bad_lines='warn', sep=';')\n",
    "\n",
    "\n"
   ]
  },
  {
   "cell_type": "code",
   "execution_count": 11,
   "outputs": [
    {
     "data": {
      "text/plain": "             Тип                 Название сети  \\\n0      'Закупка'             'МУП \"ЦРА № 167\"'   \n1      'Закупка'                    'Горицвет'   \n2      'Закупка'           'ООО \"НА ЗДОРОВЬЕ\"'   \n3      'Закупка'              'ФАРМА Шадринск'   \n4      'Закупка'            'ООО \"ВАЛЕО ФАРМ\"'   \n...          ...                           ...   \n65989  'Закупка'        'ООО \"АПТЕКА ЭКОНОМЪ\"'   \n65990  'Закупка'               'ООО \"ВИТА.РУ\"'   \n65991  'Закупка'  'ООО \"МИР ЗДОРОВЬЯ\"  Тюмень'   \n65992  'Закупка'                    'Горицвет'   \n65993  'Закупка'              'ООО \"ТД\"СФЕРА\"'   \n\n                                      ID сети  Код сети    ИНН сети  \\\n0      '6ee33e4d-c7ff-4b74-83ef-74387bfe1c7b'       NaN  3821001306   \n1      '0e8fc81c-f91c-49ed-86d9-7fc0e21de40d'       NaN  3437007669   \n2      '60270fa6-855d-4aa3-9be1-3aa6be89ffb0'       NaN  1660189918   \n3      '594d6edb-f63e-453e-8390-78b059285428'       NaN  4502007173   \n4      'cf3584cb-edf2-46ec-8490-039c979cbf44'       NaN  8601040059   \n...                                       ...       ...         ...   \n65989  '4b0fdc17-9eb2-4513-95da-22d796d7c3e1'       NaN  5401957526   \n65990  'd5a7732a-ad2d-4576-a943-6e3142aa0b69'       NaN  5023009538   \n65991  '80911827-3386-4e33-9a4b-87d6be909533'       NaN  7207006594   \n65992  '0e8fc81c-f91c-49ed-86d9-7fc0e21de40d'       NaN  3437007669   \n65993  '2fb478e6-e478-4142-b8e1-dc44101ed047'       NaN   561046931   \n\n      Категория сети                                        Адрес точки  \\\n0               'B3'         'Иркутская обл, г Шелехов, 8-й кв-л, д 13'   \n1               'D3'  'Серафимовичский район, г. Серафимович, ул. Ок...   \n2               'A1'  'г. Казань, ул. Академика Губкина д.17, пом. 1...   \n3               'B1'  'Курганская обл. г. Шадринск, ул. Комсомольска...   \n4               'B1'  'Ханты-Мансийский Автономный округ - Югра, г Х...   \n...              ...                                                ...   \n65989           'C1'    'Новосибирская обл, Новосибирск г, Титова 182а'   \n65990           'C1'  'Московская обл, г Красноармейск, пр-кт Ленина...   \n65991           'D3'  'Тюменская обл, г Заводоуковск, ул Революционн...   \n65992           'D3'        'г.Михайловка,у. 2-я Краснознаменская,д.51'   \n65993           'A1'                'г Махачкала, ул Нахимова, двлд 24'   \n\n                                  Сматченный адрес точки  \\\n0      '666034, Иркутская обл, г Шелехов, 8-й кв-л, д...   \n1      'Волгоградская обл, г Серафимович, ул Октябрьс...   \n2      'Респ Татарстан, г Казань, ул Академика Губкин...   \n3      'Курганская обл, г Шадринск, ул Комсомольская,...   \n4      'Ханты-Мансийский Автономный округ - Югра, г Х...   \n...                                                  ...   \n65989  '630120, Новосибирская обл, г Новосибирск, Лен...   \n65990  'Московская обл, г Красноармейск, пр-кт Ленина...   \n65991  'Тюменская обл, г Заводоуковск, ул Революционн...   \n65992  'Волгоградская обл, г Михайловка, ул 2 Красноз...   \n65993  'Респ Дагестан, г Махачкала, ул Нахимова, двлд...   \n\n                                     Регион точки  \\\n0                                 'Иркутская обл'   \n1                             'Волгоградская обл'   \n2                                'Респ Татарстан'   \n3                                'Курганская обл'   \n4      'Ханты-Мансийский Автономный округ - Югра'   \n...                                           ...   \n65989                         'Новосибирская обл'   \n65990                            'Московская обл'   \n65991                             'Тюменская обл'   \n65992                         'Волгоградская обл'   \n65993                             'Респ Дагестан'   \n\n                                        Название  ... Внешний код клиента  \\\n0                      'ЛОПЕРАМИД КАПС 2 МГ №20'  ...                 NaN   \n1                     'ОМЕПРАЗОЛ КАПС 20 МГ №30'  ...                 NaN   \n2                    'ФЛУКОНАЗОЛ КАПС 150 МГ №4'  ...                 NaN   \n3                      'КАПТОПРИЛ ТАБ 50 МГ №40'  ...                 NaN   \n4                    'АЗИТРОМИЦИН ТАБ 500 МГ №3'  ...                 NaN   \n...                                          ...  ...                 ...   \n65989                 'ЛОЗАРТАН ТАБ 12,5 МГ №30'  ...                 NaN   \n65990               'АТОРВАСТАТИН ТАБ 20 МГ №30'  ...                 NaN   \n65991  'ИБУПРОФЕН СУСП 20 МГ/МЛ 150 МЛ КЛУБНИКА'  ...                 NaN   \n65992                  'НИФЕДИПИН ТАБ 10 МГ №50'  ...                 NaN   \n65993               'МЕТФОРМИН ЛОНГ ТАБ 1 Г №60'  ...                 NaN   \n\n      Краткий адрес точки                Поставщик Регион поставщика  \\\n0                     NaN                      '–'               NaN   \n1                     NaN      'Акцентмед Воронеж'                61   \n2                     NaN         'Пульс (Москва)'                16   \n3                     NaN        'Протек (Москва)'                77   \n4                     NaN         'Пульс (Москва)'                66   \n...                   ...                      ...               ...   \n65989                 NaN        'Протек (Москва)'              77.0   \n65990                 NaN          'Витта компани'              77.0   \n65991                 NaN  'БСС (Санкт-Петербург)'               NaN   \n65992                 NaN   'Катрен (Новосибирск)'              54.0   \n65993                 NaN                      '–'               NaN   \n\n      ИНН поставщика  Код поставщика Статус матчинга товара Комментарий  \\\n0                  9             NaN                    'g'         NaN   \n1         6168078329             NaN                    'g'         NaN   \n2         1660169622          8301.0                    'g'         NaN   \n3         7724053916          9665.0                    'g'         NaN   \n4         6670300868          8301.0                    'g'         NaN   \n...              ...             ...                    ...         ...   \n65989     7724053916          9665.0                    'g'         NaN   \n65990     7713569466             NaN                    'g'         NaN   \n65991     7810687137          8732.0                    'g'         NaN   \n65992     5408130693          8896.0                    'g'         NaN   \n65993            126             NaN                    'g'         NaN   \n\n       Источник данных  Manufacturer  \n0            'Обороты'           NaN  \n1            'Обороты'      ОЗОН-МНН  \n2            'Обороты'           NaN  \n3            'Обороты'      ОЗОН-МНН  \n4        'Заказы (MF)'           NaN  \n...                ...           ...  \n65989        'Обороты'           NaN  \n65990        'Обороты'           NaN  \n65991      'Накладные'           NaN  \n65992        'Обороты'           NaN  \n65993        'Обороты'           NaN  \n\n[65994 rows x 43 columns]",
      "text/html": "<div>\n<style scoped>\n    .dataframe tbody tr th:only-of-type {\n        vertical-align: middle;\n    }\n\n    .dataframe tbody tr th {\n        vertical-align: top;\n    }\n\n    .dataframe thead th {\n        text-align: right;\n    }\n</style>\n<table border=\"1\" class=\"dataframe\">\n  <thead>\n    <tr style=\"text-align: right;\">\n      <th></th>\n      <th>Тип</th>\n      <th>Название сети</th>\n      <th>ID сети</th>\n      <th>Код сети</th>\n      <th>ИНН сети</th>\n      <th>Категория сети</th>\n      <th>Адрес точки</th>\n      <th>Сматченный адрес точки</th>\n      <th>Регион точки</th>\n      <th>Название</th>\n      <th>...</th>\n      <th>Внешний код клиента</th>\n      <th>Краткий адрес точки</th>\n      <th>Поставщик</th>\n      <th>Регион поставщика</th>\n      <th>ИНН поставщика</th>\n      <th>Код поставщика</th>\n      <th>Статус матчинга товара</th>\n      <th>Комментарий</th>\n      <th>Источник данных</th>\n      <th>Manufacturer</th>\n    </tr>\n  </thead>\n  <tbody>\n    <tr>\n      <th>0</th>\n      <td>'Закупка'</td>\n      <td>'МУП \"ЦРА № 167\"'</td>\n      <td>'6ee33e4d-c7ff-4b74-83ef-74387bfe1c7b'</td>\n      <td>NaN</td>\n      <td>3821001306</td>\n      <td>'B3'</td>\n      <td>'Иркутская обл, г Шелехов, 8-й кв-л, д 13'</td>\n      <td>'666034, Иркутская обл, г Шелехов, 8-й кв-л, д...</td>\n      <td>'Иркутская обл'</td>\n      <td>'ЛОПЕРАМИД КАПС 2 МГ №20'</td>\n      <td>...</td>\n      <td>NaN</td>\n      <td>NaN</td>\n      <td>'–'</td>\n      <td>NaN</td>\n      <td>9</td>\n      <td>NaN</td>\n      <td>'g'</td>\n      <td>NaN</td>\n      <td>'Обороты'</td>\n      <td>NaN</td>\n    </tr>\n    <tr>\n      <th>1</th>\n      <td>'Закупка'</td>\n      <td>'Горицвет'</td>\n      <td>'0e8fc81c-f91c-49ed-86d9-7fc0e21de40d'</td>\n      <td>NaN</td>\n      <td>3437007669</td>\n      <td>'D3'</td>\n      <td>'Серафимовичский район, г. Серафимович, ул. Ок...</td>\n      <td>'Волгоградская обл, г Серафимович, ул Октябрьс...</td>\n      <td>'Волгоградская обл'</td>\n      <td>'ОМЕПРАЗОЛ КАПС 20 МГ №30'</td>\n      <td>...</td>\n      <td>NaN</td>\n      <td>NaN</td>\n      <td>'Акцентмед Воронеж'</td>\n      <td>61</td>\n      <td>6168078329</td>\n      <td>NaN</td>\n      <td>'g'</td>\n      <td>NaN</td>\n      <td>'Обороты'</td>\n      <td>ОЗОН-МНН</td>\n    </tr>\n    <tr>\n      <th>2</th>\n      <td>'Закупка'</td>\n      <td>'ООО \"НА ЗДОРОВЬЕ\"'</td>\n      <td>'60270fa6-855d-4aa3-9be1-3aa6be89ffb0'</td>\n      <td>NaN</td>\n      <td>1660189918</td>\n      <td>'A1'</td>\n      <td>'г. Казань, ул. Академика Губкина д.17, пом. 1...</td>\n      <td>'Респ Татарстан, г Казань, ул Академика Губкин...</td>\n      <td>'Респ Татарстан'</td>\n      <td>'ФЛУКОНАЗОЛ КАПС 150 МГ №4'</td>\n      <td>...</td>\n      <td>NaN</td>\n      <td>NaN</td>\n      <td>'Пульс (Москва)'</td>\n      <td>16</td>\n      <td>1660169622</td>\n      <td>8301.0</td>\n      <td>'g'</td>\n      <td>NaN</td>\n      <td>'Обороты'</td>\n      <td>NaN</td>\n    </tr>\n    <tr>\n      <th>3</th>\n      <td>'Закупка'</td>\n      <td>'ФАРМА Шадринск'</td>\n      <td>'594d6edb-f63e-453e-8390-78b059285428'</td>\n      <td>NaN</td>\n      <td>4502007173</td>\n      <td>'B1'</td>\n      <td>'Курганская обл. г. Шадринск, ул. Комсомольска...</td>\n      <td>'Курганская обл, г Шадринск, ул Комсомольская,...</td>\n      <td>'Курганская обл'</td>\n      <td>'КАПТОПРИЛ ТАБ 50 МГ №40'</td>\n      <td>...</td>\n      <td>NaN</td>\n      <td>NaN</td>\n      <td>'Протек (Москва)'</td>\n      <td>77</td>\n      <td>7724053916</td>\n      <td>9665.0</td>\n      <td>'g'</td>\n      <td>NaN</td>\n      <td>'Обороты'</td>\n      <td>ОЗОН-МНН</td>\n    </tr>\n    <tr>\n      <th>4</th>\n      <td>'Закупка'</td>\n      <td>'ООО \"ВАЛЕО ФАРМ\"'</td>\n      <td>'cf3584cb-edf2-46ec-8490-039c979cbf44'</td>\n      <td>NaN</td>\n      <td>8601040059</td>\n      <td>'B1'</td>\n      <td>'Ханты-Мансийский Автономный округ - Югра, г Х...</td>\n      <td>'Ханты-Мансийский Автономный округ - Югра, г Х...</td>\n      <td>'Ханты-Мансийский Автономный округ - Югра'</td>\n      <td>'АЗИТРОМИЦИН ТАБ 500 МГ №3'</td>\n      <td>...</td>\n      <td>NaN</td>\n      <td>NaN</td>\n      <td>'Пульс (Москва)'</td>\n      <td>66</td>\n      <td>6670300868</td>\n      <td>8301.0</td>\n      <td>'g'</td>\n      <td>NaN</td>\n      <td>'Заказы (MF)'</td>\n      <td>NaN</td>\n    </tr>\n    <tr>\n      <th>...</th>\n      <td>...</td>\n      <td>...</td>\n      <td>...</td>\n      <td>...</td>\n      <td>...</td>\n      <td>...</td>\n      <td>...</td>\n      <td>...</td>\n      <td>...</td>\n      <td>...</td>\n      <td>...</td>\n      <td>...</td>\n      <td>...</td>\n      <td>...</td>\n      <td>...</td>\n      <td>...</td>\n      <td>...</td>\n      <td>...</td>\n      <td>...</td>\n      <td>...</td>\n      <td>...</td>\n    </tr>\n    <tr>\n      <th>65989</th>\n      <td>'Закупка'</td>\n      <td>'ООО \"АПТЕКА ЭКОНОМЪ\"'</td>\n      <td>'4b0fdc17-9eb2-4513-95da-22d796d7c3e1'</td>\n      <td>NaN</td>\n      <td>5401957526</td>\n      <td>'C1'</td>\n      <td>'Новосибирская обл, Новосибирск г, Титова 182а'</td>\n      <td>'630120, Новосибирская обл, г Новосибирск, Лен...</td>\n      <td>'Новосибирская обл'</td>\n      <td>'ЛОЗАРТАН ТАБ 12,5 МГ №30'</td>\n      <td>...</td>\n      <td>NaN</td>\n      <td>NaN</td>\n      <td>'Протек (Москва)'</td>\n      <td>77.0</td>\n      <td>7724053916</td>\n      <td>9665.0</td>\n      <td>'g'</td>\n      <td>NaN</td>\n      <td>'Обороты'</td>\n      <td>NaN</td>\n    </tr>\n    <tr>\n      <th>65990</th>\n      <td>'Закупка'</td>\n      <td>'ООО \"ВИТА.РУ\"'</td>\n      <td>'d5a7732a-ad2d-4576-a943-6e3142aa0b69'</td>\n      <td>NaN</td>\n      <td>5023009538</td>\n      <td>'C1'</td>\n      <td>'Московская обл, г Красноармейск, пр-кт Ленина...</td>\n      <td>'Московская обл, г Красноармейск, пр-кт Ленина...</td>\n      <td>'Московская обл'</td>\n      <td>'АТОРВАСТАТИН ТАБ 20 МГ №30'</td>\n      <td>...</td>\n      <td>NaN</td>\n      <td>NaN</td>\n      <td>'Витта компани'</td>\n      <td>77.0</td>\n      <td>7713569466</td>\n      <td>NaN</td>\n      <td>'g'</td>\n      <td>NaN</td>\n      <td>'Обороты'</td>\n      <td>NaN</td>\n    </tr>\n    <tr>\n      <th>65991</th>\n      <td>'Закупка'</td>\n      <td>'ООО \"МИР ЗДОРОВЬЯ\"  Тюмень'</td>\n      <td>'80911827-3386-4e33-9a4b-87d6be909533'</td>\n      <td>NaN</td>\n      <td>7207006594</td>\n      <td>'D3'</td>\n      <td>'Тюменская обл, г Заводоуковск, ул Революционн...</td>\n      <td>'Тюменская обл, г Заводоуковск, ул Революционн...</td>\n      <td>'Тюменская обл'</td>\n      <td>'ИБУПРОФЕН СУСП 20 МГ/МЛ 150 МЛ КЛУБНИКА'</td>\n      <td>...</td>\n      <td>NaN</td>\n      <td>NaN</td>\n      <td>'БСС (Санкт-Петербург)'</td>\n      <td>NaN</td>\n      <td>7810687137</td>\n      <td>8732.0</td>\n      <td>'g'</td>\n      <td>NaN</td>\n      <td>'Накладные'</td>\n      <td>NaN</td>\n    </tr>\n    <tr>\n      <th>65992</th>\n      <td>'Закупка'</td>\n      <td>'Горицвет'</td>\n      <td>'0e8fc81c-f91c-49ed-86d9-7fc0e21de40d'</td>\n      <td>NaN</td>\n      <td>3437007669</td>\n      <td>'D3'</td>\n      <td>'г.Михайловка,у. 2-я Краснознаменская,д.51'</td>\n      <td>'Волгоградская обл, г Михайловка, ул 2 Красноз...</td>\n      <td>'Волгоградская обл'</td>\n      <td>'НИФЕДИПИН ТАБ 10 МГ №50'</td>\n      <td>...</td>\n      <td>NaN</td>\n      <td>NaN</td>\n      <td>'Катрен (Новосибирск)'</td>\n      <td>54.0</td>\n      <td>5408130693</td>\n      <td>8896.0</td>\n      <td>'g'</td>\n      <td>NaN</td>\n      <td>'Обороты'</td>\n      <td>NaN</td>\n    </tr>\n    <tr>\n      <th>65993</th>\n      <td>'Закупка'</td>\n      <td>'ООО \"ТД\"СФЕРА\"'</td>\n      <td>'2fb478e6-e478-4142-b8e1-dc44101ed047'</td>\n      <td>NaN</td>\n      <td>561046931</td>\n      <td>'A1'</td>\n      <td>'г Махачкала, ул Нахимова, двлд 24'</td>\n      <td>'Респ Дагестан, г Махачкала, ул Нахимова, двлд...</td>\n      <td>'Респ Дагестан'</td>\n      <td>'МЕТФОРМИН ЛОНГ ТАБ 1 Г №60'</td>\n      <td>...</td>\n      <td>NaN</td>\n      <td>NaN</td>\n      <td>'–'</td>\n      <td>NaN</td>\n      <td>126</td>\n      <td>NaN</td>\n      <td>'g'</td>\n      <td>NaN</td>\n      <td>'Обороты'</td>\n      <td>NaN</td>\n    </tr>\n  </tbody>\n</table>\n<p>65994 rows × 43 columns</p>\n</div>"
     },
     "execution_count": 11,
     "metadata": {},
     "output_type": "execute_result"
    }
   ],
   "source": [
    "df"
   ],
   "metadata": {
    "collapsed": false,
    "ExecuteTime": {
     "end_time": "2024-10-16T11:01:02.002402800Z",
     "start_time": "2024-10-16T11:01:01.873380700Z"
    }
   },
   "id": "4afd895be74f4986"
  },
  {
   "cell_type": "code",
   "execution_count": 2,
   "outputs": [
    {
     "name": "stdout",
     "output_type": "stream",
     "text": [
      "Connected to the database successfully\n"
     ]
    }
   ],
   "source": [
    "import psycopg2\n",
    "\n",
    "# Define database connection\n",
    "def connect_to_database():\n",
    "    conn = psycopg2.connect(\n",
    "        dbname='pharmhub',\n",
    "        user='ivan.anisimov',\n",
    "        password='oA7W5uz2GzEd',\n",
    "        host='10.0.0.171'\n",
    "    )\n",
    "    return conn\n",
    "\n",
    "# Connect to the database\n",
    "conn = connect_to_database()\n",
    "if conn:\n",
    "    print(\"Connected to the database successfully\")"
   ],
   "metadata": {
    "collapsed": false,
    "ExecuteTime": {
     "end_time": "2024-10-16T10:43:48.162264400Z",
     "start_time": "2024-10-16T10:43:47.815399300Z"
    }
   },
   "id": "30ce8eb721be07f0"
  },
  {
   "cell_type": "code",
   "execution_count": 4,
   "outputs": [
    {
     "name": "stdout",
     "output_type": "stream",
     "text": [
      "Index([''Тип'', ''Название сети'', ''ID сети'', ''Код сети'', ''ИНН сети'',\n",
      "       ''Категория сети'', ''Адрес точки'', ''Сматченный адрес точки'',\n",
      "       ''Регион точки'', ''Название'', ''Сматченное название'', ''GTIN'',\n",
      "       ''Дата и время'', ''Количество в шт.'',\n",
      "       ''Скорректированное количество в шт.'', ''Коэффициент деленки'',\n",
      "       ''Сумма в руб.'', ''Скорректированная сумма в руб.'',\n",
      "       ''Сумма до скидки в руб.'', ''Сумма скидки в руб.'', ''CIP Цена'',\n",
      "       ''Ссылка на чек'', ''Верный'', ''ОФД'', ''Фискальный накопитель'',\n",
      "       ''Номер фискального документа'', ''Фискальный признак'',\n",
      "       ''Сумма по документу в руб.'', ''Рег. номер ККТ'', ''ИНН точки'',\n",
      "       ''Бонус в руб.'', ''Внешний код продукта'', ''Внешний ID клиента'',\n",
      "       ''Внешний код клиента'', ''Краткий адрес точки'', ''Поставщик'',\n",
      "       ''Регион поставщика'', ''ИНН поставщика'', ''Код поставщика'',\n",
      "       ''Статус матчинга товара'', ''Комментарий'', ''Источник данных''],\n",
      "      dtype='object')\n"
     ]
    }
   ],
   "source": [
    "print(df.columns)  # Check column names here"
   ],
   "metadata": {
    "collapsed": false,
    "ExecuteTime": {
     "end_time": "2024-10-16T10:43:54.109427700Z",
     "start_time": "2024-10-16T10:43:54.058364400Z"
    }
   },
   "id": "bf75a6f0f173c7fb"
  },
  {
   "cell_type": "code",
   "execution_count": 5,
   "outputs": [
    {
     "name": "stdout",
     "output_type": "stream",
     "text": [
      "Index(['Тип', 'Название сети', 'ID сети', 'Код сети', 'ИНН сети',\n",
      "       'Категория сети', 'Адрес точки', 'Сматченный адрес точки',\n",
      "       'Регион точки', 'Название', 'Сматченное название', 'GTIN',\n",
      "       'Дата и время', 'Количество в шт.',\n",
      "       'Скорректированное количество в шт.', 'Коэффициент деленки',\n",
      "       'Сумма в руб.', 'Скорректированная сумма в руб.',\n",
      "       'Сумма до скидки в руб.', 'Сумма скидки в руб.', 'CIP Цена',\n",
      "       'Ссылка на чек', 'Верный', 'ОФД', 'Фискальный накопитель',\n",
      "       'Номер фискального документа', 'Фискальный признак',\n",
      "       'Сумма по документу в руб.', 'Рег. номер ККТ', 'ИНН точки',\n",
      "       'Бонус в руб.', 'Внешний код продукта', 'Внешний ID клиента',\n",
      "       'Внешний код клиента', 'Краткий адрес точки', 'Поставщик',\n",
      "       'Регион поставщика', 'ИНН поставщика', 'Код поставщика',\n",
      "       'Статус матчинга товара', 'Комментарий', 'Источник данных'],\n",
      "      dtype='object')\n"
     ]
    }
   ],
   "source": [
    "# Remove extra quotes and spaces from column names\n",
    "df.columns = df.columns.str.replace(\"'\", \"\").str.replace('\"', '').str.strip()\n",
    "\n",
    "# Print the cleaned column names to confirm\n",
    "print(df.columns)\n"
   ],
   "metadata": {
    "collapsed": false,
    "ExecuteTime": {
     "end_time": "2024-10-16T10:45:04.968588100Z",
     "start_time": "2024-10-16T10:45:04.907405100Z"
    }
   },
   "id": "24809f9147f0f4c9"
  },
  {
   "cell_type": "code",
   "execution_count": 7,
   "outputs": [
    {
     "name": "stdout",
     "output_type": "stream",
     "text": [
      "Found 2228 unique GTIN values.\n"
     ]
    }
   ],
   "source": [
    "# Extract unique GTIN values from the DataFrame and convert them to a list\n",
    "unique_gtins = df['GTIN'].unique().tolist()\n",
    "print(f\"Found {len(unique_gtins)} unique GTIN values.\")\n"
   ],
   "metadata": {
    "collapsed": false,
    "ExecuteTime": {
     "end_time": "2024-10-16T10:56:23.711069200Z",
     "start_time": "2024-10-16T10:56:23.680137400Z"
    }
   },
   "id": "e05451cfab2e2c3"
  },
  {
   "cell_type": "code",
   "execution_count": null,
   "outputs": [],
   "source": [],
   "metadata": {
    "collapsed": false
   },
   "id": "4b8952e8b340859c"
  },
  {
   "cell_type": "code",
   "execution_count": 8,
   "outputs": [
    {
     "name": "stderr",
     "output_type": "stream",
     "text": [
      "Querying GTINs: 100%|██████████| 2228/2228 [02:32<00:00, 14.65GTIN/s]"
     ]
    },
    {
     "name": "stdout",
     "output_type": "stream",
     "text": [
      "Finished querying the database for unique GTINs.\n"
     ]
    },
    {
     "name": "stderr",
     "output_type": "stream",
     "text": [
      "\n"
     ]
    }
   ],
   "source": [
    "from tqdm import tqdm\n",
    "import psycopg2\n",
    "\n",
    "# Create a dictionary to store GTIN to Manufacturer mappings\n",
    "gtin_to_manufacturer = {}\n",
    "\n",
    "# Connect to the database\n",
    "conn = connect_to_database()\n",
    "cursor = conn.cursor()\n",
    "\n",
    "# Loop through the unique GTINs with a progress bar\n",
    "for gtin in tqdm(unique_gtins, desc=\"Querying GTINs\", unit=\"GTIN\"):\n",
    "    query = \"\"\"\n",
    "    SELECT C.title \n",
    "    FROM \"ManufSKUs\" MSU\n",
    "    JOIN \"Clients\" C ON MSU.client = C.id\n",
    "    WHERE MSU.\"EAN\" ILIKE %s;\n",
    "    \"\"\"\n",
    "    cursor.execute(query, ('%' + str(gtin) + '%',))\n",
    "    result = cursor.fetchone()\n",
    "    \n",
    "    # Store the result in the dictionary if found\n",
    "    if result:\n",
    "        gtin_to_manufacturer[gtin] = result[0]\n",
    "\n",
    "# Close the cursor and connection\n",
    "cursor.close()\n",
    "conn.close()\n",
    "print(\"Finished querying the database for unique GTINs.\")\n"
   ],
   "metadata": {
    "collapsed": false,
    "ExecuteTime": {
     "end_time": "2024-10-16T11:00:32.138798200Z",
     "start_time": "2024-10-16T10:57:59.693399900Z"
    }
   },
   "id": "2d4a88a8b9184d2"
  },
  {
   "cell_type": "code",
   "execution_count": 9,
   "outputs": [
    {
     "name": "stdout",
     "output_type": "stream",
     "text": [
      "         Тип        Название сети                                 ID сети  \\\n",
      "0  'Закупка'    'МУП \"ЦРА № 167\"'  '6ee33e4d-c7ff-4b74-83ef-74387bfe1c7b'   \n",
      "1  'Закупка'           'Горицвет'  '0e8fc81c-f91c-49ed-86d9-7fc0e21de40d'   \n",
      "2  'Закупка'  'ООО \"НА ЗДОРОВЬЕ\"'  '60270fa6-855d-4aa3-9be1-3aa6be89ffb0'   \n",
      "3  'Закупка'     'ФАРМА Шадринск'  '594d6edb-f63e-453e-8390-78b059285428'   \n",
      "4  'Закупка'   'ООО \"ВАЛЕО ФАРМ\"'  'cf3584cb-edf2-46ec-8490-039c979cbf44'   \n",
      "\n",
      "   Код сети    ИНН сети Категория сети  \\\n",
      "0       NaN  3821001306           'B3'   \n",
      "1       NaN  3437007669           'D3'   \n",
      "2       NaN  1660189918           'A1'   \n",
      "3       NaN  4502007173           'B1'   \n",
      "4       NaN  8601040059           'B1'   \n",
      "\n",
      "                                         Адрес точки  \\\n",
      "0         'Иркутская обл, г Шелехов, 8-й кв-л, д 13'   \n",
      "1  'Серафимовичский район, г. Серафимович, ул. Ок...   \n",
      "2  'г. Казань, ул. Академика Губкина д.17, пом. 1...   \n",
      "3  'Курганская обл. г. Шадринск, ул. Комсомольска...   \n",
      "4  'Ханты-Мансийский Автономный округ - Югра, г Х...   \n",
      "\n",
      "                              Сматченный адрес точки  \\\n",
      "0  '666034, Иркутская обл, г Шелехов, 8-й кв-л, д...   \n",
      "1  'Волгоградская обл, г Серафимович, ул Октябрьс...   \n",
      "2  'Респ Татарстан, г Казань, ул Академика Губкин...   \n",
      "3  'Курганская обл, г Шадринск, ул Комсомольская,...   \n",
      "4  'Ханты-Мансийский Автономный округ - Югра, г Х...   \n",
      "\n",
      "                                 Регион точки                     Название  \\\n",
      "0                             'Иркутская обл'    'ЛОПЕРАМИД КАПС 2 МГ №20'   \n",
      "1                         'Волгоградская обл'   'ОМЕПРАЗОЛ КАПС 20 МГ №30'   \n",
      "2                            'Респ Татарстан'  'ФЛУКОНАЗОЛ КАПС 150 МГ №4'   \n",
      "3                            'Курганская обл'    'КАПТОПРИЛ ТАБ 50 МГ №40'   \n",
      "4  'Ханты-Мансийский Автономный округ - Югра'  'АЗИТРОМИЦИН ТАБ 500 МГ №3'   \n",
      "\n",
      "   ... Внешний код клиента Краткий адрес точки            Поставщик  \\\n",
      "0  ...                 NaN                 NaN                  '–'   \n",
      "1  ...                 NaN                 NaN  'Акцентмед Воронеж'   \n",
      "2  ...                 NaN                 NaN     'Пульс (Москва)'   \n",
      "3  ...                 NaN                 NaN    'Протек (Москва)'   \n",
      "4  ...                 NaN                 NaN     'Пульс (Москва)'   \n",
      "\n",
      "  Регион поставщика ИНН поставщика  Код поставщика Статус матчинга товара  \\\n",
      "0               NaN              9             NaN                    'g'   \n",
      "1                61     6168078329             NaN                    'g'   \n",
      "2                16     1660169622          8301.0                    'g'   \n",
      "3                77     7724053916          9665.0                    'g'   \n",
      "4                66     6670300868          8301.0                    'g'   \n",
      "\n",
      "  Комментарий  Источник данных  Manufacturer  \n",
      "0         NaN        'Обороты'           NaN  \n",
      "1         NaN        'Обороты'      ОЗОН-МНН  \n",
      "2         NaN        'Обороты'           NaN  \n",
      "3         NaN        'Обороты'      ОЗОН-МНН  \n",
      "4         NaN    'Заказы (MF)'           NaN  \n",
      "\n",
      "[5 rows x 43 columns]\n"
     ]
    }
   ],
   "source": [
    "# Map the manufacturers to the original DataFrame based on GTIN\n",
    "df['Manufacturer'] = df['GTIN'].map(gtin_to_manufacturer)\n",
    "\n",
    "# Check the updated DataFrame\n",
    "print(df.head())"
   ],
   "metadata": {
    "collapsed": false,
    "ExecuteTime": {
     "end_time": "2024-10-16T11:00:51.742712300Z",
     "start_time": "2024-10-16T11:00:51.640329500Z"
    }
   },
   "id": "8167d4d67d721665"
  }
 ],
 "metadata": {
  "kernelspec": {
   "display_name": "Python 3",
   "language": "python",
   "name": "python3"
  },
  "language_info": {
   "codemirror_mode": {
    "name": "ipython",
    "version": 2
   },
   "file_extension": ".py",
   "mimetype": "text/x-python",
   "name": "python",
   "nbconvert_exporter": "python",
   "pygments_lexer": "ipython2",
   "version": "2.7.6"
  }
 },
 "nbformat": 4,
 "nbformat_minor": 5
}
