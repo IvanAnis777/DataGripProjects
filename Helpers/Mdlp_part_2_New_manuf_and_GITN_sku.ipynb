{
 "cells": [
  {
   "cell_type": "code",
   "execution_count": 1,
   "id": "initial_id",
   "metadata": {
    "collapsed": true,
    "ExecuteTime": {
     "end_time": "2024-10-22T10:24:42.302361500Z",
     "start_time": "2024-10-22T10:24:41.525156700Z"
    }
   },
   "outputs": [],
   "source": [
    "import pandas as pd\n",
    "\n",
    "file_path = \"/mnt/d/Doc_To_Date/20241221/unique_matched_manufacturers_v_final.xlsx\"\n",
    "df = pd.read_excel(file_path)"
   ]
  },
  {
   "cell_type": "code",
   "execution_count": 2,
   "outputs": [],
   "source": [
    "# Filtering out rows where 'Производитель из МС' is NaN or empty\n",
    "filtered_df = df[\n",
    "    (df['Производитель из МС'].isna() | (df['Производитель из МС'] == '')) &\n",
    "    (df['Название проивзодителя для МС '].notna()) &\n",
    "    (df['новый кабинет?'] != 'есть кабинет')\n",
    "]"
   ],
   "metadata": {
    "collapsed": false,
    "ExecuteTime": {
     "end_time": "2024-10-22T10:24:46.223689700Z",
     "start_time": "2024-10-22T10:24:46.196477300Z"
    }
   },
   "id": "eca711e32418cc26"
  },
  {
   "cell_type": "code",
   "execution_count": 3,
   "outputs": [
    {
     "data": {
      "text/plain": "                                     Производитель МДЛП  \\\n1     ООО СЫЧУАНЬСКАЯ ЮАНДА ШУЯН ФАРМАЦЕВТИЧЕСКАЯ КО...   \n2                                      3М ДОЙЧЛАНД ГМБХ   \n3                              3М ДРАГ ДЕЛИВЕРИ СИСТЕМС   \n4        ГЕНВЕОН ИЛАЧ САНАЙИ ВЕ ТИДЖАРЕТ АНОНИМ ШИРКЕТИ   \n5                                              АМВ ГМБХ   \n...                                                 ...   \n1333                     СЯНЬ-ЯНССЕН ФАРМАСЬЮТИКАЛ ЛТД.   \n1334                                    ЯНССЕН-ОРТО ЛЛС   \n1335                                    ЯНССЕН ОРТО ЛЛС   \n1336                                       ООО ЯНТАРНОЕ   \n1337                                            ЗАО ЯФФ   \n\n                                    Обработанный тайтл  % матчинга  \\\n1     сычуаньская юанда шуян фармацевтическая компания         NaN   \n2                                          3м дойчланд         NaN   \n3                             3м драг деливери системс         NaN   \n4       генвеон илач санайи ве тиджарет аноним ширкети         NaN   \n5                                                  амв         NaN   \n...                                                ...         ...   \n1333                          сяньянссен фармасьютикал         NaN   \n1334                                    янссенорто ллс         NaN   \n1335                                   янссен орто ллс         NaN   \n1336                                          янтарное         NaN   \n1337                                               яфф         NaN   \n\n     Производитель из МС manufacturer_id                       Статус  \\\n1                    NaN             NaN  Не удалось найти совпадения   \n2                    NaN             NaN  Не удалось найти совпадения   \n3                    NaN             NaN  Не удалось найти совпадения   \n4                    NaN             NaN  Не удалось найти совпадения   \n5                    NaN             NaN  Не удалось найти совпадения   \n...                  ...             ...                          ...   \n1333                 NaN             NaN  Не удалось найти совпадения   \n1334                 NaN             NaN  Не удалось найти совпадения   \n1335                 NaN             NaN  Не удалось найти совпадения   \n1336                 NaN             NaN  Не удалось найти совпадения   \n1337                 NaN             NaN  Не удалось найти совпадения   \n\n     Результат проверки Производитель МДЛП (очищенный) Group#  \\\n1                   NaN         сычуаньская юанда шуян    NaN   \n2                   NaN                              м    NaN   \n3                   NaN        м драг деливери системс    NaN   \n4                   NaN         генвеон аноним ширкети    NaN   \n5                   NaN                            амв    NaN   \n...                 ...                            ...    ...   \n1333                NaN                    сянь янссен    NaN   \n1334                NaN                    янссен орто     17   \n1335                NaN                    янссен орто     17   \n1336                NaN                       янтарное    NaN   \n1337                NaN                            яфф    NaN   \n\n                        Название проивзодителя для МС  новый кабинет?  \n1     СЫЧУАНЬСКАЯ ЮАНДА ШУЯН ФАРМАЦЕВТИЧЕСКАЯ КОМПАНИЯ            NaN  \n2                                         3М ДОЙЧЛАНД             NaN  \n3                             3М ДРАГ ДЕЛИВЕРИ СИСТЕМС            NaN  \n4                      ГЕНВЕОН ИЛАЧ САНАЙИ ВЕ ТИДЖАРЕТ            NaN  \n5                                                  АMB            NaN  \n...                                                ...            ...  \n1333                                            Янссен            NaN  \n1334                                            Янссен            NaN  \n1335                                            Янссен            NaN  \n1336                                         Янтарное             NaN  \n1337                                              Яфф             NaN  \n\n[930 rows x 11 columns]",
      "text/html": "<div>\n<style scoped>\n    .dataframe tbody tr th:only-of-type {\n        vertical-align: middle;\n    }\n\n    .dataframe tbody tr th {\n        vertical-align: top;\n    }\n\n    .dataframe thead th {\n        text-align: right;\n    }\n</style>\n<table border=\"1\" class=\"dataframe\">\n  <thead>\n    <tr style=\"text-align: right;\">\n      <th></th>\n      <th>Производитель МДЛП</th>\n      <th>Обработанный тайтл</th>\n      <th>% матчинга</th>\n      <th>Производитель из МС</th>\n      <th>manufacturer_id</th>\n      <th>Статус</th>\n      <th>Результат проверки</th>\n      <th>Производитель МДЛП (очищенный)</th>\n      <th>Group#</th>\n      <th>Название проивзодителя для МС</th>\n      <th>новый кабинет?</th>\n    </tr>\n  </thead>\n  <tbody>\n    <tr>\n      <th>1</th>\n      <td>ООО СЫЧУАНЬСКАЯ ЮАНДА ШУЯН ФАРМАЦЕВТИЧЕСКАЯ КО...</td>\n      <td>сычуаньская юанда шуян фармацевтическая компания</td>\n      <td>NaN</td>\n      <td>NaN</td>\n      <td>NaN</td>\n      <td>Не удалось найти совпадения</td>\n      <td>NaN</td>\n      <td>сычуаньская юанда шуян</td>\n      <td>NaN</td>\n      <td>СЫЧУАНЬСКАЯ ЮАНДА ШУЯН ФАРМАЦЕВТИЧЕСКАЯ КОМПАНИЯ</td>\n      <td>NaN</td>\n    </tr>\n    <tr>\n      <th>2</th>\n      <td>3М ДОЙЧЛАНД ГМБХ</td>\n      <td>3м дойчланд</td>\n      <td>NaN</td>\n      <td>NaN</td>\n      <td>NaN</td>\n      <td>Не удалось найти совпадения</td>\n      <td>NaN</td>\n      <td>м</td>\n      <td>NaN</td>\n      <td>3М ДОЙЧЛАНД</td>\n      <td>NaN</td>\n    </tr>\n    <tr>\n      <th>3</th>\n      <td>3М ДРАГ ДЕЛИВЕРИ СИСТЕМС</td>\n      <td>3м драг деливери системс</td>\n      <td>NaN</td>\n      <td>NaN</td>\n      <td>NaN</td>\n      <td>Не удалось найти совпадения</td>\n      <td>NaN</td>\n      <td>м драг деливери системс</td>\n      <td>NaN</td>\n      <td>3М ДРАГ ДЕЛИВЕРИ СИСТЕМС</td>\n      <td>NaN</td>\n    </tr>\n    <tr>\n      <th>4</th>\n      <td>ГЕНВЕОН ИЛАЧ САНАЙИ ВЕ ТИДЖАРЕТ АНОНИМ ШИРКЕТИ</td>\n      <td>генвеон илач санайи ве тиджарет аноним ширкети</td>\n      <td>NaN</td>\n      <td>NaN</td>\n      <td>NaN</td>\n      <td>Не удалось найти совпадения</td>\n      <td>NaN</td>\n      <td>генвеон аноним ширкети</td>\n      <td>NaN</td>\n      <td>ГЕНВЕОН ИЛАЧ САНАЙИ ВЕ ТИДЖАРЕТ</td>\n      <td>NaN</td>\n    </tr>\n    <tr>\n      <th>5</th>\n      <td>АМВ ГМБХ</td>\n      <td>амв</td>\n      <td>NaN</td>\n      <td>NaN</td>\n      <td>NaN</td>\n      <td>Не удалось найти совпадения</td>\n      <td>NaN</td>\n      <td>амв</td>\n      <td>NaN</td>\n      <td>АMB</td>\n      <td>NaN</td>\n    </tr>\n    <tr>\n      <th>...</th>\n      <td>...</td>\n      <td>...</td>\n      <td>...</td>\n      <td>...</td>\n      <td>...</td>\n      <td>...</td>\n      <td>...</td>\n      <td>...</td>\n      <td>...</td>\n      <td>...</td>\n      <td>...</td>\n    </tr>\n    <tr>\n      <th>1333</th>\n      <td>СЯНЬ-ЯНССЕН ФАРМАСЬЮТИКАЛ ЛТД.</td>\n      <td>сяньянссен фармасьютикал</td>\n      <td>NaN</td>\n      <td>NaN</td>\n      <td>NaN</td>\n      <td>Не удалось найти совпадения</td>\n      <td>NaN</td>\n      <td>сянь янссен</td>\n      <td>NaN</td>\n      <td>Янссен</td>\n      <td>NaN</td>\n    </tr>\n    <tr>\n      <th>1334</th>\n      <td>ЯНССЕН-ОРТО ЛЛС</td>\n      <td>янссенорто ллс</td>\n      <td>NaN</td>\n      <td>NaN</td>\n      <td>NaN</td>\n      <td>Не удалось найти совпадения</td>\n      <td>NaN</td>\n      <td>янссен орто</td>\n      <td>17</td>\n      <td>Янссен</td>\n      <td>NaN</td>\n    </tr>\n    <tr>\n      <th>1335</th>\n      <td>ЯНССЕН ОРТО ЛЛС</td>\n      <td>янссен орто ллс</td>\n      <td>NaN</td>\n      <td>NaN</td>\n      <td>NaN</td>\n      <td>Не удалось найти совпадения</td>\n      <td>NaN</td>\n      <td>янссен орто</td>\n      <td>17</td>\n      <td>Янссен</td>\n      <td>NaN</td>\n    </tr>\n    <tr>\n      <th>1336</th>\n      <td>ООО ЯНТАРНОЕ</td>\n      <td>янтарное</td>\n      <td>NaN</td>\n      <td>NaN</td>\n      <td>NaN</td>\n      <td>Не удалось найти совпадения</td>\n      <td>NaN</td>\n      <td>янтарное</td>\n      <td>NaN</td>\n      <td>Янтарное</td>\n      <td>NaN</td>\n    </tr>\n    <tr>\n      <th>1337</th>\n      <td>ЗАО ЯФФ</td>\n      <td>яфф</td>\n      <td>NaN</td>\n      <td>NaN</td>\n      <td>NaN</td>\n      <td>Не удалось найти совпадения</td>\n      <td>NaN</td>\n      <td>яфф</td>\n      <td>NaN</td>\n      <td>Яфф</td>\n      <td>NaN</td>\n    </tr>\n  </tbody>\n</table>\n<p>930 rows × 11 columns</p>\n</div>"
     },
     "execution_count": 3,
     "metadata": {},
     "output_type": "execute_result"
    }
   ],
   "source": [
    "filtered_df"
   ],
   "metadata": {
    "collapsed": false,
    "ExecuteTime": {
     "end_time": "2024-10-22T10:24:47.786953700Z",
     "start_time": "2024-10-22T10:24:47.751243900Z"
    }
   },
   "id": "bde37b43e7f3fffa"
  },
  {
   "cell_type": "code",
   "execution_count": 4,
   "outputs": [
    {
     "data": {
      "text/plain": "                                  Производитель МДЛП Производитель из МС  \\\n1  ООО СЫЧУАНЬСКАЯ ЮАНДА ШУЯН ФАРМАЦЕВТИЧЕСКАЯ КО...                 NaN   \n2                                   3М ДОЙЧЛАНД ГМБХ                 NaN   \n3                           3М ДРАГ ДЕЛИВЕРИ СИСТЕМС                 NaN   \n4     ГЕНВЕОН ИЛАЧ САНАЙИ ВЕ ТИДЖАРЕТ АНОНИМ ШИРКЕТИ                 NaN   \n5                                           АМВ ГМБХ                 NaN   \n\n  manufacturer_id Group#                    Название проивзодителя для МС   \\\n1             NaN    NaN  СЫЧУАНЬСКАЯ ЮАНДА ШУЯН ФАРМАЦЕВТИЧЕСКАЯ КОМПАНИЯ   \n2             NaN    NaN                                      3М ДОЙЧЛАНД    \n3             NaN    NaN                          3М ДРАГ ДЕЛИВЕРИ СИСТЕМС   \n4             NaN    NaN                   ГЕНВЕОН ИЛАЧ САНАЙИ ВЕ ТИДЖАРЕТ   \n5             NaN    NaN                                               АMB   \n\n  новый кабинет?  \n1            NaN  \n2            NaN  \n3            NaN  \n4            NaN  \n5            NaN  ",
      "text/html": "<div>\n<style scoped>\n    .dataframe tbody tr th:only-of-type {\n        vertical-align: middle;\n    }\n\n    .dataframe tbody tr th {\n        vertical-align: top;\n    }\n\n    .dataframe thead th {\n        text-align: right;\n    }\n</style>\n<table border=\"1\" class=\"dataframe\">\n  <thead>\n    <tr style=\"text-align: right;\">\n      <th></th>\n      <th>Производитель МДЛП</th>\n      <th>Производитель из МС</th>\n      <th>manufacturer_id</th>\n      <th>Group#</th>\n      <th>Название проивзодителя для МС</th>\n      <th>новый кабинет?</th>\n    </tr>\n  </thead>\n  <tbody>\n    <tr>\n      <th>1</th>\n      <td>ООО СЫЧУАНЬСКАЯ ЮАНДА ШУЯН ФАРМАЦЕВТИЧЕСКАЯ КО...</td>\n      <td>NaN</td>\n      <td>NaN</td>\n      <td>NaN</td>\n      <td>СЫЧУАНЬСКАЯ ЮАНДА ШУЯН ФАРМАЦЕВТИЧЕСКАЯ КОМПАНИЯ</td>\n      <td>NaN</td>\n    </tr>\n    <tr>\n      <th>2</th>\n      <td>3М ДОЙЧЛАНД ГМБХ</td>\n      <td>NaN</td>\n      <td>NaN</td>\n      <td>NaN</td>\n      <td>3М ДОЙЧЛАНД</td>\n      <td>NaN</td>\n    </tr>\n    <tr>\n      <th>3</th>\n      <td>3М ДРАГ ДЕЛИВЕРИ СИСТЕМС</td>\n      <td>NaN</td>\n      <td>NaN</td>\n      <td>NaN</td>\n      <td>3М ДРАГ ДЕЛИВЕРИ СИСТЕМС</td>\n      <td>NaN</td>\n    </tr>\n    <tr>\n      <th>4</th>\n      <td>ГЕНВЕОН ИЛАЧ САНАЙИ ВЕ ТИДЖАРЕТ АНОНИМ ШИРКЕТИ</td>\n      <td>NaN</td>\n      <td>NaN</td>\n      <td>NaN</td>\n      <td>ГЕНВЕОН ИЛАЧ САНАЙИ ВЕ ТИДЖАРЕТ</td>\n      <td>NaN</td>\n    </tr>\n    <tr>\n      <th>5</th>\n      <td>АМВ ГМБХ</td>\n      <td>NaN</td>\n      <td>NaN</td>\n      <td>NaN</td>\n      <td>АMB</td>\n      <td>NaN</td>\n    </tr>\n  </tbody>\n</table>\n</div>"
     },
     "execution_count": 4,
     "metadata": {},
     "output_type": "execute_result"
    }
   ],
   "source": [
    "# Select only the necessary columns for further analysis (note the corrected column name with the space)\n",
    "filtered_columns_df = filtered_df[\n",
    "    [\n",
    "        'Производитель МДЛП',\n",
    "        'Производитель из МС',\n",
    "        'manufacturer_id',\n",
    "        'Group#',\n",
    "        'Название проивзодителя для МС ',\n",
    "        'новый кабинет?'\n",
    "    ]\n",
    "]\n",
    "\n",
    "# Displaying the first few rows to confirm the selection\n",
    "filtered_columns_df.head()\n"
   ],
   "metadata": {
    "collapsed": false,
    "ExecuteTime": {
     "end_time": "2024-10-22T10:24:49.256313500Z",
     "start_time": "2024-10-22T10:24:49.231682Z"
    }
   },
   "id": "ac8024eecf05b13d"
  },
  {
   "cell_type": "code",
   "execution_count": 5,
   "outputs": [
    {
     "data": {
      "text/plain": "                                     Производитель МДЛП Производитель из МС  \\\n1     ООО СЫЧУАНЬСКАЯ ЮАНДА ШУЯН ФАРМАЦЕВТИЧЕСКАЯ КО...                 NaN   \n2                                      3М ДОЙЧЛАНД ГМБХ                 NaN   \n3                              3М ДРАГ ДЕЛИВЕРИ СИСТЕМС                 NaN   \n4        ГЕНВЕОН ИЛАЧ САНАЙИ ВЕ ТИДЖАРЕТ АНОНИМ ШИРКЕТИ                 NaN   \n5                                              АМВ ГМБХ                 NaN   \n...                                                 ...                 ...   \n1333                     СЯНЬ-ЯНССЕН ФАРМАСЬЮТИКАЛ ЛТД.                 NaN   \n1334                                    ЯНССЕН-ОРТО ЛЛС                 NaN   \n1335                                    ЯНССЕН ОРТО ЛЛС                 NaN   \n1336                                       ООО ЯНТАРНОЕ                 NaN   \n1337                                            ЗАО ЯФФ                 NaN   \n\n     manufacturer_id Group#                    Название проивзодителя для МС   \\\n1                NaN    NaN  СЫЧУАНЬСКАЯ ЮАНДА ШУЯН ФАРМАЦЕВТИЧЕСКАЯ КОМПАНИЯ   \n2                NaN    NaN                                      3М ДОЙЧЛАНД    \n3                NaN    NaN                          3М ДРАГ ДЕЛИВЕРИ СИСТЕМС   \n4                NaN    NaN                   ГЕНВЕОН ИЛАЧ САНАЙИ ВЕ ТИДЖАРЕТ   \n5                NaN    NaN                                               АMB   \n...              ...    ...                                               ...   \n1333             NaN    NaN                                            Янссен   \n1334             NaN     17                                            Янссен   \n1335             NaN     17                                            Янссен   \n1336             NaN    NaN                                         Янтарное    \n1337             NaN    NaN                                              Яфф    \n\n     новый кабинет?  \n1               NaN  \n2               NaN  \n3               NaN  \n4               NaN  \n5               NaN  \n...             ...  \n1333            NaN  \n1334            NaN  \n1335            NaN  \n1336            NaN  \n1337            NaN  \n\n[930 rows x 6 columns]",
      "text/html": "<div>\n<style scoped>\n    .dataframe tbody tr th:only-of-type {\n        vertical-align: middle;\n    }\n\n    .dataframe tbody tr th {\n        vertical-align: top;\n    }\n\n    .dataframe thead th {\n        text-align: right;\n    }\n</style>\n<table border=\"1\" class=\"dataframe\">\n  <thead>\n    <tr style=\"text-align: right;\">\n      <th></th>\n      <th>Производитель МДЛП</th>\n      <th>Производитель из МС</th>\n      <th>manufacturer_id</th>\n      <th>Group#</th>\n      <th>Название проивзодителя для МС</th>\n      <th>новый кабинет?</th>\n    </tr>\n  </thead>\n  <tbody>\n    <tr>\n      <th>1</th>\n      <td>ООО СЫЧУАНЬСКАЯ ЮАНДА ШУЯН ФАРМАЦЕВТИЧЕСКАЯ КО...</td>\n      <td>NaN</td>\n      <td>NaN</td>\n      <td>NaN</td>\n      <td>СЫЧУАНЬСКАЯ ЮАНДА ШУЯН ФАРМАЦЕВТИЧЕСКАЯ КОМПАНИЯ</td>\n      <td>NaN</td>\n    </tr>\n    <tr>\n      <th>2</th>\n      <td>3М ДОЙЧЛАНД ГМБХ</td>\n      <td>NaN</td>\n      <td>NaN</td>\n      <td>NaN</td>\n      <td>3М ДОЙЧЛАНД</td>\n      <td>NaN</td>\n    </tr>\n    <tr>\n      <th>3</th>\n      <td>3М ДРАГ ДЕЛИВЕРИ СИСТЕМС</td>\n      <td>NaN</td>\n      <td>NaN</td>\n      <td>NaN</td>\n      <td>3М ДРАГ ДЕЛИВЕРИ СИСТЕМС</td>\n      <td>NaN</td>\n    </tr>\n    <tr>\n      <th>4</th>\n      <td>ГЕНВЕОН ИЛАЧ САНАЙИ ВЕ ТИДЖАРЕТ АНОНИМ ШИРКЕТИ</td>\n      <td>NaN</td>\n      <td>NaN</td>\n      <td>NaN</td>\n      <td>ГЕНВЕОН ИЛАЧ САНАЙИ ВЕ ТИДЖАРЕТ</td>\n      <td>NaN</td>\n    </tr>\n    <tr>\n      <th>5</th>\n      <td>АМВ ГМБХ</td>\n      <td>NaN</td>\n      <td>NaN</td>\n      <td>NaN</td>\n      <td>АMB</td>\n      <td>NaN</td>\n    </tr>\n    <tr>\n      <th>...</th>\n      <td>...</td>\n      <td>...</td>\n      <td>...</td>\n      <td>...</td>\n      <td>...</td>\n      <td>...</td>\n    </tr>\n    <tr>\n      <th>1333</th>\n      <td>СЯНЬ-ЯНССЕН ФАРМАСЬЮТИКАЛ ЛТД.</td>\n      <td>NaN</td>\n      <td>NaN</td>\n      <td>NaN</td>\n      <td>Янссен</td>\n      <td>NaN</td>\n    </tr>\n    <tr>\n      <th>1334</th>\n      <td>ЯНССЕН-ОРТО ЛЛС</td>\n      <td>NaN</td>\n      <td>NaN</td>\n      <td>17</td>\n      <td>Янссен</td>\n      <td>NaN</td>\n    </tr>\n    <tr>\n      <th>1335</th>\n      <td>ЯНССЕН ОРТО ЛЛС</td>\n      <td>NaN</td>\n      <td>NaN</td>\n      <td>17</td>\n      <td>Янссен</td>\n      <td>NaN</td>\n    </tr>\n    <tr>\n      <th>1336</th>\n      <td>ООО ЯНТАРНОЕ</td>\n      <td>NaN</td>\n      <td>NaN</td>\n      <td>NaN</td>\n      <td>Янтарное</td>\n      <td>NaN</td>\n    </tr>\n    <tr>\n      <th>1337</th>\n      <td>ЗАО ЯФФ</td>\n      <td>NaN</td>\n      <td>NaN</td>\n      <td>NaN</td>\n      <td>Яфф</td>\n      <td>NaN</td>\n    </tr>\n  </tbody>\n</table>\n<p>930 rows × 6 columns</p>\n</div>"
     },
     "execution_count": 5,
     "metadata": {},
     "output_type": "execute_result"
    }
   ],
   "source": [
    "filtered_columns_df"
   ],
   "metadata": {
    "collapsed": false,
    "ExecuteTime": {
     "end_time": "2024-10-22T10:24:50.731513Z",
     "start_time": "2024-10-22T10:24:50.701386200Z"
    }
   },
   "id": "9b8f703d55512db"
  },
  {
   "cell_type": "code",
   "execution_count": 6,
   "outputs": [],
   "source": [
    "grouped_df = filtered_columns_df.groupby('Название проивзодителя для МС ').first().reset_index()"
   ],
   "metadata": {
    "collapsed": false,
    "ExecuteTime": {
     "end_time": "2024-10-22T10:24:51.602217400Z",
     "start_time": "2024-10-22T10:24:51.566498600Z"
    }
   },
   "id": "8d73d8b72a1b1726"
  },
  {
   "cell_type": "code",
   "execution_count": 7,
   "outputs": [
    {
     "data": {
      "text/plain": "    Название проивзодителя для МС                      Производитель МДЛП  \\\n0                     3М ДОЙЧЛАНД                        3М ДОЙЧЛАНД ГМБХ   \n1         3М ДРАГ ДЕЛИВЕРИ СИСТЕМС               3М ДРАГ ДЕЛИВЕРИ СИСТЕМС   \n2                              АMB                               АМВ ГМБХ   \n3                    АБДИ ИБРАХИМ   АБДИ ИБРАХИМ ИЛЯЧ САНАЙИ ВЕ ТИДЖ А.Ш.   \n4                              АВЗ                            ООО АВЗ С-П   \n..                             ...                                    ...   \n699                      Юниверсал                   ЮНИВЕРСАЛ ФАРМА С.Л.   \n700                         Юнитер                       ЮНИТЕР ИНДАСТРИС   \n701                         Янссен                    ЯНССЕН-СИЛАГ С.П.А.   \n702                      Янтарное                            ООО ЯНТАРНОЕ   \n703                           Яфф                                 ЗАО ЯФФ   \n\n    Производитель из МС manufacturer_id Group# новый кабинет?  \n0                  None            None   None           None  \n1                  None            None   None           None  \n2                  None            None   None           None  \n3                  None            None   None           None  \n4                  None            None   None           None  \n..                  ...             ...    ...            ...  \n699                None            None   None           None  \n700                None            None   None           None  \n701                None            None     82           None  \n702                None            None   None           None  \n703                None            None   None           None  \n\n[704 rows x 6 columns]",
      "text/html": "<div>\n<style scoped>\n    .dataframe tbody tr th:only-of-type {\n        vertical-align: middle;\n    }\n\n    .dataframe tbody tr th {\n        vertical-align: top;\n    }\n\n    .dataframe thead th {\n        text-align: right;\n    }\n</style>\n<table border=\"1\" class=\"dataframe\">\n  <thead>\n    <tr style=\"text-align: right;\">\n      <th></th>\n      <th>Название проивзодителя для МС</th>\n      <th>Производитель МДЛП</th>\n      <th>Производитель из МС</th>\n      <th>manufacturer_id</th>\n      <th>Group#</th>\n      <th>новый кабинет?</th>\n    </tr>\n  </thead>\n  <tbody>\n    <tr>\n      <th>0</th>\n      <td>3М ДОЙЧЛАНД</td>\n      <td>3М ДОЙЧЛАНД ГМБХ</td>\n      <td>None</td>\n      <td>None</td>\n      <td>None</td>\n      <td>None</td>\n    </tr>\n    <tr>\n      <th>1</th>\n      <td>3М ДРАГ ДЕЛИВЕРИ СИСТЕМС</td>\n      <td>3М ДРАГ ДЕЛИВЕРИ СИСТЕМС</td>\n      <td>None</td>\n      <td>None</td>\n      <td>None</td>\n      <td>None</td>\n    </tr>\n    <tr>\n      <th>2</th>\n      <td>АMB</td>\n      <td>АМВ ГМБХ</td>\n      <td>None</td>\n      <td>None</td>\n      <td>None</td>\n      <td>None</td>\n    </tr>\n    <tr>\n      <th>3</th>\n      <td>АБДИ ИБРАХИМ</td>\n      <td>АБДИ ИБРАХИМ ИЛЯЧ САНАЙИ ВЕ ТИДЖ А.Ш.</td>\n      <td>None</td>\n      <td>None</td>\n      <td>None</td>\n      <td>None</td>\n    </tr>\n    <tr>\n      <th>4</th>\n      <td>АВЗ</td>\n      <td>ООО АВЗ С-П</td>\n      <td>None</td>\n      <td>None</td>\n      <td>None</td>\n      <td>None</td>\n    </tr>\n    <tr>\n      <th>...</th>\n      <td>...</td>\n      <td>...</td>\n      <td>...</td>\n      <td>...</td>\n      <td>...</td>\n      <td>...</td>\n    </tr>\n    <tr>\n      <th>699</th>\n      <td>Юниверсал</td>\n      <td>ЮНИВЕРСАЛ ФАРМА С.Л.</td>\n      <td>None</td>\n      <td>None</td>\n      <td>None</td>\n      <td>None</td>\n    </tr>\n    <tr>\n      <th>700</th>\n      <td>Юнитер</td>\n      <td>ЮНИТЕР ИНДАСТРИС</td>\n      <td>None</td>\n      <td>None</td>\n      <td>None</td>\n      <td>None</td>\n    </tr>\n    <tr>\n      <th>701</th>\n      <td>Янссен</td>\n      <td>ЯНССЕН-СИЛАГ С.П.А.</td>\n      <td>None</td>\n      <td>None</td>\n      <td>82</td>\n      <td>None</td>\n    </tr>\n    <tr>\n      <th>702</th>\n      <td>Янтарное</td>\n      <td>ООО ЯНТАРНОЕ</td>\n      <td>None</td>\n      <td>None</td>\n      <td>None</td>\n      <td>None</td>\n    </tr>\n    <tr>\n      <th>703</th>\n      <td>Яфф</td>\n      <td>ЗАО ЯФФ</td>\n      <td>None</td>\n      <td>None</td>\n      <td>None</td>\n      <td>None</td>\n    </tr>\n  </tbody>\n</table>\n<p>704 rows × 6 columns</p>\n</div>"
     },
     "execution_count": 7,
     "metadata": {},
     "output_type": "execute_result"
    }
   ],
   "source": [
    "grouped_df"
   ],
   "metadata": {
    "collapsed": false,
    "ExecuteTime": {
     "end_time": "2024-10-22T10:24:52.938429900Z",
     "start_time": "2024-10-22T10:24:52.927422100Z"
    }
   },
   "id": "e970dcaa98dbe0a6"
  },
  {
   "cell_type": "code",
   "execution_count": 17,
   "outputs": [
    {
     "name": "stdout",
     "output_type": "stream",
     "text": [
      "Успешно подключено к базе данных\n"
     ]
    }
   ],
   "source": [
    "import pandas as pd\n",
    "import psycopg2\n",
    "import uuid\n",
    "from datetime import datetime\n",
    "\n",
    "# Connect to the database\n",
    "def connect_to_database():\n",
    "    conn = psycopg2.connect(\n",
    "        dbname='pharmhub',\n",
    "        user='ivan.anisimov',\n",
    "        password='oA7W5uz2GzEd',\n",
    "        host='10.0.0.170'\n",
    "    )\n",
    "    return conn\n",
    "\n",
    "# Prepare the insertion query\n",
    "def insert_into_clients(conn, record):\n",
    "    query = \"\"\"\n",
    "    INSERT INTO \"Clients\" (\n",
    "        id, title, type, country, points, status, \"dateCreated\"\n",
    "    ) VALUES (%s, %s, %s, %s, %s, %s, %s)\n",
    "    \"\"\"\n",
    "    with conn.cursor() as cursor:\n",
    "        cursor.execute(query, record)\n",
    "\n",
    "# Prepare the data from grouped_df\n",
    "conn = connect_to_database()\n",
    "if conn:\n",
    "    print(\"Успешно подключено к базе данных\")\n",
    "\n",
    "\n"
   ],
   "metadata": {
    "collapsed": false,
    "ExecuteTime": {
     "end_time": "2024-10-22T11:19:35.469267600Z",
     "start_time": "2024-10-22T11:19:35.147970Z"
    }
   },
   "id": "6ff462659963239"
  },
  {
   "cell_type": "code",
   "execution_count": 18,
   "outputs": [
    {
     "name": "stdout",
     "output_type": "stream",
     "text": [
      "Успешно подключено к базе данных\n",
      "\n",
      "        INSERT INTO \"Clients\" (\n",
      "            id, title, type, country, points, status, deleted, \"dateCreated\"\n",
      "        ) VALUES (\n",
      "            '40c2238c-31f0-4054-a022-4f3acde9b259', '3М ДОЙЧЛАНД ', 'manufacturer', 'Россия', 0.0, 'active', 'False', '2024-10-22 14:19:44.369471'\n",
      "        );\n",
      "        \n",
      "\n",
      "        INSERT INTO \"Clients\" (\n",
      "            id, title, type, country, points, status, deleted, \"dateCreated\"\n",
      "        ) VALUES (\n",
      "            'ce50b20d-6617-45c8-aec0-57c70271707f', '3М ДРАГ ДЕЛИВЕРИ СИСТЕМС', 'manufacturer', 'Россия', 0.0, 'active', 'False', '2024-10-22 14:19:44.369594'\n",
      "        );\n",
      "        \n",
      "\n",
      "        INSERT INTO \"Clients\" (\n",
      "            id, title, type, country, points, status, deleted, \"dateCreated\"\n",
      "        ) VALUES (\n",
      "            'c0975072-91ff-40a3-a88f-7b9abaed1eda', 'АMB', 'manufacturer', 'Россия', 0.0, 'active', 'False', '2024-10-22 14:19:44.369694'\n",
      "        );\n",
      "        \n",
      "\n",
      "        INSERT INTO \"Clients\" (\n",
      "            id, title, type, country, points, status, deleted, \"dateCreated\"\n",
      "        ) VALUES (\n",
      "            'b9050ffd-526f-4bc3-9a4b-b01e6e2b201a', 'АБДИ ИБРАХИМ ', 'manufacturer', 'Россия', 0.0, 'active', 'False', '2024-10-22 14:19:44.369789'\n",
      "        );\n",
      "        \n",
      "\n",
      "        INSERT INTO \"Clients\" (\n",
      "            id, title, type, country, points, status, deleted, \"dateCreated\"\n",
      "        ) VALUES (\n",
      "            '64165850-c428-48b1-bfc6-d44b91e9e352', 'АВЗ', 'manufacturer', 'Россия', 0.0, 'active', 'False', '2024-10-22 14:19:44.369883'\n",
      "        );\n",
      "        \n",
      "Все данные успешно вставлены.\n",
      "Соединение закрыто.\n"
     ]
    }
   ],
   "source": [
    "# Prepare the data from grouped_df and print the first few records for verification\n",
    "def prepare_insert_statements(df, num_examples=20):\n",
    "    insert_statements = []\n",
    "    for _, row in df.iterrows():\n",
    "        new_uuid = str(uuid.uuid4())  # Generate new UUID\n",
    "        title = row['Название проивзодителя для МС ']  # Manufacturer name from MS\n",
    "        type_ = 'manufacturer'  # Set type as manufacturer\n",
    "        country = 'Россия'  # Assuming RU if no other info is available\n",
    "        points = 0.0  # Default points value\n",
    "        status = 'active'  # Default status\n",
    "        deleted = False\n",
    "        date_created = datetime.now()  # Current timestamp\n",
    "\n",
    "        # Create the SQL insert statement as a string for printing\n",
    "        insert_statement = f\"\"\"\n",
    "        INSERT INTO \"Clients\" (\n",
    "            id, title, type, country, points, status, deleted, \"dateCreated\"\n",
    "        ) VALUES (\n",
    "            '{new_uuid}', '{title}', '{type_}', '{country}', {points}, '{status}', '{deleted}', '{date_created}'\n",
    "        );\n",
    "        \"\"\"\n",
    "        insert_statements.append(insert_statement)\n",
    "\n",
    "        # Print the first few examples only\n",
    "        if len(insert_statements) <= num_examples:\n",
    "            print(insert_statement)\n",
    "\n",
    "    return insert_statements\n",
    "\n",
    "# Main flow\n",
    "conn = connect_to_database()\n",
    "if conn:\n",
    "    print(\"Успешно подключено к базе данных\")\n",
    "    \n",
    "    # Prepare and print example insert statements\n",
    "    prepared_statements = prepare_insert_statements(grouped_df, num_examples=5)\n",
    "\n",
    "    # If everything looks good, you can uncomment below lines to execute the inserts\n",
    "    cursor = conn.cursor()\n",
    "    try:\n",
    "        for statement in prepared_statements:\n",
    "            cursor.execute(statement)\n",
    "        conn.commit()\n",
    "        print(\"Все данные успешно вставлены.\")\n",
    "    except Exception as e:\n",
    "        print(f\"Ошибка при вставке данных: {e}\")\n",
    "        conn.rollback()\n",
    "    finally:\n",
    "        cursor.close()\n",
    "        conn.close()\n",
    "        print(\"Соединение закрыто.\")\n",
    "else:\n",
    "    print(\"Ошибка подключения\")"
   ],
   "metadata": {
    "collapsed": false,
    "ExecuteTime": {
     "end_time": "2024-10-22T11:20:15.287504500Z",
     "start_time": "2024-10-22T11:19:44.101171500Z"
    }
   },
   "id": "cdbc8b8bacdc8c4"
  },
  {
   "cell_type": "code",
   "execution_count": null,
   "outputs": [],
   "source": [],
   "metadata": {
    "collapsed": false
   },
   "id": "bf191e7c655238d8"
  }
 ],
 "metadata": {
  "kernelspec": {
   "display_name": "Python 3",
   "language": "python",
   "name": "python3"
  },
  "language_info": {
   "codemirror_mode": {
    "name": "ipython",
    "version": 2
   },
   "file_extension": ".py",
   "mimetype": "text/x-python",
   "name": "python",
   "nbconvert_exporter": "python",
   "pygments_lexer": "ipython2",
   "version": "2.7.6"
  }
 },
 "nbformat": 4,
 "nbformat_minor": 5
}
