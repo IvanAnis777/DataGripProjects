{
 "cells": [
  {
   "cell_type": "code",
   "execution_count": 6,
   "id": "initial_id",
   "metadata": {
    "collapsed": true,
    "ExecuteTime": {
     "end_time": "2024-07-09T13:09:43.400791Z",
     "start_time": "2024-07-09T13:09:43.055435200Z"
    }
   },
   "outputs": [
    {
     "name": "stdout",
     "output_type": "stream",
     "text": [
      "Успешно подключено к базе данных\n"
     ]
    }
   ],
   "source": [
    "import psycopg2\n",
    "\n",
    "def connect_to_database():\n",
    "    conn = psycopg2.connect(\n",
    "        dbname='pharmhub',\n",
    "        user='ivan.anisimov',\n",
    "        password='oA7W5uz2GzEd',\n",
    "        host='10.0.1.17'\n",
    "    )\n",
    "    return conn\n",
    "\n",
    "# Проверим подключение\n",
    "conn = connect_to_database()\n",
    "print(\"Успешно подключено к базе данных\") if conn else print(\"Ошибка подключения\")"
   ]
  },
  {
   "cell_type": "code",
   "execution_count": 1,
   "outputs": [],
   "source": [
    "import pandas as pd\n",
    "\n",
    "df = pd.read_excel('/mnt/d/Doc_To_Date/20240709/dsm.xlsx', header=2)"
   ],
   "metadata": {
    "collapsed": false,
    "ExecuteTime": {
     "end_time": "2024-07-09T13:09:16.656419200Z",
     "start_time": "2024-07-09T13:08:44.818442200Z"
    }
   },
   "id": "e364aad608bdb7ef"
  },
  {
   "cell_type": "code",
   "execution_count": 15,
   "outputs": [
    {
     "data": {
      "text/plain": "                          Бренд  \\\n0                 AASHA HERBALS   \n1                 AASHA HERBALS   \n2                 AASHA HERBALS   \n3                 AASHA HERBALS   \n4                 AASHA HERBALS   \n...                         ...   \n97875  911 ВАША СЛУЖБА СПАСЕНИЯ   \n97876         911 СКОРАЯ ПОМОЩЬ   \n97877     911 ЭКСТРЕННАЯ ПОМОЩЬ   \n97878     911 ЭКСТРЕННАЯ ПОМОЩЬ   \n97879     911 ЭКСТРЕННАЯ ПОМОЩЬ   \n\n                                     Полное наименование  \\\n0      AASHA HERBALS АASHADENT ЗУБНАЯ ПАСТА ГВОЗДИКА ...   \n1      AASHA HERBALS АASHADENT ЗУБНАЯ ПАСТА КАРДАМОН ...   \n2      AASHA HERBALS АASHADENT ЗУБНАЯ ПАСТА КАРДАМОН ...   \n3      AASHA HERBALS АASHADENT ЗУБНАЯ ПАСТА ЛАВР И МЯ...   \n4      AASHA HERBALS АASHADENT ЗУБНАЯ ПАСТА НИМ И БАБ...   \n...                                                  ...   \n97875  911 НИКОТИНОВАЯ КИСЛОТА И РАСТИТЕЛЬНЫЕ СТИМУЛЯ...   \n97876     911 СКОРАЯ ПОМОЩЬ БАДЯГА ГЕЛЬ Д/ТЕЛА 125 МЛ №1   \n97877  911 ЭКСТРЕННАЯ ПОМОЩЬ ГЕЛЬ-БАЛЬЗАМ Д/ТЕЛА ПЧЕЛ...   \n97878  911 ЭКСТРЕННАЯ ПОМОЩЬ СРЕДСТВО ОТ ПОТА И ЗАПАХ...   \n97879  911 ЭКСТРЕННАЯ ПОМОЩЬ ШАМПУНЬ ОТ ПЕРХОТИ С КЕТ...   \n\n                                   Торговое наименование  \\\n0      AASHA HERBALS АASHADENT ЗУБНАЯ ПАСТА ГВОЗДИКА ...   \n1      AASHA HERBALS АASHADENT ЗУБНАЯ ПАСТА КАРДАМОН ...   \n2      AASHA HERBALS АASHADENT ЗУБНАЯ ПАСТА КАРДАМОН ...   \n3       AASHA HERBALS АASHADENT ЗУБНАЯ ПАСТА ЛАВР И МЯТА   \n4       AASHA HERBALS АASHADENT ЗУБНАЯ ПАСТА НИМ И БАБУЛ   \n...                                                  ...   \n97875  911 НИКОТИНОВАЯ КИСЛОТА И РАСТИТЕЛЬНЫЕ СТИМУЛЯ...   \n97876                           911 СКОРАЯ ПОМОЩЬ БАДЯГА   \n97877  911 ЭКСТРЕННАЯ ПОМОЩЬ ГЕЛЬ-БАЛЬЗАМ Д/ТЕЛА ПЧЕЛ...   \n97878  911 ЭКСТРЕННАЯ ПОМОЩЬ СРЕДСТВО ОТ ПОТА И ЗАПАХ...   \n97879  911 ЭКСТРЕННАЯ ПОМОЩЬ ШАМПУНЬ ОТ ПЕРХОТИ С КЕТ...   \n\n                 Лекарственная форма     Форма выпуска Дозировка  \\\n0           ЗУБНАЯ ПАСТА КОМПЛЕКСНАЯ              ТУБА       NaN   \n1           ЗУБНАЯ ПАСТА КОМПЛЕКСНАЯ              ТУБА       NaN   \n2           ЗУБНАЯ ПАСТА КОМПЛЕКСНАЯ              ТУБА       NaN   \n3           ЗУБНАЯ ПАСТА КОМПЛЕКСНАЯ              ТУБА       NaN   \n4           ЗУБНАЯ ПАСТА КОМПЛЕКСНАЯ              ТУБА       NaN   \n...                              ...               ...       ...   \n97875  КОСМЕТИЧЕСКИЕ СРЕДСТВА ПРОЧИЕ              ТУБА       NaN   \n97876                  ГЕЛЬ ДЛЯ ТЕЛА              ТУБА       NaN   \n97877             КОСМЕТИЧЕСКИЙ ГЕЛЬ  ТУБА ПЛАСТИКОВАЯ       NaN   \n97878            КОСМЕТИЧЕСКАЯ ПУДРА              САШЕ       NaN   \n97879         ШАМПУНЬ ПРОТИВ ПЕРХОТИ            ФЛАКОН       NaN   \n\n                           Фирма-производитель  \\\n0      HERBAL DREAM AYURVEDA CREATIONS PVT LTD   \n1      HERBAL DREAM AYURVEDA CREATIONS PVT LTD   \n2      HERBAL DREAM AYURVEDA CREATIONS PVT LTD   \n3      HERBAL DREAM AYURVEDA CREATIONS PVT LTD   \n4      HERBAL DREAM AYURVEDA CREATIONS PVT LTD   \n...                                        ...   \n97875                            ТВИНС ТЭК ЗАО   \n97876                      NEWMANS NUTRIENT AG   \n97877                             МИРРОЛЛА ООО   \n97878                             МИРРОЛЛА ООО   \n97879                             МИРРОЛЛА ООО   \n\n                                    Корпорация Страна-производитель  АТС  ...  \\\n0      HERBAL DREAM AYURVEDA CREATIONS PVT LTD                ИНДИЯ  NaN  ...   \n1      HERBAL DREAM AYURVEDA CREATIONS PVT LTD                ИНДИЯ  NaN  ...   \n2      HERBAL DREAM AYURVEDA CREATIONS PVT LTD                ИНДИЯ  NaN  ...   \n3      HERBAL DREAM AYURVEDA CREATIONS PVT LTD                ИНДИЯ  NaN  ...   \n4      HERBAL DREAM AYURVEDA CREATIONS PVT LTD                ИНДИЯ  NaN  ...   \n...                                        ...                  ...  ...  ...   \n97875                            ТВИНС ТЭК ЗАО               РОССИЯ  NaN  ...   \n97876                             ФОРА-ФАРМ ГК               РОССИЯ  NaN  ...   \n97877                             МИРРОЛЛА ООО               РОССИЯ  NaN  ...   \n97878                             МИРРОЛЛА ООО               РОССИЯ  NaN  ...   \n97879                             МИРРОЛЛА ООО               РОССИЯ  NaN  ...   \n\n       Классификатор косметики по показанию к применению  \\\n0                                                    NaN   \n1                                                    NaN   \n2                                                    NaN   \n3                                                    NaN   \n4                                                    NaN   \n...                                                  ...   \n97875                   ВЫПАДЕНИЕ ВОЛОС, ОБЛЫСЕНИЕ (B02)   \n97876  РАСТЯЖЕНИЯ, УШИБЫ, ЗАБОЛЕВАНИЯ СУСТАВОВ ВОСПАЛ...   \n97877                ОБЩИЕ ТЕРАПЕВТИЧЕСКИЕ ПОКАЗАНИЯ (D)   \n97878                                   ПОТЛИВОСТЬ (A18)   \n97879                                      ПЕРХОТЬ (B01)   \n\n      Классификатор БАД по действию БАД по составу  \\\n0                               NaN            NaN   \n1                               NaN            NaN   \n2                               NaN            NaN   \n3                               NaN            NaN   \n4                               NaN            NaN   \n...                             ...            ...   \n97875                           NaN            NaN   \n97876                           NaN            NaN   \n97877                           NaN            NaN   \n97878                           NaN            NaN   \n97879                           NaN            NaN   \n\n                               Тип товара Количество действующего вещества  \\\n0      СРЕДСТВА ДЛЯ УХОДА ЗА ПОЛОСТЬЮ РТА                              NaN   \n1      СРЕДСТВА ДЛЯ УХОДА ЗА ПОЛОСТЬЮ РТА                              NaN   \n2      СРЕДСТВА ДЛЯ УХОДА ЗА ПОЛОСТЬЮ РТА                              NaN   \n3      СРЕДСТВА ДЛЯ УХОДА ЗА ПОЛОСТЬЮ РТА                              NaN   \n4      СРЕДСТВА ДЛЯ УХОДА ЗА ПОЛОСТЬЮ РТА                              NaN   \n...                                   ...                              ...   \n97875       ЛЕЧЕБНАЯ (АКТИВНАЯ) КОСМЕТИКА                              NaN   \n97876       ЛЕЧЕБНАЯ (АКТИВНАЯ) КОСМЕТИКА                              NaN   \n97877       ЛЕЧЕБНАЯ (АКТИВНАЯ) КОСМЕТИКА                              NaN   \n97878       ЛЕЧЕБНАЯ (АКТИВНАЯ) КОСМЕТИКА                              NaN   \n97879       ЛЕЧЕБНАЯ (АКТИВНАЯ) КОСМЕТИКА                              NaN   \n\n      Объем, вес     IAS     IAS2 GTIN Количество в упаковке  \n0          100 Г  234842  1384290  NaN                     1  \n1          100 Г  128382  1354924  NaN                     1  \n2          100 Г   25233  1354925  NaN                     1  \n3          100 Г  234843  1384291  NaN                     1  \n4          100 Г  234844  1384292  NaN                     1  \n...          ...     ...      ...  ...                   ...  \n97875      65 МЛ  292288  1428566  NaN                     1  \n97876     125 МЛ  243998  1392074  NaN                     1  \n97877      75 МЛ  303586  1438529  NaN                     1  \n97878        2 Г  314013  1448677  NaN                    10  \n97879     150 МЛ  301055  1435984  NaN                     1  \n\n[97880 rows x 31 columns]",
      "text/html": "<div>\n<style scoped>\n    .dataframe tbody tr th:only-of-type {\n        vertical-align: middle;\n    }\n\n    .dataframe tbody tr th {\n        vertical-align: top;\n    }\n\n    .dataframe thead th {\n        text-align: right;\n    }\n</style>\n<table border=\"1\" class=\"dataframe\">\n  <thead>\n    <tr style=\"text-align: right;\">\n      <th></th>\n      <th>Бренд</th>\n      <th>Полное наименование</th>\n      <th>Торговое наименование</th>\n      <th>Лекарственная форма</th>\n      <th>Форма выпуска</th>\n      <th>Дозировка</th>\n      <th>Фирма-производитель</th>\n      <th>Корпорация</th>\n      <th>Страна-производитель</th>\n      <th>АТС</th>\n      <th>...</th>\n      <th>Классификатор косметики по показанию к применению</th>\n      <th>Классификатор БАД по действию</th>\n      <th>БАД по составу</th>\n      <th>Тип товара</th>\n      <th>Количество действующего вещества</th>\n      <th>Объем, вес</th>\n      <th>IAS</th>\n      <th>IAS2</th>\n      <th>GTIN</th>\n      <th>Количество в упаковке</th>\n    </tr>\n  </thead>\n  <tbody>\n    <tr>\n      <th>0</th>\n      <td>AASHA HERBALS</td>\n      <td>AASHA HERBALS АASHADENT ЗУБНАЯ ПАСТА ГВОЗДИКА ...</td>\n      <td>AASHA HERBALS АASHADENT ЗУБНАЯ ПАСТА ГВОЗДИКА ...</td>\n      <td>ЗУБНАЯ ПАСТА КОМПЛЕКСНАЯ</td>\n      <td>ТУБА</td>\n      <td>NaN</td>\n      <td>HERBAL DREAM AYURVEDA CREATIONS PVT LTD</td>\n      <td>HERBAL DREAM AYURVEDA CREATIONS PVT LTD</td>\n      <td>ИНДИЯ</td>\n      <td>NaN</td>\n      <td>...</td>\n      <td>NaN</td>\n      <td>NaN</td>\n      <td>NaN</td>\n      <td>СРЕДСТВА ДЛЯ УХОДА ЗА ПОЛОСТЬЮ РТА</td>\n      <td>NaN</td>\n      <td>100 Г</td>\n      <td>234842</td>\n      <td>1384290</td>\n      <td>NaN</td>\n      <td>1</td>\n    </tr>\n    <tr>\n      <th>1</th>\n      <td>AASHA HERBALS</td>\n      <td>AASHA HERBALS АASHADENT ЗУБНАЯ ПАСТА КАРДАМОН ...</td>\n      <td>AASHA HERBALS АASHADENT ЗУБНАЯ ПАСТА КАРДАМОН ...</td>\n      <td>ЗУБНАЯ ПАСТА КОМПЛЕКСНАЯ</td>\n      <td>ТУБА</td>\n      <td>NaN</td>\n      <td>HERBAL DREAM AYURVEDA CREATIONS PVT LTD</td>\n      <td>HERBAL DREAM AYURVEDA CREATIONS PVT LTD</td>\n      <td>ИНДИЯ</td>\n      <td>NaN</td>\n      <td>...</td>\n      <td>NaN</td>\n      <td>NaN</td>\n      <td>NaN</td>\n      <td>СРЕДСТВА ДЛЯ УХОДА ЗА ПОЛОСТЬЮ РТА</td>\n      <td>NaN</td>\n      <td>100 Г</td>\n      <td>128382</td>\n      <td>1354924</td>\n      <td>NaN</td>\n      <td>1</td>\n    </tr>\n    <tr>\n      <th>2</th>\n      <td>AASHA HERBALS</td>\n      <td>AASHA HERBALS АASHADENT ЗУБНАЯ ПАСТА КАРДАМОН ...</td>\n      <td>AASHA HERBALS АASHADENT ЗУБНАЯ ПАСТА КАРДАМОН ...</td>\n      <td>ЗУБНАЯ ПАСТА КОМПЛЕКСНАЯ</td>\n      <td>ТУБА</td>\n      <td>NaN</td>\n      <td>HERBAL DREAM AYURVEDA CREATIONS PVT LTD</td>\n      <td>HERBAL DREAM AYURVEDA CREATIONS PVT LTD</td>\n      <td>ИНДИЯ</td>\n      <td>NaN</td>\n      <td>...</td>\n      <td>NaN</td>\n      <td>NaN</td>\n      <td>NaN</td>\n      <td>СРЕДСТВА ДЛЯ УХОДА ЗА ПОЛОСТЬЮ РТА</td>\n      <td>NaN</td>\n      <td>100 Г</td>\n      <td>25233</td>\n      <td>1354925</td>\n      <td>NaN</td>\n      <td>1</td>\n    </tr>\n    <tr>\n      <th>3</th>\n      <td>AASHA HERBALS</td>\n      <td>AASHA HERBALS АASHADENT ЗУБНАЯ ПАСТА ЛАВР И МЯ...</td>\n      <td>AASHA HERBALS АASHADENT ЗУБНАЯ ПАСТА ЛАВР И МЯТА</td>\n      <td>ЗУБНАЯ ПАСТА КОМПЛЕКСНАЯ</td>\n      <td>ТУБА</td>\n      <td>NaN</td>\n      <td>HERBAL DREAM AYURVEDA CREATIONS PVT LTD</td>\n      <td>HERBAL DREAM AYURVEDA CREATIONS PVT LTD</td>\n      <td>ИНДИЯ</td>\n      <td>NaN</td>\n      <td>...</td>\n      <td>NaN</td>\n      <td>NaN</td>\n      <td>NaN</td>\n      <td>СРЕДСТВА ДЛЯ УХОДА ЗА ПОЛОСТЬЮ РТА</td>\n      <td>NaN</td>\n      <td>100 Г</td>\n      <td>234843</td>\n      <td>1384291</td>\n      <td>NaN</td>\n      <td>1</td>\n    </tr>\n    <tr>\n      <th>4</th>\n      <td>AASHA HERBALS</td>\n      <td>AASHA HERBALS АASHADENT ЗУБНАЯ ПАСТА НИМ И БАБ...</td>\n      <td>AASHA HERBALS АASHADENT ЗУБНАЯ ПАСТА НИМ И БАБУЛ</td>\n      <td>ЗУБНАЯ ПАСТА КОМПЛЕКСНАЯ</td>\n      <td>ТУБА</td>\n      <td>NaN</td>\n      <td>HERBAL DREAM AYURVEDA CREATIONS PVT LTD</td>\n      <td>HERBAL DREAM AYURVEDA CREATIONS PVT LTD</td>\n      <td>ИНДИЯ</td>\n      <td>NaN</td>\n      <td>...</td>\n      <td>NaN</td>\n      <td>NaN</td>\n      <td>NaN</td>\n      <td>СРЕДСТВА ДЛЯ УХОДА ЗА ПОЛОСТЬЮ РТА</td>\n      <td>NaN</td>\n      <td>100 Г</td>\n      <td>234844</td>\n      <td>1384292</td>\n      <td>NaN</td>\n      <td>1</td>\n    </tr>\n    <tr>\n      <th>...</th>\n      <td>...</td>\n      <td>...</td>\n      <td>...</td>\n      <td>...</td>\n      <td>...</td>\n      <td>...</td>\n      <td>...</td>\n      <td>...</td>\n      <td>...</td>\n      <td>...</td>\n      <td>...</td>\n      <td>...</td>\n      <td>...</td>\n      <td>...</td>\n      <td>...</td>\n      <td>...</td>\n      <td>...</td>\n      <td>...</td>\n      <td>...</td>\n      <td>...</td>\n      <td>...</td>\n    </tr>\n    <tr>\n      <th>97875</th>\n      <td>911 ВАША СЛУЖБА СПАСЕНИЯ</td>\n      <td>911 НИКОТИНОВАЯ КИСЛОТА И РАСТИТЕЛЬНЫЕ СТИМУЛЯ...</td>\n      <td>911 НИКОТИНОВАЯ КИСЛОТА И РАСТИТЕЛЬНЫЕ СТИМУЛЯ...</td>\n      <td>КОСМЕТИЧЕСКИЕ СРЕДСТВА ПРОЧИЕ</td>\n      <td>ТУБА</td>\n      <td>NaN</td>\n      <td>ТВИНС ТЭК ЗАО</td>\n      <td>ТВИНС ТЭК ЗАО</td>\n      <td>РОССИЯ</td>\n      <td>NaN</td>\n      <td>...</td>\n      <td>ВЫПАДЕНИЕ ВОЛОС, ОБЛЫСЕНИЕ (B02)</td>\n      <td>NaN</td>\n      <td>NaN</td>\n      <td>ЛЕЧЕБНАЯ (АКТИВНАЯ) КОСМЕТИКА</td>\n      <td>NaN</td>\n      <td>65 МЛ</td>\n      <td>292288</td>\n      <td>1428566</td>\n      <td>NaN</td>\n      <td>1</td>\n    </tr>\n    <tr>\n      <th>97876</th>\n      <td>911 СКОРАЯ ПОМОЩЬ</td>\n      <td>911 СКОРАЯ ПОМОЩЬ БАДЯГА ГЕЛЬ Д/ТЕЛА 125 МЛ №1</td>\n      <td>911 СКОРАЯ ПОМОЩЬ БАДЯГА</td>\n      <td>ГЕЛЬ ДЛЯ ТЕЛА</td>\n      <td>ТУБА</td>\n      <td>NaN</td>\n      <td>NEWMANS NUTRIENT AG</td>\n      <td>ФОРА-ФАРМ ГК</td>\n      <td>РОССИЯ</td>\n      <td>NaN</td>\n      <td>...</td>\n      <td>РАСТЯЖЕНИЯ, УШИБЫ, ЗАБОЛЕВАНИЯ СУСТАВОВ ВОСПАЛ...</td>\n      <td>NaN</td>\n      <td>NaN</td>\n      <td>ЛЕЧЕБНАЯ (АКТИВНАЯ) КОСМЕТИКА</td>\n      <td>NaN</td>\n      <td>125 МЛ</td>\n      <td>243998</td>\n      <td>1392074</td>\n      <td>NaN</td>\n      <td>1</td>\n    </tr>\n    <tr>\n      <th>97877</th>\n      <td>911 ЭКСТРЕННАЯ ПОМОЩЬ</td>\n      <td>911 ЭКСТРЕННАЯ ПОМОЩЬ ГЕЛЬ-БАЛЬЗАМ Д/ТЕЛА ПЧЕЛ...</td>\n      <td>911 ЭКСТРЕННАЯ ПОМОЩЬ ГЕЛЬ-БАЛЬЗАМ Д/ТЕЛА ПЧЕЛ...</td>\n      <td>КОСМЕТИЧЕСКИЙ ГЕЛЬ</td>\n      <td>ТУБА ПЛАСТИКОВАЯ</td>\n      <td>NaN</td>\n      <td>МИРРОЛЛА ООО</td>\n      <td>МИРРОЛЛА ООО</td>\n      <td>РОССИЯ</td>\n      <td>NaN</td>\n      <td>...</td>\n      <td>ОБЩИЕ ТЕРАПЕВТИЧЕСКИЕ ПОКАЗАНИЯ (D)</td>\n      <td>NaN</td>\n      <td>NaN</td>\n      <td>ЛЕЧЕБНАЯ (АКТИВНАЯ) КОСМЕТИКА</td>\n      <td>NaN</td>\n      <td>75 МЛ</td>\n      <td>303586</td>\n      <td>1438529</td>\n      <td>NaN</td>\n      <td>1</td>\n    </tr>\n    <tr>\n      <th>97878</th>\n      <td>911 ЭКСТРЕННАЯ ПОМОЩЬ</td>\n      <td>911 ЭКСТРЕННАЯ ПОМОЩЬ СРЕДСТВО ОТ ПОТА И ЗАПАХ...</td>\n      <td>911 ЭКСТРЕННАЯ ПОМОЩЬ СРЕДСТВО ОТ ПОТА И ЗАПАХ...</td>\n      <td>КОСМЕТИЧЕСКАЯ ПУДРА</td>\n      <td>САШЕ</td>\n      <td>NaN</td>\n      <td>МИРРОЛЛА ООО</td>\n      <td>МИРРОЛЛА ООО</td>\n      <td>РОССИЯ</td>\n      <td>NaN</td>\n      <td>...</td>\n      <td>ПОТЛИВОСТЬ (A18)</td>\n      <td>NaN</td>\n      <td>NaN</td>\n      <td>ЛЕЧЕБНАЯ (АКТИВНАЯ) КОСМЕТИКА</td>\n      <td>NaN</td>\n      <td>2 Г</td>\n      <td>314013</td>\n      <td>1448677</td>\n      <td>NaN</td>\n      <td>10</td>\n    </tr>\n    <tr>\n      <th>97879</th>\n      <td>911 ЭКСТРЕННАЯ ПОМОЩЬ</td>\n      <td>911 ЭКСТРЕННАЯ ПОМОЩЬ ШАМПУНЬ ОТ ПЕРХОТИ С КЕТ...</td>\n      <td>911 ЭКСТРЕННАЯ ПОМОЩЬ ШАМПУНЬ ОТ ПЕРХОТИ С КЕТ...</td>\n      <td>ШАМПУНЬ ПРОТИВ ПЕРХОТИ</td>\n      <td>ФЛАКОН</td>\n      <td>NaN</td>\n      <td>МИРРОЛЛА ООО</td>\n      <td>МИРРОЛЛА ООО</td>\n      <td>РОССИЯ</td>\n      <td>NaN</td>\n      <td>...</td>\n      <td>ПЕРХОТЬ (B01)</td>\n      <td>NaN</td>\n      <td>NaN</td>\n      <td>ЛЕЧЕБНАЯ (АКТИВНАЯ) КОСМЕТИКА</td>\n      <td>NaN</td>\n      <td>150 МЛ</td>\n      <td>301055</td>\n      <td>1435984</td>\n      <td>NaN</td>\n      <td>1</td>\n    </tr>\n  </tbody>\n</table>\n<p>97880 rows × 31 columns</p>\n</div>"
     },
     "execution_count": 15,
     "metadata": {},
     "output_type": "execute_result"
    }
   ],
   "source": [
    "df"
   ],
   "metadata": {
    "collapsed": false,
    "ExecuteTime": {
     "end_time": "2024-07-09T10:35:08.947060400Z",
     "start_time": "2024-07-09T10:35:08.865079900Z"
    }
   },
   "id": "4035024a170dfca7"
  },
  {
   "cell_type": "code",
   "execution_count": 2,
   "outputs": [],
   "source": [
    "df_match = pd.read_excel('/mnt/d/Doc_To_Date/20240709/match.xlsx')"
   ],
   "metadata": {
    "collapsed": false,
    "ExecuteTime": {
     "end_time": "2024-07-09T13:09:19.953818100Z",
     "start_time": "2024-07-09T13:09:16.656419200Z"
    }
   },
   "id": "96a025ea5a12c7b"
  },
  {
   "cell_type": "code",
   "execution_count": 17,
   "outputs": [
    {
     "data": {
      "text/plain": "          IAS     IAS2  id_ph  \\\n0      281332  1420392  21650   \n1       14420  1174018  12368   \n2       66096    40591  12369   \n3      232878  1382350  22086   \n4      232879  1382351  22087   \n...       ...      ...    ...   \n18898  174637  1299374  13743   \n18899   96927  1299373  13740   \n18900  262462  1407104  27150   \n18901  143370  1177006   6160   \n18902  301055  1435984  27250   \n\n                                     Полное наименование  \\\n0      ABC HEALTHY FOOD ОБЛЕПИХИ С ВИТАМИНОМ С СИРОП ...   \n1                     ACCU-CHEK ACTIVE ТЕСТ-ПОЛОСКИ №100   \n2                      ACCU-CHEK ACTIVE ТЕСТ-ПОЛОСКИ №50   \n3                         ACCU-CHEK INSTANT ГЛЮКОМЕТР №1   \n4                     ACCU-CHEK INSTANT ТЕСТ-ПОЛОСКИ №50   \n...                                                  ...   \n18898                        ЭРЕКСЕЗИЛ ТБ П/П/О 50 МГ №1   \n18899                        ЭРЕКСЕЗИЛ ТБ П/П/О 50 МГ №4   \n18900  ЭТАМЗИЛАТ РАСТ Д/В/В И В/М ВВЕД 125 МГ/МЛ 2 МЛ...   \n18901  9 МЕСЯЦЕВ САЛФЕТКИ Д/ИНТИМН ГИГИЕНЫ ИОНЫ СЕРЕБ...   \n18902  911 ЭКСТРЕННАЯ ПОМОЩЬ ШАМПУНЬ ОТ ПЕРХОТИ С КЕТ...   \n\n                                                 name_ph  \\\n0                      ОБЛЕПИХА + ВИТАМИН С СИРОП 250 МЛ   \n1                            АККУ-ЧЕК АКТИВ ПОЛОСКИ №100   \n2                             АККУ-ЧЕК АКТИВ ПОЛОСКИ №50   \n3                             АККУ-ЧЕК ИНСТАНТ ГЛЮКОМЕТР   \n4                           АККУ-ЧЕК ИНСТАНТ ПОЛОСКИ №50   \n...                                                  ...   \n18898                             ЭРЕКСЕЗИЛ ТАБ 50 МГ №1   \n18899                             ЭРЕКСЕЗИЛ ТАБ 50 МГ №4   \n18900                   ЭТАМЗИЛАТ РАСТВОР 12,5% 2 МЛ №10   \n18901  9 МЕСЯЦЕВ ВЛАЖНЫЕ САЛФЕТКИ ДЛЯ ИНТИМНОЙ ГИГИЕН...   \n18902                 911 ШАМПУНЬ С КЕТОКОНАЗОЛОМ 150 МЛ   \n\n            Фирма-производитель               Корпорация  \\\n0                 ГРИН САЙД ООО            ГРИН САЙД ООО   \n1       F.HOFFMANN-LA ROCHE LTD  F.HOFFMANN-LA ROCHE LTD   \n2       F.HOFFMANN-LA ROCHE LTD  F.HOFFMANN-LA ROCHE LTD   \n3       F.HOFFMANN-LA ROCHE LTD  F.HOFFMANN-LA ROCHE LTD   \n4       F.HOFFMANN-LA ROCHE LTD  F.HOFFMANN-LA ROCHE LTD   \n...                         ...                      ...   \n18898  EGIS PHARMACEUTICALS PLC     SERVIER LABORATORIES   \n18899  EGIS PHARMACEUTICALS PLC     SERVIER LABORATORIES   \n18900                ЭЛЛАРА ООО               ЭЛЛАРА ООО   \n18901           ВАЛЕНТА ФАРМ АО          ВАЛЕНТА ФАРМ АО   \n18902              МИРРОЛЛА ООО             МИРРОЛЛА ООО   \n\n            manufacturer_ph  cosine_similarity  levenshtein_distance  \n0                 Грин Сайд           0.207595                    24  \n1          Рош Диагностик $           0.355275                    19  \n2          Рош Диагностик $           0.354738                    19  \n3          Рош Диагностик $           0.448600                    18  \n4          Рош Диагностик $           0.411376                    19  \n...                     ...                ...                   ...  \n18898                Эгис $           0.771488                     7  \n18899                Эгис $           0.771488                     7  \n18900          ООО \"Эллара\"           0.625013                    23  \n18901  Валента Фармацевтика           0.501859                    26  \n18902              Мирролла           0.692818                    32  \n\n[18903 rows x 10 columns]",
      "text/html": "<div>\n<style scoped>\n    .dataframe tbody tr th:only-of-type {\n        vertical-align: middle;\n    }\n\n    .dataframe tbody tr th {\n        vertical-align: top;\n    }\n\n    .dataframe thead th {\n        text-align: right;\n    }\n</style>\n<table border=\"1\" class=\"dataframe\">\n  <thead>\n    <tr style=\"text-align: right;\">\n      <th></th>\n      <th>IAS</th>\n      <th>IAS2</th>\n      <th>id_ph</th>\n      <th>Полное наименование</th>\n      <th>name_ph</th>\n      <th>Фирма-производитель</th>\n      <th>Корпорация</th>\n      <th>manufacturer_ph</th>\n      <th>cosine_similarity</th>\n      <th>levenshtein_distance</th>\n    </tr>\n  </thead>\n  <tbody>\n    <tr>\n      <th>0</th>\n      <td>281332</td>\n      <td>1420392</td>\n      <td>21650</td>\n      <td>ABC HEALTHY FOOD ОБЛЕПИХИ С ВИТАМИНОМ С СИРОП ...</td>\n      <td>ОБЛЕПИХА + ВИТАМИН С СИРОП 250 МЛ</td>\n      <td>ГРИН САЙД ООО</td>\n      <td>ГРИН САЙД ООО</td>\n      <td>Грин Сайд</td>\n      <td>0.207595</td>\n      <td>24</td>\n    </tr>\n    <tr>\n      <th>1</th>\n      <td>14420</td>\n      <td>1174018</td>\n      <td>12368</td>\n      <td>ACCU-CHEK ACTIVE ТЕСТ-ПОЛОСКИ №100</td>\n      <td>АККУ-ЧЕК АКТИВ ПОЛОСКИ №100</td>\n      <td>F.HOFFMANN-LA ROCHE LTD</td>\n      <td>F.HOFFMANN-LA ROCHE LTD</td>\n      <td>Рош Диагностик $</td>\n      <td>0.355275</td>\n      <td>19</td>\n    </tr>\n    <tr>\n      <th>2</th>\n      <td>66096</td>\n      <td>40591</td>\n      <td>12369</td>\n      <td>ACCU-CHEK ACTIVE ТЕСТ-ПОЛОСКИ №50</td>\n      <td>АККУ-ЧЕК АКТИВ ПОЛОСКИ №50</td>\n      <td>F.HOFFMANN-LA ROCHE LTD</td>\n      <td>F.HOFFMANN-LA ROCHE LTD</td>\n      <td>Рош Диагностик $</td>\n      <td>0.354738</td>\n      <td>19</td>\n    </tr>\n    <tr>\n      <th>3</th>\n      <td>232878</td>\n      <td>1382350</td>\n      <td>22086</td>\n      <td>ACCU-CHEK INSTANT ГЛЮКОМЕТР №1</td>\n      <td>АККУ-ЧЕК ИНСТАНТ ГЛЮКОМЕТР</td>\n      <td>F.HOFFMANN-LA ROCHE LTD</td>\n      <td>F.HOFFMANN-LA ROCHE LTD</td>\n      <td>Рош Диагностик $</td>\n      <td>0.448600</td>\n      <td>18</td>\n    </tr>\n    <tr>\n      <th>4</th>\n      <td>232879</td>\n      <td>1382351</td>\n      <td>22087</td>\n      <td>ACCU-CHEK INSTANT ТЕСТ-ПОЛОСКИ №50</td>\n      <td>АККУ-ЧЕК ИНСТАНТ ПОЛОСКИ №50</td>\n      <td>F.HOFFMANN-LA ROCHE LTD</td>\n      <td>F.HOFFMANN-LA ROCHE LTD</td>\n      <td>Рош Диагностик $</td>\n      <td>0.411376</td>\n      <td>19</td>\n    </tr>\n    <tr>\n      <th>...</th>\n      <td>...</td>\n      <td>...</td>\n      <td>...</td>\n      <td>...</td>\n      <td>...</td>\n      <td>...</td>\n      <td>...</td>\n      <td>...</td>\n      <td>...</td>\n      <td>...</td>\n    </tr>\n    <tr>\n      <th>18898</th>\n      <td>174637</td>\n      <td>1299374</td>\n      <td>13743</td>\n      <td>ЭРЕКСЕЗИЛ ТБ П/П/О 50 МГ №1</td>\n      <td>ЭРЕКСЕЗИЛ ТАБ 50 МГ №1</td>\n      <td>EGIS PHARMACEUTICALS PLC</td>\n      <td>SERVIER LABORATORIES</td>\n      <td>Эгис $</td>\n      <td>0.771488</td>\n      <td>7</td>\n    </tr>\n    <tr>\n      <th>18899</th>\n      <td>96927</td>\n      <td>1299373</td>\n      <td>13740</td>\n      <td>ЭРЕКСЕЗИЛ ТБ П/П/О 50 МГ №4</td>\n      <td>ЭРЕКСЕЗИЛ ТАБ 50 МГ №4</td>\n      <td>EGIS PHARMACEUTICALS PLC</td>\n      <td>SERVIER LABORATORIES</td>\n      <td>Эгис $</td>\n      <td>0.771488</td>\n      <td>7</td>\n    </tr>\n    <tr>\n      <th>18900</th>\n      <td>262462</td>\n      <td>1407104</td>\n      <td>27150</td>\n      <td>ЭТАМЗИЛАТ РАСТ Д/В/В И В/М ВВЕД 125 МГ/МЛ 2 МЛ...</td>\n      <td>ЭТАМЗИЛАТ РАСТВОР 12,5% 2 МЛ №10</td>\n      <td>ЭЛЛАРА ООО</td>\n      <td>ЭЛЛАРА ООО</td>\n      <td>ООО \"Эллара\"</td>\n      <td>0.625013</td>\n      <td>23</td>\n    </tr>\n    <tr>\n      <th>18901</th>\n      <td>143370</td>\n      <td>1177006</td>\n      <td>6160</td>\n      <td>9 МЕСЯЦЕВ САЛФЕТКИ Д/ИНТИМН ГИГИЕНЫ ИОНЫ СЕРЕБ...</td>\n      <td>9 МЕСЯЦЕВ ВЛАЖНЫЕ САЛФЕТКИ ДЛЯ ИНТИМНОЙ ГИГИЕН...</td>\n      <td>ВАЛЕНТА ФАРМ АО</td>\n      <td>ВАЛЕНТА ФАРМ АО</td>\n      <td>Валента Фармацевтика</td>\n      <td>0.501859</td>\n      <td>26</td>\n    </tr>\n    <tr>\n      <th>18902</th>\n      <td>301055</td>\n      <td>1435984</td>\n      <td>27250</td>\n      <td>911 ЭКСТРЕННАЯ ПОМОЩЬ ШАМПУНЬ ОТ ПЕРХОТИ С КЕТ...</td>\n      <td>911 ШАМПУНЬ С КЕТОКОНАЗОЛОМ 150 МЛ</td>\n      <td>МИРРОЛЛА ООО</td>\n      <td>МИРРОЛЛА ООО</td>\n      <td>Мирролла</td>\n      <td>0.692818</td>\n      <td>32</td>\n    </tr>\n  </tbody>\n</table>\n<p>18903 rows × 10 columns</p>\n</div>"
     },
     "execution_count": 17,
     "metadata": {},
     "output_type": "execute_result"
    }
   ],
   "source": [
    "df_match"
   ],
   "metadata": {
    "collapsed": false,
    "ExecuteTime": {
     "end_time": "2024-07-09T10:38:34.148066500Z",
     "start_time": "2024-07-09T10:38:34.124653900Z"
    }
   },
   "id": "9229c0fe33ecc71d"
  },
  {
   "cell_type": "code",
   "execution_count": 3,
   "outputs": [
    {
     "name": "stdout",
     "output_type": "stream",
     "text": [
      "Количество пристроенных значений: 18903\n"
     ]
    }
   ],
   "source": [
    "# Выполняем объединение DataFrame по ключам IAS и IAS2\n",
    "df = df.merge(df_match[['IAS', 'IAS2', 'id_ph']], on=['IAS', 'IAS2'], how='left')\n",
    "\n",
    "# Приводим значения колонки id_ph к целочисленному типу, учитывая возможные NaN\n",
    "df['id_ph'] = df['id_ph'].astype('Int64')\n",
    "\n",
    "# Считаем количество пристроенных значений\n",
    "attached_count = df['id_ph'].notna().sum()\n",
    "\n",
    "# Выводим информацию о пристроенных значениях\n",
    "print(f'Количество пристроенных значений: {attached_count}')\n"
   ],
   "metadata": {
    "collapsed": false,
    "ExecuteTime": {
     "end_time": "2024-07-09T13:09:20.052928Z",
     "start_time": "2024-07-09T13:09:19.961783600Z"
    }
   },
   "id": "7aa76a19ab4dbc3c"
  },
  {
   "cell_type": "code",
   "execution_count": 4,
   "outputs": [
    {
     "data": {
      "text/plain": "                       Бренд  \\\n76          ABC HEALTHY FOOD   \n156                ACCU-CHEK   \n157                ACCU-CHEK   \n164                ACCU-CHEK   \n165                ACCU-CHEK   \n...                      ...   \n97732              ЭРЕКСЕЗИЛ   \n97733              ЭРЕКСЕЗИЛ   \n97754              ЭТАМЗИЛАТ   \n97906              9 МЕСЯЦЕВ   \n97914  911 ЭКСТРЕННАЯ ПОМОЩЬ   \n\n                                     Полное наименование  \\\n76     ABC HEALTHY FOOD ОБЛЕПИХИ С ВИТАМИНОМ С СИРОП ...   \n156                   ACCU-CHEK ACTIVE ТЕСТ-ПОЛОСКИ №100   \n157                    ACCU-CHEK ACTIVE ТЕСТ-ПОЛОСКИ №50   \n164                       ACCU-CHEK INSTANT ГЛЮКОМЕТР №1   \n165                   ACCU-CHEK INSTANT ТЕСТ-ПОЛОСКИ №50   \n...                                                  ...   \n97732                        ЭРЕКСЕЗИЛ ТБ П/П/О 50 МГ №1   \n97733                        ЭРЕКСЕЗИЛ ТБ П/П/О 50 МГ №4   \n97754  ЭТАМЗИЛАТ РАСТ Д/В/В И В/М ВВЕД 125 МГ/МЛ 2 МЛ...   \n97906  9 МЕСЯЦЕВ САЛФЕТКИ Д/ИНТИМН ГИГИЕНЫ ИОНЫ СЕРЕБ...   \n97914  911 ЭКСТРЕННАЯ ПОМОЩЬ ШАМПУНЬ ОТ ПЕРХОТИ С КЕТ...   \n\n                                   Торговое наименование  \\\n76               ABC HEALTHY FOOD ОБЛЕПИХИ С ВИТАМИНОМ С   \n156                        ACCU-CHEK ACTIVE ТЕСТ-ПОЛОСКИ   \n157                        ACCU-CHEK ACTIVE ТЕСТ-ПОЛОСКИ   \n164                          ACCU-CHEK INSTANT ГЛЮКОМЕТР   \n165                       ACCU-CHEK INSTANT ТЕСТ-ПОЛОСКИ   \n...                                                  ...   \n97732                                          ЭРЕКСЕЗИЛ   \n97733                                          ЭРЕКСЕЗИЛ   \n97754              ЭТАМЗИЛАТА РАСТВОР ДЛЯ ИНЪЕКЦИЙ 12.5%   \n97906   9 МЕСЯЦЕВ САЛФЕТКИ Д/ИНТИМН ГИГИЕНЫ ИОНЫ СЕРЕБРА   \n97914  911 ЭКСТРЕННАЯ ПОМОЩЬ ШАМПУНЬ ОТ ПЕРХОТИ С КЕТ...   \n\n                                     Лекарственная форма  \\\n76                                                 СИРОП   \n156                          ТЕСТ-ПОЛОСКИ ДЛЯ ГЛЮКОМЕТРА   \n157                          ТЕСТ-ПОЛОСКИ ДЛЯ ГЛЮКОМЕТРА   \n164                                            ГЛЮКОМЕТР   \n165                          ТЕСТ-ПОЛОСКИ ДЛЯ ГЛЮКОМЕТРА   \n...                                                  ...   \n97732              ТАБЛЕТКИ ПОКРЫТЫЕ ПЛЕНОЧНОЙ ОБОЛОЧКОЙ   \n97733              ТАБЛЕТКИ ПОКРЫТЫЕ ПЛЕНОЧНОЙ ОБОЛОЧКОЙ   \n97754  РАСТВОР ДЛЯ ВНУТРИВЕННОГО И ВНУТРИМЫШЕЧНОГО ВВ...   \n97906                     САЛФЕТКИ ВЛАЖНЫЕ КОСМЕТИЧЕСКИЕ   \n97914                             ШАМПУНЬ ПРОТИВ ПЕРХОТИ   \n\n                      Форма выпуска  Дозировка       Фирма-производитель  \\\n76                           ФЛАКОН        NaN             ГРИН САЙД ООО   \n156                        УПАКОВКА        NaN   F.HOFFMANN-LA ROCHE LTD   \n157                        УПАКОВКА        NaN   F.HOFFMANN-LA ROCHE LTD   \n164                        УПАКОВКА        NaN   F.HOFFMANN-LA ROCHE LTD   \n165                        УПАКОВКА        NaN   F.HOFFMANN-LA ROCHE LTD   \n...                             ...        ...                       ...   \n97732  УПАКОВКА КОНТУРНАЯ ЯЧЕЙКОВАЯ      50 МГ  EGIS PHARMACEUTICALS PLC   \n97733  УПАКОВКА КОНТУРНАЯ ЯЧЕЙКОВАЯ      50 МГ  EGIS PHARMACEUTICALS PLC   \n97754                        АМПУЛА  125 МГ/МЛ                ЭЛЛАРА ООО   \n97906                      УПАКОВКА        NaN           ВАЛЕНТА ФАРМ АО   \n97914                        ФЛАКОН        NaN              МИРРОЛЛА ООО   \n\n                    Корпорация Страна-производитель  \\\n76               ГРИН САЙД ООО               РОССИЯ   \n156    F.HOFFMANN-LA ROCHE LTD            ШВЕЙЦАРИЯ   \n157    F.HOFFMANN-LA ROCHE LTD            ШВЕЙЦАРИЯ   \n164    F.HOFFMANN-LA ROCHE LTD            ШВЕЙЦАРИЯ   \n165    F.HOFFMANN-LA ROCHE LTD            ШВЕЙЦАРИЯ   \n...                        ...                  ...   \n97732     SERVIER LABORATORIES              ВЕНГРИЯ   \n97733     SERVIER LABORATORIES              ВЕНГРИЯ   \n97754               ЭЛЛАРА ООО               РОССИЯ   \n97906          ВАЛЕНТА ФАРМ АО               РОССИЯ   \n97914             МИРРОЛЛА ООО               РОССИЯ   \n\n                                                     АТС  ...  \\\n76                                                   NaN  ...   \n156                                                  NaN  ...   \n157                                                  NaN  ...   \n164                                                  NaN  ...   \n165                                                  NaN  ...   \n...                                                  ...  ...   \n97732  ПРЕПАРАТЫ ДЛЯ ЛЕЧЕНИЯ ЗАБОЛЕВАНИЙ УРОГЕНИТАЛЬН...  ...   \n97733  ПРЕПАРАТЫ ДЛЯ ЛЕЧЕНИЯ ЗАБОЛЕВАНИЙ УРОГЕНИТАЛЬН...  ...   \n97754   ПРЕПАРАТЫ, ВЛИЯЮЩИЕ НА КРОВЕТВОРЕНИЕ И КРОВЬ (B)  ...   \n97906                                                NaN  ...   \n97914                                                NaN  ...   \n\n                           Классификатор БАД по действию  \\\n76     БАД, поддерживающие функцию иммунной системы. (I)   \n156                                                  NaN   \n157                                                  NaN   \n164                                                  NaN   \n165                                                  NaN   \n...                                                  ...   \n97732                                                NaN   \n97733                                                NaN   \n97754                                                NaN   \n97906                                                NaN   \n97914                                                NaN   \n\n                 БАД по составу                          Тип товара  \\\n76     АСКОРБИНОВАЯ КИСЛОТА (С)                             СТМ БАД   \n156                         NaN  ДИАГНОСТИЧЕСКИЕ ПРИБОРЫ И СРЕДСТВА   \n157                         NaN  ДИАГНОСТИЧЕСКИЕ ПРИБОРЫ И СРЕДСТВА   \n164                         NaN  ДИАГНОСТИЧЕСКИЕ ПРИБОРЫ И СРЕДСТВА   \n165                         NaN  ДИАГНОСТИЧЕСКИЕ ПРИБОРЫ И СРЕДСТВА   \n...                         ...                                 ...   \n97732                       NaN             ЛЕКАРСТВЕННЫЕ ПРЕПАРАТЫ   \n97733                       NaN             ЛЕКАРСТВЕННЫЕ ПРЕПАРАТЫ   \n97754                       NaN             ЛЕКАРСТВЕННЫЕ ПРЕПАРАТЫ   \n97906                       NaN             КОСМЕТИКА (MASS MARKET)   \n97914                       NaN       ЛЕЧЕБНАЯ (АКТИВНАЯ) КОСМЕТИКА   \n\n      Количество действующего вещества Объем, вес     IAS     IAS2  \\\n76                                 NaN     250 МЛ  281332  1420392   \n156                                NaN        NaN   14420  1174018   \n157                                NaN        NaN   66096    40591   \n164                                NaN        NaN  232878  1382350   \n165                                NaN        NaN  232879  1382351   \n...                                ...        ...     ...      ...   \n97732                              NaN        NaN  174637  1299374   \n97733                              NaN        NaN   96927  1299373   \n97754                            100.0       2 МЛ  262462  1407104   \n97906                              NaN        NaN  143370  1177006   \n97914                              NaN     150 МЛ  301055  1435984   \n\n                 GTIN Количество в упаковке  id_ph  \n76                NaN                     1  21650  \n156               NaN                   100  12368  \n157               NaN                    50  12369  \n164               NaN                     1  22086  \n165               NaN                    50  22087  \n...               ...                   ...    ...  \n97732  05995327140926                     1  13743  \n97733  05995327140933                     4  13740  \n97754  04670008165788                    10  27150  \n97906             NaN                    15   6160  \n97914             NaN                     1  27250  \n\n[18903 rows x 32 columns]",
      "text/html": "<div>\n<style scoped>\n    .dataframe tbody tr th:only-of-type {\n        vertical-align: middle;\n    }\n\n    .dataframe tbody tr th {\n        vertical-align: top;\n    }\n\n    .dataframe thead th {\n        text-align: right;\n    }\n</style>\n<table border=\"1\" class=\"dataframe\">\n  <thead>\n    <tr style=\"text-align: right;\">\n      <th></th>\n      <th>Бренд</th>\n      <th>Полное наименование</th>\n      <th>Торговое наименование</th>\n      <th>Лекарственная форма</th>\n      <th>Форма выпуска</th>\n      <th>Дозировка</th>\n      <th>Фирма-производитель</th>\n      <th>Корпорация</th>\n      <th>Страна-производитель</th>\n      <th>АТС</th>\n      <th>...</th>\n      <th>Классификатор БАД по действию</th>\n      <th>БАД по составу</th>\n      <th>Тип товара</th>\n      <th>Количество действующего вещества</th>\n      <th>Объем, вес</th>\n      <th>IAS</th>\n      <th>IAS2</th>\n      <th>GTIN</th>\n      <th>Количество в упаковке</th>\n      <th>id_ph</th>\n    </tr>\n  </thead>\n  <tbody>\n    <tr>\n      <th>76</th>\n      <td>ABC HEALTHY FOOD</td>\n      <td>ABC HEALTHY FOOD ОБЛЕПИХИ С ВИТАМИНОМ С СИРОП ...</td>\n      <td>ABC HEALTHY FOOD ОБЛЕПИХИ С ВИТАМИНОМ С</td>\n      <td>СИРОП</td>\n      <td>ФЛАКОН</td>\n      <td>NaN</td>\n      <td>ГРИН САЙД ООО</td>\n      <td>ГРИН САЙД ООО</td>\n      <td>РОССИЯ</td>\n      <td>NaN</td>\n      <td>...</td>\n      <td>БАД, поддерживающие функцию иммунной системы. (I)</td>\n      <td>АСКОРБИНОВАЯ КИСЛОТА (С)</td>\n      <td>СТМ БАД</td>\n      <td>NaN</td>\n      <td>250 МЛ</td>\n      <td>281332</td>\n      <td>1420392</td>\n      <td>NaN</td>\n      <td>1</td>\n      <td>21650</td>\n    </tr>\n    <tr>\n      <th>156</th>\n      <td>ACCU-CHEK</td>\n      <td>ACCU-CHEK ACTIVE ТЕСТ-ПОЛОСКИ №100</td>\n      <td>ACCU-CHEK ACTIVE ТЕСТ-ПОЛОСКИ</td>\n      <td>ТЕСТ-ПОЛОСКИ ДЛЯ ГЛЮКОМЕТРА</td>\n      <td>УПАКОВКА</td>\n      <td>NaN</td>\n      <td>F.HOFFMANN-LA ROCHE LTD</td>\n      <td>F.HOFFMANN-LA ROCHE LTD</td>\n      <td>ШВЕЙЦАРИЯ</td>\n      <td>NaN</td>\n      <td>...</td>\n      <td>NaN</td>\n      <td>NaN</td>\n      <td>ДИАГНОСТИЧЕСКИЕ ПРИБОРЫ И СРЕДСТВА</td>\n      <td>NaN</td>\n      <td>NaN</td>\n      <td>14420</td>\n      <td>1174018</td>\n      <td>NaN</td>\n      <td>100</td>\n      <td>12368</td>\n    </tr>\n    <tr>\n      <th>157</th>\n      <td>ACCU-CHEK</td>\n      <td>ACCU-CHEK ACTIVE ТЕСТ-ПОЛОСКИ №50</td>\n      <td>ACCU-CHEK ACTIVE ТЕСТ-ПОЛОСКИ</td>\n      <td>ТЕСТ-ПОЛОСКИ ДЛЯ ГЛЮКОМЕТРА</td>\n      <td>УПАКОВКА</td>\n      <td>NaN</td>\n      <td>F.HOFFMANN-LA ROCHE LTD</td>\n      <td>F.HOFFMANN-LA ROCHE LTD</td>\n      <td>ШВЕЙЦАРИЯ</td>\n      <td>NaN</td>\n      <td>...</td>\n      <td>NaN</td>\n      <td>NaN</td>\n      <td>ДИАГНОСТИЧЕСКИЕ ПРИБОРЫ И СРЕДСТВА</td>\n      <td>NaN</td>\n      <td>NaN</td>\n      <td>66096</td>\n      <td>40591</td>\n      <td>NaN</td>\n      <td>50</td>\n      <td>12369</td>\n    </tr>\n    <tr>\n      <th>164</th>\n      <td>ACCU-CHEK</td>\n      <td>ACCU-CHEK INSTANT ГЛЮКОМЕТР №1</td>\n      <td>ACCU-CHEK INSTANT ГЛЮКОМЕТР</td>\n      <td>ГЛЮКОМЕТР</td>\n      <td>УПАКОВКА</td>\n      <td>NaN</td>\n      <td>F.HOFFMANN-LA ROCHE LTD</td>\n      <td>F.HOFFMANN-LA ROCHE LTD</td>\n      <td>ШВЕЙЦАРИЯ</td>\n      <td>NaN</td>\n      <td>...</td>\n      <td>NaN</td>\n      <td>NaN</td>\n      <td>ДИАГНОСТИЧЕСКИЕ ПРИБОРЫ И СРЕДСТВА</td>\n      <td>NaN</td>\n      <td>NaN</td>\n      <td>232878</td>\n      <td>1382350</td>\n      <td>NaN</td>\n      <td>1</td>\n      <td>22086</td>\n    </tr>\n    <tr>\n      <th>165</th>\n      <td>ACCU-CHEK</td>\n      <td>ACCU-CHEK INSTANT ТЕСТ-ПОЛОСКИ №50</td>\n      <td>ACCU-CHEK INSTANT ТЕСТ-ПОЛОСКИ</td>\n      <td>ТЕСТ-ПОЛОСКИ ДЛЯ ГЛЮКОМЕТРА</td>\n      <td>УПАКОВКА</td>\n      <td>NaN</td>\n      <td>F.HOFFMANN-LA ROCHE LTD</td>\n      <td>F.HOFFMANN-LA ROCHE LTD</td>\n      <td>ШВЕЙЦАРИЯ</td>\n      <td>NaN</td>\n      <td>...</td>\n      <td>NaN</td>\n      <td>NaN</td>\n      <td>ДИАГНОСТИЧЕСКИЕ ПРИБОРЫ И СРЕДСТВА</td>\n      <td>NaN</td>\n      <td>NaN</td>\n      <td>232879</td>\n      <td>1382351</td>\n      <td>NaN</td>\n      <td>50</td>\n      <td>22087</td>\n    </tr>\n    <tr>\n      <th>...</th>\n      <td>...</td>\n      <td>...</td>\n      <td>...</td>\n      <td>...</td>\n      <td>...</td>\n      <td>...</td>\n      <td>...</td>\n      <td>...</td>\n      <td>...</td>\n      <td>...</td>\n      <td>...</td>\n      <td>...</td>\n      <td>...</td>\n      <td>...</td>\n      <td>...</td>\n      <td>...</td>\n      <td>...</td>\n      <td>...</td>\n      <td>...</td>\n      <td>...</td>\n      <td>...</td>\n    </tr>\n    <tr>\n      <th>97732</th>\n      <td>ЭРЕКСЕЗИЛ</td>\n      <td>ЭРЕКСЕЗИЛ ТБ П/П/О 50 МГ №1</td>\n      <td>ЭРЕКСЕЗИЛ</td>\n      <td>ТАБЛЕТКИ ПОКРЫТЫЕ ПЛЕНОЧНОЙ ОБОЛОЧКОЙ</td>\n      <td>УПАКОВКА КОНТУРНАЯ ЯЧЕЙКОВАЯ</td>\n      <td>50 МГ</td>\n      <td>EGIS PHARMACEUTICALS PLC</td>\n      <td>SERVIER LABORATORIES</td>\n      <td>ВЕНГРИЯ</td>\n      <td>ПРЕПАРАТЫ ДЛЯ ЛЕЧЕНИЯ ЗАБОЛЕВАНИЙ УРОГЕНИТАЛЬН...</td>\n      <td>...</td>\n      <td>NaN</td>\n      <td>NaN</td>\n      <td>ЛЕКАРСТВЕННЫЕ ПРЕПАРАТЫ</td>\n      <td>NaN</td>\n      <td>NaN</td>\n      <td>174637</td>\n      <td>1299374</td>\n      <td>05995327140926</td>\n      <td>1</td>\n      <td>13743</td>\n    </tr>\n    <tr>\n      <th>97733</th>\n      <td>ЭРЕКСЕЗИЛ</td>\n      <td>ЭРЕКСЕЗИЛ ТБ П/П/О 50 МГ №4</td>\n      <td>ЭРЕКСЕЗИЛ</td>\n      <td>ТАБЛЕТКИ ПОКРЫТЫЕ ПЛЕНОЧНОЙ ОБОЛОЧКОЙ</td>\n      <td>УПАКОВКА КОНТУРНАЯ ЯЧЕЙКОВАЯ</td>\n      <td>50 МГ</td>\n      <td>EGIS PHARMACEUTICALS PLC</td>\n      <td>SERVIER LABORATORIES</td>\n      <td>ВЕНГРИЯ</td>\n      <td>ПРЕПАРАТЫ ДЛЯ ЛЕЧЕНИЯ ЗАБОЛЕВАНИЙ УРОГЕНИТАЛЬН...</td>\n      <td>...</td>\n      <td>NaN</td>\n      <td>NaN</td>\n      <td>ЛЕКАРСТВЕННЫЕ ПРЕПАРАТЫ</td>\n      <td>NaN</td>\n      <td>NaN</td>\n      <td>96927</td>\n      <td>1299373</td>\n      <td>05995327140933</td>\n      <td>4</td>\n      <td>13740</td>\n    </tr>\n    <tr>\n      <th>97754</th>\n      <td>ЭТАМЗИЛАТ</td>\n      <td>ЭТАМЗИЛАТ РАСТ Д/В/В И В/М ВВЕД 125 МГ/МЛ 2 МЛ...</td>\n      <td>ЭТАМЗИЛАТА РАСТВОР ДЛЯ ИНЪЕКЦИЙ 12.5%</td>\n      <td>РАСТВОР ДЛЯ ВНУТРИВЕННОГО И ВНУТРИМЫШЕЧНОГО ВВ...</td>\n      <td>АМПУЛА</td>\n      <td>125 МГ/МЛ</td>\n      <td>ЭЛЛАРА ООО</td>\n      <td>ЭЛЛАРА ООО</td>\n      <td>РОССИЯ</td>\n      <td>ПРЕПАРАТЫ, ВЛИЯЮЩИЕ НА КРОВЕТВОРЕНИЕ И КРОВЬ (B)</td>\n      <td>...</td>\n      <td>NaN</td>\n      <td>NaN</td>\n      <td>ЛЕКАРСТВЕННЫЕ ПРЕПАРАТЫ</td>\n      <td>100.0</td>\n      <td>2 МЛ</td>\n      <td>262462</td>\n      <td>1407104</td>\n      <td>04670008165788</td>\n      <td>10</td>\n      <td>27150</td>\n    </tr>\n    <tr>\n      <th>97906</th>\n      <td>9 МЕСЯЦЕВ</td>\n      <td>9 МЕСЯЦЕВ САЛФЕТКИ Д/ИНТИМН ГИГИЕНЫ ИОНЫ СЕРЕБ...</td>\n      <td>9 МЕСЯЦЕВ САЛФЕТКИ Д/ИНТИМН ГИГИЕНЫ ИОНЫ СЕРЕБРА</td>\n      <td>САЛФЕТКИ ВЛАЖНЫЕ КОСМЕТИЧЕСКИЕ</td>\n      <td>УПАКОВКА</td>\n      <td>NaN</td>\n      <td>ВАЛЕНТА ФАРМ АО</td>\n      <td>ВАЛЕНТА ФАРМ АО</td>\n      <td>РОССИЯ</td>\n      <td>NaN</td>\n      <td>...</td>\n      <td>NaN</td>\n      <td>NaN</td>\n      <td>КОСМЕТИКА (MASS MARKET)</td>\n      <td>NaN</td>\n      <td>NaN</td>\n      <td>143370</td>\n      <td>1177006</td>\n      <td>NaN</td>\n      <td>15</td>\n      <td>6160</td>\n    </tr>\n    <tr>\n      <th>97914</th>\n      <td>911 ЭКСТРЕННАЯ ПОМОЩЬ</td>\n      <td>911 ЭКСТРЕННАЯ ПОМОЩЬ ШАМПУНЬ ОТ ПЕРХОТИ С КЕТ...</td>\n      <td>911 ЭКСТРЕННАЯ ПОМОЩЬ ШАМПУНЬ ОТ ПЕРХОТИ С КЕТ...</td>\n      <td>ШАМПУНЬ ПРОТИВ ПЕРХОТИ</td>\n      <td>ФЛАКОН</td>\n      <td>NaN</td>\n      <td>МИРРОЛЛА ООО</td>\n      <td>МИРРОЛЛА ООО</td>\n      <td>РОССИЯ</td>\n      <td>NaN</td>\n      <td>...</td>\n      <td>NaN</td>\n      <td>NaN</td>\n      <td>ЛЕЧЕБНАЯ (АКТИВНАЯ) КОСМЕТИКА</td>\n      <td>NaN</td>\n      <td>150 МЛ</td>\n      <td>301055</td>\n      <td>1435984</td>\n      <td>NaN</td>\n      <td>1</td>\n      <td>27250</td>\n    </tr>\n  </tbody>\n</table>\n<p>18903 rows × 32 columns</p>\n</div>"
     },
     "execution_count": 4,
     "metadata": {},
     "output_type": "execute_result"
    }
   ],
   "source": [
    "# Выводим строки, где id_ph не пустое\n",
    "non_empty_matches = df[df['id_ph'].notna()]\n",
    "non_empty_matches"
   ],
   "metadata": {
    "collapsed": false,
    "ExecuteTime": {
     "end_time": "2024-07-09T13:09:20.104782600Z",
     "start_time": "2024-07-09T13:09:20.049949500Z"
    }
   },
   "id": "dbfd22d431ca5cc0"
  },
  {
   "cell_type": "code",
   "execution_count": 45,
   "outputs": [
    {
     "name": "stdout",
     "output_type": "stream",
     "text": [
      "     id                                client externalId  \\\n",
      "0  2891  08cb1935-a555-4d19-bcfb-9596ea36cc7d       2014   \n",
      "1  2894  08cb1935-a555-4d19-bcfb-9596ea36cc7d       2017   \n",
      "2  2948  08cb1935-a555-4d19-bcfb-9596ea36cc7d       2071   \n",
      "3  2895  08cb1935-a555-4d19-bcfb-9596ea36cc7d       2018   \n",
      "4  3275  08cb1935-a555-4d19-bcfb-9596ea36cc7d          2   \n",
      "\n",
      "                                   title   EAN  \\\n",
      "0     витаскин бальзам д/губ нейтральный  None   \n",
      "1  витаскин биобаланс крем в/глаз  30 мл  None   \n",
      "2    витаскин мэн лосьон п/бритья 100 мл  None   \n",
      "3  витаскин биобаланс крем легкий  50 мл  None   \n",
      "4         препарат другого производителя  None   \n",
      "\n",
      "                                                data  \\\n",
      "0  {'shortTitle': '', 'parsedTitle': {'purpose': ...   \n",
      "1  {'shortTitle': '', 'parsedTitle': {'vw': '30 м...   \n",
      "2  {'shortTitle': '', 'parsedTitle': {'vw': '100 ...   \n",
      "3  {'shortTitle': '', 'parsedTitle': {'vw': '50 м...   \n",
      "4  {'shortTitle': '', 'parsedTitle': {'tailings':...   \n",
      "\n",
      "                   createdAt                  updatedAt    status  \\\n",
      "0 2020-06-29 16:01:28.015908 2020-06-29 16:01:28.015908  outdated   \n",
      "1 2020-06-29 16:01:28.015908 2020-06-29 16:01:28.015908  outdated   \n",
      "2 2020-06-29 16:01:28.015908 2020-06-29 16:01:28.015908  outdated   \n",
      "3 2020-06-29 16:01:28.015908 2020-06-29 16:01:28.015908  outdated   \n",
      "4 2020-06-29 16:01:28.015908 2020-06-29 16:01:28.015908  outdated   \n",
      "\n",
      "   updateIncrement deletedAt  GTIN  \n",
      "0                1       NaT  None  \n",
      "1                2       NaT  None  \n",
      "2                4       NaT  None  \n",
      "3                5       NaT  None  \n",
      "4                6       NaT  None  \n"
     ]
    }
   ],
   "source": [
    "def fetch_data_from_db(query, conn):\n",
    "    with conn.cursor() as cursor:\n",
    "        cursor.execute(query)\n",
    "        colnames = [desc[0] for desc in cursor.description]\n",
    "        rows = cursor.fetchall()\n",
    "        df = pd.DataFrame(rows, columns=colnames)\n",
    "    return df\n",
    "\n",
    "# Подключаемся к базе данных\n",
    "conn = connect_to_database()\n",
    "\n",
    "# Выполняем SQL-запрос и загружаем данные в DataFrame\n",
    "query = 'SELECT * FROM \"ManufSKUs\";'\n",
    "df_db = fetch_data_from_db(query, conn)\n",
    "\n",
    "# Закрываем соединение с базой данных\n",
    "conn.close()\n",
    "\n",
    "# Проверяем загруженные данные\n",
    "print(df_db.head())"
   ],
   "metadata": {
    "collapsed": false,
    "ExecuteTime": {
     "end_time": "2024-07-09T11:21:50.945856300Z",
     "start_time": "2024-07-09T11:21:46.235973500Z"
    }
   },
   "id": "85a6fa971d7699c8"
  },
  {
   "cell_type": "code",
   "execution_count": 44,
   "outputs": [
    {
     "data": {
      "text/plain": "          id                                client externalId  \\\n0       2891  08cb1935-a555-4d19-bcfb-9596ea36cc7d       2014   \n1       2894  08cb1935-a555-4d19-bcfb-9596ea36cc7d       2017   \n2       2948  08cb1935-a555-4d19-bcfb-9596ea36cc7d       2071   \n3       2895  08cb1935-a555-4d19-bcfb-9596ea36cc7d       2018   \n4       3275  08cb1935-a555-4d19-bcfb-9596ea36cc7d          2   \n...      ...                                   ...        ...   \n29374  27322  66404730-3e56-4480-a3e1-89f31dd4d41b     100007   \n29375  27320  66404730-3e56-4480-a3e1-89f31dd4d41b     100005   \n29376  27316  66404730-3e56-4480-a3e1-89f31dd4d41b     100001   \n29377  27324  66404730-3e56-4480-a3e1-89f31dd4d41b     100009   \n29378  28433  d2b83be1-f8d5-4ef6-aec3-e226b673d29a     100063   \n\n                                       title            EAN  \\\n0         витаскин бальзам д/губ нейтральный           None   \n1      витаскин биобаланс крем в/глаз  30 мл           None   \n2        витаскин мэн лосьон п/бритья 100 мл           None   \n3      витаскин биобаланс крем легкий  50 мл           None   \n4             препарат другого производителя           None   \n...                                      ...            ...   \n29374                  ЛАНЦИД КАПС 15 МГ №30  8901302057421   \n29375                  ГЕРПЕРАКС МАЗЬ 5% 5 Г  8901302060391   \n29376                         БИОФЕР ТАБ №30  8901302061299   \n29377                      ЛАНЦИД-КИТ ТАБ №7  8901302062753   \n29378  ДЕКСАМЕТАЗОН РАСТВОР 4 МГ/МЛ 1 МЛ №25  4670008162640   \n\n                                                    data  \\\n0      {'shortTitle': '', 'parsedTitle': {'purpose': ...   \n1      {'shortTitle': '', 'parsedTitle': {'vw': '30 м...   \n2      {'shortTitle': '', 'parsedTitle': {'vw': '100 ...   \n3      {'shortTitle': '', 'parsedTitle': {'vw': '50 м...   \n4      {'shortTitle': '', 'parsedTitle': {'tailings':...   \n...                                                  ...   \n29374  {'atc1': 'A', 'atc2': 'A02', 'atc3': 'A02B', '...   \n29375  {'atc1': 'D', 'atc2': 'D06', 'atc3': 'D06B', '...   \n29376  {'atc1': 'B', 'atc2': 'B03', 'atc3': 'B03A', '...   \n29377  {'atc1': 'A', 'atc2': 'A02', 'atc3': 'A02B', '...   \n29378  {'atc1': 'H', 'atc2': 'H02', 'atc3': 'H02A', '...   \n\n                       createdAt                  updatedAt    status  \\\n0     2020-06-29 16:01:28.015908 2020-06-29 16:01:28.015908  outdated   \n1     2020-06-29 16:01:28.015908 2020-06-29 16:01:28.015908  outdated   \n2     2020-06-29 16:01:28.015908 2020-06-29 16:01:28.015908  outdated   \n3     2020-06-29 16:01:28.015908 2020-06-29 16:01:28.015908  outdated   \n4     2020-06-29 16:01:28.015908 2020-06-29 16:01:28.015908  outdated   \n...                          ...                        ...       ...   \n29374 2023-03-06 07:06:55.639651 2023-03-06 07:06:55.639651    active   \n29375 2023-03-06 07:06:55.639651 2023-03-06 07:06:55.639651    active   \n29376 2023-03-06 07:06:55.639651 2023-03-06 07:06:55.639651    active   \n29377 2023-03-06 07:06:55.639651 2023-03-06 07:06:55.639651    active   \n29378 2023-07-05 11:47:04.739806 2023-07-05 11:47:04.739806    active   \n\n       updateIncrement deletedAt            GTIN  \n0                    1       NaT            None  \n1                    2       NaT            None  \n2                    4       NaT            None  \n3                    5       NaT            None  \n4                    6       NaT            None  \n...                ...       ...             ...  \n29374            11840       NaT  18901302137267  \n29375            11837       NaT  18901302139872  \n29376            11833       NaT  18901302166496  \n29377            11842       NaT  18901302194987  \n29378             7699       NaT  18904220700711  \n\n[29379 rows x 12 columns]",
      "text/html": "<div>\n<style scoped>\n    .dataframe tbody tr th:only-of-type {\n        vertical-align: middle;\n    }\n\n    .dataframe tbody tr th {\n        vertical-align: top;\n    }\n\n    .dataframe thead th {\n        text-align: right;\n    }\n</style>\n<table border=\"1\" class=\"dataframe\">\n  <thead>\n    <tr style=\"text-align: right;\">\n      <th></th>\n      <th>id</th>\n      <th>client</th>\n      <th>externalId</th>\n      <th>title</th>\n      <th>EAN</th>\n      <th>data</th>\n      <th>createdAt</th>\n      <th>updatedAt</th>\n      <th>status</th>\n      <th>updateIncrement</th>\n      <th>deletedAt</th>\n      <th>GTIN</th>\n    </tr>\n  </thead>\n  <tbody>\n    <tr>\n      <th>0</th>\n      <td>2891</td>\n      <td>08cb1935-a555-4d19-bcfb-9596ea36cc7d</td>\n      <td>2014</td>\n      <td>витаскин бальзам д/губ нейтральный</td>\n      <td>None</td>\n      <td>{'shortTitle': '', 'parsedTitle': {'purpose': ...</td>\n      <td>2020-06-29 16:01:28.015908</td>\n      <td>2020-06-29 16:01:28.015908</td>\n      <td>outdated</td>\n      <td>1</td>\n      <td>NaT</td>\n      <td>None</td>\n    </tr>\n    <tr>\n      <th>1</th>\n      <td>2894</td>\n      <td>08cb1935-a555-4d19-bcfb-9596ea36cc7d</td>\n      <td>2017</td>\n      <td>витаскин биобаланс крем в/глаз  30 мл</td>\n      <td>None</td>\n      <td>{'shortTitle': '', 'parsedTitle': {'vw': '30 м...</td>\n      <td>2020-06-29 16:01:28.015908</td>\n      <td>2020-06-29 16:01:28.015908</td>\n      <td>outdated</td>\n      <td>2</td>\n      <td>NaT</td>\n      <td>None</td>\n    </tr>\n    <tr>\n      <th>2</th>\n      <td>2948</td>\n      <td>08cb1935-a555-4d19-bcfb-9596ea36cc7d</td>\n      <td>2071</td>\n      <td>витаскин мэн лосьон п/бритья 100 мл</td>\n      <td>None</td>\n      <td>{'shortTitle': '', 'parsedTitle': {'vw': '100 ...</td>\n      <td>2020-06-29 16:01:28.015908</td>\n      <td>2020-06-29 16:01:28.015908</td>\n      <td>outdated</td>\n      <td>4</td>\n      <td>NaT</td>\n      <td>None</td>\n    </tr>\n    <tr>\n      <th>3</th>\n      <td>2895</td>\n      <td>08cb1935-a555-4d19-bcfb-9596ea36cc7d</td>\n      <td>2018</td>\n      <td>витаскин биобаланс крем легкий  50 мл</td>\n      <td>None</td>\n      <td>{'shortTitle': '', 'parsedTitle': {'vw': '50 м...</td>\n      <td>2020-06-29 16:01:28.015908</td>\n      <td>2020-06-29 16:01:28.015908</td>\n      <td>outdated</td>\n      <td>5</td>\n      <td>NaT</td>\n      <td>None</td>\n    </tr>\n    <tr>\n      <th>4</th>\n      <td>3275</td>\n      <td>08cb1935-a555-4d19-bcfb-9596ea36cc7d</td>\n      <td>2</td>\n      <td>препарат другого производителя</td>\n      <td>None</td>\n      <td>{'shortTitle': '', 'parsedTitle': {'tailings':...</td>\n      <td>2020-06-29 16:01:28.015908</td>\n      <td>2020-06-29 16:01:28.015908</td>\n      <td>outdated</td>\n      <td>6</td>\n      <td>NaT</td>\n      <td>None</td>\n    </tr>\n    <tr>\n      <th>...</th>\n      <td>...</td>\n      <td>...</td>\n      <td>...</td>\n      <td>...</td>\n      <td>...</td>\n      <td>...</td>\n      <td>...</td>\n      <td>...</td>\n      <td>...</td>\n      <td>...</td>\n      <td>...</td>\n      <td>...</td>\n    </tr>\n    <tr>\n      <th>29374</th>\n      <td>27322</td>\n      <td>66404730-3e56-4480-a3e1-89f31dd4d41b</td>\n      <td>100007</td>\n      <td>ЛАНЦИД КАПС 15 МГ №30</td>\n      <td>8901302057421</td>\n      <td>{'atc1': 'A', 'atc2': 'A02', 'atc3': 'A02B', '...</td>\n      <td>2023-03-06 07:06:55.639651</td>\n      <td>2023-03-06 07:06:55.639651</td>\n      <td>active</td>\n      <td>11840</td>\n      <td>NaT</td>\n      <td>18901302137267</td>\n    </tr>\n    <tr>\n      <th>29375</th>\n      <td>27320</td>\n      <td>66404730-3e56-4480-a3e1-89f31dd4d41b</td>\n      <td>100005</td>\n      <td>ГЕРПЕРАКС МАЗЬ 5% 5 Г</td>\n      <td>8901302060391</td>\n      <td>{'atc1': 'D', 'atc2': 'D06', 'atc3': 'D06B', '...</td>\n      <td>2023-03-06 07:06:55.639651</td>\n      <td>2023-03-06 07:06:55.639651</td>\n      <td>active</td>\n      <td>11837</td>\n      <td>NaT</td>\n      <td>18901302139872</td>\n    </tr>\n    <tr>\n      <th>29376</th>\n      <td>27316</td>\n      <td>66404730-3e56-4480-a3e1-89f31dd4d41b</td>\n      <td>100001</td>\n      <td>БИОФЕР ТАБ №30</td>\n      <td>8901302061299</td>\n      <td>{'atc1': 'B', 'atc2': 'B03', 'atc3': 'B03A', '...</td>\n      <td>2023-03-06 07:06:55.639651</td>\n      <td>2023-03-06 07:06:55.639651</td>\n      <td>active</td>\n      <td>11833</td>\n      <td>NaT</td>\n      <td>18901302166496</td>\n    </tr>\n    <tr>\n      <th>29377</th>\n      <td>27324</td>\n      <td>66404730-3e56-4480-a3e1-89f31dd4d41b</td>\n      <td>100009</td>\n      <td>ЛАНЦИД-КИТ ТАБ №7</td>\n      <td>8901302062753</td>\n      <td>{'atc1': 'A', 'atc2': 'A02', 'atc3': 'A02B', '...</td>\n      <td>2023-03-06 07:06:55.639651</td>\n      <td>2023-03-06 07:06:55.639651</td>\n      <td>active</td>\n      <td>11842</td>\n      <td>NaT</td>\n      <td>18901302194987</td>\n    </tr>\n    <tr>\n      <th>29378</th>\n      <td>28433</td>\n      <td>d2b83be1-f8d5-4ef6-aec3-e226b673d29a</td>\n      <td>100063</td>\n      <td>ДЕКСАМЕТАЗОН РАСТВОР 4 МГ/МЛ 1 МЛ №25</td>\n      <td>4670008162640</td>\n      <td>{'atc1': 'H', 'atc2': 'H02', 'atc3': 'H02A', '...</td>\n      <td>2023-07-05 11:47:04.739806</td>\n      <td>2023-07-05 11:47:04.739806</td>\n      <td>active</td>\n      <td>7699</td>\n      <td>NaT</td>\n      <td>18904220700711</td>\n    </tr>\n  </tbody>\n</table>\n<p>29379 rows × 12 columns</p>\n</div>"
     },
     "execution_count": 44,
     "metadata": {},
     "output_type": "execute_result"
    }
   ],
   "source": [
    "df_db"
   ],
   "metadata": {
    "collapsed": false,
    "ExecuteTime": {
     "end_time": "2024-07-09T11:19:59.407785500Z",
     "start_time": "2024-07-09T11:19:59.382954600Z"
    }
   },
   "id": "8e94bd0346b549a3"
  },
  {
   "cell_type": "code",
   "execution_count": 48,
   "outputs": [
    {
     "name": "stdout",
     "output_type": "stream",
     "text": [
      "\n",
      "    UPDATE \"ManufSKUs\"\n",
      "    SET data = jsonb_set(data, '{type}', to_jsonb('ДИАГНОСТИЧЕСКИЕ ПРИБОРЫ И СРЕДСТВА'::text), true)\n",
      "    WHERE id = 21650;\n",
      "    \n",
      "\n",
      "    UPDATE \"ManufSKUs\"\n",
      "    SET data = jsonb_set(data, '{type}', to_jsonb('ЛЕКАРСТВЕННЫЕ ПРЕПАРАТЫ'::text), true)\n",
      "    WHERE id = 21651;\n",
      "    \n"
     ]
    }
   ],
   "source": [
    "# Пример DataFrame non_empty_matches (замени на свой DataFrame)\n",
    "non_empty_matches = pd.DataFrame({\n",
    "    'id_ph': [21650, 21651],\n",
    "    'Тип товара': ['ДИАГНОСТИЧЕСКИЕ ПРИБОРЫ И СРЕДСТВА', 'ЛЕКАРСТВЕННЫЕ ПРЕПАРАТЫ']\n",
    "})\n",
    "\n",
    "# Выводим SQL-запросы для обновления данных\n",
    "for index, row in non_empty_matches.iterrows():\n",
    "    id_ph = row['id_ph']\n",
    "    type_value = row['Тип товара']\n",
    "    \n",
    "    query = f\"\"\"\n",
    "    UPDATE \"ManufSKUs\"\n",
    "    SET data = jsonb_set(data, '{{type}}', to_jsonb('{type_value}'::text), true)\n",
    "    WHERE id = {id_ph};\n",
    "    \"\"\"\n",
    "    \n",
    "    print(query)"
   ],
   "metadata": {
    "collapsed": false,
    "ExecuteTime": {
     "end_time": "2024-07-09T12:16:24.420593800Z",
     "start_time": "2024-07-09T12:16:24.416504Z"
    }
   },
   "id": "402021a55a397ab0"
  },
  {
   "cell_type": "code",
   "execution_count": 7,
   "outputs": [
    {
     "name": "stdout",
     "output_type": "stream",
     "text": [
      "Информация о текущем подключении:\n",
      "База данных: pharmhub\n",
      "Пользователь: ivan.anisimov\n",
      "Адрес сервера: 10.0.1.17\n",
      "Порт сервера: 5432\n"
     ]
    }
   ],
   "source": [
    "def fetch_current_connection_info(conn):\n",
    "    query = \"SELECT current_database(), current_user, inet_server_addr(), inet_server_port();\"\n",
    "    with conn.cursor() as cursor:\n",
    "        cursor.execute(query)\n",
    "        result = cursor.fetchone()\n",
    "    return result\n",
    "\n",
    "# Подключаемся к базе данных\n",
    "conn = connect_to_database()\n",
    "\n",
    "# Получаем информацию о текущем подключении\n",
    "connection_info = fetch_current_connection_info(conn)\n",
    "\n",
    "# Закрываем соединение с базой данных\n",
    "conn.close()\n",
    "\n",
    "# Выводим информацию о текущем подключении\n",
    "print(\"Информация о текущем подключении:\")\n",
    "print(f\"База данных: {connection_info[0]}\")\n",
    "print(f\"Пользователь: {connection_info[1]}\")\n",
    "print(f\"Адрес сервера: {connection_info[2]}\")\n",
    "print(f\"Порт сервера: {connection_info[3]}\")"
   ],
   "metadata": {
    "collapsed": false,
    "ExecuteTime": {
     "end_time": "2024-07-09T13:09:48.430481600Z",
     "start_time": "2024-07-09T13:09:48.038094100Z"
    }
   },
   "id": "b81861c9c088d134"
  },
  {
   "cell_type": "code",
   "execution_count": null,
   "outputs": [],
   "source": [
    "import psycopg2\n",
    "import pandas as pd\n",
    "from tqdm import tqdm\n",
    "from psycopg2.extras import execute_batch\n",
    "\n",
    "\n",
    "def connect_to_database():\n",
    "    conn = psycopg2.connect(\n",
    "        dbname='pharmhub',\n",
    "        user='ivan.anisimov',\n",
    "        password='oA7W5uz2GzEd',\n",
    "        host='10.0.1.17'\n",
    "    )\n",
    "    return conn\n",
    "\n",
    "def execute_query(conn, query, params=None):\n",
    "    with conn.cursor() as cursor:\n",
    "        if params:\n",
    "            cursor.execute(query, params)\n",
    "        else:\n",
    "            cursor.execute(query)\n",
    "    conn.commit()\n",
    "\n",
    "# Подключаемся к базе данных\n",
    "conn = connect_to_database()\n",
    "\n",
    "# Функция для выполнения обновлений чанками с использованием CTE\n",
    "def update_in_chunks_with_cte(df, conn, chunk_size=1000):\n",
    "    total_updates = 0\n",
    "    type_stats = {}\n",
    "    \n",
    "    mapping = {\n",
    "        'Тип товара': 'type',\n",
    "        'Лекарственная форма': 'dosageForm',\n",
    "        'Форма выпуска': 'releaseForm',\n",
    "        'Дозировка': 'dosage',\n",
    "        'Фирма-производитель': 'firm',\n",
    "        'Корпорация': 'corporation',\n",
    "        'Страна-производитель': 'country',\n",
    "        'МНН': 'nonproprietaryName',\n",
    "        'Фармакотерапевтическая группа': 'therapeuticGroup',\n",
    "        'Оригинальный': 'Original',\n",
    "        'Обязательный ассортимент': 'mandatory',\n",
    "        'RX/OTC': 'RX',\n",
    "        'ЖНВЛП': 'vitalHealthCare',\n",
    "        'Классификатор косметики по показанию к применению': 'cosmeticsClassifier',\n",
    "        'БАД по составу': 'dietarySupplement',\n",
    "        'Объем, вес': 'volume',\n",
    "        'Количество в упаковке': 'amount',\n",
    "        'IAS': 'IAS',\n",
    "        'IAS2': 'IAS2'\n",
    "    }\n",
    "\n",
    "\n",
    "    for start in tqdm(range(0, len(df), chunk_size)):\n",
    "        end = start + chunk_size\n",
    "        chunk = df[start:end]\n",
    "\n",
    "        for df_column, json_key in mapping.items():\n",
    "            with conn.cursor() as cursor:\n",
    "                values = ', '.join(\n",
    "                    cursor.mogrify(\"(%s, %s::text)\", (row['id_ph'], row[df_column])).decode('utf-8')\n",
    "                    for _, row in chunk.iterrows()\n",
    "                )\n",
    "\n",
    "            query = f\"\"\"\n",
    "            WITH temp_updates (id_ph, value) AS (\n",
    "                VALUES {values}\n",
    "            )\n",
    "            UPDATE \"ManufSKUs\" m\n",
    "            SET data = jsonb_set(m.data, '{{{json_key}}}', to_jsonb(t.value::text), true)\n",
    "            FROM temp_updates t\n",
    "            WHERE m.id = t.id_ph\n",
    "            AND (m.data ->> '{json_key}') IS NULL;\n",
    "            \"\"\"\n",
    "            \n",
    "            # Выполняем запрос\n",
    "            execute_query(conn, query)\n",
    "\n",
    "            # Обновляем статистику\n",
    "            for _, row in chunk.iterrows():\n",
    "                value = row[df_column]\n",
    "                if json_key in type_stats:\n",
    "                    if value in type_stats[json_key]:\n",
    "                        type_stats[json_key][value] += 1\n",
    "                    else:\n",
    "                        type_stats[json_key][value] = 1\n",
    "                else:\n",
    "                    type_stats[json_key] = {value: 1}\n",
    "                total_updates += 1\n",
    "\n",
    "            print(f\"Updated {json_key} for rows {start} to {end}\")\n",
    "\n",
    "    return total_updates, type_stats\n",
    "\n",
    "# Выполняем обновления чанками\n",
    "total_updates, type_stats = update_in_chunks_with_cte(non_empty_matches, conn, chunk_size=1000)\n",
    "\n",
    "# Закрываем соединение с базой данных\n",
    "conn.close()\n",
    "\n",
    "print(\"Обновление завершено.\")\n",
    "print(f\"Общее количество обновлений: {total_updates}\")\n",
    "print(\"Статистика обновлений по типам данных:\")\n",
    "for json_key, stats in type_stats.items():\n",
    "    print(f\"{json_key}:\")\n",
    "    for value, count in stats.items():\n",
    "        print(f\"  {value}: {count} обновлений\")"
   ],
   "metadata": {
    "collapsed": false
   },
   "id": "421a4f1fe37cdd69"
  },
  {
   "cell_type": "code",
   "execution_count": 13,
   "outputs": [
    {
     "name": "stdout",
     "output_type": "stream",
     "text": [
      "Количество строк в DataFrame: 18903\n"
     ]
    }
   ],
   "source": [
    "# Проверим количество строк в DataFrame\n",
    "print(f\"Количество строк в DataFrame: {len(non_empty_matches)}\")"
   ],
   "metadata": {
    "collapsed": false,
    "ExecuteTime": {
     "end_time": "2024-07-09T13:34:48.484714Z",
     "start_time": "2024-07-09T13:34:48.429165Z"
    }
   },
   "id": "9cf0b88453bfb40b"
  },
  {
   "cell_type": "code",
   "execution_count": 17,
   "outputs": [
    {
     "name": "stdout",
     "output_type": "stream",
     "text": [
      "Removed NaN, '-' and 'Не указано' values for key: type\n",
      "Removed NaN, '-' and 'Не указано' values for key: dosageForm\n",
      "Removed NaN, '-' and 'Не указано' values for key: releaseForm\n",
      "Removed NaN, '-' and 'Не указано' values for key: dosage\n",
      "Removed NaN, '-' and 'Не указано' values for key: firm\n",
      "Removed NaN, '-' and 'Не указано' values for key: corporation\n",
      "Removed NaN, '-' and 'Не указано' values for key: country\n",
      "Removed NaN, '-' and 'Не указано' values for key: nonproprietaryName\n",
      "Removed NaN, '-' and 'Не указано' values for key: therapeuticGroup\n",
      "Removed NaN, '-' and 'Не указано' values for key: Original\n",
      "Removed NaN, '-' and 'Не указано' values for key: mandatory\n",
      "Removed NaN, '-' and 'Не указано' values for key: RX\n",
      "Removed NaN, '-' and 'Не указано' values for key: vitalHealthCare\n",
      "Removed NaN, '-' and 'Не указано' values for key: cosmeticsClassifier\n",
      "Removed NaN, '-' and 'Не указано' values for key: dietarySupplement\n",
      "Removed NaN, '-' and 'Не указано' values for key: volume\n",
      "Removed NaN, '-' and 'Не указано' values for key: amount\n",
      "Removed NaN, '-' and 'Не указано' values for key: IAS\n",
      "Removed NaN, '-' and 'Не указано' values for key: IAS2\n",
      "Удаление NaN и '-' и Не известно значений завершено.\n"
     ]
    }
   ],
   "source": [
    "\n",
    "def execute_query(conn, query, params=None):\n",
    "    with conn.cursor() as cursor:\n",
    "        if params:\n",
    "            cursor.execute(query, params)\n",
    "        else:\n",
    "            cursor.execute(query)\n",
    "    conn.commit()\n",
    "\n",
    "# Определяем функцию для удаления ключей с NaN и '-' значениями\n",
    "def remove_invalid_keys(conn, mapping):\n",
    "    for json_key in mapping.values():\n",
    "        queries = [\n",
    "            f\"\"\"\n",
    "            UPDATE \"ManufSKUs\"\n",
    "            SET data = data - '{json_key}'\n",
    "            WHERE (data ->> '{json_key}') = 'NaN';\n",
    "            \"\"\",\n",
    "            f\"\"\"\n",
    "            UPDATE \"ManufSKUs\"\n",
    "            SET data = data - '{json_key}'\n",
    "            WHERE (data ->> '{json_key}') = '-';\n",
    "            \"\"\",\n",
    "            f\"\"\"\n",
    "            UPDATE \"ManufSKUs\"\n",
    "            SET data = data - '{json_key}'\n",
    "            WHERE (data ->> '{json_key}') = 'Не указано';\n",
    "            \"\"\"\n",
    "        ]\n",
    "        for query in queries:\n",
    "            execute_query(conn, query)\n",
    "        print(f\"Removed NaN, '-' and 'Не указано' values for key: {json_key}\")\n",
    "\n",
    "# Подключаемся к базе данных\n",
    "conn = connect_to_database()  # Используйте вашу функцию подключения\n",
    "\n",
    "# Определяем маппинг колонок и ключей JSON\n",
    "mapping = {\n",
    "    'Тип товара': 'type',\n",
    "    'Лекарственная форма': 'dosageForm',\n",
    "    'Форма выпуска': 'releaseForm',\n",
    "    'Дозировка': 'dosage',\n",
    "    'Фирма-производитель': 'firm',\n",
    "    'Корпорация': 'corporation',\n",
    "    'Страна-производитель': 'country',\n",
    "    'МНН': 'nonproprietaryName',\n",
    "    'Фармакотерапевтическая группа': 'therapeuticGroup',\n",
    "    'Оригинальный': 'Original',\n",
    "    'Обязательный ассортимент': 'mandatory',\n",
    "    'RX/OTC': 'RX',\n",
    "    'ЖНВЛП': 'vitalHealthCare',\n",
    "    'Классификатор косметики по показанию к применению': 'cosmeticsClassifier',\n",
    "    'БАД по составу': 'dietarySupplement',\n",
    "    'Объем, вес': 'volume',\n",
    "    'Количество в упаковке': 'amount',\n",
    "    'IAS': 'IAS',\n",
    "    'IAS2': 'IAS2'\n",
    "}\n",
    "\n",
    "# Удаляем ключи с NaN и '-' значениями\n",
    "remove_invalid_keys(conn, mapping)\n",
    "\n",
    "# Закрываем соединение с базой данных\n",
    "conn.close()\n",
    "\n",
    "print(\"Удаление NaN и '-' и Не известно значений завершено.\")"
   ],
   "metadata": {
    "collapsed": false,
    "ExecuteTime": {
     "end_time": "2024-07-09T14:07:44.143110600Z",
     "start_time": "2024-07-09T14:07:34.861610600Z"
    }
   },
   "id": "e2f354cb32d4fa7d"
  }
 ],
 "metadata": {
  "kernelspec": {
   "display_name": "Python 3",
   "language": "python",
   "name": "python3"
  },
  "language_info": {
   "codemirror_mode": {
    "name": "ipython",
    "version": 2
   },
   "file_extension": ".py",
   "mimetype": "text/x-python",
   "name": "python",
   "nbconvert_exporter": "python",
   "pygments_lexer": "ipython2",
   "version": "2.7.6"
  }
 },
 "nbformat": 4,
 "nbformat_minor": 5
}
