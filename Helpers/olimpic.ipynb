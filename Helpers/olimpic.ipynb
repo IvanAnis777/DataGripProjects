{
 "cells": [
  {
   "cell_type": "code",
   "execution_count": null,
   "id": "initial_id",
   "metadata": {
    "collapsed": true
   },
   "outputs": [],
   "source": [
    ""
   ]
  },
  {
   "metadata": {
    "ExecuteTime": {
     "end_time": "2024-10-17T06:24:20.652876Z",
     "start_time": "2024-10-17T06:24:13.867024Z"
    }
   },
   "cell_type": "code",
   "source": [
    "import pandas as pd\n",
    "\n",
    "# Read data from Excel files\n",
    "transactions = pd.read_excel(\"/mnt/d/Downloads_Crome/transactions.xlsx\", parse_dates=['date'])\n",
    "merchants = pd.read_excel(\"/mnt/d/Downloads_Crome/merchants.xlsx\")\n",
    "\n",
    "# Filter out fraudulent transactions\n",
    "non_fraud_transactions = transactions[transactions['fraudbits'] == 0]\n",
    "\n",
    "# Merge transactions with merchants to get the 'coef' and 'guild'\n",
    "merged_data = pd.merge(non_fraud_transactions, merchants, on='merchantid', how='left')\n",
    "\n",
    "# Calculate amnesty for each transaction\n",
    "merged_data['amnesty'] = abs(merged_data['cost'] - merged_data['model_cost']) / merged_data['coef']\n",
    "\n",
    "# Calculate the number of 'sell' and 'buy' transactions per guild\n",
    "guild_sell_counts = merged_data[merged_data['countertype'] == 'sell'].groupby('guild').size()\n",
    "guild_buy_counts = merged_data[merged_data['countertype'] == 'buy'].groupby('guild').size()\n",
    "\n",
    "# Handle potential division by zero if a guild has no 'buy' transactions\n",
    "guild_ratio = guild_sell_counts / guild_buy_counts.replace(0, pd.NA)\n",
    "\n",
    "# Calculate the average amnesty per guild\n",
    "guild_avg_amnesty = merged_data.groupby('guild')['amnesty'].mean()\n",
    "\n",
    "# Calculate efficiency per guild\n",
    "guild_efficiency = guild_ratio * guild_avg_amnesty\n",
    "\n",
    "# Drop any guilds with NaN efficiency due to division by zero\n",
    "guild_efficiency = guild_efficiency.dropna()\n",
    "\n",
    "# Identify the guild with the highest efficiency\n",
    "most_efficient_guild = guild_efficiency.idxmax()\n",
    "highest_efficiency_score = guild_efficiency.max()\n",
    "\n",
    "# Round the efficiency score to the nearest hundredths\n",
    "rounded_efficiency_score = round(highest_efficiency_score, 2)\n",
    "\n",
    "# For the most efficient guild, find the hour with the most 'sell' transactions\n",
    "guild_transactions = merged_data[merged_data['guild'] == most_efficient_guild]\n",
    "guild_sell_transactions = guild_transactions[guild_transactions['countertype'] == 'sell']\n",
    "\n",
    "# Extract hour from 'date' field\n",
    "guild_sell_transactions['hour'] = guild_sell_transactions['date'].dt.hour\n",
    "\n",
    "# Find the hour with the most 'sell' transactions\n",
    "if not guild_sell_transactions.empty:\n",
    "    peak_hour = guild_sell_transactions['hour'].value_counts().idxmax()\n",
    "else:\n",
    "    peak_hour = 'N/A'  # Default value if no sell transactions are found\n",
    "\n",
    "# Output the result\n",
    "print(f\"{most_efficient_guild} {rounded_efficiency_score} {peak_hour}\")\n"
   ],
   "id": "bbb73f34d452640a",
   "outputs": [
    {
     "name": "stderr",
     "output_type": "stream",
     "text": [
      "/tmp/ipykernel_154051/955201208.py:4: UserWarning: Could not infer format, so each element will be parsed individually, falling back to `dateutil`. To ensure parsing is consistent and as-expected, please specify a format.\n",
      "  transactions = pd.read_excel(\"/mnt/d/Downloads_Crome/transactions.xlsx\", parse_dates=['date'])\n"
     ]
    },
    {
     "ename": "AttributeError",
     "evalue": "Can only use .dt accessor with datetimelike values",
     "output_type": "error",
     "traceback": [
      "\u001B[0;31m---------------------------------------------------------------------------\u001B[0m",
      "\u001B[0;31mAttributeError\u001B[0m                            Traceback (most recent call last)",
      "\u001B[0;32m/tmp/ipykernel_154051/955201208.py\u001B[0m in \u001B[0;36m<module>\u001B[0;34m\u001B[0m\n\u001B[1;32m     42\u001B[0m \u001B[0;34m\u001B[0m\u001B[0m\n\u001B[1;32m     43\u001B[0m \u001B[0;31m# Extract hour from 'date' field\u001B[0m\u001B[0;34m\u001B[0m\u001B[0;34m\u001B[0m\u001B[0m\n\u001B[0;32m---> 44\u001B[0;31m \u001B[0mguild_sell_transactions\u001B[0m\u001B[0;34m[\u001B[0m\u001B[0;34m'hour'\u001B[0m\u001B[0;34m]\u001B[0m \u001B[0;34m=\u001B[0m \u001B[0mguild_sell_transactions\u001B[0m\u001B[0;34m[\u001B[0m\u001B[0;34m'date'\u001B[0m\u001B[0;34m]\u001B[0m\u001B[0;34m.\u001B[0m\u001B[0mdt\u001B[0m\u001B[0;34m.\u001B[0m\u001B[0mhour\u001B[0m\u001B[0;34m\u001B[0m\u001B[0;34m\u001B[0m\u001B[0m\n\u001B[0m\u001B[1;32m     45\u001B[0m \u001B[0;34m\u001B[0m\u001B[0m\n\u001B[1;32m     46\u001B[0m \u001B[0;31m# Find the hour with the most 'sell' transactions\u001B[0m\u001B[0;34m\u001B[0m\u001B[0;34m\u001B[0m\u001B[0m\n",
      "\u001B[0;32m~/.local/lib/python3.9/site-packages/pandas/core/generic.py\u001B[0m in \u001B[0;36m__getattr__\u001B[0;34m(self, name)\u001B[0m\n\u001B[1;32m   6297\u001B[0m         ):\n\u001B[1;32m   6298\u001B[0m             \u001B[0;32mreturn\u001B[0m \u001B[0mself\u001B[0m\u001B[0;34m[\u001B[0m\u001B[0mname\u001B[0m\u001B[0;34m]\u001B[0m\u001B[0;34m\u001B[0m\u001B[0;34m\u001B[0m\u001B[0m\n\u001B[0;32m-> 6299\u001B[0;31m         \u001B[0;32mreturn\u001B[0m \u001B[0mobject\u001B[0m\u001B[0;34m.\u001B[0m\u001B[0m__getattribute__\u001B[0m\u001B[0;34m(\u001B[0m\u001B[0mself\u001B[0m\u001B[0;34m,\u001B[0m \u001B[0mname\u001B[0m\u001B[0;34m)\u001B[0m\u001B[0;34m\u001B[0m\u001B[0;34m\u001B[0m\u001B[0m\n\u001B[0m\u001B[1;32m   6300\u001B[0m \u001B[0;34m\u001B[0m\u001B[0m\n\u001B[1;32m   6301\u001B[0m     \u001B[0;34m@\u001B[0m\u001B[0mfinal\u001B[0m\u001B[0;34m\u001B[0m\u001B[0;34m\u001B[0m\u001B[0m\n",
      "\u001B[0;32m~/.local/lib/python3.9/site-packages/pandas/core/accessor.py\u001B[0m in \u001B[0;36m__get__\u001B[0;34m(self, obj, cls)\u001B[0m\n\u001B[1;32m    222\u001B[0m             \u001B[0;31m# we're accessing the attribute of the class, i.e., Dataset.geo\u001B[0m\u001B[0;34m\u001B[0m\u001B[0;34m\u001B[0m\u001B[0m\n\u001B[1;32m    223\u001B[0m             \u001B[0;32mreturn\u001B[0m \u001B[0mself\u001B[0m\u001B[0;34m.\u001B[0m\u001B[0m_accessor\u001B[0m\u001B[0;34m\u001B[0m\u001B[0;34m\u001B[0m\u001B[0m\n\u001B[0;32m--> 224\u001B[0;31m         \u001B[0maccessor_obj\u001B[0m \u001B[0;34m=\u001B[0m \u001B[0mself\u001B[0m\u001B[0;34m.\u001B[0m\u001B[0m_accessor\u001B[0m\u001B[0;34m(\u001B[0m\u001B[0mobj\u001B[0m\u001B[0;34m)\u001B[0m\u001B[0;34m\u001B[0m\u001B[0;34m\u001B[0m\u001B[0m\n\u001B[0m\u001B[1;32m    225\u001B[0m         \u001B[0;31m# Replace the property with the accessor object. Inspired by:\u001B[0m\u001B[0;34m\u001B[0m\u001B[0;34m\u001B[0m\u001B[0m\n\u001B[1;32m    226\u001B[0m         \u001B[0;31m# https://www.pydanny.com/cached-property.html\u001B[0m\u001B[0;34m\u001B[0m\u001B[0;34m\u001B[0m\u001B[0m\n",
      "\u001B[0;32m~/.local/lib/python3.9/site-packages/pandas/core/indexes/accessors.py\u001B[0m in \u001B[0;36m__new__\u001B[0;34m(cls, data)\u001B[0m\n\u001B[1;32m    641\u001B[0m             \u001B[0;32mreturn\u001B[0m \u001B[0mPeriodProperties\u001B[0m\u001B[0;34m(\u001B[0m\u001B[0mdata\u001B[0m\u001B[0;34m,\u001B[0m \u001B[0morig\u001B[0m\u001B[0;34m)\u001B[0m\u001B[0;34m\u001B[0m\u001B[0;34m\u001B[0m\u001B[0m\n\u001B[1;32m    642\u001B[0m \u001B[0;34m\u001B[0m\u001B[0m\n\u001B[0;32m--> 643\u001B[0;31m         \u001B[0;32mraise\u001B[0m \u001B[0mAttributeError\u001B[0m\u001B[0;34m(\u001B[0m\u001B[0;34m\"Can only use .dt accessor with datetimelike values\"\u001B[0m\u001B[0;34m)\u001B[0m\u001B[0;34m\u001B[0m\u001B[0;34m\u001B[0m\u001B[0m\n\u001B[0m",
      "\u001B[0;31mAttributeError\u001B[0m: Can only use .dt accessor with datetimelike values"
     ]
    }
   ],
   "execution_count": 11
  },
  {
   "metadata": {
    "ExecuteTime": {
     "end_time": "2024-10-17T06:24:23.081495Z",
     "start_time": "2024-10-17T06:24:23.077975Z"
    }
   },
   "cell_type": "code",
   "source": "print(transactions.dtypes)",
   "id": "f49f10140f5f8895",
   "outputs": [
    {
     "name": "stdout",
     "output_type": "stream",
     "text": [
      "citizenid        int64\n",
      "cost           float64\n",
      "countertype     object\n",
      "date            object\n",
      "fraudbits        int64\n",
      "logid            int64\n",
      "marketid         int64\n",
      "merchantid       int64\n",
      "model_cost     float64\n",
      "dtype: object\n"
     ]
    }
   ],
   "execution_count": 12
  },
  {
   "metadata": {
    "ExecuteTime": {
     "end_time": "2024-10-17T06:25:22.199143Z",
     "start_time": "2024-10-17T06:25:22.196185Z"
    }
   },
   "cell_type": "code",
   "source": "print(transactions['date'].head())",
   "id": "cb487ac02372ac75",
   "outputs": [
    {
     "name": "stdout",
     "output_type": "stream",
     "text": [
      "0   NaT\n",
      "1   NaT\n",
      "2   NaT\n",
      "3   NaT\n",
      "4   NaT\n",
      "Name: date, dtype: datetime64[ns]\n"
     ]
    }
   ],
   "execution_count": 16
  },
  {
   "metadata": {
    "ExecuteTime": {
     "end_time": "2024-10-17T06:25:20.197897Z",
     "start_time": "2024-10-17T06:25:20.147961Z"
    }
   },
   "cell_type": "code",
   "source": [
    "transactions['date'] = pd.to_datetime(transactions['date'], format='%Y-%m-%d %H:%M', errors='coerce')\n",
    "\n"
   ],
   "id": "88e7582c5d03c60a",
   "outputs": [],
   "execution_count": 15
  }
 ],
 "metadata": {
  "kernelspec": {
   "display_name": "Python 3",
   "language": "python",
   "name": "python3"
  },
  "language_info": {
   "codemirror_mode": {
    "name": "ipython",
    "version": 2
   },
   "file_extension": ".py",
   "mimetype": "text/x-python",
   "name": "python",
   "nbconvert_exporter": "python",
   "pygments_lexer": "ipython2",
   "version": "2.7.6"
  }
 },
 "nbformat": 4,
 "nbformat_minor": 5
}
