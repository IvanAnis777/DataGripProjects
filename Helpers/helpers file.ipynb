{
 "cells": [
  {
   "cell_type": "code",
   "execution_count": 1,
   "outputs": [],
   "source": [
    "import pandas as pd"
   ],
   "metadata": {
    "collapsed": false,
    "ExecuteTime": {
     "end_time": "2024-05-06T09:41:38.031790200Z",
     "start_time": "2024-05-06T09:41:36.899722600Z"
    }
   },
   "id": "37b1f73f9e6bfeb6"
  },
  {
   "cell_type": "code",
   "execution_count": 3,
   "outputs": [],
   "source": [
    "# Шаг 1: Загрузите полный CSV-файл в DataFrame\n",
    "file_path = \"/mnt/d/Doc_To_Date/20240506/additional_results.csv\"\n",
    "df = pd.read_csv(file_path)"
   ],
   "metadata": {
    "collapsed": false,
    "ExecuteTime": {
     "end_time": "2024-05-06T09:42:07.429527Z",
     "start_time": "2024-05-06T09:41:51.144135700Z"
    }
   },
   "id": "e515be91ac41403b"
  },
  {
   "cell_type": "code",
   "execution_count": 6,
   "outputs": [],
   "source": [
    "# Шаг 2: Определите количество строк и размер каждой части\n",
    "total_rows = len(df)\n",
    "num_parts = 3\n",
    "chunk_size = total_rows // num_parts"
   ],
   "metadata": {
    "collapsed": false,
    "ExecuteTime": {
     "end_time": "2024-05-06T09:42:22.990510600Z",
     "start_time": "2024-05-06T09:42:22.979509800Z"
    }
   },
   "id": "5297428570100d87"
  },
  {
   "cell_type": "code",
   "execution_count": 7,
   "outputs": [],
   "source": [
    "# Шаг 3: Разделите DataFrame на три части\n",
    "chunks = [df[i*chunk_size:(i+1)*chunk_size] for i in range(num_parts)]"
   ],
   "metadata": {
    "collapsed": false,
    "ExecuteTime": {
     "end_time": "2024-05-06T09:42:38.440851700Z",
     "start_time": "2024-05-06T09:42:38.436856700Z"
    }
   },
   "id": "5a69b02b91d48813"
  },
  {
   "cell_type": "code",
   "execution_count": 8,
   "outputs": [],
   "source": [
    "# Последний кусок может содержать остаток, если общее количество строк не кратно числу частей\n",
    "if total_rows % num_parts != 0:\n",
    "    chunks[-1] = pd.concat([chunks[-1], df[num_parts * chunk_size:]])"
   ],
   "metadata": {
    "collapsed": false,
    "ExecuteTime": {
     "end_time": "2024-05-06T09:42:40.093452300Z",
     "start_time": "2024-05-06T09:42:40.061885400Z"
    }
   },
   "id": "b87029efca4e030c"
  },
  {
   "cell_type": "code",
   "execution_count": 9,
   "outputs": [],
   "source": [
    "# Шаг 4: Сохраните каждую часть как отдельный CSV-файл\n",
    "for i, chunk in enumerate(chunks):\n",
    "    chunk.to_csv(f\"additional_results_part_{i+1}.csv\", index=False)"
   ],
   "metadata": {
    "collapsed": false,
    "ExecuteTime": {
     "end_time": "2024-05-06T09:43:11.071710Z",
     "start_time": "2024-05-06T09:42:43.797008400Z"
    }
   },
   "id": "caaa250bc3d26ae8"
  },
  {
   "cell_type": "code",
   "execution_count": null,
   "outputs": [],
   "source": [],
   "metadata": {
    "collapsed": false
   },
   "id": "44c8f2f65f4e941"
  },
  {
   "cell_type": "markdown",
   "source": [
    "Для АСНА переименование файлов и изменение дилиметра\n"
   ],
   "metadata": {
    "collapsed": false
   },
   "id": "9e3aa8c568b89e0e"
  },
  {
   "cell_type": "code",
   "source": [
    "import pandas as pd\n",
    "\n",
    "path = \"/mnt/d/Doc_to_day/ASNA_ForHandLoad/2024-10-12/20241012/\"\n",
    "# D:\\Doc_to_day\\ASNA_ForHandLoad\\2024-08-08\\20240807 (АСНА АПР МАЙ ИЮН) перевыгрузка\n",
    "# Определение пути к исходным файлам в WSL\n",
    "files = [\n",
    "    \"asna_dump_2024_10_11_4_.csv\", \n",
    "    \"asna_dump_2024_10_11_3_.csv\",\n",
    "    \"asna_dump_2024_10_11_2_.csv\",\n",
    "    \"asna_dump_2024_10_11_1_.csv\"\n",
    "]"
   ],
   "metadata": {
    "collapsed": false,
    "ExecuteTime": {
     "end_time": "2024-10-13T13:05:55.387416Z",
     "start_time": "2024-10-13T13:05:54.925558Z"
    }
   },
   "id": "658a99a81762f7bf",
   "outputs": [],
   "execution_count": 1
  },
  {
   "cell_type": "code",
   "source": [
    "# Новые имена для сохранения файлов\n",
    "new_names = [\n",
    "    \"asna-nomenclature-coefs-1.csv\",\n",
    "    \"asna-nomenclature-coefs-2.csv\",\n",
    "    \"asna-nomenclature-coefs-3.csv\",\n",
    "    \"asna-nomenclature-coefs-4.csv\"\n",
    "]"
   ],
   "metadata": {
    "collapsed": false,
    "ExecuteTime": {
     "end_time": "2024-10-13T13:05:57.934441Z",
     "start_time": "2024-10-13T13:05:57.932309Z"
    }
   },
   "id": "e62a8c25688f4135",
   "outputs": [],
   "execution_count": 2
  },
  {
   "metadata": {
    "ExecuteTime": {
     "end_time": "2024-08-12T14:10:26.598962Z",
     "start_time": "2024-08-12T14:10:26.596900Z"
    }
   },
   "cell_type": "code",
   "source": "",
   "id": "58d2ea18e4e55846",
   "outputs": [],
   "execution_count": 13
  },
  {
   "metadata": {
    "ExecuteTime": {
     "end_time": "2024-08-12T14:10:26.801878Z",
     "start_time": "2024-08-12T14:10:26.799989Z"
    }
   },
   "cell_type": "code",
   "source": "",
   "id": "16ea2c62dc8987a2",
   "outputs": [],
   "execution_count": 13
  },
  {
   "cell_type": "code",
   "source": [
    "\n",
    "# Загрузка, обработка (если необходимо) и сохранение файлов\n",
    "for old_name, new_name in zip(files, new_names):\n",
    "    try:\n",
    "        # Загрузка с правильным разделителем и указанием кодировки\n",
    "        df = pd.read_csv(path + old_name, delimiter=';', encoding='utf-8')\n",
    "    except UnicodeDecodeError:\n",
    "        # Если возникает ошибка декодирования, попробуйте другую кодировку\n",
    "        df = pd.read_csv(path + old_name, delimiter=';', encoding='latin1')\n",
    "    \n",
    "    # Сохранение с изменением разделителя на запятую, если это необходимо\n",
    "    df.to_csv(path + new_name, index=False, sep=',')"
   ],
   "metadata": {
    "collapsed": false,
    "ExecuteTime": {
     "end_time": "2024-10-13T13:06:04.894584Z",
     "start_time": "2024-10-13T13:06:00.703589Z"
    }
   },
   "id": "8e6ccf08a53a2da",
   "outputs": [],
   "execution_count": 3
  },
  {
   "metadata": {
    "ExecuteTime": {
     "end_time": "2024-10-13T13:06:17.732002Z",
     "start_time": "2024-10-13T13:06:13.347866Z"
    }
   },
   "cell_type": "code",
   "source": [
    "import pandas as pd\n",
    "import os\n",
    "\n",
    "# Определение пути к исходным файлам в WSL\n",
    "path = \"/mnt/d/Doc_to_day/ASNA_ForHandLoad/2024-08-08-ML2/20240808ML2/\"\n",
    "\n",
    "# Список файлов для обработки\n",
    "files = [\n",
    "    \"asna_dump_2024_08_08_4_.csv\", \n",
    "    \"asna_dump_2024_08_08_3_.csv\",\n",
    "    \"asna_dump_2024_08_08_2_.csv\",\n",
    "    \"asna_dump_2024_08_08_1_.csv\"\n",
    "]\n",
    "\n",
    "# Новые имена для сохранения файлов\n",
    "new_names = [\n",
    "    \"asna-nomenclature-coefs-1.csv\",\n",
    "    \"asna-nomenclature-coefs-2.csv\",\n",
    "    \"asna-nomenclature-coefs-3.csv\",\n",
    "    \"asna-nomenclature-coefs-4.csv\"\n",
    "]\n",
    "\n",
    "# Загрузка, обработка (если необходимо) и сохранение файлов\n",
    "for old_name, new_name in zip(files, new_names):\n",
    "    full_old_path = os.path.join(path, old_name)\n",
    "    full_new_path = os.path.join(path, new_name)\n",
    "    \n",
    "    if not os.path.exists(full_old_path):\n",
    "        print(f\"Файл не найден: {full_old_path}\")\n",
    "        continue\n",
    "    \n",
    "    try:\n",
    "        # Загрузка с правильным разделителем и указанием кодировки\n",
    "        df = pd.read_csv(full_old_path, delimiter=';', encoding='utf-8')\n",
    "    except UnicodeDecodeError:\n",
    "        # Если возникает ошибка декодирования, попробуйте другую кодировку\n",
    "        df = pd.read_csv(full_old_path, delimiter=';', encoding='latin1')\n",
    "    \n",
    "    # Сохранение с изменением разделителя на запятую, если это необходимо\n",
    "    df.to_csv(full_new_path, index=False, sep=',')\n",
    "\n",
    "print(\"Файлы успешно обработаны и сохранены.\")\n"
   ],
   "id": "a050cbf0e8700279",
   "outputs": [
    {
     "name": "stdout",
     "output_type": "stream",
     "text": [
      "Файлы успешно обработаны и сохранены.\n"
     ]
    }
   ],
   "execution_count": 4
  },
  {
   "metadata": {},
   "cell_type": "code",
   "outputs": [],
   "execution_count": null,
   "source": "",
   "id": "5ab11df50370a9fe"
  },
  {
   "metadata": {
    "ExecuteTime": {
     "end_time": "2024-07-29T13:17:17.806577Z",
     "start_time": "2024-07-29T13:17:17.786179Z"
    }
   },
   "cell_type": "code",
   "source": [
    "import pandas as pd\n",
    "\n",
    "# Определите размер чанка\n",
    "chunksize = 10**6  # 1 миллион строк за раз\n",
    "\n",
    "# Чтение файла по частям\n",
    "file_path = '/mnt/d/Doc_to_day/ASNA_ForHandLoad/Asna razbor/asna_dump_2024_07_10_all/asna_dump_2024_07_10.csv'\n",
    "    \n",
    "# Чтение первых нескольких строк файла\n",
    "num_rows = 5  # Количество строк для просмотра\n",
    "preview_df = pd.read_csv(file_path, nrows=num_rows, sep=',')\n",
    "\n",
    "# Вывод первых строк для просмотра\n",
    "print(preview_df)"
   ],
   "id": "d1965b404cd29c8d",
   "outputs": [
    {
     "name": "stdout",
     "output_type": "stream",
     "text": [
      "                                     id  \\\n",
      "0  00000b75-0f0e-4600-9846-b994dca3017c   \n",
      "1  00001352-5d5d-4647-9f98-f7c473cfc048   \n",
      "2  00001556-ace2-4639-95de-82e5d1846220   \n",
      "3  000017b1-308e-4d42-bc06-9cd6244a8e87   \n",
      "4  00002b43-9672-4bb0-885e-f5b8ef8ff793   \n",
      "\n",
      "                              nomenclatureTitle nomenclatureManufacturer  \\\n",
      "0      Atopic крем-стик успокаивающий 4,9 пенал                   Аванта   \n",
      "1                       Масло Облепиховое 100мл                      NaN   \n",
      "2                      Холосас 95 мл  Фл. сироп               Алтай-Фарм   \n",
      "3    Глицерин суппозитории ректальные 2.11г №10                  Нижфарм   \n",
      "4  Никоретте жеват. резинка свежая мята 2мг №30                   МакНил   \n",
      "\n",
      "   nomenclatureEan                              clientId  nomenclatureCode  \\\n",
      "0     4.606712e+12  68abe3a7-9e0a-42bc-9e71-35fca18fe227             63789   \n",
      "1     4.603679e+12  70eefe2c-d366-4556-9e2d-0e5c7158f3aa              2485   \n",
      "2              NaN  62428fa8-e31e-4d85-a908-85d5570d5deb     4603679007439   \n",
      "3     4.601026e+12  ee3225a5-27ea-4544-9bdb-fa04bc85c9d3             46289   \n",
      "4     3.574660e+12  360aad66-832e-46dd-bc65-317cfc5583f3             25968   \n",
      "\n",
      "          ntt                                           skuTitle  \\\n",
      "0     8763472  АТОПИК крем-стик д/детей успокаивающий 4,9г Ав...   \n",
      "1      109889        МАСЛО ОБЛЕПИХОВОЕ 100мл масло Алтайвитамины   \n",
      "2  2000012604                   ХОЛОСАС 95мл сироп Алтайвитамины   \n",
      "3      104947  ГЛИЦЕРИН 2,11г N10 суппозитории ректальные д/в...   \n",
      "4     8605401  НИКОРЕТТЕ 2мг N30 жеват. рез. Свежая Мята McNe...   \n",
      "\n",
      "                                      skuEan                manufacturer  \n",
      "0                              4606711704594                      Аванта  \n",
      "1                4603679000164 4603679006050  АЛТАЙВИТАМИНЫ ТРЕЙДИНГ ООО  \n",
      "2                              4603679007439  АЛТАЙВИТАМИНЫ ТРЕЙДИНГ ООО  \n",
      "3  4601026046018 4601026301667 4601026301704                       Штада  \n",
      "4                              3574660436174                 Джонсон ОТС  \n"
     ]
    }
   ],
   "execution_count": 3
  },
  {
   "metadata": {
    "ExecuteTime": {
     "end_time": "2024-07-29T13:17:26.785864Z",
     "start_time": "2024-07-29T13:17:26.774114Z"
    }
   },
   "cell_type": "code",
   "source": "preview_df",
   "id": "3356ee0bcc29c46e",
   "outputs": [
    {
     "data": {
      "text/plain": [
       "                                     id  \\\n",
       "0  00000b75-0f0e-4600-9846-b994dca3017c   \n",
       "1  00001352-5d5d-4647-9f98-f7c473cfc048   \n",
       "2  00001556-ace2-4639-95de-82e5d1846220   \n",
       "3  000017b1-308e-4d42-bc06-9cd6244a8e87   \n",
       "4  00002b43-9672-4bb0-885e-f5b8ef8ff793   \n",
       "\n",
       "                              nomenclatureTitle nomenclatureManufacturer  \\\n",
       "0      Atopic крем-стик успокаивающий 4,9 пенал                   Аванта   \n",
       "1                       Масло Облепиховое 100мл                      NaN   \n",
       "2                      Холосас 95 мл  Фл. сироп               Алтай-Фарм   \n",
       "3    Глицерин суппозитории ректальные 2.11г №10                  Нижфарм   \n",
       "4  Никоретте жеват. резинка свежая мята 2мг №30                   МакНил   \n",
       "\n",
       "   nomenclatureEan                              clientId  nomenclatureCode  \\\n",
       "0     4.606712e+12  68abe3a7-9e0a-42bc-9e71-35fca18fe227             63789   \n",
       "1     4.603679e+12  70eefe2c-d366-4556-9e2d-0e5c7158f3aa              2485   \n",
       "2              NaN  62428fa8-e31e-4d85-a908-85d5570d5deb     4603679007439   \n",
       "3     4.601026e+12  ee3225a5-27ea-4544-9bdb-fa04bc85c9d3             46289   \n",
       "4     3.574660e+12  360aad66-832e-46dd-bc65-317cfc5583f3             25968   \n",
       "\n",
       "          ntt                                           skuTitle  \\\n",
       "0     8763472  АТОПИК крем-стик д/детей успокаивающий 4,9г Ав...   \n",
       "1      109889        МАСЛО ОБЛЕПИХОВОЕ 100мл масло Алтайвитамины   \n",
       "2  2000012604                   ХОЛОСАС 95мл сироп Алтайвитамины   \n",
       "3      104947  ГЛИЦЕРИН 2,11г N10 суппозитории ректальные д/в...   \n",
       "4     8605401  НИКОРЕТТЕ 2мг N30 жеват. рез. Свежая Мята McNe...   \n",
       "\n",
       "                                      skuEan                manufacturer  \n",
       "0                              4606711704594                      Аванта  \n",
       "1                4603679000164 4603679006050  АЛТАЙВИТАМИНЫ ТРЕЙДИНГ ООО  \n",
       "2                              4603679007439  АЛТАЙВИТАМИНЫ ТРЕЙДИНГ ООО  \n",
       "3  4601026046018 4601026301667 4601026301704                       Штада  \n",
       "4                              3574660436174                 Джонсон ОТС  "
      ],
      "text/html": [
       "<div>\n",
       "<style scoped>\n",
       "    .dataframe tbody tr th:only-of-type {\n",
       "        vertical-align: middle;\n",
       "    }\n",
       "\n",
       "    .dataframe tbody tr th {\n",
       "        vertical-align: top;\n",
       "    }\n",
       "\n",
       "    .dataframe thead th {\n",
       "        text-align: right;\n",
       "    }\n",
       "</style>\n",
       "<table border=\"1\" class=\"dataframe\">\n",
       "  <thead>\n",
       "    <tr style=\"text-align: right;\">\n",
       "      <th></th>\n",
       "      <th>id</th>\n",
       "      <th>nomenclatureTitle</th>\n",
       "      <th>nomenclatureManufacturer</th>\n",
       "      <th>nomenclatureEan</th>\n",
       "      <th>clientId</th>\n",
       "      <th>nomenclatureCode</th>\n",
       "      <th>ntt</th>\n",
       "      <th>skuTitle</th>\n",
       "      <th>skuEan</th>\n",
       "      <th>manufacturer</th>\n",
       "    </tr>\n",
       "  </thead>\n",
       "  <tbody>\n",
       "    <tr>\n",
       "      <th>0</th>\n",
       "      <td>00000b75-0f0e-4600-9846-b994dca3017c</td>\n",
       "      <td>Atopic крем-стик успокаивающий 4,9 пенал</td>\n",
       "      <td>Аванта</td>\n",
       "      <td>4.606712e+12</td>\n",
       "      <td>68abe3a7-9e0a-42bc-9e71-35fca18fe227</td>\n",
       "      <td>63789</td>\n",
       "      <td>8763472</td>\n",
       "      <td>АТОПИК крем-стик д/детей успокаивающий 4,9г Ав...</td>\n",
       "      <td>4606711704594</td>\n",
       "      <td>Аванта</td>\n",
       "    </tr>\n",
       "    <tr>\n",
       "      <th>1</th>\n",
       "      <td>00001352-5d5d-4647-9f98-f7c473cfc048</td>\n",
       "      <td>Масло Облепиховое 100мл</td>\n",
       "      <td>NaN</td>\n",
       "      <td>4.603679e+12</td>\n",
       "      <td>70eefe2c-d366-4556-9e2d-0e5c7158f3aa</td>\n",
       "      <td>2485</td>\n",
       "      <td>109889</td>\n",
       "      <td>МАСЛО ОБЛЕПИХОВОЕ 100мл масло Алтайвитамины</td>\n",
       "      <td>4603679000164 4603679006050</td>\n",
       "      <td>АЛТАЙВИТАМИНЫ ТРЕЙДИНГ ООО</td>\n",
       "    </tr>\n",
       "    <tr>\n",
       "      <th>2</th>\n",
       "      <td>00001556-ace2-4639-95de-82e5d1846220</td>\n",
       "      <td>Холосас 95 мл  Фл. сироп</td>\n",
       "      <td>Алтай-Фарм</td>\n",
       "      <td>NaN</td>\n",
       "      <td>62428fa8-e31e-4d85-a908-85d5570d5deb</td>\n",
       "      <td>4603679007439</td>\n",
       "      <td>2000012604</td>\n",
       "      <td>ХОЛОСАС 95мл сироп Алтайвитамины</td>\n",
       "      <td>4603679007439</td>\n",
       "      <td>АЛТАЙВИТАМИНЫ ТРЕЙДИНГ ООО</td>\n",
       "    </tr>\n",
       "    <tr>\n",
       "      <th>3</th>\n",
       "      <td>000017b1-308e-4d42-bc06-9cd6244a8e87</td>\n",
       "      <td>Глицерин суппозитории ректальные 2.11г №10</td>\n",
       "      <td>Нижфарм</td>\n",
       "      <td>4.601026e+12</td>\n",
       "      <td>ee3225a5-27ea-4544-9bdb-fa04bc85c9d3</td>\n",
       "      <td>46289</td>\n",
       "      <td>104947</td>\n",
       "      <td>ГЛИЦЕРИН 2,11г N10 суппозитории ректальные д/в...</td>\n",
       "      <td>4601026046018 4601026301667 4601026301704</td>\n",
       "      <td>Штада</td>\n",
       "    </tr>\n",
       "    <tr>\n",
       "      <th>4</th>\n",
       "      <td>00002b43-9672-4bb0-885e-f5b8ef8ff793</td>\n",
       "      <td>Никоретте жеват. резинка свежая мята 2мг №30</td>\n",
       "      <td>МакНил</td>\n",
       "      <td>3.574660e+12</td>\n",
       "      <td>360aad66-832e-46dd-bc65-317cfc5583f3</td>\n",
       "      <td>25968</td>\n",
       "      <td>8605401</td>\n",
       "      <td>НИКОРЕТТЕ 2мг N30 жеват. рез. Свежая Мята McNe...</td>\n",
       "      <td>3574660436174</td>\n",
       "      <td>Джонсон ОТС</td>\n",
       "    </tr>\n",
       "  </tbody>\n",
       "</table>\n",
       "</div>"
      ]
     },
     "execution_count": 4,
     "metadata": {},
     "output_type": "execute_result"
    }
   ],
   "execution_count": 4
  },
  {
   "metadata": {
    "ExecuteTime": {
     "end_time": "2024-07-29T13:24:22.700702Z",
     "start_time": "2024-07-29T13:24:13.579555Z"
    }
   },
   "cell_type": "code",
   "source": [
    "# Список кодов для поиска\n",
    "codes_to_search = [\n",
    "    '4602565013950', '4680020233624', '4602565023263', '4680020233631',\n",
    "    '4670008164484', '4670008164491', '7350046331136', '8004995458770',\n",
    "    '8004995458749', '8058363615920', '8058363613179', '4028403122347',\n",
    "    '4028403122316', '4028403122330', '4603182007346', '4605310028667',\n",
    "    '4605310028674', '4603740360043', '4640102060210', '4603740360609',\n",
    "    '4603740360494', '4603750360500', '4640033310019', '4640033310033',\n",
    "    '4640033310101', '4640033310040', '4640033310057', '4640033100955',\n",
    "    '4640033310088', '4640033310149'\n",
    "]\n",
    "\n",
    "# Определите размер чанка\n",
    "chunksize = 10**6  # 1 миллион строк за раз\n",
    "\n",
    "# Переменная для хранения результатов\n",
    "results = pd.DataFrame()\n",
    "\n",
    "# Чтение файла по частям\n",
    "for chunk in pd.read_csv(file_path, chunksize=chunksize, sep=','):\n",
    "    # Фильтрация строк, содержащих указанные коды\n",
    "    filtered_chunk = chunk[\n",
    "        chunk['nomenclatureEan'].astype(str).isin(codes_to_search) |\n",
    "        chunk['skuEan'].astype(str).isin(codes_to_search)\n",
    "    ]\n",
    "    \n",
    "    if not filtered_chunk.empty:\n",
    "        results = pd.concat([results, filtered_chunk])\n",
    "\n",
    "# Вывод результатов\n",
    "if not results.empty:\n",
    "    print(\"Найдены упоминания кодов:\")\n",
    "    print(results)\n",
    "else:\n",
    "    print(\"Упоминания кодов не найдены.\")"
   ],
   "id": "e4c61bbc98270ab1",
   "outputs": [
    {
     "name": "stdout",
     "output_type": "stream",
     "text": [
      "Найдены упоминания кодов:\n",
      "                                           id      nomenclatureTitle  \\\n",
      "18765    02c72ffb-9a1c-423a-b243-5aa15f10d3a3    Амосин 0,5 n20 табл   \n",
      "22828    0361e6a7-f722-4f94-ad27-da34651843bf    АМОСИН 0,5 N20 ТАБЛ   \n",
      "24441    039c89ae-e721-4bcf-98a5-a4f6858654ab   Амосин таб 500мг №10   \n",
      "31900    04be5d9b-094c-4b74-b6a8-02d1becac315   Амосин 500мг №10 таб   \n",
      "33393    04f6467a-d9dd-47b4-afbf-a8f54c6ecc7f   Амосин 500мг №10 тб.   \n",
      "...                                       ...                    ...   \n",
      "2012584  f835111b-c408-4b12-8b06-6a6f91d4e9ce   Амосин 500мг таб х10   \n",
      "2022762  f99606db-740f-483e-8d94-5cd384109375   Амосин 500мг №10 таб   \n",
      "2026741  fa1e2d88-5821-4d36-81fe-f91599f88b82   Амосин тбл 500мг №10   \n",
      "2045948  fcb7d862-823e-416a-9f73-ef33837a74d0   Амосин 500мг №10 таб   \n",
      "2058796  fe74574f-38d1-4017-82cf-56d599d76f1c  Амосин таб. 500мг №10   \n",
      "\n",
      "        nomenclatureManufacturer nomenclatureEan  \\\n",
      "18765                        NaN   4602565023263   \n",
      "22828                        NaN   4602565023263   \n",
      "24441                        NaN   4602565013950   \n",
      "31900                     Синтез   4602565013950   \n",
      "33393                     Синтез   4602565013950   \n",
      "...                          ...             ...   \n",
      "2012584                      NaN   4602565013950   \n",
      "2022762                   Синтез   4602565013950   \n",
      "2026741                      NaN   4602565013950   \n",
      "2045948                   Синтез   4602565013950   \n",
      "2058796                      NaN   4602565013950   \n",
      "\n",
      "                                     clientId nomenclatureCode         ntt  \\\n",
      "18765    28c70a92-720e-4e66-a8b3-705a65a7357f            60267  2000000474   \n",
      "22828    5689cd61-3b85-4fc3-a1f3-425c715c999c       46369_8004  2000000474   \n",
      "24441    0dd5d4b3-8110-4150-b30d-50715754571c       23202_4992      113228   \n",
      "31900    75a83b60-a740-4ffc-a10b-71bc8e9d5cf6            31907      113228   \n",
      "33393    cfd70a16-ed3f-4b04-a54c-97e7688cf31c            19308      113228   \n",
      "...                                       ...              ...         ...   \n",
      "2012584  80dcf781-08cf-4532-9cc4-7a7d7107c2d0       32796_5667      113228   \n",
      "2022762  66f58c1d-2089-4d9f-a8e9-410a5f7749af            31907      113228   \n",
      "2026741  36c58775-3a12-4a41-aec7-5fe3ff877dae            50359      113228   \n",
      "2045948  3e5f777e-a53e-4d81-bd1d-849e858b1b0f            25481      113228   \n",
      "2058796  929e191a-b86a-4ece-a053-5a35e4a657e8            40473      113228   \n",
      "\n",
      "                                      skuTitle                       skuEan  \\\n",
      "18765    АМОСИН 500мг N20 таб. Синтез/АВВА рус  4602565023263 4680020233631   \n",
      "22828    АМОСИН 500мг N20 таб. Синтез/АВВА рус  4602565023263 4680020233631   \n",
      "24441    АМОСИН 500мг N10 таб. Синтез/АВВА рус  4602565013950 4680020233624   \n",
      "31900    АМОСИН 500мг N10 таб. Синтез/АВВА рус  4602565013950 4680020233624   \n",
      "33393    АМОСИН 500мг N10 таб. Синтез/АВВА рус  4602565013950 4680020233624   \n",
      "...                                        ...                          ...   \n",
      "2012584  АМОСИН 500мг N10 таб. Синтез/АВВА рус  4602565013950 4680020233624   \n",
      "2022762  АМОСИН 500мг N10 таб. Синтез/АВВА рус  4602565013950 4680020233624   \n",
      "2026741  АМОСИН 500мг N10 таб. Синтез/АВВА рус  4602565013950 4680020233624   \n",
      "2045948  АМОСИН 500мг N10 таб. Синтез/АВВА рус  4602565013950 4680020233624   \n",
      "2058796  АМОСИН 500мг N10 таб. Синтез/АВВА рус  4602565013950 4680020233624   \n",
      "\n",
      "        manufacturer  \n",
      "18765          ПОЛЛО  \n",
      "22828          ПОЛЛО  \n",
      "24441          ПОЛЛО  \n",
      "31900          ПОЛЛО  \n",
      "33393          ПОЛЛО  \n",
      "...              ...  \n",
      "2012584        ПОЛЛО  \n",
      "2022762        ПОЛЛО  \n",
      "2026741        ПОЛЛО  \n",
      "2045948        ПОЛЛО  \n",
      "2058796        ПОЛЛО  \n",
      "\n",
      "[232 rows x 10 columns]\n"
     ]
    }
   ],
   "execution_count": 5
  },
  {
   "metadata": {
    "ExecuteTime": {
     "end_time": "2024-07-29T13:25:53.620719Z",
     "start_time": "2024-07-29T13:25:53.606640Z"
    }
   },
   "cell_type": "code",
   "source": "results.to_csv('/mnt/d/Doc_to_day/ASNA_ForHandLoad/Asna razbor/asna_dump_2024_07_10_all/asna_dump_2024_07_10_findEAN.csv', index=False)",
   "id": "d9d73c69516333b0",
   "outputs": [],
   "execution_count": 6
  },
  {
   "metadata": {
    "ExecuteTime": {
     "end_time": "2024-07-29T13:31:52.542311Z",
     "start_time": "2024-07-29T13:31:32.136900Z"
    }
   },
   "cell_type": "code",
   "source": [
    "import pandas as pd\n",
    "\n",
    "# Определите путь для сохранения результатов\n",
    "output_file_path = '/mnt/d/Doc_to_day/ASNA_ForHandLoad/Asna razbor/asna_dump_2024_07_10_all/search_results.csv'\n",
    "\n",
    "# Список кодов для поиска\n",
    "codes_to_search = [\n",
    "    '4602565013950', '4680020233624', '4602565023263', '4680020233631',\n",
    "    '4670008164484', '4670008164491', '7350046331136', '8004995458770',\n",
    "    '8004995458749', '8058363615920', '8058363613179', '4028403122347',\n",
    "    '4028403122316', '4028403122330', '4603182007346', '4605310028667',\n",
    "    '4605310028674', '4603740360043', '4640102060210', '4603740360609',\n",
    "    '4603740360494', '4603750360500', '4640033310019', '4640033310033',\n",
    "    '4640033310101', '4640033310040', '4640033310057', '4640033100955',\n",
    "    '4640033310088', '4640033310149'\n",
    "]\n",
    "\n",
    "# Объединение кодов в один регулярное выражение\n",
    "import re\n",
    "codes_regex = '|'.join(codes_to_search)\n",
    "\n",
    "# Определите размер чанка\n",
    "chunksize = 10**6  # 1 миллион строк за раз\n",
    "\n",
    "# Переменная для хранения результатов\n",
    "results = pd.DataFrame()\n",
    "\n",
    "# Чтение файла по частям\n",
    "for chunk in pd.read_csv(file_path, chunksize=chunksize, sep=','):\n",
    "    # Поиск упоминаний кодов в каждой строке всех столбцов\n",
    "    chunk_str = chunk.astype(str)\n",
    "    mask = chunk_str.apply(lambda x: x.str.contains(codes_regex, case=False, na=False)).any(axis=1)\n",
    "    filtered_chunk = chunk[mask]\n",
    "    \n",
    "    if not filtered_chunk.empty:\n",
    "        results = pd.concat([results, filtered_chunk])\n",
    "\n",
    "# Сохранение результатов в CSV файл\n",
    "if not results.empty:\n",
    "    results.to_csv(output_file_path, index=False)\n",
    "    print(f\"Найдены упоминания кодов и сохранены в файл: {output_file_path}\")\n",
    "else:\n",
    "    print(\"Упоминания кодов не найдены.\")"
   ],
   "id": "aada51f03c6a20b2",
   "outputs": [
    {
     "name": "stdout",
     "output_type": "stream",
     "text": [
      "Найдены упоминания кодов и сохранены в файл: /mnt/d/Doc_to_day/ASNA_ForHandLoad/Asna razbor/asna_dump_2024_07_10_all/search_results.csv\n"
     ]
    }
   ],
   "execution_count": 7
  },
  {
   "metadata": {},
   "cell_type": "code",
   "outputs": [],
   "execution_count": null,
   "source": "",
   "id": "a651f9bdf3ecfa09"
  }
 ],
 "metadata": {
  "kernelspec": {
   "display_name": "Python 3",
   "language": "python",
   "name": "python3"
  },
  "language_info": {
   "codemirror_mode": {
    "name": "ipython",
    "version": 2
   },
   "file_extension": ".py",
   "mimetype": "text/x-python",
   "name": "python",
   "nbconvert_exporter": "python",
   "pygments_lexer": "ipython2",
   "version": "2.7.6"
  }
 },
 "nbformat": 4,
 "nbformat_minor": 5
}
