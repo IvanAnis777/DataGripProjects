{
 "cells": [
  {
   "cell_type": "code",
   "execution_count": 1,
   "outputs": [],
   "source": [
    "import pandas as pd"
   ],
   "metadata": {
    "collapsed": false,
    "ExecuteTime": {
     "end_time": "2024-05-06T09:41:38.031790200Z",
     "start_time": "2024-05-06T09:41:36.899722600Z"
    }
   },
   "id": "37b1f73f9e6bfeb6"
  },
  {
   "cell_type": "code",
   "execution_count": 3,
   "outputs": [],
   "source": [
    "# Шаг 1: Загрузите полный CSV-файл в DataFrame\n",
    "file_path = \"/mnt/d/Doc_To_Date/20240506/additional_results.csv\"\n",
    "df = pd.read_csv(file_path)"
   ],
   "metadata": {
    "collapsed": false,
    "ExecuteTime": {
     "end_time": "2024-05-06T09:42:07.429527Z",
     "start_time": "2024-05-06T09:41:51.144135700Z"
    }
   },
   "id": "e515be91ac41403b"
  },
  {
   "cell_type": "code",
   "execution_count": 6,
   "outputs": [],
   "source": [
    "# Шаг 2: Определите количество строк и размер каждой части\n",
    "total_rows = len(df)\n",
    "num_parts = 3\n",
    "chunk_size = total_rows // num_parts"
   ],
   "metadata": {
    "collapsed": false,
    "ExecuteTime": {
     "end_time": "2024-05-06T09:42:22.990510600Z",
     "start_time": "2024-05-06T09:42:22.979509800Z"
    }
   },
   "id": "5297428570100d87"
  },
  {
   "cell_type": "code",
   "execution_count": 7,
   "outputs": [],
   "source": [
    "# Шаг 3: Разделите DataFrame на три части\n",
    "chunks = [df[i*chunk_size:(i+1)*chunk_size] for i in range(num_parts)]"
   ],
   "metadata": {
    "collapsed": false,
    "ExecuteTime": {
     "end_time": "2024-05-06T09:42:38.440851700Z",
     "start_time": "2024-05-06T09:42:38.436856700Z"
    }
   },
   "id": "5a69b02b91d48813"
  },
  {
   "cell_type": "code",
   "execution_count": 8,
   "outputs": [],
   "source": [
    "# Последний кусок может содержать остаток, если общее количество строк не кратно числу частей\n",
    "if total_rows % num_parts != 0:\n",
    "    chunks[-1] = pd.concat([chunks[-1], df[num_parts * chunk_size:]])"
   ],
   "metadata": {
    "collapsed": false,
    "ExecuteTime": {
     "end_time": "2024-05-06T09:42:40.093452300Z",
     "start_time": "2024-05-06T09:42:40.061885400Z"
    }
   },
   "id": "b87029efca4e030c"
  },
  {
   "cell_type": "code",
   "execution_count": 9,
   "outputs": [],
   "source": [
    "# Шаг 4: Сохраните каждую часть как отдельный CSV-файл\n",
    "for i, chunk in enumerate(chunks):\n",
    "    chunk.to_csv(f\"additional_results_part_{i+1}.csv\", index=False)"
   ],
   "metadata": {
    "collapsed": false,
    "ExecuteTime": {
     "end_time": "2024-05-06T09:43:11.071710Z",
     "start_time": "2024-05-06T09:42:43.797008400Z"
    }
   },
   "id": "caaa250bc3d26ae8"
  },
  {
   "cell_type": "code",
   "execution_count": null,
   "outputs": [],
   "source": [],
   "metadata": {
    "collapsed": false
   },
   "id": "44c8f2f65f4e941"
  },
  {
   "cell_type": "markdown",
   "source": [
    "Для АСНА переименование файлов и изменение дилиметра\n"
   ],
   "metadata": {
    "collapsed": false
   },
   "id": "9e3aa8c568b89e0e"
  },
  {
   "cell_type": "code",
   "execution_count": 1,
   "outputs": [],
   "source": [
    "import pandas as pd\n",
    "\n",
    "# Определение пути к исходным файлам в WSL\n",
    "path = \"/mnt/d/АСНА/20240605/20240605 (АСНА АПРЕЛЬ МАЙ)/\"\n",
    "files = [\n",
    "    \"asna_dump_2024_06_05_1_.csv\", \n",
    "    \"asna_dump_2024_06_05_2_.csv\",\n",
    "    \"asna_dump_2024_06_05_3_.csv\",\n",
    "    \"asna_dump_2024_06_05_4_.csv\"\n",
    "]"
   ],
   "metadata": {
    "collapsed": false,
    "ExecuteTime": {
     "end_time": "2024-06-06T12:41:51.673626900Z",
     "start_time": "2024-06-06T12:41:50.857028700Z"
    }
   },
   "id": "658a99a81762f7bf"
  },
  {
   "cell_type": "code",
   "execution_count": 2,
   "outputs": [],
   "source": [
    "# Новые имена для сохранения файлов\n",
    "new_names = [\n",
    "    \"asna-nomenclature-coefs-1.csv\",\n",
    "    \"asna-nomenclature-coefs-2.csv\",\n",
    "    \"asna-nomenclature-coefs-3.csv\",\n",
    "    \"asna-nomenclature-coefs-4.csv\"\n",
    "]"
   ],
   "metadata": {
    "collapsed": false,
    "ExecuteTime": {
     "end_time": "2024-06-06T12:41:58.035502900Z",
     "start_time": "2024-06-06T12:41:58.006911700Z"
    }
   },
   "id": "e62a8c25688f4135"
  },
  {
   "cell_type": "code",
   "execution_count": 3,
   "outputs": [],
   "source": [
    "# Загрузка, обработка (если необходимо) и сохранение файлов\n",
    "for old_name, new_name in zip(files, new_names):\n",
    "    # Загрузка с правильным разделителем\n",
    "    df = pd.read_csv(path + old_name, delimiter=';')\n",
    "    # Сохранение с изменением разделителя на запятую, если это необходимо\n",
    "    df.to_csv(path + new_name, index=False, sep=',')"
   ],
   "metadata": {
    "collapsed": false,
    "ExecuteTime": {
     "end_time": "2024-06-06T12:42:12.637674200Z",
     "start_time": "2024-06-06T12:42:05.357752200Z"
    }
   },
   "id": "8e6ccf08a53a2da"
  }
 ],
 "metadata": {
  "kernelspec": {
   "display_name": "Python 3",
   "language": "python",
   "name": "python3"
  },
  "language_info": {
   "codemirror_mode": {
    "name": "ipython",
    "version": 2
   },
   "file_extension": ".py",
   "mimetype": "text/x-python",
   "name": "python",
   "nbconvert_exporter": "python",
   "pygments_lexer": "ipython2",
   "version": "2.7.6"
  }
 },
 "nbformat": 4,
 "nbformat_minor": 5
}
